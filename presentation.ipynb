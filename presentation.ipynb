{
 "cells": [
  {
   "cell_type": "markdown",
   "metadata": {
    "hide_input": false,
    "nbpresent": {
     "id": "14d8314b-2b79-4f1d-bbd8-4f7bbc718492"
    },
    "slideshow": {
     "slide_type": "slide"
    }
   },
   "source": [
    "![Title: Building Interactive Visualizations with Jupyter Notebook](presentation_title.png)"
   ]
  },
  {
   "cell_type": "markdown",
   "metadata": {
    "nbpresent": {
     "id": "d1edc7fb-bc4d-45f3-8adb-2b79275fcabe"
    }
   },
   "source": [
    "# What's Jupyter Notebook?\n",
    "* A web application for scientific computation in the browser \n",
    "* Supports 40+ languages (kernals) including R and Matlab\n",
    "* Formerly known as IPython Notebook\n",
    "* Standard day-to-day tool for many scientists"
   ]
  },
  {
   "cell_type": "markdown",
   "metadata": {},
   "source": [
    "# Problem Statement\n",
    "Python has a wealth of  fantastic libraries for analyzing and plotting data, including\n",
    "* matplotlib\n",
    "* numpy\n",
    "* pandas\n",
    "\n",
    "However, the plots become static images when rendered in Jupyter or on the web.\n",
    "\n",
    "**Wouldn't it be more interesting to have interactive plots?**"
   ]
  },
  {
   "cell_type": "markdown",
   "metadata": {
    "nbpresent": {
     "id": "90a32421-fa7c-4b00-aa80-ddc8a265ff68"
    }
   },
   "source": [
    "# Bokeh\n",
    "For this demonstration, we'll use the [Bokeh](http://bokeh.pydata.org/en/latest/), pronounced \"Bow (as in crossbow) Keh (as in kettle). We first need to tell  Bokeh to load its JavaScript component, BokehJS, using the ```output_notebook()``` function."
   ]
  },
  {
   "cell_type": "code",
   "execution_count": 1,
   "metadata": {
    "collapsed": false,
    "nbpresent": {
     "id": "e0b532cc-4ccf-489a-b85c-7682db8f327a"
    }
   },
   "outputs": [
    {
     "data": {
      "text/html": [
       "\n",
       "    <div class=\"bk-root\">\n",
       "        <a href=\"http://bokeh.pydata.org\" target=\"_blank\" class=\"bk-logo bk-logo-small bk-logo-notebook\"></a>\n",
       "        <span id=\"b4205982-bff3-4b56-9b3b-e1285bcfeadd\">Loading BokehJS ...</span>\n",
       "    </div>"
      ]
     },
     "metadata": {},
     "output_type": "display_data"
    },
    {
     "data": {
      "application/javascript": [
       "\n",
       "(function(global) {\n",
       "  function now() {\n",
       "    return new Date();\n",
       "  }\n",
       "\n",
       "  var force = true;\n",
       "\n",
       "  if (typeof (window._bokeh_onload_callbacks) === \"undefined\" || force === true) {\n",
       "    window._bokeh_onload_callbacks = [];\n",
       "    window._bokeh_is_loading = undefined;\n",
       "  }\n",
       "\n",
       "\n",
       "  \n",
       "  if (typeof (window._bokeh_timeout) === \"undefined\" || force === true) {\n",
       "    window._bokeh_timeout = Date.now() + 5000;\n",
       "    window._bokeh_failed_load = false;\n",
       "  }\n",
       "\n",
       "  var NB_LOAD_WARNING = {'data': {'text/html':\n",
       "     \"<div style='background-color: #fdd'>\\n\"+\n",
       "     \"<p>\\n\"+\n",
       "     \"BokehJS does not appear to have successfully loaded. If loading BokehJS from CDN, this \\n\"+\n",
       "     \"may be due to a slow or bad network connection. Possible fixes:\\n\"+\n",
       "     \"</p>\\n\"+\n",
       "     \"<ul>\\n\"+\n",
       "     \"<li>re-rerun `output_notebook()` to attempt to load from CDN again, or</li>\\n\"+\n",
       "     \"<li>use INLINE resources instead, as so:</li>\\n\"+\n",
       "     \"</ul>\\n\"+\n",
       "     \"<code>\\n\"+\n",
       "     \"from bokeh.resources import INLINE\\n\"+\n",
       "     \"output_notebook(resources=INLINE)\\n\"+\n",
       "     \"</code>\\n\"+\n",
       "     \"</div>\"}};\n",
       "\n",
       "  function display_loaded() {\n",
       "    if (window.Bokeh !== undefined) {\n",
       "      document.getElementById(\"b4205982-bff3-4b56-9b3b-e1285bcfeadd\").textContent = \"BokehJS successfully loaded.\";\n",
       "    } else if (Date.now() < window._bokeh_timeout) {\n",
       "      setTimeout(display_loaded, 100)\n",
       "    }\n",
       "  }\n",
       "\n",
       "  function run_callbacks() {\n",
       "    window._bokeh_onload_callbacks.forEach(function(callback) { callback() });\n",
       "    delete window._bokeh_onload_callbacks\n",
       "    console.info(\"Bokeh: all callbacks have finished\");\n",
       "  }\n",
       "\n",
       "  function load_libs(js_urls, callback) {\n",
       "    window._bokeh_onload_callbacks.push(callback);\n",
       "    if (window._bokeh_is_loading > 0) {\n",
       "      console.log(\"Bokeh: BokehJS is being loaded, scheduling callback at\", now());\n",
       "      return null;\n",
       "    }\n",
       "    if (js_urls == null || js_urls.length === 0) {\n",
       "      run_callbacks();\n",
       "      return null;\n",
       "    }\n",
       "    console.log(\"Bokeh: BokehJS not loaded, scheduling load and callback at\", now());\n",
       "    window._bokeh_is_loading = js_urls.length;\n",
       "    for (var i = 0; i < js_urls.length; i++) {\n",
       "      var url = js_urls[i];\n",
       "      var s = document.createElement('script');\n",
       "      s.src = url;\n",
       "      s.async = false;\n",
       "      s.onreadystatechange = s.onload = function() {\n",
       "        window._bokeh_is_loading--;\n",
       "        if (window._bokeh_is_loading === 0) {\n",
       "          console.log(\"Bokeh: all BokehJS libraries loaded\");\n",
       "          run_callbacks()\n",
       "        }\n",
       "      };\n",
       "      s.onerror = function() {\n",
       "        console.warn(\"failed to load library \" + url);\n",
       "      };\n",
       "      console.log(\"Bokeh: injecting script tag for BokehJS library: \", url);\n",
       "      document.getElementsByTagName(\"head\")[0].appendChild(s);\n",
       "    }\n",
       "  };var element = document.getElementById(\"b4205982-bff3-4b56-9b3b-e1285bcfeadd\");\n",
       "  if (element == null) {\n",
       "    console.log(\"Bokeh: ERROR: autoload.js configured with elementid 'b4205982-bff3-4b56-9b3b-e1285bcfeadd' but no matching script tag was found. \")\n",
       "    return false;\n",
       "  }\n",
       "\n",
       "  var js_urls = [\"https://cdn.pydata.org/bokeh/release/bokeh-0.12.4.min.js\", \"https://cdn.pydata.org/bokeh/release/bokeh-widgets-0.12.4.min.js\"];\n",
       "\n",
       "  var inline_js = [\n",
       "    function(Bokeh) {\n",
       "      Bokeh.set_log_level(\"info\");\n",
       "    },\n",
       "    \n",
       "    function(Bokeh) {\n",
       "      \n",
       "      document.getElementById(\"b4205982-bff3-4b56-9b3b-e1285bcfeadd\").textContent = \"BokehJS is loading...\";\n",
       "    },\n",
       "    function(Bokeh) {\n",
       "      console.log(\"Bokeh: injecting CSS: https://cdn.pydata.org/bokeh/release/bokeh-0.12.4.min.css\");\n",
       "      Bokeh.embed.inject_css(\"https://cdn.pydata.org/bokeh/release/bokeh-0.12.4.min.css\");\n",
       "      console.log(\"Bokeh: injecting CSS: https://cdn.pydata.org/bokeh/release/bokeh-widgets-0.12.4.min.css\");\n",
       "      Bokeh.embed.inject_css(\"https://cdn.pydata.org/bokeh/release/bokeh-widgets-0.12.4.min.css\");\n",
       "    }\n",
       "  ];\n",
       "\n",
       "  function run_inline_js() {\n",
       "    \n",
       "    if ((window.Bokeh !== undefined) || (force === true)) {\n",
       "      for (var i = 0; i < inline_js.length; i++) {\n",
       "        inline_js[i](window.Bokeh);\n",
       "      }if (force === true) {\n",
       "        display_loaded();\n",
       "      }} else if (Date.now() < window._bokeh_timeout) {\n",
       "      setTimeout(run_inline_js, 100);\n",
       "    } else if (!window._bokeh_failed_load) {\n",
       "      console.log(\"Bokeh: BokehJS failed to load within specified timeout.\");\n",
       "      window._bokeh_failed_load = true;\n",
       "    } else if (force !== true) {\n",
       "      var cell = $(document.getElementById(\"b4205982-bff3-4b56-9b3b-e1285bcfeadd\")).parents('.cell').data().cell;\n",
       "      cell.output_area.append_execute_result(NB_LOAD_WARNING)\n",
       "    }\n",
       "\n",
       "  }\n",
       "\n",
       "  if (window._bokeh_is_loading === 0) {\n",
       "    console.log(\"Bokeh: BokehJS loaded, going straight to plotting\");\n",
       "    run_inline_js();\n",
       "  } else {\n",
       "    load_libs(js_urls, function() {\n",
       "      console.log(\"Bokeh: BokehJS plotting callback run at\", now());\n",
       "      run_inline_js();\n",
       "    });\n",
       "  }\n",
       "}(this));"
      ]
     },
     "metadata": {},
     "output_type": "display_data"
    }
   ],
   "source": [
    "from bokeh.plotting import output_notebook, show\n",
    "\n",
    "output_notebook()"
   ]
  },
  {
   "cell_type": "markdown",
   "metadata": {
    "nbpresent": {
     "id": "1f84592e-89c4-484a-a8c2-d99f0746667b"
    }
   },
   "source": [
    "## Sample Data\n",
    "A small set of data, ```autompg```, is available in the ```bokeh.sampledata``` package. ```autompg``` is in the ```pandas.dataframe``` format which you can think of as a database table or spreadsheet."
   ]
  },
  {
   "cell_type": "code",
   "execution_count": 2,
   "metadata": {
    "collapsed": true,
    "nbpresent": {
     "id": "2aa1c50d-fc0c-4af9-8b60-5ad046a38704"
    }
   },
   "outputs": [],
   "source": [
    "from bokeh.sampledata.autompg import autompg as df\n",
    "# Display contents using qgrid\n",
    "import qgrid\n",
    "# copies javascript dependencies to your /nbextensions folder\n",
    "qgrid.nbinstall(overwrite=True)\n",
    "\n",
    "qgrid.show_grid(df)"
   ]
  },
  {
   "cell_type": "markdown",
   "metadata": {
    "hide_input": true,
    "nbpresent": {
     "id": "041bc5f8-b557-47db-a872-a4e759ca3d1e"
    }
   },
   "source": [
    "## Charts\n",
    "Bokeh provides high level statistical plots such as bar charts, horizon plots and time series using the ```bokeh.charts``` interface. \n",
    "\n",
    "The ```charts``` interface is geared to be extremely simple to use in conjunction with the [Pandas](http://pandas.pydata.org/) data structures library (```Series``` or ```DataFrame```)."
   ]
  },
  {
   "cell_type": "markdown",
   "metadata": {},
   "source": [
    "In the first plot below, we use the ```Bar``` chart to show the average miles per gallon for a given cylinder type. Note that we specify the ```mean``` aggregation type (default is sum)."
   ]
  },
  {
   "cell_type": "code",
   "execution_count": 3,
   "metadata": {
    "collapsed": false,
    "nbpresent": {
     "id": "92ac28e1-d384-489e-8688-5415a4886d9e"
    }
   },
   "outputs": [
    {
     "data": {
      "text/html": [
       "\n",
       "\n",
       "    <div class=\"bk-root\">\n",
       "        <div class=\"bk-plotdiv\" id=\"d92aef3b-6559-43ff-87b1-24b2a10ab036\"></div>\n",
       "    </div>\n",
       "<script type=\"text/javascript\">\n",
       "  \n",
       "  (function(global) {\n",
       "    function now() {\n",
       "      return new Date();\n",
       "    }\n",
       "  \n",
       "    var force = false;\n",
       "  \n",
       "    if (typeof (window._bokeh_onload_callbacks) === \"undefined\" || force === true) {\n",
       "      window._bokeh_onload_callbacks = [];\n",
       "      window._bokeh_is_loading = undefined;\n",
       "    }\n",
       "  \n",
       "  \n",
       "    \n",
       "    if (typeof (window._bokeh_timeout) === \"undefined\" || force === true) {\n",
       "      window._bokeh_timeout = Date.now() + 0;\n",
       "      window._bokeh_failed_load = false;\n",
       "    }\n",
       "  \n",
       "    var NB_LOAD_WARNING = {'data': {'text/html':\n",
       "       \"<div style='background-color: #fdd'>\\n\"+\n",
       "       \"<p>\\n\"+\n",
       "       \"BokehJS does not appear to have successfully loaded. If loading BokehJS from CDN, this \\n\"+\n",
       "       \"may be due to a slow or bad network connection. Possible fixes:\\n\"+\n",
       "       \"</p>\\n\"+\n",
       "       \"<ul>\\n\"+\n",
       "       \"<li>re-rerun `output_notebook()` to attempt to load from CDN again, or</li>\\n\"+\n",
       "       \"<li>use INLINE resources instead, as so:</li>\\n\"+\n",
       "       \"</ul>\\n\"+\n",
       "       \"<code>\\n\"+\n",
       "       \"from bokeh.resources import INLINE\\n\"+\n",
       "       \"output_notebook(resources=INLINE)\\n\"+\n",
       "       \"</code>\\n\"+\n",
       "       \"</div>\"}};\n",
       "  \n",
       "    function display_loaded() {\n",
       "      if (window.Bokeh !== undefined) {\n",
       "        document.getElementById(\"d92aef3b-6559-43ff-87b1-24b2a10ab036\").textContent = \"BokehJS successfully loaded.\";\n",
       "      } else if (Date.now() < window._bokeh_timeout) {\n",
       "        setTimeout(display_loaded, 100)\n",
       "      }\n",
       "    }\n",
       "  \n",
       "    function run_callbacks() {\n",
       "      window._bokeh_onload_callbacks.forEach(function(callback) { callback() });\n",
       "      delete window._bokeh_onload_callbacks\n",
       "      console.info(\"Bokeh: all callbacks have finished\");\n",
       "    }\n",
       "  \n",
       "    function load_libs(js_urls, callback) {\n",
       "      window._bokeh_onload_callbacks.push(callback);\n",
       "      if (window._bokeh_is_loading > 0) {\n",
       "        console.log(\"Bokeh: BokehJS is being loaded, scheduling callback at\", now());\n",
       "        return null;\n",
       "      }\n",
       "      if (js_urls == null || js_urls.length === 0) {\n",
       "        run_callbacks();\n",
       "        return null;\n",
       "      }\n",
       "      console.log(\"Bokeh: BokehJS not loaded, scheduling load and callback at\", now());\n",
       "      window._bokeh_is_loading = js_urls.length;\n",
       "      for (var i = 0; i < js_urls.length; i++) {\n",
       "        var url = js_urls[i];\n",
       "        var s = document.createElement('script');\n",
       "        s.src = url;\n",
       "        s.async = false;\n",
       "        s.onreadystatechange = s.onload = function() {\n",
       "          window._bokeh_is_loading--;\n",
       "          if (window._bokeh_is_loading === 0) {\n",
       "            console.log(\"Bokeh: all BokehJS libraries loaded\");\n",
       "            run_callbacks()\n",
       "          }\n",
       "        };\n",
       "        s.onerror = function() {\n",
       "          console.warn(\"failed to load library \" + url);\n",
       "        };\n",
       "        console.log(\"Bokeh: injecting script tag for BokehJS library: \", url);\n",
       "        document.getElementsByTagName(\"head\")[0].appendChild(s);\n",
       "      }\n",
       "    };var element = document.getElementById(\"d92aef3b-6559-43ff-87b1-24b2a10ab036\");\n",
       "    if (element == null) {\n",
       "      console.log(\"Bokeh: ERROR: autoload.js configured with elementid 'd92aef3b-6559-43ff-87b1-24b2a10ab036' but no matching script tag was found. \")\n",
       "      return false;\n",
       "    }\n",
       "  \n",
       "    var js_urls = [];\n",
       "  \n",
       "    var inline_js = [\n",
       "      function(Bokeh) {\n",
       "        (function() {\n",
       "          var fn = function() {\n",
       "            var docs_json = {\"50bcbfb7-029e-4457-baf0-972d873907a8\":{\"roots\":{\"references\":[{\"attributes\":{\"data_source\":{\"id\":\"78e5b517-ea84-4338-b0f5-af196ac5ca0d\",\"type\":\"ColumnDataSource\"},\"glyph\":{\"id\":\"de189046-d061-4e9c-a9b4-f62c9a7ca01a\",\"type\":\"Rect\"},\"hover_glyph\":null,\"nonselection_glyph\":null,\"selection_glyph\":null},\"id\":\"62cc4ad4-7f62-4c9b-adcf-c23e485c2f5a\",\"type\":\"GlyphRenderer\"},{\"attributes\":{\"fill_alpha\":{\"field\":\"fill_alpha\"},\"fill_color\":{\"field\":\"color\"},\"height\":{\"field\":\"height\",\"units\":\"data\"},\"line_color\":{\"field\":\"line_color\"},\"width\":{\"field\":\"width\",\"units\":\"data\"},\"x\":{\"field\":\"x\"},\"y\":{\"field\":\"y\"}},\"id\":\"5b7bb439-899f-4fdb-92a6-e20c2e6c067d\",\"type\":\"Rect\"},{\"attributes\":{\"plot\":{\"id\":\"8d9b1235-5fe5-4d7f-9c23-ba71daf05741\",\"subtype\":\"Chart\",\"type\":\"Plot\"}},\"id\":\"27513013-90b6-4065-afd7-9395b495b28a\",\"type\":\"PanTool\"},{\"attributes\":{\"fill_alpha\":{\"field\":\"fill_alpha\"},\"fill_color\":{\"field\":\"color\"},\"height\":{\"field\":\"height\",\"units\":\"data\"},\"line_color\":{\"field\":\"line_color\"},\"width\":{\"field\":\"width\",\"units\":\"data\"},\"x\":{\"field\":\"x\"},\"y\":{\"field\":\"y\"}},\"id\":\"fc3b8025-bfa1-4118-9f42-39a67d127e4d\",\"type\":\"Rect\"},{\"attributes\":{\"plot\":null,\"text\":\"Average MPG By Cycle\"},\"id\":\"3766b26d-5245-4368-bcf6-df8f24d85354\",\"type\":\"Title\"},{\"attributes\":{\"label\":{\"value\":\"4\"},\"renderers\":[{\"id\":\"62cc4ad4-7f62-4c9b-adcf-c23e485c2f5a\",\"type\":\"GlyphRenderer\"}]},\"id\":\"6f140611-16a2-48af-9554-0d3800c0f865\",\"type\":\"LegendItem\"},{\"attributes\":{\"below\":[{\"id\":\"0de11123-fe45-4a7e-be0f-4046ce12d7fb\",\"type\":\"CategoricalAxis\"}],\"css_classes\":null,\"left\":[{\"id\":\"b6aa1475-4600-4b89-b5de-2b61fa8a39b5\",\"type\":\"LinearAxis\"}],\"renderers\":[{\"id\":\"807710e6-126d-4d7c-ac61-141ed9221823\",\"type\":\"BoxAnnotation\"},{\"id\":\"d2e57fdf-ff7a-46bd-bf7d-21e98ac64cc0\",\"type\":\"GlyphRenderer\"},{\"id\":\"62cc4ad4-7f62-4c9b-adcf-c23e485c2f5a\",\"type\":\"GlyphRenderer\"},{\"id\":\"1e6f4dc5-4126-4342-bdb1-3e4b676728d0\",\"type\":\"GlyphRenderer\"},{\"id\":\"050432a7-1c38-413d-9a5e-7f2e9a9dda13\",\"type\":\"GlyphRenderer\"},{\"id\":\"da2d1eb6-95b7-47a7-8f0c-a95653a71bbd\",\"type\":\"GlyphRenderer\"},{\"id\":\"e492901e-a3d3-4e13-b834-0db0e14b14ea\",\"type\":\"Legend\"},{\"id\":\"0de11123-fe45-4a7e-be0f-4046ce12d7fb\",\"type\":\"CategoricalAxis\"},{\"id\":\"b6aa1475-4600-4b89-b5de-2b61fa8a39b5\",\"type\":\"LinearAxis\"},{\"id\":\"ee417201-c20b-4c3d-a332-16486813e890\",\"type\":\"Grid\"}],\"title\":{\"id\":\"3766b26d-5245-4368-bcf6-df8f24d85354\",\"type\":\"Title\"},\"tool_events\":{\"id\":\"0fb17f68-61fb-44cf-97e2-9e3edb7cbb28\",\"type\":\"ToolEvents\"},\"toolbar\":{\"id\":\"23209e89-6a35-4096-9f65-c7e3d58aa83a\",\"type\":\"Toolbar\"},\"x_mapper_type\":\"auto\",\"x_range\":{\"id\":\"ff833fe4-ef55-43dc-8b5c-27ec31ebb4f8\",\"type\":\"FactorRange\"},\"y_mapper_type\":\"auto\",\"y_range\":{\"id\":\"52da5385-96b4-4bcc-8cb1-956c7157db37\",\"type\":\"Range1d\"}},\"id\":\"8d9b1235-5fe5-4d7f-9c23-ba71daf05741\",\"subtype\":\"Chart\",\"type\":\"Plot\"},{\"attributes\":{\"callback\":null,\"column_names\":[\"x\",\"y\",\"width\",\"height\",\"color\",\"fill_alpha\",\"line_color\",\"line_alpha\",\"label\"],\"data\":{\"chart_index\":[{\"cyl\":3}],\"color\":[\"#f22c40\"],\"cyl\":[3],\"fill_alpha\":[0.8],\"height\":[20.55],\"label\":[{\"cyl\":3}],\"line_alpha\":[1.0],\"line_color\":[\"white\"],\"width\":[0.8],\"x\":[\"3\"],\"y\":[10.275]}},\"id\":\"02a37b8c-c996-434c-a9f5-8ad02a07c496\",\"type\":\"ColumnDataSource\"},{\"attributes\":{\"data_source\":{\"id\":\"f7010ddf-c083-4201-bf72-33ec9fd125c5\",\"type\":\"ColumnDataSource\"},\"glyph\":{\"id\":\"fc3b8025-bfa1-4118-9f42-39a67d127e4d\",\"type\":\"Rect\"},\"hover_glyph\":null,\"nonselection_glyph\":null,\"selection_glyph\":null},\"id\":\"1e6f4dc5-4126-4342-bdb1-3e4b676728d0\",\"type\":\"GlyphRenderer\"},{\"attributes\":{\"callback\":null,\"factors\":[\"3\",\"4\",\"5\",\"6\",\"8\"]},\"id\":\"ff833fe4-ef55-43dc-8b5c-27ec31ebb4f8\",\"type\":\"FactorRange\"},{\"attributes\":{\"fill_alpha\":{\"field\":\"fill_alpha\"},\"fill_color\":{\"field\":\"color\"},\"height\":{\"field\":\"height\",\"units\":\"data\"},\"line_color\":{\"field\":\"line_color\"},\"width\":{\"field\":\"width\",\"units\":\"data\"},\"x\":{\"field\":\"x\"},\"y\":{\"field\":\"y\"}},\"id\":\"96e6f0f9-ccf9-411f-9b80-c2f0824eb644\",\"type\":\"Rect\"},{\"attributes\":{},\"id\":\"b494505c-6337-453d-b3d3-ce5d31da9b4b\",\"type\":\"CategoricalTickFormatter\"},{\"attributes\":{\"label\":{\"value\":\"8\"},\"renderers\":[{\"id\":\"d2e57fdf-ff7a-46bd-bf7d-21e98ac64cc0\",\"type\":\"GlyphRenderer\"}]},\"id\":\"33744aae-6602-44cd-8647-6ee6466b8e0d\",\"type\":\"LegendItem\"},{\"attributes\":{},\"id\":\"0fb17f68-61fb-44cf-97e2-9e3edb7cbb28\",\"type\":\"ToolEvents\"},{\"attributes\":{},\"id\":\"dd386733-a1ea-44ca-8700-7a02d73bbe5f\",\"type\":\"BasicTickFormatter\"},{\"attributes\":{},\"id\":\"3a0fbeb0-8208-41bc-b269-ceb152121004\",\"type\":\"BasicTicker\"},{\"attributes\":{\"data_source\":{\"id\":\"02a37b8c-c996-434c-a9f5-8ad02a07c496\",\"type\":\"ColumnDataSource\"},\"glyph\":{\"id\":\"96e6f0f9-ccf9-411f-9b80-c2f0824eb644\",\"type\":\"Rect\"},\"hover_glyph\":null,\"nonselection_glyph\":null,\"selection_glyph\":null},\"id\":\"050432a7-1c38-413d-9a5e-7f2e9a9dda13\",\"type\":\"GlyphRenderer\"},{\"attributes\":{\"bottom_units\":\"screen\",\"fill_alpha\":{\"value\":0.5},\"fill_color\":{\"value\":\"lightgrey\"},\"left_units\":\"screen\",\"level\":\"overlay\",\"line_alpha\":{\"value\":1.0},\"line_color\":{\"value\":\"black\"},\"line_dash\":[4,4],\"line_width\":{\"value\":2},\"plot\":null,\"render_mode\":\"css\",\"right_units\":\"screen\",\"top_units\":\"screen\"},\"id\":\"807710e6-126d-4d7c-ac61-141ed9221823\",\"type\":\"BoxAnnotation\"},{\"attributes\":{\"callback\":null,\"column_names\":[\"x\",\"y\",\"width\",\"height\",\"color\",\"fill_alpha\",\"line_color\",\"line_alpha\",\"label\"],\"data\":{\"chart_index\":[{\"cyl\":5}],\"color\":[\"#f22c40\"],\"cyl\":[5],\"fill_alpha\":[0.8],\"height\":[27.366666666666664],\"label\":[{\"cyl\":5}],\"line_alpha\":[1.0],\"line_color\":[\"white\"],\"width\":[0.8],\"x\":[\"5\"],\"y\":[13.683333333333332]}},\"id\":\"e0791b20-5838-482b-a7ec-aa1c7a11ba64\",\"type\":\"ColumnDataSource\"},{\"attributes\":{\"active_drag\":\"auto\",\"active_scroll\":\"auto\",\"active_tap\":\"auto\",\"tools\":[{\"id\":\"27513013-90b6-4065-afd7-9395b495b28a\",\"type\":\"PanTool\"},{\"id\":\"bd382170-e5f2-441c-ac3e-7b5601f58ee9\",\"type\":\"WheelZoomTool\"},{\"id\":\"d4c8f8c7-f3fb-4bca-963c-c89f59c7e79a\",\"type\":\"BoxZoomTool\"},{\"id\":\"474128f5-e6a5-413d-92ba-aa29ce2c5f8e\",\"type\":\"SaveTool\"},{\"id\":\"c3ff449e-2a81-48c8-9afb-49611b5a0fd5\",\"type\":\"ResetTool\"},{\"id\":\"2a6e43a4-63bd-4d7f-9a2d-39fd55873e93\",\"type\":\"HelpTool\"}]},\"id\":\"23209e89-6a35-4096-9f65-c7e3d58aa83a\",\"type\":\"Toolbar\"},{\"attributes\":{\"plot\":{\"id\":\"8d9b1235-5fe5-4d7f-9c23-ba71daf05741\",\"subtype\":\"Chart\",\"type\":\"Plot\"}},\"id\":\"bd382170-e5f2-441c-ac3e-7b5601f58ee9\",\"type\":\"WheelZoomTool\"},{\"attributes\":{\"overlay\":{\"id\":\"807710e6-126d-4d7c-ac61-141ed9221823\",\"type\":\"BoxAnnotation\"},\"plot\":{\"id\":\"8d9b1235-5fe5-4d7f-9c23-ba71daf05741\",\"subtype\":\"Chart\",\"type\":\"Plot\"}},\"id\":\"d4c8f8c7-f3fb-4bca-963c-c89f59c7e79a\",\"type\":\"BoxZoomTool\"},{\"attributes\":{\"plot\":{\"id\":\"8d9b1235-5fe5-4d7f-9c23-ba71daf05741\",\"subtype\":\"Chart\",\"type\":\"Plot\"}},\"id\":\"474128f5-e6a5-413d-92ba-aa29ce2c5f8e\",\"type\":\"SaveTool\"},{\"attributes\":{},\"id\":\"19a30055-0482-46fd-bd4d-f2db743eb6cf\",\"type\":\"CategoricalTicker\"},{\"attributes\":{\"axis_label\":\"Cyl\",\"formatter\":{\"id\":\"b494505c-6337-453d-b3d3-ce5d31da9b4b\",\"type\":\"CategoricalTickFormatter\"},\"major_label_orientation\":0.7853981633974483,\"plot\":{\"id\":\"8d9b1235-5fe5-4d7f-9c23-ba71daf05741\",\"subtype\":\"Chart\",\"type\":\"Plot\"},\"ticker\":{\"id\":\"19a30055-0482-46fd-bd4d-f2db743eb6cf\",\"type\":\"CategoricalTicker\"}},\"id\":\"0de11123-fe45-4a7e-be0f-4046ce12d7fb\",\"type\":\"CategoricalAxis\"},{\"attributes\":{\"plot\":{\"id\":\"8d9b1235-5fe5-4d7f-9c23-ba71daf05741\",\"subtype\":\"Chart\",\"type\":\"Plot\"}},\"id\":\"c3ff449e-2a81-48c8-9afb-49611b5a0fd5\",\"type\":\"ResetTool\"},{\"attributes\":{\"label\":{\"value\":\"3\"},\"renderers\":[{\"id\":\"050432a7-1c38-413d-9a5e-7f2e9a9dda13\",\"type\":\"GlyphRenderer\"}]},\"id\":\"7214a578-b4fa-40c6-899d-1de4421c907d\",\"type\":\"LegendItem\"},{\"attributes\":{\"plot\":{\"id\":\"8d9b1235-5fe5-4d7f-9c23-ba71daf05741\",\"subtype\":\"Chart\",\"type\":\"Plot\"}},\"id\":\"2a6e43a4-63bd-4d7f-9a2d-39fd55873e93\",\"type\":\"HelpTool\"},{\"attributes\":{\"fill_alpha\":{\"field\":\"fill_alpha\"},\"fill_color\":{\"field\":\"color\"},\"height\":{\"field\":\"height\",\"units\":\"data\"},\"line_color\":{\"field\":\"line_color\"},\"width\":{\"field\":\"width\",\"units\":\"data\"},\"x\":{\"field\":\"x\"},\"y\":{\"field\":\"y\"}},\"id\":\"ecc79837-06b8-4b67-8984-261af4a149b7\",\"type\":\"Rect\"},{\"attributes\":{\"data_source\":{\"id\":\"e0791b20-5838-482b-a7ec-aa1c7a11ba64\",\"type\":\"ColumnDataSource\"},\"glyph\":{\"id\":\"5b7bb439-899f-4fdb-92a6-e20c2e6c067d\",\"type\":\"Rect\"},\"hover_glyph\":null,\"nonselection_glyph\":null,\"selection_glyph\":null},\"id\":\"da2d1eb6-95b7-47a7-8f0c-a95653a71bbd\",\"type\":\"GlyphRenderer\"},{\"attributes\":{\"label\":{\"value\":\"6\"},\"renderers\":[{\"id\":\"1e6f4dc5-4126-4342-bdb1-3e4b676728d0\",\"type\":\"GlyphRenderer\"}]},\"id\":\"fb55c45e-5efd-4810-9311-622200d60e39\",\"type\":\"LegendItem\"},{\"attributes\":{\"items\":[{\"id\":\"33744aae-6602-44cd-8647-6ee6466b8e0d\",\"type\":\"LegendItem\"},{\"id\":\"6f140611-16a2-48af-9554-0d3800c0f865\",\"type\":\"LegendItem\"},{\"id\":\"fb55c45e-5efd-4810-9311-622200d60e39\",\"type\":\"LegendItem\"},{\"id\":\"7214a578-b4fa-40c6-899d-1de4421c907d\",\"type\":\"LegendItem\"},{\"id\":\"492c4361-77dd-4ce1-a574-e78ca5c81934\",\"type\":\"LegendItem\"}],\"location\":\"top_left\",\"plot\":{\"id\":\"8d9b1235-5fe5-4d7f-9c23-ba71daf05741\",\"subtype\":\"Chart\",\"type\":\"Plot\"}},\"id\":\"e492901e-a3d3-4e13-b834-0db0e14b14ea\",\"type\":\"Legend\"},{\"attributes\":{\"label\":{\"value\":\"5\"},\"renderers\":[{\"id\":\"da2d1eb6-95b7-47a7-8f0c-a95653a71bbd\",\"type\":\"GlyphRenderer\"}]},\"id\":\"492c4361-77dd-4ce1-a574-e78ca5c81934\",\"type\":\"LegendItem\"},{\"attributes\":{\"dimension\":1,\"plot\":{\"id\":\"8d9b1235-5fe5-4d7f-9c23-ba71daf05741\",\"subtype\":\"Chart\",\"type\":\"Plot\"},\"ticker\":{\"id\":\"3a0fbeb0-8208-41bc-b269-ceb152121004\",\"type\":\"BasicTicker\"}},\"id\":\"ee417201-c20b-4c3d-a332-16486813e890\",\"type\":\"Grid\"},{\"attributes\":{\"callback\":null,\"end\":30.748115577889447},\"id\":\"52da5385-96b4-4bcc-8cb1-956c7157db37\",\"type\":\"Range1d\"},{\"attributes\":{\"axis_label\":\"Mean( Mpg )\",\"formatter\":{\"id\":\"dd386733-a1ea-44ca-8700-7a02d73bbe5f\",\"type\":\"BasicTickFormatter\"},\"plot\":{\"id\":\"8d9b1235-5fe5-4d7f-9c23-ba71daf05741\",\"subtype\":\"Chart\",\"type\":\"Plot\"},\"ticker\":{\"id\":\"3a0fbeb0-8208-41bc-b269-ceb152121004\",\"type\":\"BasicTicker\"}},\"id\":\"b6aa1475-4600-4b89-b5de-2b61fa8a39b5\",\"type\":\"LinearAxis\"},{\"attributes\":{\"callback\":null,\"column_names\":[\"x\",\"y\",\"width\",\"height\",\"color\",\"fill_alpha\",\"line_color\",\"line_alpha\",\"label\"],\"data\":{\"chart_index\":[{\"cyl\":8}],\"color\":[\"#f22c40\"],\"cyl\":[8],\"fill_alpha\":[0.8],\"height\":[14.963106796116506],\"label\":[{\"cyl\":8}],\"line_alpha\":[1.0],\"line_color\":[\"white\"],\"width\":[0.8],\"x\":[\"8\"],\"y\":[7.481553398058253]}},\"id\":\"01e40e8c-2f32-4df7-a3dd-afcc35ef17a4\",\"type\":\"ColumnDataSource\"},{\"attributes\":{\"fill_alpha\":{\"field\":\"fill_alpha\"},\"fill_color\":{\"field\":\"color\"},\"height\":{\"field\":\"height\",\"units\":\"data\"},\"line_color\":{\"field\":\"line_color\"},\"width\":{\"field\":\"width\",\"units\":\"data\"},\"x\":{\"field\":\"x\"},\"y\":{\"field\":\"y\"}},\"id\":\"de189046-d061-4e9c-a9b4-f62c9a7ca01a\",\"type\":\"Rect\"},{\"attributes\":{\"callback\":null,\"column_names\":[\"x\",\"y\",\"width\",\"height\",\"color\",\"fill_alpha\",\"line_color\",\"line_alpha\",\"label\"],\"data\":{\"chart_index\":[{\"cyl\":6}],\"color\":[\"#f22c40\"],\"cyl\":[6],\"fill_alpha\":[0.8],\"height\":[19.973493975903615],\"label\":[{\"cyl\":6}],\"line_alpha\":[1.0],\"line_color\":[\"white\"],\"width\":[0.8],\"x\":[\"6\"],\"y\":[9.986746987951808]}},\"id\":\"f7010ddf-c083-4201-bf72-33ec9fd125c5\",\"type\":\"ColumnDataSource\"},{\"attributes\":{\"callback\":null,\"column_names\":[\"x\",\"y\",\"width\",\"height\",\"color\",\"fill_alpha\",\"line_color\",\"line_alpha\",\"label\"],\"data\":{\"chart_index\":[{\"cyl\":4}],\"color\":[\"#f22c40\"],\"cyl\":[4],\"fill_alpha\":[0.8],\"height\":[29.28391959798995],\"label\":[{\"cyl\":4}],\"line_alpha\":[1.0],\"line_color\":[\"white\"],\"width\":[0.8],\"x\":[\"4\"],\"y\":[14.641959798994975]}},\"id\":\"78e5b517-ea84-4338-b0f5-af196ac5ca0d\",\"type\":\"ColumnDataSource\"},{\"attributes\":{\"data_source\":{\"id\":\"01e40e8c-2f32-4df7-a3dd-afcc35ef17a4\",\"type\":\"ColumnDataSource\"},\"glyph\":{\"id\":\"ecc79837-06b8-4b67-8984-261af4a149b7\",\"type\":\"Rect\"},\"hover_glyph\":null,\"nonselection_glyph\":null,\"selection_glyph\":null},\"id\":\"d2e57fdf-ff7a-46bd-bf7d-21e98ac64cc0\",\"type\":\"GlyphRenderer\"}],\"root_ids\":[\"8d9b1235-5fe5-4d7f-9c23-ba71daf05741\"]},\"title\":\"Bokeh Application\",\"version\":\"0.12.4\"}};\n",
       "            var render_items = [{\"docid\":\"50bcbfb7-029e-4457-baf0-972d873907a8\",\"elementid\":\"d92aef3b-6559-43ff-87b1-24b2a10ab036\",\"modelid\":\"8d9b1235-5fe5-4d7f-9c23-ba71daf05741\"}];\n",
       "            \n",
       "            Bokeh.embed.embed_items(docs_json, render_items);\n",
       "          };\n",
       "          if (document.readyState != \"loading\") fn();\n",
       "          else document.addEventListener(\"DOMContentLoaded\", fn);\n",
       "        })();\n",
       "      },\n",
       "      function(Bokeh) {\n",
       "      }\n",
       "    ];\n",
       "  \n",
       "    function run_inline_js() {\n",
       "      \n",
       "      if ((window.Bokeh !== undefined) || (force === true)) {\n",
       "        for (var i = 0; i < inline_js.length; i++) {\n",
       "          inline_js[i](window.Bokeh);\n",
       "        }if (force === true) {\n",
       "          display_loaded();\n",
       "        }} else if (Date.now() < window._bokeh_timeout) {\n",
       "        setTimeout(run_inline_js, 100);\n",
       "      } else if (!window._bokeh_failed_load) {\n",
       "        console.log(\"Bokeh: BokehJS failed to load within specified timeout.\");\n",
       "        window._bokeh_failed_load = true;\n",
       "      } else if (force !== true) {\n",
       "        var cell = $(document.getElementById(\"d92aef3b-6559-43ff-87b1-24b2a10ab036\")).parents('.cell').data().cell;\n",
       "        cell.output_area.append_execute_result(NB_LOAD_WARNING)\n",
       "      }\n",
       "  \n",
       "    }\n",
       "  \n",
       "    if (window._bokeh_is_loading === 0) {\n",
       "      console.log(\"Bokeh: BokehJS loaded, going straight to plotting\");\n",
       "      run_inline_js();\n",
       "    } else {\n",
       "      load_libs(js_urls, function() {\n",
       "        console.log(\"Bokeh: BokehJS plotting callback run at\", now());\n",
       "        run_inline_js();\n",
       "      });\n",
       "    }\n",
       "  }(this));\n",
       "</script>"
      ]
     },
     "metadata": {},
     "output_type": "display_data"
    }
   ],
   "source": [
    "from bokeh.charts import Bar\n",
    "\n",
    "# group by cyl, apply aggregate average function to mpg column\n",
    "barchart = Bar(df, label='cyl', values=\"mpg\", agg='mean', title=\"Average MPG By Cycle\")\n",
    "\n",
    "show(barchart)"
   ]
  },
  {
   "cell_type": "code",
   "execution_count": 4,
   "metadata": {
    "collapsed": false,
    "hide_input": false,
    "nbpresent": {
     "id": "697946da-f475-436b-8f44-0167b316fafc"
    }
   },
   "outputs": [
    {
     "data": {
      "text/html": [
       "\n",
       "\n",
       "    <div class=\"bk-root\">\n",
       "        <div class=\"bk-plotdiv\" id=\"d915818f-b35f-4dc0-a18c-2d52f57bed2a\"></div>\n",
       "    </div>\n",
       "<script type=\"text/javascript\">\n",
       "  \n",
       "  (function(global) {\n",
       "    function now() {\n",
       "      return new Date();\n",
       "    }\n",
       "  \n",
       "    var force = false;\n",
       "  \n",
       "    if (typeof (window._bokeh_onload_callbacks) === \"undefined\" || force === true) {\n",
       "      window._bokeh_onload_callbacks = [];\n",
       "      window._bokeh_is_loading = undefined;\n",
       "    }\n",
       "  \n",
       "  \n",
       "    \n",
       "    if (typeof (window._bokeh_timeout) === \"undefined\" || force === true) {\n",
       "      window._bokeh_timeout = Date.now() + 0;\n",
       "      window._bokeh_failed_load = false;\n",
       "    }\n",
       "  \n",
       "    var NB_LOAD_WARNING = {'data': {'text/html':\n",
       "       \"<div style='background-color: #fdd'>\\n\"+\n",
       "       \"<p>\\n\"+\n",
       "       \"BokehJS does not appear to have successfully loaded. If loading BokehJS from CDN, this \\n\"+\n",
       "       \"may be due to a slow or bad network connection. Possible fixes:\\n\"+\n",
       "       \"</p>\\n\"+\n",
       "       \"<ul>\\n\"+\n",
       "       \"<li>re-rerun `output_notebook()` to attempt to load from CDN again, or</li>\\n\"+\n",
       "       \"<li>use INLINE resources instead, as so:</li>\\n\"+\n",
       "       \"</ul>\\n\"+\n",
       "       \"<code>\\n\"+\n",
       "       \"from bokeh.resources import INLINE\\n\"+\n",
       "       \"output_notebook(resources=INLINE)\\n\"+\n",
       "       \"</code>\\n\"+\n",
       "       \"</div>\"}};\n",
       "  \n",
       "    function display_loaded() {\n",
       "      if (window.Bokeh !== undefined) {\n",
       "        document.getElementById(\"d915818f-b35f-4dc0-a18c-2d52f57bed2a\").textContent = \"BokehJS successfully loaded.\";\n",
       "      } else if (Date.now() < window._bokeh_timeout) {\n",
       "        setTimeout(display_loaded, 100)\n",
       "      }\n",
       "    }\n",
       "  \n",
       "    function run_callbacks() {\n",
       "      window._bokeh_onload_callbacks.forEach(function(callback) { callback() });\n",
       "      delete window._bokeh_onload_callbacks\n",
       "      console.info(\"Bokeh: all callbacks have finished\");\n",
       "    }\n",
       "  \n",
       "    function load_libs(js_urls, callback) {\n",
       "      window._bokeh_onload_callbacks.push(callback);\n",
       "      if (window._bokeh_is_loading > 0) {\n",
       "        console.log(\"Bokeh: BokehJS is being loaded, scheduling callback at\", now());\n",
       "        return null;\n",
       "      }\n",
       "      if (js_urls == null || js_urls.length === 0) {\n",
       "        run_callbacks();\n",
       "        return null;\n",
       "      }\n",
       "      console.log(\"Bokeh: BokehJS not loaded, scheduling load and callback at\", now());\n",
       "      window._bokeh_is_loading = js_urls.length;\n",
       "      for (var i = 0; i < js_urls.length; i++) {\n",
       "        var url = js_urls[i];\n",
       "        var s = document.createElement('script');\n",
       "        s.src = url;\n",
       "        s.async = false;\n",
       "        s.onreadystatechange = s.onload = function() {\n",
       "          window._bokeh_is_loading--;\n",
       "          if (window._bokeh_is_loading === 0) {\n",
       "            console.log(\"Bokeh: all BokehJS libraries loaded\");\n",
       "            run_callbacks()\n",
       "          }\n",
       "        };\n",
       "        s.onerror = function() {\n",
       "          console.warn(\"failed to load library \" + url);\n",
       "        };\n",
       "        console.log(\"Bokeh: injecting script tag for BokehJS library: \", url);\n",
       "        document.getElementsByTagName(\"head\")[0].appendChild(s);\n",
       "      }\n",
       "    };var element = document.getElementById(\"d915818f-b35f-4dc0-a18c-2d52f57bed2a\");\n",
       "    if (element == null) {\n",
       "      console.log(\"Bokeh: ERROR: autoload.js configured with elementid 'd915818f-b35f-4dc0-a18c-2d52f57bed2a' but no matching script tag was found. \")\n",
       "      return false;\n",
       "    }\n",
       "  \n",
       "    var js_urls = [];\n",
       "  \n",
       "    var inline_js = [\n",
       "      function(Bokeh) {\n",
       "        (function() {\n",
       "          var fn = function() {\n",
       "            var docs_json = {\"755a90f4-cf53-40dd-be3f-4b816aef8bd0\":{\"roots\":{\"references\":[{\"attributes\":{\"bottom_units\":\"screen\",\"fill_alpha\":{\"value\":0.5},\"fill_color\":{\"value\":\"lightgrey\"},\"left_units\":\"screen\",\"level\":\"overlay\",\"line_alpha\":{\"value\":1.0},\"line_color\":{\"value\":\"black\"},\"line_dash\":[4,4],\"line_width\":{\"value\":2},\"plot\":null,\"render_mode\":\"css\",\"right_units\":\"screen\",\"top_units\":\"screen\"},\"id\":\"a2ae00d3-5042-4694-a649-4171c8cbd629\",\"type\":\"BoxAnnotation\"},{\"attributes\":{},\"id\":\"f641e968-665d-40d9-a0ac-2dc3a7c2342c\",\"type\":\"BasicTicker\"},{\"attributes\":{},\"id\":\"7c076880-2f35-4bf5-b22c-24ac1193eb47\",\"type\":\"BasicTickFormatter\"},{\"attributes\":{\"label\":{\"value\":\"8\"},\"renderers\":[{\"id\":\"89695c09-cbec-4d59-b97d-1f86eee55ae0\",\"type\":\"GlyphRenderer\"}]},\"id\":\"0374d504-3e53-429f-8570-35c050373531\",\"type\":\"LegendItem\"},{\"attributes\":{\"label\":{\"value\":\"4\"},\"renderers\":[{\"id\":\"088c7e05-c1bc-466f-8ee0-1f19e7847310\",\"type\":\"GlyphRenderer\"}]},\"id\":\"361c8a1d-7c2a-4ca4-808a-40293ba532da\",\"type\":\"LegendItem\"},{\"attributes\":{\"plot\":{\"id\":\"0f3e15a1-e7e2-4a21-a05c-118f535d0912\",\"subtype\":\"Chart\",\"type\":\"Plot\"}},\"id\":\"9a0453b4-2065-4c38-95c9-2fc80f6bb5f7\",\"type\":\"PanTool\"},{\"attributes\":{\"items\":[{\"id\":\"0374d504-3e53-429f-8570-35c050373531\",\"type\":\"LegendItem\"},{\"id\":\"361c8a1d-7c2a-4ca4-808a-40293ba532da\",\"type\":\"LegendItem\"},{\"id\":\"15782a10-2c71-4862-bb8c-1883684537c7\",\"type\":\"LegendItem\"},{\"id\":\"89d49e2f-44d0-497b-804a-b3c96a9e619a\",\"type\":\"LegendItem\"},{\"id\":\"79c503d7-99da-4adc-beef-e5208b38df18\",\"type\":\"LegendItem\"}],\"location\":\"top_left\",\"plot\":{\"id\":\"0f3e15a1-e7e2-4a21-a05c-118f535d0912\",\"subtype\":\"Chart\",\"type\":\"Plot\"}},\"id\":\"54e8c891-ca3d-40f0-a049-e9c7c5ab9883\",\"type\":\"Legend\"},{\"attributes\":{\"dimension\":1,\"plot\":{\"id\":\"0f3e15a1-e7e2-4a21-a05c-118f535d0912\",\"subtype\":\"Chart\",\"type\":\"Plot\"},\"ticker\":{\"id\":\"3c1d3d7f-b01d-46a0-8f85-764ea232e06d\",\"type\":\"BasicTicker\"}},\"id\":\"a7faac11-2d7a-49cd-b752-53d0e7c3defe\",\"type\":\"Grid\"},{\"attributes\":{},\"id\":\"3c1d3d7f-b01d-46a0-8f85-764ea232e06d\",\"type\":\"BasicTicker\"},{\"attributes\":{\"axis_label\":\"Miles Per Gallon\",\"formatter\":{\"id\":\"1c457df9-c572-468d-bfef-9e00a62fc8c5\",\"type\":\"BasicTickFormatter\"},\"plot\":{\"id\":\"0f3e15a1-e7e2-4a21-a05c-118f535d0912\",\"subtype\":\"Chart\",\"type\":\"Plot\"},\"ticker\":{\"id\":\"f641e968-665d-40d9-a0ac-2dc3a7c2342c\",\"type\":\"BasicTicker\"}},\"id\":\"2d90268e-d340-46a0-8705-85c4b95eeefa\",\"type\":\"LinearAxis\"},{\"attributes\":{},\"id\":\"1c457df9-c572-468d-bfef-9e00a62fc8c5\",\"type\":\"BasicTickFormatter\"},{\"attributes\":{\"fill_alpha\":{\"value\":0.7},\"fill_color\":{\"value\":\"#00ad9c\"},\"line_color\":{\"value\":\"#00ad9c\"},\"size\":{\"units\":\"screen\",\"value\":8},\"x\":{\"field\":\"x_values\"},\"y\":{\"field\":\"y_values\"}},\"id\":\"bbcd6654-c6a1-4ded-a0b7-bfb361298faa\",\"type\":\"Circle\"},{\"attributes\":{\"axis_label\":\"Horsepower\",\"formatter\":{\"id\":\"7c076880-2f35-4bf5-b22c-24ac1193eb47\",\"type\":\"BasicTickFormatter\"},\"plot\":{\"id\":\"0f3e15a1-e7e2-4a21-a05c-118f535d0912\",\"subtype\":\"Chart\",\"type\":\"Plot\"},\"ticker\":{\"id\":\"3c1d3d7f-b01d-46a0-8f85-764ea232e06d\",\"type\":\"BasicTicker\"}},\"id\":\"81e221b7-a560-4cb2-8054-0b795f775229\",\"type\":\"LinearAxis\"},{\"attributes\":{\"plot\":{\"id\":\"0f3e15a1-e7e2-4a21-a05c-118f535d0912\",\"subtype\":\"Chart\",\"type\":\"Plot\"}},\"id\":\"423f7fdb-695d-4a9c-82ac-13892a3c9b14\",\"type\":\"WheelZoomTool\"},{\"attributes\":{\"fill_alpha\":{\"value\":0.7},\"fill_color\":{\"value\":\"#407ee7\"},\"line_color\":{\"value\":\"#407ee7\"},\"size\":{\"units\":\"screen\",\"value\":8},\"x\":{\"field\":\"x_values\"},\"y\":{\"field\":\"y_values\"}},\"id\":\"d567a60a-aaa1-4174-a1c4-697259695b2a\",\"type\":\"Circle\"},{\"attributes\":{\"overlay\":{\"id\":\"a2ae00d3-5042-4694-a649-4171c8cbd629\",\"type\":\"BoxAnnotation\"},\"plot\":{\"id\":\"0f3e15a1-e7e2-4a21-a05c-118f535d0912\",\"subtype\":\"Chart\",\"type\":\"Plot\"}},\"id\":\"d4ac59ec-0951-4045-a983-855b1bec4993\",\"type\":\"BoxZoomTool\"},{\"attributes\":{\"data_source\":{\"id\":\"8b4addfb-0b9a-4c3b-b2cd-150c417c2e6a\",\"type\":\"ColumnDataSource\"},\"glyph\":{\"id\":\"d567a60a-aaa1-4174-a1c4-697259695b2a\",\"type\":\"Circle\"},\"hover_glyph\":null,\"nonselection_glyph\":null,\"selection_glyph\":null},\"id\":\"0a770c9f-950a-4ee0-b5ea-155daf40f1c4\",\"type\":\"GlyphRenderer\"},{\"attributes\":{\"plot\":{\"id\":\"0f3e15a1-e7e2-4a21-a05c-118f535d0912\",\"subtype\":\"Chart\",\"type\":\"Plot\"}},\"id\":\"1f1c6418-32aa-4694-b65d-b5aa7eef62fd\",\"type\":\"SaveTool\"},{\"attributes\":{\"plot\":{\"id\":\"0f3e15a1-e7e2-4a21-a05c-118f535d0912\",\"subtype\":\"Chart\",\"type\":\"Plot\"},\"ticker\":{\"id\":\"f641e968-665d-40d9-a0ac-2dc3a7c2342c\",\"type\":\"BasicTicker\"}},\"id\":\"f2658a9d-f161-48bd-8f4a-1495139a45f6\",\"type\":\"Grid\"},{\"attributes\":{\"plot\":{\"id\":\"0f3e15a1-e7e2-4a21-a05c-118f535d0912\",\"subtype\":\"Chart\",\"type\":\"Plot\"}},\"id\":\"fb8d2700-e02c-4958-b48a-757587fdd4bc\",\"type\":\"ResetTool\"},{\"attributes\":{\"plot\":{\"id\":\"0f3e15a1-e7e2-4a21-a05c-118f535d0912\",\"subtype\":\"Chart\",\"type\":\"Plot\"}},\"id\":\"15d57ae5-0525-4cf2-b9d1-d57f95599501\",\"type\":\"HelpTool\"},{\"attributes\":{\"label\":{\"value\":\"6\"},\"renderers\":[{\"id\":\"764d2ba9-5add-403c-9ed6-9ac14d14cb14\",\"type\":\"GlyphRenderer\"}]},\"id\":\"15782a10-2c71-4862-bb8c-1883684537c7\",\"type\":\"LegendItem\"},{\"attributes\":{\"label\":{\"value\":\"5\"},\"renderers\":[{\"id\":\"0a770c9f-950a-4ee0-b5ea-155daf40f1c4\",\"type\":\"GlyphRenderer\"}]},\"id\":\"79c503d7-99da-4adc-beef-e5208b38df18\",\"type\":\"LegendItem\"},{\"attributes\":{\"label\":{\"value\":\"3\"},\"renderers\":[{\"id\":\"c37a12f9-9a66-406f-8c9d-5ec278ac8cf7\",\"type\":\"GlyphRenderer\"}]},\"id\":\"89d49e2f-44d0-497b-804a-b3c96a9e619a\",\"type\":\"LegendItem\"},{\"attributes\":{\"callback\":null,\"column_names\":[\"x_values\",\"y_values\"],\"data\":{\"chart_index\":[{\"cyl\":8},{\"cyl\":8},{\"cyl\":8},{\"cyl\":8},{\"cyl\":8},{\"cyl\":8},{\"cyl\":8},{\"cyl\":8},{\"cyl\":8},{\"cyl\":8},{\"cyl\":8},{\"cyl\":8},{\"cyl\":8},{\"cyl\":8},{\"cyl\":8},{\"cyl\":8},{\"cyl\":8},{\"cyl\":8},{\"cyl\":8},{\"cyl\":8},{\"cyl\":8},{\"cyl\":8},{\"cyl\":8},{\"cyl\":8},{\"cyl\":8},{\"cyl\":8},{\"cyl\":8},{\"cyl\":8},{\"cyl\":8},{\"cyl\":8},{\"cyl\":8},{\"cyl\":8},{\"cyl\":8},{\"cyl\":8},{\"cyl\":8},{\"cyl\":8},{\"cyl\":8},{\"cyl\":8},{\"cyl\":8},{\"cyl\":8},{\"cyl\":8},{\"cyl\":8},{\"cyl\":8},{\"cyl\":8},{\"cyl\":8},{\"cyl\":8},{\"cyl\":8},{\"cyl\":8},{\"cyl\":8},{\"cyl\":8},{\"cyl\":8},{\"cyl\":8},{\"cyl\":8},{\"cyl\":8},{\"cyl\":8},{\"cyl\":8},{\"cyl\":8},{\"cyl\":8},{\"cyl\":8},{\"cyl\":8},{\"cyl\":8},{\"cyl\":8},{\"cyl\":8},{\"cyl\":8},{\"cyl\":8},{\"cyl\":8},{\"cyl\":8},{\"cyl\":8},{\"cyl\":8},{\"cyl\":8},{\"cyl\":8},{\"cyl\":8},{\"cyl\":8},{\"cyl\":8},{\"cyl\":8},{\"cyl\":8},{\"cyl\":8},{\"cyl\":8},{\"cyl\":8},{\"cyl\":8},{\"cyl\":8},{\"cyl\":8},{\"cyl\":8},{\"cyl\":8},{\"cyl\":8},{\"cyl\":8},{\"cyl\":8},{\"cyl\":8},{\"cyl\":8},{\"cyl\":8},{\"cyl\":8},{\"cyl\":8},{\"cyl\":8},{\"cyl\":8},{\"cyl\":8},{\"cyl\":8},{\"cyl\":8},{\"cyl\":8},{\"cyl\":8},{\"cyl\":8},{\"cyl\":8},{\"cyl\":8},{\"cyl\":8}],\"cyl\":[8,8,8,8,8,8,8,8,8,8,8,8,8,8,8,8,8,8,8,8,8,8,8,8,8,8,8,8,8,8,8,8,8,8,8,8,8,8,8,8,8,8,8,8,8,8,8,8,8,8,8,8,8,8,8,8,8,8,8,8,8,8,8,8,8,8,8,8,8,8,8,8,8,8,8,8,8,8,8,8,8,8,8,8,8,8,8,8,8,8,8,8,8,8,8,8,8,8,8,8,8,8,8],\"x_values\":{\"__ndarray__\":\"AAAAAAAAMkAAAAAAAAAuQAAAAAAAADJAAAAAAAAAMEAAAAAAAAAxQAAAAAAAAC5AAAAAAAAALEAAAAAAAAAsQAAAAAAAACxAAAAAAAAALkAAAAAAAAAuQAAAAAAAACxAAAAAAAAALkAAAAAAAAAsQAAAAAAAACRAAAAAAAAAJEAAAAAAAAAmQAAAAAAAACJAAAAAAAAALEAAAAAAAAAsQAAAAAAAACxAAAAAAAAALEAAAAAAAAAoQAAAAAAAACpAAAAAAAAAKkAAAAAAAAAqQAAAAAAAACxAAAAAAAAALkAAAAAAAAAsQAAAAAAAADFAAAAAAAAAJkAAAAAAAAAqQAAAAAAAAChAAAAAAAAAKkAAAAAAAAAuQAAAAAAAACpAAAAAAAAAKkAAAAAAAAAsQAAAAAAAACpAAAAAAAAALEAAAAAAAAAqQAAAAAAAACxAAAAAAAAALkAAAAAAAAAoQAAAAAAAACpAAAAAAAAAKkAAAAAAAAAsQAAAAAAAACpAAAAAAAAAKEAAAAAAAAAqQAAAAAAAACZAAAAAAAAAKEAAAAAAAAAqQAAAAAAAAChAAAAAAAAALkAAAAAAAAAwQAAAAAAAAC5AAAAAAAAAJkAAAAAAAAAwQAAAAAAAACpAAAAAAAAALEAAAAAAAAAsQAAAAAAAACxAAAAAAAAAMEAAAAAAAAAuQAAAAAAAADBAAAAAAAAALEAAAAAAAAA0QAAAAAAAACpAAAAAAACAMUAAAAAAAAAwQAAAAAAAAC9AAAAAAAAALUAAAAAAAAAqQAAAAAAAgDBAAAAAAAAAKkAAAAAAAAAqQAAAAAAAACpAAAAAAACAMUAAAAAAAAAxQAAAAAAAAC9AAAAAAAAALkAAAAAAAAAwQAAAAAAAAC9AAAAAAAAAL0AAAAAAAAAwQGZmZmZm5jNAZmZmZmZmM0AzMzMzMzM0QDMzMzMzMzNAmpmZmZkZMkAAAAAAAIAxQAAAAAAAADFAmpmZmZmZMUAAAAAAAIAwQDMzMzMzMzJAZmZmZmbmMEAAAAAAAAAvQDMzMzMzMzNAAAAAAACAMkAAAAAAAAA3QGZmZmZm5jdAmpmZmZmZOkA=\",\"dtype\":\"float64\",\"shape\":[103]},\"y_values\":[130,165,150,150,140,198,220,215,225,190,170,160,150,225,215,200,210,193,165,175,153,150,180,170,175,165,175,150,153,150,208,155,160,190,150,130,140,150,175,150,145,137,150,198,150,158,150,215,225,175,150,167,170,180,145,230,150,180,140,150,150,140,150,170,145,150,148,110,129,140,150,120,152,150,180,145,130,150,145,110,145,130,180,170,190,149,110,140,139,145,139,140,130,129,138,135,155,142,125,150,125,90,105]}},\"id\":\"f50b10da-5992-4d91-8b39-64853b7e7f1e\",\"type\":\"ColumnDataSource\"},{\"attributes\":{\"callback\":null,\"end\":248.4,\"start\":27.599999999999998},\"id\":\"e8241ada-8156-4000-8a81-6df9230ce08e\",\"type\":\"Range1d\"},{\"attributes\":{\"data_source\":{\"id\":\"60d64a6e-c76c-4b89-84e6-dfb6a295ec9d\",\"type\":\"ColumnDataSource\"},\"glyph\":{\"id\":\"bc7e072d-c528-4ff9-997b-17f605e0c809\",\"type\":\"Circle\"},\"hover_glyph\":null,\"nonselection_glyph\":null,\"selection_glyph\":null},\"id\":\"088c7e05-c1bc-466f-8ee0-1f19e7847310\",\"type\":\"GlyphRenderer\"},{\"attributes\":{\"callback\":null,\"column_names\":[\"x_values\",\"y_values\"],\"data\":{\"chart_index\":[{\"cyl\":3},{\"cyl\":3},{\"cyl\":3},{\"cyl\":3}],\"cyl\":[3,3,3,3],\"x_values\":{\"__ndarray__\":\"AAAAAAAAM0AAAAAAAAAyQAAAAAAAgDVAMzMzMzOzN0A=\",\"dtype\":\"float64\",\"shape\":[4]},\"y_values\":[97,90,110,100]}},\"id\":\"0a579ffa-ba30-4daf-83f5-caa02fb46227\",\"type\":\"ColumnDataSource\"},{\"attributes\":{\"callback\":null,\"column_names\":[\"x_values\",\"y_values\"],\"data\":{\"chart_index\":[{\"cyl\":5},{\"cyl\":5},{\"cyl\":5}],\"cyl\":[5,5,5],\"x_values\":{\"__ndarray__\":\"zczMzMxMNEBmZmZmZmY5QDMzMzMzM0JA\",\"dtype\":\"float64\",\"shape\":[3]},\"y_values\":[103,77,67]}},\"id\":\"8b4addfb-0b9a-4c3b-b2cd-150c417c2e6a\",\"type\":\"ColumnDataSource\"},{\"attributes\":{\"below\":[{\"id\":\"2d90268e-d340-46a0-8705-85c4b95eeefa\",\"type\":\"LinearAxis\"}],\"css_classes\":null,\"left\":[{\"id\":\"81e221b7-a560-4cb2-8054-0b795f775229\",\"type\":\"LinearAxis\"}],\"renderers\":[{\"id\":\"a2ae00d3-5042-4694-a649-4171c8cbd629\",\"type\":\"BoxAnnotation\"},{\"id\":\"89695c09-cbec-4d59-b97d-1f86eee55ae0\",\"type\":\"GlyphRenderer\"},{\"id\":\"088c7e05-c1bc-466f-8ee0-1f19e7847310\",\"type\":\"GlyphRenderer\"},{\"id\":\"764d2ba9-5add-403c-9ed6-9ac14d14cb14\",\"type\":\"GlyphRenderer\"},{\"id\":\"c37a12f9-9a66-406f-8c9d-5ec278ac8cf7\",\"type\":\"GlyphRenderer\"},{\"id\":\"0a770c9f-950a-4ee0-b5ea-155daf40f1c4\",\"type\":\"GlyphRenderer\"},{\"id\":\"54e8c891-ca3d-40f0-a049-e9c7c5ab9883\",\"type\":\"Legend\"},{\"id\":\"2d90268e-d340-46a0-8705-85c4b95eeefa\",\"type\":\"LinearAxis\"},{\"id\":\"81e221b7-a560-4cb2-8054-0b795f775229\",\"type\":\"LinearAxis\"},{\"id\":\"f2658a9d-f161-48bd-8f4a-1495139a45f6\",\"type\":\"Grid\"},{\"id\":\"a7faac11-2d7a-49cd-b752-53d0e7c3defe\",\"type\":\"Grid\"}],\"title\":{\"id\":\"becce791-afe1-40c9-a02a-1c7bd5c4a818\",\"type\":\"Title\"},\"tool_events\":{\"id\":\"19bb0cd8-a6a4-4015-becb-8c4d974134c6\",\"type\":\"ToolEvents\"},\"toolbar\":{\"id\":\"bca9fc56-8f86-423c-a06c-ed38df56b509\",\"type\":\"Toolbar\"},\"x_mapper_type\":\"auto\",\"x_range\":{\"id\":\"fae0b083-d323-471c-a1ad-2c361129e5a9\",\"type\":\"Range1d\"},\"y_mapper_type\":\"auto\",\"y_range\":{\"id\":\"e8241ada-8156-4000-8a81-6df9230ce08e\",\"type\":\"Range1d\"}},\"id\":\"0f3e15a1-e7e2-4a21-a05c-118f535d0912\",\"subtype\":\"Chart\",\"type\":\"Plot\"},{\"attributes\":{\"callback\":null,\"column_names\":[\"x_values\",\"y_values\"],\"data\":{\"chart_index\":[{\"cyl\":4},{\"cyl\":4},{\"cyl\":4},{\"cyl\":4},{\"cyl\":4},{\"cyl\":4},{\"cyl\":4},{\"cyl\":4},{\"cyl\":4},{\"cyl\":4},{\"cyl\":4},{\"cyl\":4},{\"cyl\":4},{\"cyl\":4},{\"cyl\":4},{\"cyl\":4},{\"cyl\":4},{\"cyl\":4},{\"cyl\":4},{\"cyl\":4},{\"cyl\":4},{\"cyl\":4},{\"cyl\":4},{\"cyl\":4},{\"cyl\":4},{\"cyl\":4},{\"cyl\":4},{\"cyl\":4},{\"cyl\":4},{\"cyl\":4},{\"cyl\":4},{\"cyl\":4},{\"cyl\":4},{\"cyl\":4},{\"cyl\":4},{\"cyl\":4},{\"cyl\":4},{\"cyl\":4},{\"cyl\":4},{\"cyl\":4},{\"cyl\":4},{\"cyl\":4},{\"cyl\":4},{\"cyl\":4},{\"cyl\":4},{\"cyl\":4},{\"cyl\":4},{\"cyl\":4},{\"cyl\":4},{\"cyl\":4},{\"cyl\":4},{\"cyl\":4},{\"cyl\":4},{\"cyl\":4},{\"cyl\":4},{\"cyl\":4},{\"cyl\":4},{\"cyl\":4},{\"cyl\":4},{\"cyl\":4},{\"cyl\":4},{\"cyl\":4},{\"cyl\":4},{\"cyl\":4},{\"cyl\":4},{\"cyl\":4},{\"cyl\":4},{\"cyl\":4},{\"cyl\":4},{\"cyl\":4},{\"cyl\":4},{\"cyl\":4},{\"cyl\":4},{\"cyl\":4},{\"cyl\":4},{\"cyl\":4},{\"cyl\":4},{\"cyl\":4},{\"cyl\":4},{\"cyl\":4},{\"cyl\":4},{\"cyl\":4},{\"cyl\":4},{\"cyl\":4},{\"cyl\":4},{\"cyl\":4},{\"cyl\":4},{\"cyl\":4},{\"cyl\":4},{\"cyl\":4},{\"cyl\":4},{\"cyl\":4},{\"cyl\":4},{\"cyl\":4},{\"cyl\":4},{\"cyl\":4},{\"cyl\":4},{\"cyl\":4},{\"cyl\":4},{\"cyl\":4},{\"cyl\":4},{\"cyl\":4},{\"cyl\":4},{\"cyl\":4},{\"cyl\":4},{\"cyl\":4},{\"cyl\":4},{\"cyl\":4},{\"cyl\":4},{\"cyl\":4},{\"cyl\":4},{\"cyl\":4},{\"cyl\":4},{\"cyl\":4},{\"cyl\":4},{\"cyl\":4},{\"cyl\":4},{\"cyl\":4},{\"cyl\":4},{\"cyl\":4},{\"cyl\":4},{\"cyl\":4},{\"cyl\":4},{\"cyl\":4},{\"cyl\":4},{\"cyl\":4},{\"cyl\":4},{\"cyl\":4},{\"cyl\":4},{\"cyl\":4},{\"cyl\":4},{\"cyl\":4},{\"cyl\":4},{\"cyl\":4},{\"cyl\":4},{\"cyl\":4},{\"cyl\":4},{\"cyl\":4},{\"cyl\":4},{\"cyl\":4},{\"cyl\":4},{\"cyl\":4},{\"cyl\":4},{\"cyl\":4},{\"cyl\":4},{\"cyl\":4},{\"cyl\":4},{\"cyl\":4},{\"cyl\":4},{\"cyl\":4},{\"cyl\":4},{\"cyl\":4},{\"cyl\":4},{\"cyl\":4},{\"cyl\":4},{\"cyl\":4},{\"cyl\":4},{\"cyl\":4},{\"cyl\":4},{\"cyl\":4},{\"cyl\":4},{\"cyl\":4},{\"cyl\":4},{\"cyl\":4},{\"cyl\":4},{\"cyl\":4},{\"cyl\":4},{\"cyl\":4},{\"cyl\":4},{\"cyl\":4},{\"cyl\":4},{\"cyl\":4},{\"cyl\":4},{\"cyl\":4},{\"cyl\":4},{\"cyl\":4},{\"cyl\":4},{\"cyl\":4},{\"cyl\":4},{\"cyl\":4},{\"cyl\":4},{\"cyl\":4},{\"cyl\":4},{\"cyl\":4},{\"cyl\":4},{\"cyl\":4},{\"cyl\":4},{\"cyl\":4},{\"cyl\":4},{\"cyl\":4},{\"cyl\":4},{\"cyl\":4},{\"cyl\":4},{\"cyl\":4},{\"cyl\":4},{\"cyl\":4},{\"cyl\":4},{\"cyl\":4},{\"cyl\":4}],\"cyl\":[4,4,4,4,4,4,4,4,4,4,4,4,4,4,4,4,4,4,4,4,4,4,4,4,4,4,4,4,4,4,4,4,4,4,4,4,4,4,4,4,4,4,4,4,4,4,4,4,4,4,4,4,4,4,4,4,4,4,4,4,4,4,4,4,4,4,4,4,4,4,4,4,4,4,4,4,4,4,4,4,4,4,4,4,4,4,4,4,4,4,4,4,4,4,4,4,4,4,4,4,4,4,4,4,4,4,4,4,4,4,4,4,4,4,4,4,4,4,4,4,4,4,4,4,4,4,4,4,4,4,4,4,4,4,4,4,4,4,4,4,4,4,4,4,4,4,4,4,4,4,4,4,4,4,4,4,4,4,4,4,4,4,4,4,4,4,4,4,4,4,4,4,4,4,4,4,4,4,4,4,4,4,4,4,4,4,4,4,4,4,4,4,4,4,4,4,4,4,4],\"x_values\":{\"__ndarray__\":\"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\",\"dtype\":\"float64\",\"shape\":[199]},\"y_values\":[95,88,46,87,90,95,113,88,90,95,72,86,90,70,76,65,69,60,70,95,80,54,90,86,112,76,87,69,86,92,97,80,88,46,88,72,94,85,90,49,75,91,112,110,67,80,65,75,83,67,78,52,61,75,75,75,97,93,67,75,83,78,96,71,97,70,95,88,98,115,53,86,81,92,79,83,52,60,70,53,71,70,75,72,102,88,68,80,58,96,70,78,88,75,89,63,83,67,78,110,48,66,52,70,60,88,68,95,97,75,95,105,85,97,115,71,68,88,71,65,80,80,71,70,70,65,69,90,90,76,60,70,65,90,88,90,78,90,75,92,75,65,105,65,48,48,67,67,67,62,88,72,84,84,92,84,58,64,60,67,65,62,68,63,65,65,74,75,75,100,74,80,88,88,88,85,84,90,92,74,68,68,63,70,88,75,70,67,67,67,92,96,84,90,86,52,84,79,82]}},\"id\":\"60d64a6e-c76c-4b89-84e6-dfb6a295ec9d\",\"type\":\"ColumnDataSource\"},{\"attributes\":{\"fill_alpha\":{\"value\":0.7},\"fill_color\":{\"value\":\"#5ab738\"},\"line_color\":{\"value\":\"#5ab738\"},\"size\":{\"units\":\"screen\",\"value\":8},\"x\":{\"field\":\"x_values\"},\"y\":{\"field\":\"y_values\"}},\"id\":\"bc7e072d-c528-4ff9-997b-17f605e0c809\",\"type\":\"Circle\"},{\"attributes\":{},\"id\":\"19bb0cd8-a6a4-4015-becb-8c4d974134c6\",\"type\":\"ToolEvents\"},{\"attributes\":{\"plot\":null,\"text\":\"MPG vs Horsepower\"},\"id\":\"becce791-afe1-40c9-a02a-1c7bd5c4a818\",\"type\":\"Title\"},{\"attributes\":{\"data_source\":{\"id\":\"67d02974-16b2-4bf7-bd0b-83d2a80633ce\",\"type\":\"ColumnDataSource\"},\"glyph\":{\"id\":\"b54693e8-19a1-4157-8dfd-d86c111778d0\",\"type\":\"Circle\"},\"hover_glyph\":null,\"nonselection_glyph\":null,\"selection_glyph\":null},\"id\":\"764d2ba9-5add-403c-9ed6-9ac14d14cb14\",\"type\":\"GlyphRenderer\"},{\"attributes\":{\"active_drag\":\"auto\",\"active_scroll\":\"auto\",\"active_tap\":\"auto\",\"tools\":[{\"id\":\"9a0453b4-2065-4c38-95c9-2fc80f6bb5f7\",\"type\":\"PanTool\"},{\"id\":\"423f7fdb-695d-4a9c-82ac-13892a3c9b14\",\"type\":\"WheelZoomTool\"},{\"id\":\"d4ac59ec-0951-4045-a983-855b1bec4993\",\"type\":\"BoxZoomTool\"},{\"id\":\"1f1c6418-32aa-4694-b65d-b5aa7eef62fd\",\"type\":\"SaveTool\"},{\"id\":\"fb8d2700-e02c-4958-b48a-757587fdd4bc\",\"type\":\"ResetTool\"},{\"id\":\"15d57ae5-0525-4cf2-b9d1-d57f95599501\",\"type\":\"HelpTool\"}]},\"id\":\"bca9fc56-8f86-423c-a06c-ed38df56b509\",\"type\":\"Toolbar\"},{\"attributes\":{\"data_source\":{\"id\":\"f50b10da-5992-4d91-8b39-64853b7e7f1e\",\"type\":\"ColumnDataSource\"},\"glyph\":{\"id\":\"bbcd6654-c6a1-4ded-a0b7-bfb361298faa\",\"type\":\"Circle\"},\"hover_glyph\":null,\"nonselection_glyph\":null,\"selection_glyph\":null},\"id\":\"89695c09-cbec-4d59-b97d-1f86eee55ae0\",\"type\":\"GlyphRenderer\"},{\"attributes\":{\"fill_alpha\":{\"value\":0.7},\"fill_color\":{\"value\":\"#f22c40\"},\"line_color\":{\"value\":\"#f22c40\"},\"size\":{\"units\":\"screen\",\"value\":8},\"x\":{\"field\":\"x_values\"},\"y\":{\"field\":\"y_values\"}},\"id\":\"4cc10fcc-d8c3-492a-a3ee-7941e228d954\",\"type\":\"Circle\"},{\"attributes\":{\"callback\":null,\"column_names\":[\"x_values\",\"y_values\"],\"data\":{\"chart_index\":[{\"cyl\":6},{\"cyl\":6},{\"cyl\":6},{\"cyl\":6},{\"cyl\":6},{\"cyl\":6},{\"cyl\":6},{\"cyl\":6},{\"cyl\":6},{\"cyl\":6},{\"cyl\":6},{\"cyl\":6},{\"cyl\":6},{\"cyl\":6},{\"cyl\":6},{\"cyl\":6},{\"cyl\":6},{\"cyl\":6},{\"cyl\":6},{\"cyl\":6},{\"cyl\":6},{\"cyl\":6},{\"cyl\":6},{\"cyl\":6},{\"cyl\":6},{\"cyl\":6},{\"cyl\":6},{\"cyl\":6},{\"cyl\":6},{\"cyl\":6},{\"cyl\":6},{\"cyl\":6},{\"cyl\":6},{\"cyl\":6},{\"cyl\":6},{\"cyl\":6},{\"cyl\":6},{\"cyl\":6},{\"cyl\":6},{\"cyl\":6},{\"cyl\":6},{\"cyl\":6},{\"cyl\":6},{\"cyl\":6},{\"cyl\":6},{\"cyl\":6},{\"cyl\":6},{\"cyl\":6},{\"cyl\":6},{\"cyl\":6},{\"cyl\":6},{\"cyl\":6},{\"cyl\":6},{\"cyl\":6},{\"cyl\":6},{\"cyl\":6},{\"cyl\":6},{\"cyl\":6},{\"cyl\":6},{\"cyl\":6},{\"cyl\":6},{\"cyl\":6},{\"cyl\":6},{\"cyl\":6},{\"cyl\":6},{\"cyl\":6},{\"cyl\":6},{\"cyl\":6},{\"cyl\":6},{\"cyl\":6},{\"cyl\":6},{\"cyl\":6},{\"cyl\":6},{\"cyl\":6},{\"cyl\":6},{\"cyl\":6},{\"cyl\":6},{\"cyl\":6},{\"cyl\":6},{\"cyl\":6},{\"cyl\":6},{\"cyl\":6},{\"cyl\":6}],\"cyl\":[6,6,6,6,6,6,6,6,6,6,6,6,6,6,6,6,6,6,6,6,6,6,6,6,6,6,6,6,6,6,6,6,6,6,6,6,6,6,6,6,6,6,6,6,6,6,6,6,6,6,6,6,6,6,6,6,6,6,6,6,6,6,6,6,6,6,6,6,6,6,6,6,6,6,6,6,6,6,6,6,6,6,6],\"x_values\":{\"__ndarray__\":\"AAAAAAAANkAAAAAAAAAyQAAAAAAAADVAAAAAAAAANUAAAAAAAAAzQAAAAAAAADBAAAAAAAAAMUAAAAAAAAAzQAAAAAAAADJAAAAAAAAAMkAAAAAAAAAzQAAAAAAAADJAAAAAAAAAMkAAAAAAAAAwQAAAAAAAADJAAAAAAAAAMkAAAAAAAAA3QAAAAAAAADJAAAAAAAAANUAAAAAAAAA0QAAAAAAAADRAAAAAAAAAM0AAAAAAAAAuQAAAAAAAADBAAAAAAAAAMEAAAAAAAAAyQAAAAAAAADNAAAAAAAAAMkAAAAAAAAAuQAAAAAAAAC5AAAAAAAAAMUAAAAAAAAAwQAAAAAAAAC5AAAAAAAAAMkAAAAAAAAA1QAAAAAAAADRAAAAAAAAAMkAAAAAAAAAzQAAAAAAAADZAAAAAAAAANkAAAAAAAAA4QAAAAAAAgDZAAAAAAAAANEAAAAAAAAAyQAAAAAAAgDJAAAAAAACAMUAAAAAAAAAzQAAAAAAAgDBAAAAAAACAMUAAAAAAAIA0QAAAAAAAADNAAAAAAACAMkAAAAAAAAA2QDMzMzMzMzNAAAAAAACANEAzMzMzMzM0QAAAAAAAgDRAZmZmZmZmM0CamZmZmZk0QM3MzMzMzDRAmpmZmZmZMkCamZmZmRkyQDMzMzMzszFAAAAAAAAAMUAzMzMzMzMwQAAAAAAAgDVAzczMzMzMM0AzMzMzMzM0QJqZmZmZmTRAzczMzMzMPEDNzMzMzMw6QJqZmZmZGTNAmpmZmZlZQEAAAAAAAIA3QDMzMzMzsz5AZmZmZmZmOUAzMzMzMzM4QGZmZmZmZjZAMzMzMzMzNECamZmZmZkxQAAAAAAAADlAAAAAAAAAQ0AAAAAAAAA2QA==\",\"dtype\":\"float64\",\"shape\":[83]},\"y_values\":[95,97,85,90,100,105,100,88,100,110,100,88,105,100,100,88,95,100,107,122,95,100,100,100,110,105,95,105,72,72,110,105,110,95,110,100,97,90,100,105,81,90,100,78,110,95,108,120,110,105,100,98,97,105,95,85,100,90,105,85,110,120,165,125,133,115,85,90,110,115,115,90,132,110,76,116,120,110,88,85,110,85,112]}},\"id\":\"67d02974-16b2-4bf7-bd0b-83d2a80633ce\",\"type\":\"ColumnDataSource\"},{\"attributes\":{\"data_source\":{\"id\":\"0a579ffa-ba30-4daf-83f5-caa02fb46227\",\"type\":\"ColumnDataSource\"},\"glyph\":{\"id\":\"4cc10fcc-d8c3-492a-a3ee-7941e228d954\",\"type\":\"Circle\"},\"hover_glyph\":null,\"nonselection_glyph\":null,\"selection_glyph\":null},\"id\":\"c37a12f9-9a66-406f-8c9d-5ec278ac8cf7\",\"type\":\"GlyphRenderer\"},{\"attributes\":{\"fill_alpha\":{\"value\":0.7},\"fill_color\":{\"value\":\"#df5320\"},\"line_color\":{\"value\":\"#df5320\"},\"size\":{\"units\":\"screen\",\"value\":8},\"x\":{\"field\":\"x_values\"},\"y\":{\"field\":\"y_values\"}},\"id\":\"b54693e8-19a1-4157-8dfd-d86c111778d0\",\"type\":\"Circle\"},{\"attributes\":{\"callback\":null,\"end\":50.36,\"start\":5.24},\"id\":\"fae0b083-d323-471c-a1ad-2c361129e5a9\",\"type\":\"Range1d\"}],\"root_ids\":[\"0f3e15a1-e7e2-4a21-a05c-118f535d0912\"]},\"title\":\"Bokeh Application\",\"version\":\"0.12.4\"}};\n",
       "            var render_items = [{\"docid\":\"755a90f4-cf53-40dd-be3f-4b816aef8bd0\",\"elementid\":\"d915818f-b35f-4dc0-a18c-2d52f57bed2a\",\"modelid\":\"0f3e15a1-e7e2-4a21-a05c-118f535d0912\"}];\n",
       "            \n",
       "            Bokeh.embed.embed_items(docs_json, render_items);\n",
       "          };\n",
       "          if (document.readyState != \"loading\") fn();\n",
       "          else document.addEventListener(\"DOMContentLoaded\", fn);\n",
       "        })();\n",
       "      },\n",
       "      function(Bokeh) {\n",
       "      }\n",
       "    ];\n",
       "  \n",
       "    function run_inline_js() {\n",
       "      \n",
       "      if ((window.Bokeh !== undefined) || (force === true)) {\n",
       "        for (var i = 0; i < inline_js.length; i++) {\n",
       "          inline_js[i](window.Bokeh);\n",
       "        }if (force === true) {\n",
       "          display_loaded();\n",
       "        }} else if (Date.now() < window._bokeh_timeout) {\n",
       "        setTimeout(run_inline_js, 100);\n",
       "      } else if (!window._bokeh_failed_load) {\n",
       "        console.log(\"Bokeh: BokehJS failed to load within specified timeout.\");\n",
       "        window._bokeh_failed_load = true;\n",
       "      } else if (force !== true) {\n",
       "        var cell = $(document.getElementById(\"d915818f-b35f-4dc0-a18c-2d52f57bed2a\")).parents('.cell').data().cell;\n",
       "        cell.output_area.append_execute_result(NB_LOAD_WARNING)\n",
       "      }\n",
       "  \n",
       "    }\n",
       "  \n",
       "    if (window._bokeh_is_loading === 0) {\n",
       "      console.log(\"Bokeh: BokehJS loaded, going straight to plotting\");\n",
       "      run_inline_js();\n",
       "    } else {\n",
       "      load_libs(js_urls, function() {\n",
       "        console.log(\"Bokeh: BokehJS plotting callback run at\", now());\n",
       "        run_inline_js();\n",
       "      });\n",
       "    }\n",
       "  }(this));\n",
       "</script>"
      ]
     },
     "metadata": {},
     "output_type": "display_data"
    }
   ],
   "source": [
    "from bokeh.charts import Scatter\n",
    "\n",
    "scatter = Scatter(df, x='mpg', y='hp', color='cyl', \n",
    "                  title=\"MPG vs Horsepower\", xlabel=\"Miles Per Gallon\",\n",
    "                  ylabel=\"Horsepower\")\n",
    "\n",
    "show(scatter)"
   ]
  },
  {
   "cell_type": "markdown",
   "metadata": {
    "nbpresent": {
     "id": "1ec28525-f523-4e70-af2e-04c15aabdea0"
    }
   },
   "source": [
    "## Linking\n",
    "Bokeh plots can be displayed in rows with their interactions linked."
   ]
  },
  {
   "cell_type": "code",
   "execution_count": 5,
   "metadata": {
    "collapsed": false,
    "nbpresent": {
     "id": "f7a216e7-df66-4703-a263-158cf23f7d29"
    }
   },
   "outputs": [
    {
     "data": {
      "text/html": [
       "\n",
       "\n",
       "    <div class=\"bk-root\">\n",
       "        <div class=\"bk-plotdiv\" id=\"ea0d2629-f394-4b1b-9b18-25fa43408555\"></div>\n",
       "    </div>\n",
       "<script type=\"text/javascript\">\n",
       "  \n",
       "  (function(global) {\n",
       "    function now() {\n",
       "      return new Date();\n",
       "    }\n",
       "  \n",
       "    var force = false;\n",
       "  \n",
       "    if (typeof (window._bokeh_onload_callbacks) === \"undefined\" || force === true) {\n",
       "      window._bokeh_onload_callbacks = [];\n",
       "      window._bokeh_is_loading = undefined;\n",
       "    }\n",
       "  \n",
       "  \n",
       "    \n",
       "    if (typeof (window._bokeh_timeout) === \"undefined\" || force === true) {\n",
       "      window._bokeh_timeout = Date.now() + 0;\n",
       "      window._bokeh_failed_load = false;\n",
       "    }\n",
       "  \n",
       "    var NB_LOAD_WARNING = {'data': {'text/html':\n",
       "       \"<div style='background-color: #fdd'>\\n\"+\n",
       "       \"<p>\\n\"+\n",
       "       \"BokehJS does not appear to have successfully loaded. If loading BokehJS from CDN, this \\n\"+\n",
       "       \"may be due to a slow or bad network connection. Possible fixes:\\n\"+\n",
       "       \"</p>\\n\"+\n",
       "       \"<ul>\\n\"+\n",
       "       \"<li>re-rerun `output_notebook()` to attempt to load from CDN again, or</li>\\n\"+\n",
       "       \"<li>use INLINE resources instead, as so:</li>\\n\"+\n",
       "       \"</ul>\\n\"+\n",
       "       \"<code>\\n\"+\n",
       "       \"from bokeh.resources import INLINE\\n\"+\n",
       "       \"output_notebook(resources=INLINE)\\n\"+\n",
       "       \"</code>\\n\"+\n",
       "       \"</div>\"}};\n",
       "  \n",
       "    function display_loaded() {\n",
       "      if (window.Bokeh !== undefined) {\n",
       "        document.getElementById(\"ea0d2629-f394-4b1b-9b18-25fa43408555\").textContent = \"BokehJS successfully loaded.\";\n",
       "      } else if (Date.now() < window._bokeh_timeout) {\n",
       "        setTimeout(display_loaded, 100)\n",
       "      }\n",
       "    }\n",
       "  \n",
       "    function run_callbacks() {\n",
       "      window._bokeh_onload_callbacks.forEach(function(callback) { callback() });\n",
       "      delete window._bokeh_onload_callbacks\n",
       "      console.info(\"Bokeh: all callbacks have finished\");\n",
       "    }\n",
       "  \n",
       "    function load_libs(js_urls, callback) {\n",
       "      window._bokeh_onload_callbacks.push(callback);\n",
       "      if (window._bokeh_is_loading > 0) {\n",
       "        console.log(\"Bokeh: BokehJS is being loaded, scheduling callback at\", now());\n",
       "        return null;\n",
       "      }\n",
       "      if (js_urls == null || js_urls.length === 0) {\n",
       "        run_callbacks();\n",
       "        return null;\n",
       "      }\n",
       "      console.log(\"Bokeh: BokehJS not loaded, scheduling load and callback at\", now());\n",
       "      window._bokeh_is_loading = js_urls.length;\n",
       "      for (var i = 0; i < js_urls.length; i++) {\n",
       "        var url = js_urls[i];\n",
       "        var s = document.createElement('script');\n",
       "        s.src = url;\n",
       "        s.async = false;\n",
       "        s.onreadystatechange = s.onload = function() {\n",
       "          window._bokeh_is_loading--;\n",
       "          if (window._bokeh_is_loading === 0) {\n",
       "            console.log(\"Bokeh: all BokehJS libraries loaded\");\n",
       "            run_callbacks()\n",
       "          }\n",
       "        };\n",
       "        s.onerror = function() {\n",
       "          console.warn(\"failed to load library \" + url);\n",
       "        };\n",
       "        console.log(\"Bokeh: injecting script tag for BokehJS library: \", url);\n",
       "        document.getElementsByTagName(\"head\")[0].appendChild(s);\n",
       "      }\n",
       "    };var element = document.getElementById(\"ea0d2629-f394-4b1b-9b18-25fa43408555\");\n",
       "    if (element == null) {\n",
       "      console.log(\"Bokeh: ERROR: autoload.js configured with elementid 'ea0d2629-f394-4b1b-9b18-25fa43408555' but no matching script tag was found. \")\n",
       "      return false;\n",
       "    }\n",
       "  \n",
       "    var js_urls = [];\n",
       "  \n",
       "    var inline_js = [\n",
       "      function(Bokeh) {\n",
       "        (function() {\n",
       "          var fn = function() {\n",
       "            var docs_json = {\"9cb4fb8f-07fa-4caa-a5d5-f2c5cf8d4e92\":{\"roots\":{\"references\":[{\"attributes\":{\"sizing_mode\":\"scale_width\",\"toolbar_location\":\"above\",\"tools\":[{\"id\":\"16a66b23-024f-4573-860d-97381b20b7e2\",\"type\":\"PanTool\"},{\"id\":\"e0133b59-cb49-46cd-8896-47c185ce9924\",\"type\":\"WheelZoomTool\"},{\"id\":\"a4cfabb5-e137-4f6c-bfb3-3372db217d68\",\"type\":\"LassoSelectTool\"},{\"id\":\"955e29e5-0f92-438f-91ed-19e93df4606d\",\"type\":\"PanTool\"},{\"id\":\"ce04f126-8f3a-43b8-8691-504ec78a6993\",\"type\":\"WheelZoomTool\"},{\"id\":\"269502d0-39a8-4818-8c37-49d8bf8fce85\",\"type\":\"LassoSelectTool\"}]},\"id\":\"41a2e66d-c3f9-4d51-a802-f7465888e605\",\"type\":\"ToolbarBox\"},{\"attributes\":{\"children\":[{\"id\":\"41a2e66d-c3f9-4d51-a802-f7465888e605\",\"type\":\"ToolbarBox\"},{\"id\":\"586c997e-d839-470b-93b7-1478c61f7e9a\",\"type\":\"Column\"}]},\"id\":\"ad62545c-4ca0-43b8-adc6-047ed3f43618\",\"type\":\"Column\"},{\"attributes\":{\"plot\":null,\"text\":\"x^2\"},\"id\":\"aee68965-fc85-4471-b859-e73cd1bb147e\",\"type\":\"Title\"},{\"attributes\":{\"callback\":null},\"id\":\"b43f2ef2-ce06-4097-9529-bc944552a1fd\",\"type\":\"DataRange1d\"},{\"attributes\":{\"plot\":null,\"text\":\"|x|\"},\"id\":\"6b0a46e1-5ed5-4b3e-9fd2-8d51caaf6e7e\",\"type\":\"Title\"},{\"attributes\":{\"below\":[{\"id\":\"51cd4b9b-dc62-42e5-9fa8-2c7ff6464d27\",\"type\":\"LinearAxis\"}],\"left\":[{\"id\":\"dd644a49-1d3b-4612-90f3-d1e5b62bb69f\",\"type\":\"LinearAxis\"}],\"plot_height\":300,\"plot_width\":300,\"renderers\":[{\"id\":\"51cd4b9b-dc62-42e5-9fa8-2c7ff6464d27\",\"type\":\"LinearAxis\"},{\"id\":\"18d37aed-1405-476e-9329-4a86d6208f2b\",\"type\":\"Grid\"},{\"id\":\"dd644a49-1d3b-4612-90f3-d1e5b62bb69f\",\"type\":\"LinearAxis\"},{\"id\":\"0936c57d-5dde-4044-a626-012a120ba24a\",\"type\":\"Grid\"},{\"id\":\"f652ee7f-2007-49b2-816f-c64654850c57\",\"type\":\"PolyAnnotation\"},{\"id\":\"bf504247-7a46-4b17-a751-981069aa9d12\",\"type\":\"GlyphRenderer\"}],\"title\":{\"id\":\"6b0a46e1-5ed5-4b3e-9fd2-8d51caaf6e7e\",\"type\":\"Title\"},\"tool_events\":{\"id\":\"0a9f67f0-827f-4f56-a3c4-b5c1659515d9\",\"type\":\"ToolEvents\"},\"toolbar\":{\"id\":\"02cc69fd-60dd-41d8-8a40-87028f1dedf4\",\"type\":\"Toolbar\"},\"toolbar_location\":null,\"x_range\":{\"id\":\"3c3b5209-c11a-4728-93c9-ea72c2fb9b4e\",\"type\":\"DataRange1d\"},\"y_range\":{\"id\":\"77f7d704-53bf-4041-92e1-f1561b5e948d\",\"type\":\"DataRange1d\"}},\"id\":\"edf690bb-a27c-4c60-9983-1ffdb7d2f886\",\"subtype\":\"Figure\",\"type\":\"Plot\"},{\"attributes\":{},\"id\":\"0a9f67f0-827f-4f56-a3c4-b5c1659515d9\",\"type\":\"ToolEvents\"},{\"attributes\":{\"callback\":null},\"id\":\"3c3b5209-c11a-4728-93c9-ea72c2fb9b4e\",\"type\":\"DataRange1d\"},{\"attributes\":{\"callback\":null,\"column_names\":[\"x\",\"y0\",\"y1\"],\"data\":{\"x\":[-20,-19,-18,-17,-16,-15,-14,-13,-12,-11,-10,-9,-8,-7,-6,-5,-4,-3,-2,-1,0,1,2,3,4,5,6,7,8,9,10,11,12,13,14,15,16,17,18,19,20],\"y0\":[20,19,18,17,16,15,14,13,12,11,10,9,8,7,6,5,4,3,2,1,0,1,2,3,4,5,6,7,8,9,10,11,12,13,14,15,16,17,18,19,20],\"y1\":[400,361,324,289,256,225,196,169,144,121,100,81,64,49,36,25,16,9,4,1,0,1,4,9,16,25,36,49,64,81,100,121,144,169,196,225,256,289,324,361,400]}},\"id\":\"ae82161a-a0a0-477c-a7bf-5ecc730979d0\",\"type\":\"ColumnDataSource\"},{\"attributes\":{\"fill_color\":{\"value\":\"#1f77b4\"},\"line_color\":{\"value\":\"#1f77b4\"},\"x\":{\"field\":\"x\"},\"y\":{\"field\":\"y1\"}},\"id\":\"614b8b20-7806-4e18-b572-031ac5698bde\",\"type\":\"Circle\"},{\"attributes\":{\"fill_alpha\":{\"value\":0.5},\"fill_color\":{\"value\":\"lightgrey\"},\"level\":\"overlay\",\"line_alpha\":{\"value\":1.0},\"line_color\":{\"value\":\"black\"},\"line_dash\":[4,4],\"line_width\":{\"value\":2},\"plot\":null,\"xs_units\":\"screen\",\"ys_units\":\"screen\"},\"id\":\"a7989e1e-543d-4430-8c8c-3efb1baac508\",\"type\":\"PolyAnnotation\"},{\"attributes\":{\"active_drag\":\"auto\",\"active_scroll\":\"auto\",\"active_tap\":\"auto\",\"tools\":[{\"id\":\"955e29e5-0f92-438f-91ed-19e93df4606d\",\"type\":\"PanTool\"},{\"id\":\"ce04f126-8f3a-43b8-8691-504ec78a6993\",\"type\":\"WheelZoomTool\"},{\"id\":\"269502d0-39a8-4818-8c37-49d8bf8fce85\",\"type\":\"LassoSelectTool\"}]},\"id\":\"99e20845-f3d3-44b3-bbc6-699ccb659b1f\",\"type\":\"Toolbar\"},{\"attributes\":{\"active_drag\":\"auto\",\"active_scroll\":\"auto\",\"active_tap\":\"auto\",\"tools\":[{\"id\":\"16a66b23-024f-4573-860d-97381b20b7e2\",\"type\":\"PanTool\"},{\"id\":\"e0133b59-cb49-46cd-8896-47c185ce9924\",\"type\":\"WheelZoomTool\"},{\"id\":\"a4cfabb5-e137-4f6c-bfb3-3372db217d68\",\"type\":\"LassoSelectTool\"}]},\"id\":\"02cc69fd-60dd-41d8-8a40-87028f1dedf4\",\"type\":\"Toolbar\"},{\"attributes\":{\"fill_alpha\":{\"value\":0.5},\"fill_color\":{\"value\":\"lightgrey\"},\"level\":\"overlay\",\"line_alpha\":{\"value\":1.0},\"line_color\":{\"value\":\"black\"},\"line_dash\":[4,4],\"line_width\":{\"value\":2},\"plot\":null,\"xs_units\":\"screen\",\"ys_units\":\"screen\"},\"id\":\"f652ee7f-2007-49b2-816f-c64654850c57\",\"type\":\"PolyAnnotation\"},{\"attributes\":{\"fill_alpha\":{\"value\":0.1},\"fill_color\":{\"value\":\"#1f77b4\"},\"line_alpha\":{\"value\":0.1},\"line_color\":{\"value\":\"#1f77b4\"},\"x\":{\"field\":\"x\"},\"y\":{\"field\":\"y0\"}},\"id\":\"f1437c54-9d1b-49cf-ad48-256850072563\",\"type\":\"Circle\"},{\"attributes\":{\"formatter\":{\"id\":\"2f6a1cd6-13cc-4062-aa54-d570a729a7d5\",\"type\":\"BasicTickFormatter\"},\"plot\":{\"id\":\"edf690bb-a27c-4c60-9983-1ffdb7d2f886\",\"subtype\":\"Figure\",\"type\":\"Plot\"},\"ticker\":{\"id\":\"786671bd-8e6a-48a4-84aa-dcb48c0ec65d\",\"type\":\"BasicTicker\"}},\"id\":\"51cd4b9b-dc62-42e5-9fa8-2c7ff6464d27\",\"type\":\"LinearAxis\"},{\"attributes\":{\"callback\":null},\"id\":\"77f7d704-53bf-4041-92e1-f1561b5e948d\",\"type\":\"DataRange1d\"},{\"attributes\":{},\"id\":\"786671bd-8e6a-48a4-84aa-dcb48c0ec65d\",\"type\":\"BasicTicker\"},{\"attributes\":{\"fill_color\":{\"value\":\"#1f77b4\"},\"line_color\":{\"value\":\"#1f77b4\"},\"x\":{\"field\":\"x\"},\"y\":{\"field\":\"y0\"}},\"id\":\"79c69654-6ba1-4cd9-a0bd-53f762f4acdd\",\"type\":\"Circle\"},{\"attributes\":{\"plot\":{\"id\":\"edf690bb-a27c-4c60-9983-1ffdb7d2f886\",\"subtype\":\"Figure\",\"type\":\"Plot\"},\"ticker\":{\"id\":\"786671bd-8e6a-48a4-84aa-dcb48c0ec65d\",\"type\":\"BasicTicker\"}},\"id\":\"18d37aed-1405-476e-9329-4a86d6208f2b\",\"type\":\"Grid\"},{\"attributes\":{\"formatter\":{\"id\":\"b0cb0839-dab3-4092-9c69-1e71125e43cd\",\"type\":\"BasicTickFormatter\"},\"plot\":{\"id\":\"edf690bb-a27c-4c60-9983-1ffdb7d2f886\",\"subtype\":\"Figure\",\"type\":\"Plot\"},\"ticker\":{\"id\":\"d0daaca7-8aed-4681-8074-6d1f4952dd6c\",\"type\":\"BasicTicker\"}},\"id\":\"dd644a49-1d3b-4612-90f3-d1e5b62bb69f\",\"type\":\"LinearAxis\"},{\"attributes\":{},\"id\":\"d0daaca7-8aed-4681-8074-6d1f4952dd6c\",\"type\":\"BasicTicker\"},{\"attributes\":{\"dimension\":1,\"plot\":{\"id\":\"edf690bb-a27c-4c60-9983-1ffdb7d2f886\",\"subtype\":\"Figure\",\"type\":\"Plot\"},\"ticker\":{\"id\":\"d0daaca7-8aed-4681-8074-6d1f4952dd6c\",\"type\":\"BasicTicker\"}},\"id\":\"0936c57d-5dde-4044-a626-012a120ba24a\",\"type\":\"Grid\"},{\"attributes\":{},\"id\":\"2f6a1cd6-13cc-4062-aa54-d570a729a7d5\",\"type\":\"BasicTickFormatter\"},{\"attributes\":{\"fill_alpha\":{\"value\":0.1},\"fill_color\":{\"value\":\"#1f77b4\"},\"line_alpha\":{\"value\":0.1},\"line_color\":{\"value\":\"#1f77b4\"},\"x\":{\"field\":\"x\"},\"y\":{\"field\":\"y1\"}},\"id\":\"113db318-edec-491b-8730-35ac139f7ad5\",\"type\":\"Circle\"},{\"attributes\":{\"plot\":{\"id\":\"edf690bb-a27c-4c60-9983-1ffdb7d2f886\",\"subtype\":\"Figure\",\"type\":\"Plot\"}},\"id\":\"16a66b23-024f-4573-860d-97381b20b7e2\",\"type\":\"PanTool\"},{\"attributes\":{},\"id\":\"b0cb0839-dab3-4092-9c69-1e71125e43cd\",\"type\":\"BasicTickFormatter\"},{\"attributes\":{\"plot\":{\"id\":\"edf690bb-a27c-4c60-9983-1ffdb7d2f886\",\"subtype\":\"Figure\",\"type\":\"Plot\"}},\"id\":\"e0133b59-cb49-46cd-8896-47c185ce9924\",\"type\":\"WheelZoomTool\"},{\"attributes\":{\"callback\":null,\"overlay\":{\"id\":\"f652ee7f-2007-49b2-816f-c64654850c57\",\"type\":\"PolyAnnotation\"},\"plot\":{\"id\":\"edf690bb-a27c-4c60-9983-1ffdb7d2f886\",\"subtype\":\"Figure\",\"type\":\"Plot\"}},\"id\":\"a4cfabb5-e137-4f6c-bfb3-3372db217d68\",\"type\":\"LassoSelectTool\"},{\"attributes\":{\"below\":[{\"id\":\"7ee969c6-0bd4-4864-8462-94cdfd733f19\",\"type\":\"LinearAxis\"}],\"left\":[{\"id\":\"8d4805d6-d028-4c63-86e6-618a41795a4d\",\"type\":\"LinearAxis\"}],\"plot_height\":300,\"plot_width\":300,\"renderers\":[{\"id\":\"7ee969c6-0bd4-4864-8462-94cdfd733f19\",\"type\":\"LinearAxis\"},{\"id\":\"47891836-4b00-41f9-bc83-924aa0caa54a\",\"type\":\"Grid\"},{\"id\":\"8d4805d6-d028-4c63-86e6-618a41795a4d\",\"type\":\"LinearAxis\"},{\"id\":\"3001b9c8-a9f9-452f-a5f4-04131bf6738a\",\"type\":\"Grid\"},{\"id\":\"a7989e1e-543d-4430-8c8c-3efb1baac508\",\"type\":\"PolyAnnotation\"},{\"id\":\"9d253a03-75ae-4a6c-b0d2-e1615463433e\",\"type\":\"GlyphRenderer\"}],\"title\":{\"id\":\"aee68965-fc85-4471-b859-e73cd1bb147e\",\"type\":\"Title\"},\"tool_events\":{\"id\":\"6cc4f996-c60e-41cb-b3b7-7954c7d9bb12\",\"type\":\"ToolEvents\"},\"toolbar\":{\"id\":\"99e20845-f3d3-44b3-bbc6-699ccb659b1f\",\"type\":\"Toolbar\"},\"toolbar_location\":null,\"x_range\":{\"id\":\"3c3b5209-c11a-4728-93c9-ea72c2fb9b4e\",\"type\":\"DataRange1d\"},\"y_range\":{\"id\":\"b43f2ef2-ce06-4097-9529-bc944552a1fd\",\"type\":\"DataRange1d\"}},\"id\":\"1aa11da5-2f19-4b1b-8ba0-b9a7a09799bd\",\"subtype\":\"Figure\",\"type\":\"Plot\"},{\"attributes\":{\"data_source\":{\"id\":\"ae82161a-a0a0-477c-a7bf-5ecc730979d0\",\"type\":\"ColumnDataSource\"},\"glyph\":{\"id\":\"79c69654-6ba1-4cd9-a0bd-53f762f4acdd\",\"type\":\"Circle\"},\"hover_glyph\":null,\"nonselection_glyph\":{\"id\":\"f1437c54-9d1b-49cf-ad48-256850072563\",\"type\":\"Circle\"},\"selection_glyph\":null},\"id\":\"bf504247-7a46-4b17-a751-981069aa9d12\",\"type\":\"GlyphRenderer\"},{\"attributes\":{},\"id\":\"6cc4f996-c60e-41cb-b3b7-7954c7d9bb12\",\"type\":\"ToolEvents\"},{\"attributes\":{\"formatter\":{\"id\":\"807b3708-b95c-4101-a90d-a225dd50d253\",\"type\":\"BasicTickFormatter\"},\"plot\":{\"id\":\"1aa11da5-2f19-4b1b-8ba0-b9a7a09799bd\",\"subtype\":\"Figure\",\"type\":\"Plot\"},\"ticker\":{\"id\":\"94bc0106-fd2e-4836-b285-2f239f5bb380\",\"type\":\"BasicTicker\"}},\"id\":\"7ee969c6-0bd4-4864-8462-94cdfd733f19\",\"type\":\"LinearAxis\"},{\"attributes\":{\"plot\":{\"id\":\"1aa11da5-2f19-4b1b-8ba0-b9a7a09799bd\",\"subtype\":\"Figure\",\"type\":\"Plot\"},\"ticker\":{\"id\":\"94bc0106-fd2e-4836-b285-2f239f5bb380\",\"type\":\"BasicTicker\"}},\"id\":\"47891836-4b00-41f9-bc83-924aa0caa54a\",\"type\":\"Grid\"},{\"attributes\":{},\"id\":\"94bc0106-fd2e-4836-b285-2f239f5bb380\",\"type\":\"BasicTicker\"},{\"attributes\":{\"formatter\":{\"id\":\"d8f30338-715f-49ab-afc6-75b90068d5ef\",\"type\":\"BasicTickFormatter\"},\"plot\":{\"id\":\"1aa11da5-2f19-4b1b-8ba0-b9a7a09799bd\",\"subtype\":\"Figure\",\"type\":\"Plot\"},\"ticker\":{\"id\":\"396e841e-4c87-4ec1-b159-c90b5b5922b3\",\"type\":\"BasicTicker\"}},\"id\":\"8d4805d6-d028-4c63-86e6-618a41795a4d\",\"type\":\"LinearAxis\"},{\"attributes\":{},\"id\":\"396e841e-4c87-4ec1-b159-c90b5b5922b3\",\"type\":\"BasicTicker\"},{\"attributes\":{\"dimension\":1,\"plot\":{\"id\":\"1aa11da5-2f19-4b1b-8ba0-b9a7a09799bd\",\"subtype\":\"Figure\",\"type\":\"Plot\"},\"ticker\":{\"id\":\"396e841e-4c87-4ec1-b159-c90b5b5922b3\",\"type\":\"BasicTicker\"}},\"id\":\"3001b9c8-a9f9-452f-a5f4-04131bf6738a\",\"type\":\"Grid\"},{\"attributes\":{\"children\":[{\"id\":\"edf690bb-a27c-4c60-9983-1ffdb7d2f886\",\"subtype\":\"Figure\",\"type\":\"Plot\"},{\"id\":\"1aa11da5-2f19-4b1b-8ba0-b9a7a09799bd\",\"subtype\":\"Figure\",\"type\":\"Plot\"}]},\"id\":\"d2d14293-8114-4a2e-a1c7-416b404c5837\",\"type\":\"Row\"},{\"attributes\":{\"plot\":{\"id\":\"1aa11da5-2f19-4b1b-8ba0-b9a7a09799bd\",\"subtype\":\"Figure\",\"type\":\"Plot\"}},\"id\":\"955e29e5-0f92-438f-91ed-19e93df4606d\",\"type\":\"PanTool\"},{\"attributes\":{},\"id\":\"d8f30338-715f-49ab-afc6-75b90068d5ef\",\"type\":\"BasicTickFormatter\"},{\"attributes\":{\"plot\":{\"id\":\"1aa11da5-2f19-4b1b-8ba0-b9a7a09799bd\",\"subtype\":\"Figure\",\"type\":\"Plot\"}},\"id\":\"ce04f126-8f3a-43b8-8691-504ec78a6993\",\"type\":\"WheelZoomTool\"},{\"attributes\":{\"callback\":null,\"overlay\":{\"id\":\"a7989e1e-543d-4430-8c8c-3efb1baac508\",\"type\":\"PolyAnnotation\"},\"plot\":{\"id\":\"1aa11da5-2f19-4b1b-8ba0-b9a7a09799bd\",\"subtype\":\"Figure\",\"type\":\"Plot\"}},\"id\":\"269502d0-39a8-4818-8c37-49d8bf8fce85\",\"type\":\"LassoSelectTool\"},{\"attributes\":{\"children\":[{\"id\":\"d2d14293-8114-4a2e-a1c7-416b404c5837\",\"type\":\"Row\"}]},\"id\":\"586c997e-d839-470b-93b7-1478c61f7e9a\",\"type\":\"Column\"},{\"attributes\":{\"data_source\":{\"id\":\"ae82161a-a0a0-477c-a7bf-5ecc730979d0\",\"type\":\"ColumnDataSource\"},\"glyph\":{\"id\":\"614b8b20-7806-4e18-b572-031ac5698bde\",\"type\":\"Circle\"},\"hover_glyph\":null,\"nonselection_glyph\":{\"id\":\"113db318-edec-491b-8730-35ac139f7ad5\",\"type\":\"Circle\"},\"selection_glyph\":null},\"id\":\"9d253a03-75ae-4a6c-b0d2-e1615463433e\",\"type\":\"GlyphRenderer\"},{\"attributes\":{},\"id\":\"807b3708-b95c-4101-a90d-a225dd50d253\",\"type\":\"BasicTickFormatter\"}],\"root_ids\":[\"ad62545c-4ca0-43b8-adc6-047ed3f43618\"]},\"title\":\"Bokeh Application\",\"version\":\"0.12.4\"}};\n",
       "            var render_items = [{\"docid\":\"9cb4fb8f-07fa-4caa-a5d5-f2c5cf8d4e92\",\"elementid\":\"ea0d2629-f394-4b1b-9b18-25fa43408555\",\"modelid\":\"ad62545c-4ca0-43b8-adc6-047ed3f43618\"}];\n",
       "            \n",
       "            Bokeh.embed.embed_items(docs_json, render_items);\n",
       "          };\n",
       "          if (document.readyState != \"loading\") fn();\n",
       "          else document.addEventListener(\"DOMContentLoaded\", fn);\n",
       "        })();\n",
       "      },\n",
       "      function(Bokeh) {\n",
       "      }\n",
       "    ];\n",
       "  \n",
       "    function run_inline_js() {\n",
       "      \n",
       "      if ((window.Bokeh !== undefined) || (force === true)) {\n",
       "        for (var i = 0; i < inline_js.length; i++) {\n",
       "          inline_js[i](window.Bokeh);\n",
       "        }if (force === true) {\n",
       "          display_loaded();\n",
       "        }} else if (Date.now() < window._bokeh_timeout) {\n",
       "        setTimeout(run_inline_js, 100);\n",
       "      } else if (!window._bokeh_failed_load) {\n",
       "        console.log(\"Bokeh: BokehJS failed to load within specified timeout.\");\n",
       "        window._bokeh_failed_load = true;\n",
       "      } else if (force !== true) {\n",
       "        var cell = $(document.getElementById(\"ea0d2629-f394-4b1b-9b18-25fa43408555\")).parents('.cell').data().cell;\n",
       "        cell.output_area.append_execute_result(NB_LOAD_WARNING)\n",
       "      }\n",
       "  \n",
       "    }\n",
       "  \n",
       "    if (window._bokeh_is_loading === 0) {\n",
       "      console.log(\"Bokeh: BokehJS loaded, going straight to plotting\");\n",
       "      run_inline_js();\n",
       "    } else {\n",
       "      load_libs(js_urls, function() {\n",
       "        console.log(\"Bokeh: BokehJS plotting callback run at\", now());\n",
       "        run_inline_js();\n",
       "      });\n",
       "    }\n",
       "  }(this));\n",
       "</script>"
      ]
     },
     "metadata": {},
     "output_type": "display_data"
    }
   ],
   "source": [
    "from bokeh.layouts import gridplot\n",
    "from bokeh.models import ColumnDataSource\n",
    "from bokeh.plotting import figure\n",
    "\n",
    "x = list(range(-20, 21))\n",
    "y0 = [abs(xx) for xx in x]\n",
    "y1 = [xx**2 for xx in x]\n",
    "\n",
    "# create a column data source for the plots to share\n",
    "source = ColumnDataSource(data=dict(x=x, y0=y0, y1=y1))\n",
    "\n",
    "TOOLS = \"pan,wheel_zoom,lasso_select\"\n",
    "\n",
    "# create a new plot and add a renderer\n",
    "left = figure(tools=TOOLS, width=300, height=300, title=\"|x|\")\n",
    "left.circle('x', 'y0', source=source)\n",
    "\n",
    "# create another new plot and add a renderer\n",
    "right = figure(tools=TOOLS, width=300, height=300, x_range=left.x_range, title=\"x^2\")\n",
    "right.circle('x', 'y1', source=source)\n",
    "\n",
    "p = gridplot([[left, right]])\n",
    "\n",
    "show(p)"
   ]
  },
  {
   "cell_type": "markdown",
   "metadata": {
    "nbpresent": {
     "id": "bbb5ce9f-7029-4394-8352-0bb5394c808d"
    }
   },
   "source": [
    "## Widget\n",
    "IPython widgets provide user interface components such as sliders and buttons styled to make your plots interactive."
   ]
  },
  {
   "cell_type": "code",
   "execution_count": null,
   "metadata": {
    "collapsed": false,
    "nbpresent": {
     "id": "7c2d00d9-80d3-432f-9daf-6481feaf0299"
    }
   },
   "outputs": [],
   "source": [
    "import numpy as np\n",
    "from bokeh.plotting import figure\n",
    "from bokeh.io import push_notebook, show\n",
    "\n",
    "x = np.linspace(0, 2*np.pi, 2000)\n",
    "y = np.sin(x)\n",
    "p = figure(title=\"simple line example\", plot_height=300, plot_width=600, y_range=(-5,5))\n",
    "r = p.line(x, y, color=\"#2222aa\", line_width=3)\n",
    "widget_plot_target = show(p, notebook_handle=True)\n",
    "\n",
    "def update(f, w=1, A=1, phi=0):\n",
    "    if   f == \"sin\": func = np.sin\n",
    "    elif f == \"cos\": func = np.cos\n",
    "    elif f == \"tan\": func = np.tan\n",
    "    r.data_source.data['y'] = A * func(w * x + phi)\n",
    "    push_notebook(handle=widget_plot_target)"
   ]
  },
  {
   "cell_type": "code",
   "execution_count": null,
   "metadata": {
    "collapsed": false
   },
   "outputs": [],
   "source": [
    "from ipywidgets import interact\n",
    "\n",
    "interact(update, f=[\"sin\", \"cos\", \"tan\"], w=(0,100), A=(1,5), phi=(0, 20, 0.1))"
   ]
  },
  {
   "cell_type": "markdown",
   "metadata": {},
   "source": [
    "## Server\n",
    "The Bokeh Server can be used to support long running processes such as animations. Bokeh server is started on the commandline with \n",
    "```\n",
    "bokeh serve\n",
    "```\n",
    "Bokeh server can also be started within the jupyter notebook but may affect system performance if a notebook using animations is restarted many times."
   ]
  },
  {
   "cell_type": "code",
   "execution_count": null,
   "metadata": {
    "collapsed": false,
    "nbpresent": {
     "id": "ed83d33a-1cfb-4040-aca0-00247ea0f1a4"
    }
   },
   "outputs": [
    {
     "data": {
      "text/html": [
       "\n",
       "\n",
       "    <div class=\"bk-root\">\n",
       "        <div class=\"bk-plotdiv\" id=\"8817c8a0-47be-4a9a-a271-3ca66121c31c\"></div>\n",
       "    </div>\n",
       "<script type=\"text/javascript\">\n",
       "  \n",
       "  (function(global) {\n",
       "    function now() {\n",
       "      return new Date();\n",
       "    }\n",
       "  \n",
       "    var force = false;\n",
       "  \n",
       "    if (typeof (window._bokeh_onload_callbacks) === \"undefined\" || force === true) {\n",
       "      window._bokeh_onload_callbacks = [];\n",
       "      window._bokeh_is_loading = undefined;\n",
       "    }\n",
       "  \n",
       "  \n",
       "    \n",
       "    if (typeof (window._bokeh_timeout) === \"undefined\" || force === true) {\n",
       "      window._bokeh_timeout = Date.now() + 0;\n",
       "      window._bokeh_failed_load = false;\n",
       "    }\n",
       "  \n",
       "    var NB_LOAD_WARNING = {'data': {'text/html':\n",
       "       \"<div style='background-color: #fdd'>\\n\"+\n",
       "       \"<p>\\n\"+\n",
       "       \"BokehJS does not appear to have successfully loaded. If loading BokehJS from CDN, this \\n\"+\n",
       "       \"may be due to a slow or bad network connection. Possible fixes:\\n\"+\n",
       "       \"</p>\\n\"+\n",
       "       \"<ul>\\n\"+\n",
       "       \"<li>re-rerun `output_notebook()` to attempt to load from CDN again, or</li>\\n\"+\n",
       "       \"<li>use INLINE resources instead, as so:</li>\\n\"+\n",
       "       \"</ul>\\n\"+\n",
       "       \"<code>\\n\"+\n",
       "       \"from bokeh.resources import INLINE\\n\"+\n",
       "       \"output_notebook(resources=INLINE)\\n\"+\n",
       "       \"</code>\\n\"+\n",
       "       \"</div>\"}};\n",
       "  \n",
       "    function display_loaded() {\n",
       "      if (window.Bokeh !== undefined) {\n",
       "        document.getElementById(\"8817c8a0-47be-4a9a-a271-3ca66121c31c\").textContent = \"BokehJS successfully loaded.\";\n",
       "      } else if (Date.now() < window._bokeh_timeout) {\n",
       "        setTimeout(display_loaded, 100)\n",
       "      }\n",
       "    }if ((window.Jupyter !== undefined) && Jupyter.notebook.kernel) {\n",
       "      comm_manager = Jupyter.notebook.kernel.comm_manager\n",
       "      comm_manager.register_target(\"42ce3626-2771-4756-8b69-ea847954da7a\", function () {});\n",
       "    }\n",
       "  \n",
       "    function run_callbacks() {\n",
       "      window._bokeh_onload_callbacks.forEach(function(callback) { callback() });\n",
       "      delete window._bokeh_onload_callbacks\n",
       "      console.info(\"Bokeh: all callbacks have finished\");\n",
       "    }\n",
       "  \n",
       "    function load_libs(js_urls, callback) {\n",
       "      window._bokeh_onload_callbacks.push(callback);\n",
       "      if (window._bokeh_is_loading > 0) {\n",
       "        console.log(\"Bokeh: BokehJS is being loaded, scheduling callback at\", now());\n",
       "        return null;\n",
       "      }\n",
       "      if (js_urls == null || js_urls.length === 0) {\n",
       "        run_callbacks();\n",
       "        return null;\n",
       "      }\n",
       "      console.log(\"Bokeh: BokehJS not loaded, scheduling load and callback at\", now());\n",
       "      window._bokeh_is_loading = js_urls.length;\n",
       "      for (var i = 0; i < js_urls.length; i++) {\n",
       "        var url = js_urls[i];\n",
       "        var s = document.createElement('script');\n",
       "        s.src = url;\n",
       "        s.async = false;\n",
       "        s.onreadystatechange = s.onload = function() {\n",
       "          window._bokeh_is_loading--;\n",
       "          if (window._bokeh_is_loading === 0) {\n",
       "            console.log(\"Bokeh: all BokehJS libraries loaded\");\n",
       "            run_callbacks()\n",
       "          }\n",
       "        };\n",
       "        s.onerror = function() {\n",
       "          console.warn(\"failed to load library \" + url);\n",
       "        };\n",
       "        console.log(\"Bokeh: injecting script tag for BokehJS library: \", url);\n",
       "        document.getElementsByTagName(\"head\")[0].appendChild(s);\n",
       "      }\n",
       "    };var element = document.getElementById(\"8817c8a0-47be-4a9a-a271-3ca66121c31c\");\n",
       "    if (element == null) {\n",
       "      console.log(\"Bokeh: ERROR: autoload.js configured with elementid '8817c8a0-47be-4a9a-a271-3ca66121c31c' but no matching script tag was found. \")\n",
       "      return false;\n",
       "    }\n",
       "  \n",
       "    var js_urls = [];\n",
       "  \n",
       "    var inline_js = [\n",
       "      function(Bokeh) {\n",
       "        (function() {\n",
       "          var fn = function() {\n",
       "            var docs_json = {\"18517925-a1ef-41bb-bf2b-12dfa6ea9ef2\":{\"roots\":{\"references\":[{\"attributes\":{\"bottom_units\":\"screen\",\"fill_alpha\":{\"value\":0.5},\"fill_color\":{\"value\":\"lightgrey\"},\"left_units\":\"screen\",\"level\":\"overlay\",\"line_alpha\":{\"value\":1.0},\"line_color\":{\"value\":\"black\"},\"line_dash\":[4,4],\"line_width\":{\"value\":2},\"plot\":null,\"render_mode\":\"css\",\"right_units\":\"screen\",\"top_units\":\"screen\"},\"id\":\"0963c4ef-db4e-4bf3-a38d-a75908486b1c\",\"type\":\"BoxAnnotation\"},{\"attributes\":{\"plot\":{\"id\":\"cff13069-6360-4c33-93f9-fbaaf019bba0\",\"subtype\":\"Figure\",\"type\":\"Plot\"}},\"id\":\"05394e73-5afe-46ee-97b0-dfd83747d4de\",\"type\":\"ResetTool\"},{\"attributes\":{\"plot\":{\"id\":\"cff13069-6360-4c33-93f9-fbaaf019bba0\",\"subtype\":\"Figure\",\"type\":\"Plot\"}},\"id\":\"df601c52-eab6-477f-9573-83fc9743ed71\",\"type\":\"HelpTool\"},{\"attributes\":{},\"id\":\"4b69bedb-5234-40a4-ae30-b06f99d0d476\",\"type\":\"ToolEvents\"},{\"attributes\":{\"end_angle\":{\"field\":\"end_angle\",\"units\":\"rad\"},\"fill_color\":{\"field\":\"fill_color\"},\"inner_radius\":{\"field\":\"inner_radius\",\"units\":\"data\"},\"line_color\":{\"value\":\"white\"},\"outer_radius\":{\"field\":\"outer_radius\",\"units\":\"data\"},\"start_angle\":{\"field\":\"start_angle\",\"units\":\"rad\"},\"x\":{\"value\":0},\"y\":{\"value\":0}},\"id\":\"0b6c3014-10f3-445c-9f2b-3f64f3c4a442\",\"type\":\"AnnularWedge\"},{\"attributes\":{\"formatter\":{\"id\":\"482e1f2b-38c4-48b3-a23f-2b445220df3b\",\"type\":\"BasicTickFormatter\"},\"plot\":{\"id\":\"cff13069-6360-4c33-93f9-fbaaf019bba0\",\"subtype\":\"Figure\",\"type\":\"Plot\"},\"ticker\":{\"id\":\"33902bca-09f9-43a4-9120-d4cad95dfe78\",\"type\":\"BasicTicker\"}},\"id\":\"4a254276-dc1e-4395-a439-4827a8c4d6b9\",\"type\":\"LinearAxis\"},{\"attributes\":{\"callback\":null,\"end\":11,\"start\":-11},\"id\":\"0a22a7de-194b-4d0a-aa1d-60028d576835\",\"type\":\"Range1d\"},{\"attributes\":{\"data_source\":{\"id\":\"955b555b-94d6-44c5-82e9-42cab48f2804\",\"type\":\"ColumnDataSource\"},\"glyph\":{\"id\":\"0b6c3014-10f3-445c-9f2b-3f64f3c4a442\",\"type\":\"AnnularWedge\"},\"hover_glyph\":null,\"nonselection_glyph\":{\"id\":\"297918b9-aa60-4be3-8e7c-9377f11280f3\",\"type\":\"AnnularWedge\"},\"selection_glyph\":null},\"id\":\"d9a0feb3-7d17-4b47-9a8d-a0d56d4edcf8\",\"type\":\"GlyphRenderer\"},{\"attributes\":{\"callback\":null,\"end\":11,\"start\":-11},\"id\":\"a8b08f60-a7ac-4885-a0bb-97da43fb798e\",\"type\":\"Range1d\"},{\"attributes\":{},\"id\":\"33902bca-09f9-43a4-9120-d4cad95dfe78\",\"type\":\"BasicTicker\"},{\"attributes\":{\"plot\":{\"id\":\"cff13069-6360-4c33-93f9-fbaaf019bba0\",\"subtype\":\"Figure\",\"type\":\"Plot\"},\"ticker\":{\"id\":\"33902bca-09f9-43a4-9120-d4cad95dfe78\",\"type\":\"BasicTicker\"}},\"id\":\"43036939-7005-4b46-8dd3-bd7853ba66e4\",\"type\":\"Grid\"},{\"attributes\":{\"formatter\":{\"id\":\"ce8d8f6e-80d5-45cf-ae08-9055cd6f9b03\",\"type\":\"BasicTickFormatter\"},\"plot\":{\"id\":\"cff13069-6360-4c33-93f9-fbaaf019bba0\",\"subtype\":\"Figure\",\"type\":\"Plot\"},\"ticker\":{\"id\":\"e1f6d9bb-39f9-4d36-900d-1a2808914823\",\"type\":\"BasicTicker\"}},\"id\":\"65369fed-eee4-4cc2-bade-c9bd0288844f\",\"type\":\"LinearAxis\"},{\"attributes\":{},\"id\":\"e1f6d9bb-39f9-4d36-900d-1a2808914823\",\"type\":\"BasicTicker\"},{\"attributes\":{\"dimension\":1,\"plot\":{\"id\":\"cff13069-6360-4c33-93f9-fbaaf019bba0\",\"subtype\":\"Figure\",\"type\":\"Plot\"},\"ticker\":{\"id\":\"e1f6d9bb-39f9-4d36-900d-1a2808914823\",\"type\":\"BasicTicker\"}},\"id\":\"e8d17d2c-6591-4c90-9138-5fa34ac87801\",\"type\":\"Grid\"},{\"attributes\":{\"plot\":null,\"text\":\"\"},\"id\":\"ce52a5c0-32b9-4a0f-8cbf-fcc7b13b4a29\",\"type\":\"Title\"},{\"attributes\":{\"below\":[{\"id\":\"4a254276-dc1e-4395-a439-4827a8c4d6b9\",\"type\":\"LinearAxis\"}],\"left\":[{\"id\":\"65369fed-eee4-4cc2-bade-c9bd0288844f\",\"type\":\"LinearAxis\"}],\"renderers\":[{\"id\":\"4a254276-dc1e-4395-a439-4827a8c4d6b9\",\"type\":\"LinearAxis\"},{\"id\":\"43036939-7005-4b46-8dd3-bd7853ba66e4\",\"type\":\"Grid\"},{\"id\":\"65369fed-eee4-4cc2-bade-c9bd0288844f\",\"type\":\"LinearAxis\"},{\"id\":\"e8d17d2c-6591-4c90-9138-5fa34ac87801\",\"type\":\"Grid\"},{\"id\":\"0963c4ef-db4e-4bf3-a38d-a75908486b1c\",\"type\":\"BoxAnnotation\"},{\"id\":\"d9a0feb3-7d17-4b47-9a8d-a0d56d4edcf8\",\"type\":\"GlyphRenderer\"}],\"title\":{\"id\":\"ce52a5c0-32b9-4a0f-8cbf-fcc7b13b4a29\",\"type\":\"Title\"},\"tool_events\":{\"id\":\"4b69bedb-5234-40a4-ae30-b06f99d0d476\",\"type\":\"ToolEvents\"},\"toolbar\":{\"id\":\"253ee4ed-ca36-470e-bb60-d94dd2ee11b2\",\"type\":\"Toolbar\"},\"x_range\":{\"id\":\"0a22a7de-194b-4d0a-aa1d-60028d576835\",\"type\":\"Range1d\"},\"y_range\":{\"id\":\"a8b08f60-a7ac-4885-a0bb-97da43fb798e\",\"type\":\"Range1d\"}},\"id\":\"cff13069-6360-4c33-93f9-fbaaf019bba0\",\"subtype\":\"Figure\",\"type\":\"Plot\"},{\"attributes\":{\"end_angle\":{\"field\":\"end_angle\",\"units\":\"rad\"},\"fill_alpha\":{\"value\":0.1},\"fill_color\":{\"value\":\"#1f77b4\"},\"inner_radius\":{\"field\":\"inner_radius\",\"units\":\"data\"},\"line_alpha\":{\"value\":0.1},\"line_color\":{\"value\":\"#1f77b4\"},\"outer_radius\":{\"field\":\"outer_radius\",\"units\":\"data\"},\"start_angle\":{\"field\":\"start_angle\",\"units\":\"rad\"},\"x\":{\"value\":0},\"y\":{\"value\":0}},\"id\":\"297918b9-aa60-4be3-8e7c-9377f11280f3\",\"type\":\"AnnularWedge\"},{\"attributes\":{},\"id\":\"ce8d8f6e-80d5-45cf-ae08-9055cd6f9b03\",\"type\":\"BasicTickFormatter\"},{\"attributes\":{\"callback\":null,\"column_names\":[\"inner_radius\",\"outer_radius\",\"start_angle\",\"end_angle\",\"fill_color\"],\"data\":{\"end_angle\":{\"__ndarray__\":\"GicXkr8VwD8aJxeSvxXQP6e6IlufINg/GicXkr8V4D/g8Jx2LxvkP6e6IlufIOg/boSoPw8m7D8aJxeSvxXwP/0LWoR3GPI/4PCcdi8b9D/E1d9o5x32P6e6IlufIPg/ip9lTVcj+j9uhKg/Dyb8P1Fp6zHHKP4/GicXkr8VAECMmTiLGxcBQP0LWoR3GAJAb357fdMZA0Dg8Jx2LxsEQFJjvm+LHAVAxNXfaOcdBkA1SAFiQx8HQKe6IlufIAhAGS1EVPshCUCKn2VNVyMKQPwRh0azJAtAboSoPw8mDEDf9sk4aycNQFFp6zHHKA5AwtsMKyMqD0AaJxeSvxUQQFPgp45tlhBAjJk4ixsXEUDEUsmHyZcRQP0LWoR3GBJANsXqgCWZEkBvfnt90xkTQKg3DHqBmhNA4PCcdi8bFEAZqi1z3ZsUQFJjvm+LHBVAixxPbDmdFUDE1d9o5x0WQP2OcGWVnhZANUgBYkMfF0BuAZJe8Z8XQKe6IlufIBhA4HOzV02hGEAYLURU+yEZQA==\",\"dtype\":\"float64\",\"shape\":[50]},\"fill_color\":[\"FFFFCC\",\"#C7E9B4\",\"#7FCDBB\",\"#41B6C4\",\"#2C7FB8\",\"#253494\",\"#2C7FB8\",\"#41B6C4\",\"#7FCDBB\",\"#C7E9B4\",\"FFFFCC\",\"#C7E9B4\",\"#7FCDBB\",\"#41B6C4\",\"#2C7FB8\",\"#253494\",\"#2C7FB8\",\"#41B6C4\",\"#7FCDBB\",\"#C7E9B4\",\"FFFFCC\",\"#C7E9B4\",\"#7FCDBB\",\"#41B6C4\",\"#2C7FB8\",\"#253494\",\"#2C7FB8\",\"#41B6C4\",\"#7FCDBB\",\"#C7E9B4\",\"FFFFCC\",\"#C7E9B4\",\"#7FCDBB\",\"#41B6C4\",\"#2C7FB8\",\"#253494\",\"#2C7FB8\",\"#41B6C4\",\"#7FCDBB\",\"#C7E9B4\",\"FFFFCC\",\"#C7E9B4\",\"#7FCDBB\",\"#41B6C4\",\"#2C7FB8\",\"#253494\",\"#2C7FB8\",\"#41B6C4\",\"#7FCDBB\",\"#C7E9B4\"],\"inner_radius\":{\"__ndarray__\":\"AAAAAAAAGEB/VmRV1koYQN3oKAdpIBlAi0uteYBhGkCaLQrfLd8bQOCud2CnYR1A5vkCpW+wHkCOazmVl5ofQO45pGXl/R9AePcNRdXLH0Ced0N9uAsfQLjtNqOj2R1A7r4v3FNiHECMcOLMpNwaQEaCruOLgRlAeJaVB8WDGEDihNgyaAgYQGCilnR9IRhAaQg+OlrLGECmd6J/Ku0ZQOGLWdiRXBtALBIYh9zjHEDI4iLz2EkeQFK1psQzWh9AvHb51x3tH0C+dvnXHe0fQFS1psQzWh9AyOIi89hJHkAsEhiH3OMcQOSLWdiRXBtAqXeifyrtGUBrCD46WssYQGCilnR9IRhA4oTYMmgIGEB4lpUHxYMYQEWCruOLgRlAinDizKTcGkDsvi/cU2IcQLbtNqOj2R1AnHdDfbgLH0B49w1F1csfQO45pGXl/R9Ajms5lZeaH0Do+QKlb7AeQOCud2CnYR1AnC0K3y3fG0COS615gGEaQN7oKAdpIBlAgFZkVdZKGEAAAAAAAAAYQA==\",\"dtype\":\"float64\",\"shape\":[50]},\"outer_radius\":{\"__ndarray__\":\"AAAAAAAAIkAXczL/IsAiQMx61oAwZCNAE84t5C3UI0D9xEaovP8jQJ0Q2u5+4CNAE8a2twV7I0BejWsCJt4iQOzt1s/NICJAgsa5IqpeIUAFoWNoG7QgQIDx3KcPOiBA/oU9q10CIEBG9rZ8KRUgQBuir8izbyBAyiNFq8AEIUDKUXnihr4hQF++fAPfgSJAurQfizsyI0C/CbFF1bUjQKzxBeRv+SNAl45VwCnzI0A5KSWe7aMjQEMNv1lQFyNAwD01i99hIkBBwsp0IJ4hQL7yQKav6CBAyNbaYRJcIEBqcao/1gwgQFQO+huQBiBAQPZOuipKIEBFS+B0xM0gQKBBg/wgfiFANq6GHXlBIkA13LpUP/siQORdUDdMkCNAuQlJg9bqI0ACesJUov0jQIAOI1jwxSNA/F6cl+RLI0B+OUbdVaEiQBUSKTAy3yFAonKU/dkhIUDuOUlI+oQgQGPvJRGBHyBABDu5V0MAIEDsMdIb0isgQDSFKX/PmyBA6IzNAN0/IUAAAAAAAAAiQA==\",\"dtype\":\"float64\",\"shape\":[50]},\"start_angle\":{\"__ndarray__\":\"AAAAAAAAAAAaJxeSvxXAPxonF5K/FdA/p7oiW58g2D8aJxeSvxXgP+DwnHYvG+Q/p7oiW58g6D9uhKg/DybsPxonF5K/FfA//QtahHcY8j/g8Jx2Lxv0P8TV32jnHfY/p7oiW58g+D+Kn2VNVyP6P26EqD8PJvw/UWnrMcco/j8aJxeSvxUAQIyZOIsbFwFA/QtahHcYAkBvfnt90xkDQODwnHYvGwRAUmO+b4scBUDE1d9o5x0GQDVIAWJDHwdAp7oiW58gCEAZLURU+yEJQIqfZU1XIwpA/BGHRrMkC0BuhKg/DyYMQN/2yThrJw1AUWnrMccoDkDC2wwrIyoPQBonF5K/FRBAU+Cnjm2WEECMmTiLGxcRQMRSyYfJlxFA/QtahHcYEkA2xeqAJZkSQG9+e33TGRNAqDcMeoGaE0Dg8Jx2LxsUQBmqLXPdmxRAUmO+b4scFUCLHE9sOZ0VQMTV32jnHRZA/Y5wZZWeFkA1SAFiQx8XQG4Bkl7xnxdAp7oiW58gGEDgc7NXTaEYQA==\",\"dtype\":\"float64\",\"shape\":[50]}}},\"id\":\"955b555b-94d6-44c5-82e9-42cab48f2804\",\"type\":\"ColumnDataSource\"},{\"attributes\":{},\"id\":\"482e1f2b-38c4-48b3-a23f-2b445220df3b\",\"type\":\"BasicTickFormatter\"},{\"attributes\":{\"active_drag\":\"auto\",\"active_scroll\":\"auto\",\"active_tap\":\"auto\",\"tools\":[{\"id\":\"b38353fc-1e9a-41bd-8f9f-7a5fc4c28aa3\",\"type\":\"PanTool\"},{\"id\":\"225bcd03-8472-4ea3-8d6a-47cbf5c726e7\",\"type\":\"WheelZoomTool\"},{\"id\":\"5b8473b1-0269-4768-8785-3ba0c4a7e389\",\"type\":\"BoxZoomTool\"},{\"id\":\"66b381d6-535f-45d0-acf7-871f7b639644\",\"type\":\"SaveTool\"},{\"id\":\"05394e73-5afe-46ee-97b0-dfd83747d4de\",\"type\":\"ResetTool\"},{\"id\":\"df601c52-eab6-477f-9573-83fc9743ed71\",\"type\":\"HelpTool\"}]},\"id\":\"253ee4ed-ca36-470e-bb60-d94dd2ee11b2\",\"type\":\"Toolbar\"},{\"attributes\":{\"plot\":{\"id\":\"cff13069-6360-4c33-93f9-fbaaf019bba0\",\"subtype\":\"Figure\",\"type\":\"Plot\"}},\"id\":\"b38353fc-1e9a-41bd-8f9f-7a5fc4c28aa3\",\"type\":\"PanTool\"},{\"attributes\":{\"plot\":{\"id\":\"cff13069-6360-4c33-93f9-fbaaf019bba0\",\"subtype\":\"Figure\",\"type\":\"Plot\"}},\"id\":\"66b381d6-535f-45d0-acf7-871f7b639644\",\"type\":\"SaveTool\"},{\"attributes\":{\"plot\":{\"id\":\"cff13069-6360-4c33-93f9-fbaaf019bba0\",\"subtype\":\"Figure\",\"type\":\"Plot\"}},\"id\":\"225bcd03-8472-4ea3-8d6a-47cbf5c726e7\",\"type\":\"WheelZoomTool\"},{\"attributes\":{\"overlay\":{\"id\":\"0963c4ef-db4e-4bf3-a38d-a75908486b1c\",\"type\":\"BoxAnnotation\"},\"plot\":{\"id\":\"cff13069-6360-4c33-93f9-fbaaf019bba0\",\"subtype\":\"Figure\",\"type\":\"Plot\"}},\"id\":\"5b8473b1-0269-4768-8785-3ba0c4a7e389\",\"type\":\"BoxZoomTool\"}],\"root_ids\":[\"cff13069-6360-4c33-93f9-fbaaf019bba0\"]},\"title\":\"Bokeh Application\",\"version\":\"0.12.4\"}};\n",
       "            var render_items = [{\"docid\":\"18517925-a1ef-41bb-bf2b-12dfa6ea9ef2\",\"elementid\":\"8817c8a0-47be-4a9a-a271-3ca66121c31c\",\"modelid\":\"cff13069-6360-4c33-93f9-fbaaf019bba0\",\"notebook_comms_target\":\"42ce3626-2771-4756-8b69-ea847954da7a\"}];\n",
       "            \n",
       "            Bokeh.embed.embed_items(docs_json, render_items);\n",
       "          };\n",
       "          if (document.readyState != \"loading\") fn();\n",
       "          else document.addEventListener(\"DOMContentLoaded\", fn);\n",
       "        })();\n",
       "      },\n",
       "      function(Bokeh) {\n",
       "      }\n",
       "    ];\n",
       "  \n",
       "    function run_inline_js() {\n",
       "      \n",
       "      if ((window.Bokeh !== undefined) || (force === true)) {\n",
       "        for (var i = 0; i < inline_js.length; i++) {\n",
       "          inline_js[i](window.Bokeh);\n",
       "        }if (force === true) {\n",
       "          display_loaded();\n",
       "        }} else if (Date.now() < window._bokeh_timeout) {\n",
       "        setTimeout(run_inline_js, 100);\n",
       "      } else if (!window._bokeh_failed_load) {\n",
       "        console.log(\"Bokeh: BokehJS failed to load within specified timeout.\");\n",
       "        window._bokeh_failed_load = true;\n",
       "      } else if (force !== true) {\n",
       "        var cell = $(document.getElementById(\"8817c8a0-47be-4a9a-a271-3ca66121c31c\")).parents('.cell').data().cell;\n",
       "        cell.output_area.append_execute_result(NB_LOAD_WARNING)\n",
       "      }\n",
       "  \n",
       "    }\n",
       "  \n",
       "    if (window._bokeh_is_loading === 0) {\n",
       "      console.log(\"Bokeh: BokehJS loaded, going straight to plotting\");\n",
       "      run_inline_js();\n",
       "    } else {\n",
       "      load_libs(js_urls, function() {\n",
       "        console.log(\"Bokeh: BokehJS plotting callback run at\", now());\n",
       "        run_inline_js();\n",
       "      });\n",
       "    }\n",
       "  }(this));\n",
       "</script>"
      ]
     },
     "metadata": {},
     "output_type": "display_data"
    }
   ],
   "source": [
    "from numpy import pi, cos, sin, linspace, roll\n",
    "\n",
    "from bokeh.client import push_session\n",
    "from bokeh.io import curdoc, push_notebook\n",
    "from bokeh.plotting import figure\n",
    "\n",
    "M = 5\n",
    "N = M*10 + 1\n",
    "r_base = 8\n",
    "theta = linspace(0, 2*pi, N)\n",
    "r_x = linspace(0, 6*pi, N-1)\n",
    "rmin = r_base - cos(r_x) - 1\n",
    "rmax = r_base + sin(r_x) + 1\n",
    "\n",
    "colors = [\"FFFFCC\", \"#C7E9B4\", \"#7FCDBB\", \"#41B6C4\", \"#2C7FB8\", \"#253494\", \"#2C7FB8\", \"#41B6C4\", \"#7FCDBB\", \"#C7E9B4\"] * M\n",
    "\n",
    "# figure() function auto-adds the figure to curdoc()\n",
    "p = figure(x_range=(-11, 11), y_range=(-11, 11))\n",
    "r = p.annular_wedge(0, 0, rmin, rmax, theta[:-1], theta[1:],\n",
    "                    fill_color=colors, line_color=\"white\")\n",
    "\n",
    "ds = r.data_source\n",
    "\n",
    "roll_target = show(p, notebook_handle=True)"
   ]
  },
  {
   "cell_type": "code",
   "execution_count": null,
   "metadata": {
    "collapsed": false
   },
   "outputs": [],
   "source": [
    "def update_rolling_plot():\n",
    "    rmin = roll(ds.data[\"inner_radius\"], 1)\n",
    "    rmax = roll(ds.data[\"outer_radius\"], -1)\n",
    "    ds.data.update(inner_radius=rmin, outer_radius=rmax)\n",
    "    push_notebook(handle=roll_target)\n",
    "\n",
    "# open a session to keep our local document in sync with server\n",
    "session = push_session(curdoc())\n",
    "\n",
    "ds = r.data_source\n",
    "\n",
    "curdoc().add_periodic_callback(update_rolling_plot, 30)\n",
    "\n",
    "session.loop_until_closed() # run forever"
   ]
  },
  {
   "cell_type": "code",
   "execution_count": null,
   "metadata": {
    "collapsed": true
   },
   "outputs": [],
   "source": []
  },
  {
   "cell_type": "markdown",
   "metadata": {
    "nbpresent": {
     "id": "eaaadb06-e101-4fb4-b668-d7f8cba5059f"
    }
   },
   "source": [
    "## Custom Tools\n",
    "If you're building apps around bokeh, you might want to customize some of the tools. Here's an example of how to do that."
   ]
  },
  {
   "cell_type": "code",
   "execution_count": null,
   "metadata": {
    "collapsed": false,
    "nbpresent": {
     "id": "34a64d54-7fd9-4d0e-bd0b-179bcef0cc2f"
    }
   },
   "outputs": [],
   "source": [
    "from bokeh.core.properties import Instance\n",
    "from bokeh.io import show\n",
    "from bokeh.models import ColumnDataSource, Tool, CustomJS\n",
    "from bokeh.plotting import figure\n",
    "\n",
    "JS_CODE = \"\"\"\n",
    "import * as p from \"core/properties\"\n",
    "import {GestureTool, GestureToolView} from \"models/tools/gestures/gesture_tool\"\n",
    "\n",
    "export class DrawToolView extends GestureToolView\n",
    "\n",
    "  # this is executed when the pan/drag event starts\n",
    "  _pan_start: (e) ->\n",
    "    @model.source.data = {x: [], y: []}\n",
    "\n",
    "  # this is executed on subsequent mouse/touch moves\n",
    "  _pan: (e) ->\n",
    "    frame = @plot_model.frame\n",
    "    canvas = @plot_view.canvas\n",
    "\n",
    "    vx = canvas.sx_to_vx(e.bokeh.sx)\n",
    "    vy = canvas.sy_to_vy(e.bokeh.sy)\n",
    "    if not frame.contains(vx, vy)\n",
    "      return null\n",
    "\n",
    "    x = frame.x_mappers['default'].map_from_target(vx)\n",
    "    y = frame.y_mappers['default'].map_from_target(vy)\n",
    "\n",
    "    @model.source.data.x.push(x)\n",
    "    @model.source.data.y.push(y)\n",
    "    @model.source.trigger('change')\n",
    "\n",
    "  # this is executed then the pan/drag ends\n",
    "  _pan_end: (e) -> return null\n",
    "\n",
    "export class DrawTool extends GestureTool\n",
    "  default_view: DrawToolView\n",
    "  type: \"DrawTool\"\n",
    "\n",
    "  tool_name: \"Drag Span\"\n",
    "  icon: \"bk-tool-icon-lasso-select\"\n",
    "  event_type: \"pan\"\n",
    "  default_order: 12\n",
    "\n",
    "  @define { source: [ p.Instance ] }\n",
    "\"\"\"\n",
    "\n",
    "class DrawTool(Tool):\n",
    "    __implementation__ = JS_CODE\n",
    "    source = Instance(ColumnDataSource)\n",
    "\n",
    "source = ColumnDataSource(data=dict(x=[], y=[]))\n",
    "\n",
    "# plot = figure(x_range=(0,10), y_range=(0,10), tools=[DrawTool(source=source)])\n",
    "plot = Scatter(df, x='mpg', y='hp', color='cyl',\n",
    "                  title=\"Auto MPG\", xlabel=\"Miles Per Gallon\",\n",
    "                  ylabel=\"Horsepower\", tools=[DrawTool(source=source), \"save\"])\n",
    "# plot.title.text =\"Drag to draw on the plot\"\n",
    "plot.line('x', 'y', source=source)\n",
    "\n",
    "show(plot)"
   ]
  },
  {
   "cell_type": "markdown",
   "metadata": {
    "nbpresent": {
     "id": "d8680f0f-541d-4b7f-a548-e2a41af30769"
    }
   },
   "source": [
    "# Plotly\n",
    "[Plotly](https://plot.ly/)  is an enterprise application providing advanced graphing and data analysis within the browser. The python library and associated javascript is open source. By default the service uses the ```plot.ly``` account and servers  to host data but you can also run without a server or with a paid enterprise service on your corporate network."
   ]
  },
  {
   "cell_type": "markdown",
   "metadata": {},
   "source": [
    "## Basic Graph"
   ]
  },
  {
   "cell_type": "code",
   "execution_count": null,
   "metadata": {
    "collapsed": false,
    "scrolled": true
   },
   "outputs": [],
   "source": [
    "import plotly.plotly as py\n",
    "from plotly.graph_objs import *\n",
    "\n",
    "trace0 = Scatter(\n",
    "  x=[1, 2, 3, 4],\n",
    "  y=[10, 15, 13, 17]\n",
    ")\n",
    "trace1 = Scatter(\n",
    "  x=[1, 2, 3, 4],\n",
    "  y=[16, 5, 11, 9]\n",
    ")\n",
    "data = Data([trace0, trace1])\n",
    "\n",
    "py.iplot(data, filename = 'basic-line')"
   ]
  },
  {
   "cell_type": "code",
   "execution_count": null,
   "metadata": {
    "collapsed": false
   },
   "outputs": [],
   "source": [
    "import matplotlib.pyplot as plt\n",
    "import numpy as np\n",
    "import plotly.plotly as py\n",
    "\n",
    "n = 50\n",
    "x, y, z, s, ew = np.random.rand(5, n)\n",
    "c, ec = np.random.rand(2, n, 4)\n",
    "area_scale, width_scale = 500, 5\n",
    "\n",
    "fig, ax = plt.subplots()\n",
    "sc = ax.scatter(x, y, c=c,\n",
    "                s=np.square(s)*area_scale,\n",
    "                edgecolor=ec,\n",
    "                linewidth=ew*width_scale)\n",
    "ax.grid()\n",
    "\n",
    "py.iplot_mpl(fig)"
   ]
  },
  {
   "cell_type": "markdown",
   "metadata": {},
   "source": [
    "## Streaming Graph"
   ]
  },
  {
   "cell_type": "code",
   "execution_count": null,
   "metadata": {
    "collapsed": false
   },
   "outputs": [],
   "source": [
    "import plotly.tools as tls\n",
    "\n",
    "tls.embed(\"https://plot.ly/~streaming-demos/4\")"
   ]
  }
 ],
 "metadata": {
  "hide_input": false,
  "kernelspec": {
   "display_name": "vistalk",
   "language": "python",
   "name": "vistalk"
  },
  "language_info": {
   "codemirror_mode": {
    "name": "ipython",
    "version": 3
   },
   "file_extension": ".py",
   "mimetype": "text/x-python",
   "name": "python",
   "nbconvert_exporter": "python",
   "pygments_lexer": "ipython3",
   "version": "3.6.0"
  },
  "nbpresent": {
   "slides": {
    "1415e5c6-b76f-4e28-9ac6-73b8d5b067cc": {
     "id": "1415e5c6-b76f-4e28-9ac6-73b8d5b067cc",
     "prev": "6fa3f26f-f172-4fd8-a7dd-01242f2352e8",
     "regions": {
      "36f5f103-1a72-43c7-adf7-0e4b7c706a57": {
       "attrs": {
        "height": 0.8,
        "width": 0.8,
        "x": 0.1,
        "y": 0.1
       },
       "content": {
        "cell": "bbb5ce9f-7029-4394-8352-0bb5394c808d",
        "part": "whole"
       },
       "id": "36f5f103-1a72-43c7-adf7-0e4b7c706a57"
      }
     }
    },
    "1837b716-8c37-44a6-8d6b-7cf1a014fb4d": {
     "id": "1837b716-8c37-44a6-8d6b-7cf1a014fb4d",
     "prev": "89412bcd-7283-4e43-8718-c8d9cd1201cf",
     "regions": {
      "92154aee-bff7-4cbf-9a27-03717348d1e6": {
       "attrs": {
        "height": 0.8,
        "width": 0.8,
        "x": 0.1,
        "y": 0.1
       },
       "content": {
        "cell": "041bc5f8-b557-47db-a872-a4e759ca3d1e",
        "part": "whole"
       },
       "id": "92154aee-bff7-4cbf-9a27-03717348d1e6"
      }
     }
    },
    "1a9c8f38-41ed-4c5a-83c6-60941499e036": {
     "id": "1a9c8f38-41ed-4c5a-83c6-60941499e036",
     "prev": "e08b8880-6dcc-49dc-ad54-250e6a9ced96",
     "regions": {
      "f80fe663-4695-4018-8514-8dd0de96c954": {
       "attrs": {
        "height": 0.8,
        "width": 0.8,
        "x": 0.1,
        "y": 0.1
       },
       "content": {
        "cell": "c7bec2d4-4a83-432f-b46b-fda2788ecca6",
        "part": "whole"
       },
       "id": "f80fe663-4695-4018-8514-8dd0de96c954"
      }
     }
    },
    "1fc0b239-afce-4867-ac88-d33fdc84bf3f": {
     "id": "1fc0b239-afce-4867-ac88-d33fdc84bf3f",
     "prev": "53e998ae-d7c5-440a-9ac4-79f29fd023dc",
     "regions": {
      "836c4f31-ff7b-483a-ae4c-fb3815430bf7": {
       "attrs": {
        "height": 0.8,
        "width": 0.8,
        "x": 0.1,
        "y": 0.1
       },
       "content": {
        "cell": "1f84592e-89c4-484a-a8c2-d99f0746667b",
        "part": "whole"
       },
       "id": "836c4f31-ff7b-483a-ae4c-fb3815430bf7"
      }
     }
    },
    "2ed0f0cc-0e53-4710-80fc-85adc36a5f49": {
     "id": "2ed0f0cc-0e53-4710-80fc-85adc36a5f49",
     "prev": "3e6dae00-581f-4a1c-b98c-6c922814afb2",
     "regions": {
      "92617ded-688b-4bed-811c-4f5ba49f5b25": {
       "attrs": {
        "height": 0.8,
        "width": 0.8,
        "x": 0.1,
        "y": 0.1
       },
       "content": {
        "cell": "697946da-f475-436b-8f44-0167b316fafc",
        "part": "whole"
       },
       "id": "92617ded-688b-4bed-811c-4f5ba49f5b25"
      }
     }
    },
    "3e6dae00-581f-4a1c-b98c-6c922814afb2": {
     "id": "3e6dae00-581f-4a1c-b98c-6c922814afb2",
     "prev": "1837b716-8c37-44a6-8d6b-7cf1a014fb4d",
     "regions": {
      "92475bd5-aef1-43e9-b886-22e3b16d79eb": {
       "attrs": {
        "height": 0.8,
        "width": 0.8,
        "x": 0.1,
        "y": 0.1
       },
       "content": {
        "cell": "92ac28e1-d384-489e-8688-5415a4886d9e",
        "part": "whole"
       },
       "id": "92475bd5-aef1-43e9-b886-22e3b16d79eb"
      }
     }
    },
    "3f6b5fb3-2817-40d0-92c7-fe156e4d5c90": {
     "id": "3f6b5fb3-2817-40d0-92c7-fe156e4d5c90",
     "prev": "2ed0f0cc-0e53-4710-80fc-85adc36a5f49",
     "regions": {
      "70f0a6a1-5bd9-4f60-aaa2-d11b958f2ce2": {
       "attrs": {
        "height": 0.8,
        "width": 0.8,
        "x": 0.1,
        "y": 0.1
       },
       "content": {
        "cell": "1ec28525-f523-4e70-af2e-04c15aabdea0",
        "part": "whole"
       },
       "id": "70f0a6a1-5bd9-4f60-aaa2-d11b958f2ce2"
      }
     }
    },
    "47aee3a1-f0f8-40b2-bb5e-f931ad947e3a": {
     "id": "47aee3a1-f0f8-40b2-bb5e-f931ad947e3a",
     "prev": "b7b1f689-0203-474d-8c1e-2f69fce514e8",
     "regions": {
      "0c4e7916-9d35-443e-8df4-3d1920b81fc3": {
       "attrs": {
        "height": 0.8,
        "width": 0.8,
        "x": 0.1,
        "y": 0.1
       },
       "content": {
        "cell": "34a64d54-7fd9-4d0e-bd0b-179bcef0cc2f",
        "part": "whole"
       },
       "id": "0c4e7916-9d35-443e-8df4-3d1920b81fc3"
      }
     }
    },
    "53e998ae-d7c5-440a-9ac4-79f29fd023dc": {
     "id": "53e998ae-d7c5-440a-9ac4-79f29fd023dc",
     "prev": "8e713ed3-dd54-482f-bc38-070c559ee517",
     "regions": {
      "7ff8f3c3-10b4-495a-86c1-7f94de507edc": {
       "attrs": {
        "height": 0.8,
        "width": 0.8,
        "x": 0.1,
        "y": 0.1
       },
       "content": {
        "cell": "e0b532cc-4ccf-489a-b85c-7682db8f327a",
        "part": "whole"
       },
       "id": "7ff8f3c3-10b4-495a-86c1-7f94de507edc"
      }
     }
    },
    "57479ccb-5ed1-40d8-b74f-0030ee853492": {
     "id": "57479ccb-5ed1-40d8-b74f-0030ee853492",
     "prev": "1a9c8f38-41ed-4c5a-83c6-60941499e036",
     "regions": {
      "e64a1f10-94ee-4317-b378-34f58cc4764c": {
       "attrs": {
        "height": 0.8,
        "width": 0.8,
        "x": 0.1,
        "y": 0.1
       },
       "content": {
        "cell": "7c2d00d9-80d3-432f-9daf-6481feaf0299",
        "part": "whole"
       },
       "id": "e64a1f10-94ee-4317-b378-34f58cc4764c"
      }
     }
    },
    "6ad4f26f-8b31-40b7-b0e4-8863fb131c8e": {
     "id": "6ad4f26f-8b31-40b7-b0e4-8863fb131c8e",
     "prev": "db012a79-c3bb-459a-91c4-870673659724",
     "regions": {
      "86103d9a-9462-4e12-900c-a5f7a339dac9": {
       "attrs": {
        "height": 0.8,
        "width": 0.8,
        "x": 0.1,
        "y": 0.1
       },
       "content": {
        "cell": "d8680f0f-541d-4b7f-a548-e2a41af30769",
        "part": "whole"
       },
       "id": "86103d9a-9462-4e12-900c-a5f7a339dac9"
      }
     }
    },
    "6fa3f26f-f172-4fd8-a7dd-01242f2352e8": {
     "id": "6fa3f26f-f172-4fd8-a7dd-01242f2352e8",
     "prev": "3f6b5fb3-2817-40d0-92c7-fe156e4d5c90",
     "regions": {
      "8247e1ee-4aa4-4217-91c7-46326bbc515e": {
       "attrs": {
        "height": 0.8,
        "width": 0.8,
        "x": 0.1,
        "y": 0.1
       },
       "content": {
        "cell": "f7a216e7-df66-4703-a263-158cf23f7d29",
        "part": "whole"
       },
       "id": "8247e1ee-4aa4-4217-91c7-46326bbc515e"
      }
     }
    },
    "89412bcd-7283-4e43-8718-c8d9cd1201cf": {
     "id": "89412bcd-7283-4e43-8718-c8d9cd1201cf",
     "prev": "1fc0b239-afce-4867-ac88-d33fdc84bf3f",
     "regions": {
      "237f3554-c15c-4039-97a6-ad654f148d16": {
       "attrs": {
        "height": 0.8,
        "width": 0.8,
        "x": 0.1,
        "y": 0.1
       },
       "content": {
        "cell": "2aa1c50d-fc0c-4af9-8b60-5ad046a38704",
        "part": "whole"
       },
       "id": "237f3554-c15c-4039-97a6-ad654f148d16"
      }
     }
    },
    "8e713ed3-dd54-482f-bc38-070c559ee517": {
     "id": "8e713ed3-dd54-482f-bc38-070c559ee517",
     "prev": "95586794-45b0-41f7-8e7a-7b633feb15f6",
     "regions": {
      "359b1e28-1257-473b-836a-96e9240cb7e1": {
       "attrs": {
        "height": 0.8,
        "width": 0.8,
        "x": 0.1,
        "y": 0.1
       },
       "content": {
        "cell": "90a32421-fa7c-4b00-aa80-ddc8a265ff68",
        "part": "whole"
       },
       "id": "359b1e28-1257-473b-836a-96e9240cb7e1"
      }
     }
    },
    "95586794-45b0-41f7-8e7a-7b633feb15f6": {
     "id": "95586794-45b0-41f7-8e7a-7b633feb15f6",
     "prev": "d6a5fb8c-7554-4b98-91db-0328e91ab3cb",
     "regions": {
      "33f62786-abb9-4ebd-b633-54a407b88626": {
       "attrs": {
        "height": 0.8,
        "width": 0.8,
        "x": 0.1,
        "y": 0.1
       },
       "content": {
        "cell": "d1edc7fb-bc4d-45f3-8adb-2b79275fcabe",
        "part": "whole"
       },
       "id": "33f62786-abb9-4ebd-b633-54a407b88626"
      }
     }
    },
    "b7b1f689-0203-474d-8c1e-2f69fce514e8": {
     "id": "b7b1f689-0203-474d-8c1e-2f69fce514e8",
     "prev": "57479ccb-5ed1-40d8-b74f-0030ee853492",
     "regions": {
      "855b2b55-7416-4cfa-916e-23d8884c7a20": {
       "attrs": {
        "height": 0.8,
        "width": 0.8,
        "x": 0.1,
        "y": 0.1
       },
       "content": {
        "cell": "eaaadb06-e101-4fb4-b668-d7f8cba5059f",
        "part": "whole"
       },
       "id": "855b2b55-7416-4cfa-916e-23d8884c7a20"
      }
     }
    },
    "d6a5fb8c-7554-4b98-91db-0328e91ab3cb": {
     "id": "d6a5fb8c-7554-4b98-91db-0328e91ab3cb",
     "layout": "manual",
     "prev": null,
     "regions": {
      "933260e9-c69e-455d-ab94-1a5298069c9e": {
       "attrs": {
        "height": 0.9097915017154923,
        "width": 0.7584323040380048,
        "x": 0.04774346793349174,
        "y": 0.1105568751649512
       },
       "id": "933260e9-c69e-455d-ab94-1a5298069c9e"
      }
     }
    },
    "db012a79-c3bb-459a-91c4-870673659724": {
     "id": "db012a79-c3bb-459a-91c4-870673659724",
     "prev": "47aee3a1-f0f8-40b2-bb5e-f931ad947e3a",
     "regions": {
      "92b42d9c-b4e5-4633-a0c9-705c231a504a": {
       "attrs": {
        "height": 0.8,
        "width": 0.8,
        "x": 0.1,
        "y": 0.1
       },
       "content": {
        "cell": "ed83d33a-1cfb-4040-aca0-00247ea0f1a4",
        "part": "whole"
       },
       "id": "92b42d9c-b4e5-4633-a0c9-705c231a504a"
      }
     }
    },
    "e08b8880-6dcc-49dc-ad54-250e6a9ced96": {
     "id": "e08b8880-6dcc-49dc-ad54-250e6a9ced96",
     "prev": "1415e5c6-b76f-4e28-9ac6-73b8d5b067cc",
     "regions": {
      "453e8cc3-2736-4d09-8190-c8d274bb8880": {
       "attrs": {
        "height": 0.8,
        "width": 0.8,
        "x": 0.1,
        "y": 0.1
       },
       "content": {
        "cell": "ef9d2623-53f3-4ae2-bfa4-0e4ff153d089",
        "part": "whole"
       },
       "id": "453e8cc3-2736-4d09-8190-c8d274bb8880"
      }
     }
    }
   },
   "themes": {
    "default": "ea0fc3f7-21ee-436e-a6a1-68d1946ff346",
    "theme": {
     "ea0fc3f7-21ee-436e-a6a1-68d1946ff346": {
      "id": "ea0fc3f7-21ee-436e-a6a1-68d1946ff346",
      "palette": {
       "19cc588f-0593-49c9-9f4b-e4d7cc113b1c": {
        "id": "19cc588f-0593-49c9-9f4b-e4d7cc113b1c",
        "rgb": [
         252,
         252,
         252
        ]
       },
       "31af15d2-7e15-44c5-ab5e-e04b16a89eff": {
        "id": "31af15d2-7e15-44c5-ab5e-e04b16a89eff",
        "rgb": [
         68,
         68,
         68
        ]
       },
       "50f92c45-a630-455b-aec3-788680ec7410": {
        "id": "50f92c45-a630-455b-aec3-788680ec7410",
        "rgb": [
         155,
         177,
         192
        ]
       },
       "c5cc3653-2ee1-402a-aba2-7caae1da4f6c": {
        "id": "c5cc3653-2ee1-402a-aba2-7caae1da4f6c",
        "rgb": [
         43,
         126,
         184
        ]
       },
       "efa7f048-9acb-414c-8b04-a26811511a21": {
        "id": "efa7f048-9acb-414c-8b04-a26811511a21",
        "rgb": [
         25.118061674008803,
         73.60176211453744,
         107.4819383259912
        ]
       }
      },
      "rules": {
       "blockquote": {
        "color": "50f92c45-a630-455b-aec3-788680ec7410"
       },
       "code": {
        "font-family": "Anonymous Pro"
       },
       "h1": {
        "color": "c5cc3653-2ee1-402a-aba2-7caae1da4f6c",
        "font-family": "Lato",
        "font-size": 8
       },
       "h2": {
        "color": "c5cc3653-2ee1-402a-aba2-7caae1da4f6c",
        "font-family": "Lato",
        "font-size": 6
       },
       "h3": {
        "color": "50f92c45-a630-455b-aec3-788680ec7410",
        "font-family": "Lato",
        "font-size": 5.5
       },
       "h4": {
        "color": "c5cc3653-2ee1-402a-aba2-7caae1da4f6c",
        "font-family": "Lato",
        "font-size": 5
       },
       "h5": {
        "font-family": "Lato"
       },
       "h6": {
        "font-family": "Lato"
       },
       "h7": {
        "font-family": "Lato"
       },
       "pre": {
        "font-family": "Anonymous Pro",
        "font-size": 4
       }
      },
      "text-base": {
       "font-family": "Merriweather",
       "font-size": 4
      }
     }
    }
   }
  },
  "toc": {
   "colors": {
    "hover_highlight": "#DAA520",
    "running_highlight": "#FF0000",
    "selected_highlight": "#FFD700"
   },
   "moveMenuLeft": true,
   "nav_menu": {
    "height": "187px",
    "width": "370px"
   },
   "navigate_menu": true,
   "number_sections": true,
   "sideBar": false,
   "threshold": 4,
   "toc_cell": false,
   "toc_position": {
    "height": "1689px",
    "left": "9px",
    "right": "20px",
    "top": "106px",
    "width": "241px"
   },
   "toc_section_display": "block",
   "toc_window_display": false
  },
  "widgets": {
   "state": {
    "2dd85ba6a2014c9fb72c2def039e86dd": {
     "views": [
      {
       "cell_index": 6
      }
     ]
    }
   },
   "version": "1.2.0"
  }
 },
 "nbformat": 4,
 "nbformat_minor": 2
}
