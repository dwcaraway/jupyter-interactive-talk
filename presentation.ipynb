{
 "cells": [
  {
   "cell_type": "markdown",
   "metadata": {
    "nbpresent": {
     "id": "14d8314b-2b79-4f1d-bbd8-4f7bbc718492"
    },
    "slideshow": {
     "slide_type": "slide"
    }
   },
   "source": [
    "![Title: Building Interactive Visualizations with Jupyter Notebook](presentation_title.png)"
   ]
  },
  {
   "cell_type": "markdown",
   "metadata": {
    "nbpresent": {
     "id": "d1edc7fb-bc4d-45f3-8adb-2b79275fcabe"
    }
   },
   "source": [
    "# What's Jupyter Notebook?\n",
    "* A web application for scientific computation in the browser \n",
    "* Supports 40+ languages (kernals) including R and Matlab\n",
    "* Formerly known as IPython Notebook\n",
    "* Standard day-to-day tool for many scientists"
   ]
  },
  {
   "cell_type": "markdown",
   "metadata": {},
   "source": [
    "# What's The Problem?\n",
    "Python has a wealth of  fantastic libraries for analyzing and plotting data, including\n",
    "* matplotlib\n",
    "* numpy\n",
    "* pandas\n",
    "\n",
    "However, the plots become static images when rendered in Jupyter or on the web.\n",
    "\n",
    "**Wouldn't it be more interesting to have interactive plots?**"
   ]
  },
  {
   "cell_type": "markdown",
   "metadata": {
    "nbpresent": {
     "id": "90a32421-fa7c-4b00-aa80-ddc8a265ff68"
    }
   },
   "source": [
    "# Bokeh\n",
    "For this demonstration, we'll use the [Bokeh](http://bokeh.pydata.org/en/latest/), pronounced \"Bow (as in crossbow) Keh (as in kettle). We first need to tell  Bokeh to load its JavaScript component, BokehJS, using the ```output_notebook()``` function."
   ]
  },
  {
   "cell_type": "code",
   "execution_count": 1,
   "metadata": {
    "collapsed": false,
    "nbpresent": {
     "id": "e0b532cc-4ccf-489a-b85c-7682db8f327a"
    },
    "scrolled": false
   },
   "outputs": [
    {
     "data": {
      "text/html": [
       "\n",
       "    <div class=\"bk-root\">\n",
       "        <a href=\"http://bokeh.pydata.org\" target=\"_blank\" class=\"bk-logo bk-logo-small bk-logo-notebook\"></a>\n",
       "        <span id=\"fcf3115c-9534-4408-a791-f2802326cfa9\">Loading BokehJS ...</span>\n",
       "    </div>"
      ]
     },
     "metadata": {},
     "output_type": "display_data"
    },
    {
     "data": {
      "application/javascript": [
       "\n",
       "(function(global) {\n",
       "  function now() {\n",
       "    return new Date();\n",
       "  }\n",
       "\n",
       "  var force = true;\n",
       "\n",
       "  if (typeof (window._bokeh_onload_callbacks) === \"undefined\" || force === true) {\n",
       "    window._bokeh_onload_callbacks = [];\n",
       "    window._bokeh_is_loading = undefined;\n",
       "  }\n",
       "\n",
       "\n",
       "  \n",
       "  if (typeof (window._bokeh_timeout) === \"undefined\" || force === true) {\n",
       "    window._bokeh_timeout = Date.now() + 5000;\n",
       "    window._bokeh_failed_load = false;\n",
       "  }\n",
       "\n",
       "  var NB_LOAD_WARNING = {'data': {'text/html':\n",
       "     \"<div style='background-color: #fdd'>\\n\"+\n",
       "     \"<p>\\n\"+\n",
       "     \"BokehJS does not appear to have successfully loaded. If loading BokehJS from CDN, this \\n\"+\n",
       "     \"may be due to a slow or bad network connection. Possible fixes:\\n\"+\n",
       "     \"</p>\\n\"+\n",
       "     \"<ul>\\n\"+\n",
       "     \"<li>re-rerun `output_notebook()` to attempt to load from CDN again, or</li>\\n\"+\n",
       "     \"<li>use INLINE resources instead, as so:</li>\\n\"+\n",
       "     \"</ul>\\n\"+\n",
       "     \"<code>\\n\"+\n",
       "     \"from bokeh.resources import INLINE\\n\"+\n",
       "     \"output_notebook(resources=INLINE)\\n\"+\n",
       "     \"</code>\\n\"+\n",
       "     \"</div>\"}};\n",
       "\n",
       "  function display_loaded() {\n",
       "    if (window.Bokeh !== undefined) {\n",
       "      document.getElementById(\"fcf3115c-9534-4408-a791-f2802326cfa9\").textContent = \"BokehJS successfully loaded.\";\n",
       "    } else if (Date.now() < window._bokeh_timeout) {\n",
       "      setTimeout(display_loaded, 100)\n",
       "    }\n",
       "  }\n",
       "\n",
       "  function run_callbacks() {\n",
       "    window._bokeh_onload_callbacks.forEach(function(callback) { callback() });\n",
       "    delete window._bokeh_onload_callbacks\n",
       "    console.info(\"Bokeh: all callbacks have finished\");\n",
       "  }\n",
       "\n",
       "  function load_libs(js_urls, callback) {\n",
       "    window._bokeh_onload_callbacks.push(callback);\n",
       "    if (window._bokeh_is_loading > 0) {\n",
       "      console.log(\"Bokeh: BokehJS is being loaded, scheduling callback at\", now());\n",
       "      return null;\n",
       "    }\n",
       "    if (js_urls == null || js_urls.length === 0) {\n",
       "      run_callbacks();\n",
       "      return null;\n",
       "    }\n",
       "    console.log(\"Bokeh: BokehJS not loaded, scheduling load and callback at\", now());\n",
       "    window._bokeh_is_loading = js_urls.length;\n",
       "    for (var i = 0; i < js_urls.length; i++) {\n",
       "      var url = js_urls[i];\n",
       "      var s = document.createElement('script');\n",
       "      s.src = url;\n",
       "      s.async = false;\n",
       "      s.onreadystatechange = s.onload = function() {\n",
       "        window._bokeh_is_loading--;\n",
       "        if (window._bokeh_is_loading === 0) {\n",
       "          console.log(\"Bokeh: all BokehJS libraries loaded\");\n",
       "          run_callbacks()\n",
       "        }\n",
       "      };\n",
       "      s.onerror = function() {\n",
       "        console.warn(\"failed to load library \" + url);\n",
       "      };\n",
       "      console.log(\"Bokeh: injecting script tag for BokehJS library: \", url);\n",
       "      document.getElementsByTagName(\"head\")[0].appendChild(s);\n",
       "    }\n",
       "  };var element = document.getElementById(\"fcf3115c-9534-4408-a791-f2802326cfa9\");\n",
       "  if (element == null) {\n",
       "    console.log(\"Bokeh: ERROR: autoload.js configured with elementid 'fcf3115c-9534-4408-a791-f2802326cfa9' but no matching script tag was found. \")\n",
       "    return false;\n",
       "  }\n",
       "\n",
       "  var js_urls = [\"https://cdn.pydata.org/bokeh/release/bokeh-0.12.4.min.js\", \"https://cdn.pydata.org/bokeh/release/bokeh-widgets-0.12.4.min.js\"];\n",
       "\n",
       "  var inline_js = [\n",
       "    function(Bokeh) {\n",
       "      Bokeh.set_log_level(\"info\");\n",
       "    },\n",
       "    \n",
       "    function(Bokeh) {\n",
       "      \n",
       "      document.getElementById(\"fcf3115c-9534-4408-a791-f2802326cfa9\").textContent = \"BokehJS is loading...\";\n",
       "    },\n",
       "    function(Bokeh) {\n",
       "      console.log(\"Bokeh: injecting CSS: https://cdn.pydata.org/bokeh/release/bokeh-0.12.4.min.css\");\n",
       "      Bokeh.embed.inject_css(\"https://cdn.pydata.org/bokeh/release/bokeh-0.12.4.min.css\");\n",
       "      console.log(\"Bokeh: injecting CSS: https://cdn.pydata.org/bokeh/release/bokeh-widgets-0.12.4.min.css\");\n",
       "      Bokeh.embed.inject_css(\"https://cdn.pydata.org/bokeh/release/bokeh-widgets-0.12.4.min.css\");\n",
       "    }\n",
       "  ];\n",
       "\n",
       "  function run_inline_js() {\n",
       "    \n",
       "    if ((window.Bokeh !== undefined) || (force === true)) {\n",
       "      for (var i = 0; i < inline_js.length; i++) {\n",
       "        inline_js[i](window.Bokeh);\n",
       "      }if (force === true) {\n",
       "        display_loaded();\n",
       "      }} else if (Date.now() < window._bokeh_timeout) {\n",
       "      setTimeout(run_inline_js, 100);\n",
       "    } else if (!window._bokeh_failed_load) {\n",
       "      console.log(\"Bokeh: BokehJS failed to load within specified timeout.\");\n",
       "      window._bokeh_failed_load = true;\n",
       "    } else if (force !== true) {\n",
       "      var cell = $(document.getElementById(\"fcf3115c-9534-4408-a791-f2802326cfa9\")).parents('.cell').data().cell;\n",
       "      cell.output_area.append_execute_result(NB_LOAD_WARNING)\n",
       "    }\n",
       "\n",
       "  }\n",
       "\n",
       "  if (window._bokeh_is_loading === 0) {\n",
       "    console.log(\"Bokeh: BokehJS loaded, going straight to plotting\");\n",
       "    run_inline_js();\n",
       "  } else {\n",
       "    load_libs(js_urls, function() {\n",
       "      console.log(\"Bokeh: BokehJS plotting callback run at\", now());\n",
       "      run_inline_js();\n",
       "    });\n",
       "  }\n",
       "}(this));"
      ]
     },
     "metadata": {},
     "output_type": "display_data"
    }
   ],
   "source": [
    "from bokeh.plotting import output_notebook, show\n",
    "\n",
    "output_notebook()"
   ]
  },
  {
   "cell_type": "markdown",
   "metadata": {
    "nbpresent": {
     "id": "1f84592e-89c4-484a-a8c2-d99f0746667b"
    }
   },
   "source": [
    "## Sample Data\n",
    "A small set of data, ```autompg```, is available in the ```bokeh.sampledata``` package. ```autompg``` is in the ```pandas.dataframe``` format which you can think of as a database table or spreadsheet."
   ]
  },
  {
   "cell_type": "code",
   "execution_count": 2,
   "metadata": {
    "collapsed": true,
    "nbpresent": {
     "id": "2aa1c50d-fc0c-4af9-8b60-5ad046a38704"
    }
   },
   "outputs": [],
   "source": [
    "from bokeh.sampledata.autompg import autompg as df\n",
    "#Display contents using qgrid\n",
    "import qgrid\n",
    "# copies javascript dependencies to your /nbextensions folder\n",
    "qgrid.nbinstall(overwrite=True) \n",
    "\n",
    "qgrid.show_grid(df)"
   ]
  },
  {
   "cell_type": "markdown",
   "metadata": {
    "hide_input": true,
    "nbpresent": {
     "id": "041bc5f8-b557-47db-a872-a4e759ca3d1e"
    }
   },
   "source": [
    "## Charts\n",
    "Bokeh provides high level statistical plots such as bar charts, horizon plots and time series using the ```bokeh.charts``` interface. \n",
    "\n",
    "The interface is geared to be extremely simple to use in conjunction with the [Pandas](http://pandas.pydata.org/) data structures library (```Series``` or ```DataFrame```).\n",
    "\n",
    "In the first plot below, we use the ```Bar``` chart to show the average miles per gallon for a given cylinder type. Note that we specify the ```mean``` aggregation type (default is sum)."
   ]
  },
  {
   "cell_type": "code",
   "execution_count": 3,
   "metadata": {
    "collapsed": false,
    "nbpresent": {
     "id": "92ac28e1-d384-489e-8688-5415a4886d9e"
    },
    "scrolled": false
   },
   "outputs": [
    {
     "data": {
      "text/html": [
       "\n",
       "\n",
       "    <div class=\"bk-root\">\n",
       "        <div class=\"bk-plotdiv\" id=\"cd0eb485-c29d-43d8-94e4-861e7fd244a7\"></div>\n",
       "    </div>\n",
       "<script type=\"text/javascript\">\n",
       "  \n",
       "  (function(global) {\n",
       "    function now() {\n",
       "      return new Date();\n",
       "    }\n",
       "  \n",
       "    var force = false;\n",
       "  \n",
       "    if (typeof (window._bokeh_onload_callbacks) === \"undefined\" || force === true) {\n",
       "      window._bokeh_onload_callbacks = [];\n",
       "      window._bokeh_is_loading = undefined;\n",
       "    }\n",
       "  \n",
       "  \n",
       "    \n",
       "    if (typeof (window._bokeh_timeout) === \"undefined\" || force === true) {\n",
       "      window._bokeh_timeout = Date.now() + 0;\n",
       "      window._bokeh_failed_load = false;\n",
       "    }\n",
       "  \n",
       "    var NB_LOAD_WARNING = {'data': {'text/html':\n",
       "       \"<div style='background-color: #fdd'>\\n\"+\n",
       "       \"<p>\\n\"+\n",
       "       \"BokehJS does not appear to have successfully loaded. If loading BokehJS from CDN, this \\n\"+\n",
       "       \"may be due to a slow or bad network connection. Possible fixes:\\n\"+\n",
       "       \"</p>\\n\"+\n",
       "       \"<ul>\\n\"+\n",
       "       \"<li>re-rerun `output_notebook()` to attempt to load from CDN again, or</li>\\n\"+\n",
       "       \"<li>use INLINE resources instead, as so:</li>\\n\"+\n",
       "       \"</ul>\\n\"+\n",
       "       \"<code>\\n\"+\n",
       "       \"from bokeh.resources import INLINE\\n\"+\n",
       "       \"output_notebook(resources=INLINE)\\n\"+\n",
       "       \"</code>\\n\"+\n",
       "       \"</div>\"}};\n",
       "  \n",
       "    function display_loaded() {\n",
       "      if (window.Bokeh !== undefined) {\n",
       "        document.getElementById(\"cd0eb485-c29d-43d8-94e4-861e7fd244a7\").textContent = \"BokehJS successfully loaded.\";\n",
       "      } else if (Date.now() < window._bokeh_timeout) {\n",
       "        setTimeout(display_loaded, 100)\n",
       "      }\n",
       "    }\n",
       "  \n",
       "    function run_callbacks() {\n",
       "      window._bokeh_onload_callbacks.forEach(function(callback) { callback() });\n",
       "      delete window._bokeh_onload_callbacks\n",
       "      console.info(\"Bokeh: all callbacks have finished\");\n",
       "    }\n",
       "  \n",
       "    function load_libs(js_urls, callback) {\n",
       "      window._bokeh_onload_callbacks.push(callback);\n",
       "      if (window._bokeh_is_loading > 0) {\n",
       "        console.log(\"Bokeh: BokehJS is being loaded, scheduling callback at\", now());\n",
       "        return null;\n",
       "      }\n",
       "      if (js_urls == null || js_urls.length === 0) {\n",
       "        run_callbacks();\n",
       "        return null;\n",
       "      }\n",
       "      console.log(\"Bokeh: BokehJS not loaded, scheduling load and callback at\", now());\n",
       "      window._bokeh_is_loading = js_urls.length;\n",
       "      for (var i = 0; i < js_urls.length; i++) {\n",
       "        var url = js_urls[i];\n",
       "        var s = document.createElement('script');\n",
       "        s.src = url;\n",
       "        s.async = false;\n",
       "        s.onreadystatechange = s.onload = function() {\n",
       "          window._bokeh_is_loading--;\n",
       "          if (window._bokeh_is_loading === 0) {\n",
       "            console.log(\"Bokeh: all BokehJS libraries loaded\");\n",
       "            run_callbacks()\n",
       "          }\n",
       "        };\n",
       "        s.onerror = function() {\n",
       "          console.warn(\"failed to load library \" + url);\n",
       "        };\n",
       "        console.log(\"Bokeh: injecting script tag for BokehJS library: \", url);\n",
       "        document.getElementsByTagName(\"head\")[0].appendChild(s);\n",
       "      }\n",
       "    };var element = document.getElementById(\"cd0eb485-c29d-43d8-94e4-861e7fd244a7\");\n",
       "    if (element == null) {\n",
       "      console.log(\"Bokeh: ERROR: autoload.js configured with elementid 'cd0eb485-c29d-43d8-94e4-861e7fd244a7' but no matching script tag was found. \")\n",
       "      return false;\n",
       "    }\n",
       "  \n",
       "    var js_urls = [];\n",
       "  \n",
       "    var inline_js = [\n",
       "      function(Bokeh) {\n",
       "        (function() {\n",
       "          var fn = function() {\n",
       "            var docs_json = {\"8ba42444-f265-4c16-bdb8-1a04c9741b8f\":{\"roots\":{\"references\":[{\"attributes\":{\"dimension\":1,\"plot\":{\"id\":\"5f072e2a-dbde-4d32-b286-9c1f72e925ce\",\"subtype\":\"Chart\",\"type\":\"Plot\"},\"ticker\":{\"id\":\"b4ab5741-8e18-4908-a554-da31347b3318\",\"type\":\"BasicTicker\"}},\"id\":\"8559c70e-f73b-4da8-aafd-9e8a61cb7f97\",\"type\":\"Grid\"},{\"attributes\":{\"plot\":{\"id\":\"5f072e2a-dbde-4d32-b286-9c1f72e925ce\",\"subtype\":\"Chart\",\"type\":\"Plot\"}},\"id\":\"6c30387a-59a0-4799-9087-77a1ee1d58a3\",\"type\":\"PanTool\"},{\"attributes\":{\"bottom_units\":\"screen\",\"fill_alpha\":{\"value\":0.5},\"fill_color\":{\"value\":\"lightgrey\"},\"left_units\":\"screen\",\"level\":\"overlay\",\"line_alpha\":{\"value\":1.0},\"line_color\":{\"value\":\"black\"},\"line_dash\":[4,4],\"line_width\":{\"value\":2},\"plot\":null,\"render_mode\":\"css\",\"right_units\":\"screen\",\"top_units\":\"screen\"},\"id\":\"ebdf3b9a-f1c0-43a2-b98f-6486cafa8c7c\",\"type\":\"BoxAnnotation\"},{\"attributes\":{\"plot\":{\"id\":\"5f072e2a-dbde-4d32-b286-9c1f72e925ce\",\"subtype\":\"Chart\",\"type\":\"Plot\"}},\"id\":\"16e22400-6816-4919-acf1-0189e655d162\",\"type\":\"WheelZoomTool\"},{\"attributes\":{},\"id\":\"533ff599-dd44-4e4b-a10e-b91f9c91139b\",\"type\":\"CategoricalTickFormatter\"},{\"attributes\":{\"overlay\":{\"id\":\"ebdf3b9a-f1c0-43a2-b98f-6486cafa8c7c\",\"type\":\"BoxAnnotation\"},\"plot\":{\"id\":\"5f072e2a-dbde-4d32-b286-9c1f72e925ce\",\"subtype\":\"Chart\",\"type\":\"Plot\"}},\"id\":\"75449784-84e8-4c35-83c0-8da328cd9469\",\"type\":\"BoxZoomTool\"},{\"attributes\":{\"plot\":{\"id\":\"5f072e2a-dbde-4d32-b286-9c1f72e925ce\",\"subtype\":\"Chart\",\"type\":\"Plot\"}},\"id\":\"2fd7a9c6-8609-4809-80cc-f8bc6a2bc51c\",\"type\":\"SaveTool\"},{\"attributes\":{},\"id\":\"45afed0e-e8ed-43de-bf81-87e00c3238c4\",\"type\":\"BasicTickFormatter\"},{\"attributes\":{\"plot\":{\"id\":\"5f072e2a-dbde-4d32-b286-9c1f72e925ce\",\"subtype\":\"Chart\",\"type\":\"Plot\"}},\"id\":\"8a430e94-7163-43bb-85fa-aba1d42cac03\",\"type\":\"ResetTool\"},{\"attributes\":{\"plot\":{\"id\":\"5f072e2a-dbde-4d32-b286-9c1f72e925ce\",\"subtype\":\"Chart\",\"type\":\"Plot\"}},\"id\":\"b1bcc621-a705-48f7-b4e2-69e64bb34297\",\"type\":\"HelpTool\"},{\"attributes\":{\"callback\":null,\"column_names\":[\"x\",\"y\",\"width\",\"height\",\"color\",\"fill_alpha\",\"line_color\",\"line_alpha\",\"label\"],\"data\":{\"chart_index\":[{\"cyl\":8}],\"color\":[\"#f22c40\"],\"cyl\":[8],\"fill_alpha\":[0.8],\"height\":[14.963106796116506],\"label\":[{\"cyl\":8}],\"line_alpha\":[1.0],\"line_color\":[\"white\"],\"width\":[0.8],\"x\":[\"8\"],\"y\":[7.481553398058253]}},\"id\":\"57165923-0fbe-4703-8a2a-ccdd7a9d57cb\",\"type\":\"ColumnDataSource\"},{\"attributes\":{\"fill_alpha\":{\"field\":\"fill_alpha\"},\"fill_color\":{\"field\":\"color\"},\"height\":{\"field\":\"height\",\"units\":\"data\"},\"line_color\":{\"field\":\"line_color\"},\"width\":{\"field\":\"width\",\"units\":\"data\"},\"x\":{\"field\":\"x\"},\"y\":{\"field\":\"y\"}},\"id\":\"1f2da170-a70a-4fed-bd99-b6a922884405\",\"type\":\"Rect\"},{\"attributes\":{\"fill_alpha\":{\"field\":\"fill_alpha\"},\"fill_color\":{\"field\":\"color\"},\"height\":{\"field\":\"height\",\"units\":\"data\"},\"line_color\":{\"field\":\"line_color\"},\"width\":{\"field\":\"width\",\"units\":\"data\"},\"x\":{\"field\":\"x\"},\"y\":{\"field\":\"y\"}},\"id\":\"936cecd9-213d-460b-8152-a2978eece127\",\"type\":\"Rect\"},{\"attributes\":{\"data_source\":{\"id\":\"57165923-0fbe-4703-8a2a-ccdd7a9d57cb\",\"type\":\"ColumnDataSource\"},\"glyph\":{\"id\":\"1f2da170-a70a-4fed-bd99-b6a922884405\",\"type\":\"Rect\"},\"hover_glyph\":null,\"nonselection_glyph\":null,\"selection_glyph\":null},\"id\":\"2977cb40-0b70-4dc3-825e-c510d25f0ff0\",\"type\":\"GlyphRenderer\"},{\"attributes\":{\"callback\":null,\"column_names\":[\"x\",\"y\",\"width\",\"height\",\"color\",\"fill_alpha\",\"line_color\",\"line_alpha\",\"label\"],\"data\":{\"chart_index\":[{\"cyl\":4}],\"color\":[\"#f22c40\"],\"cyl\":[4],\"fill_alpha\":[0.8],\"height\":[29.28391959798995],\"label\":[{\"cyl\":4}],\"line_alpha\":[1.0],\"line_color\":[\"white\"],\"width\":[0.8],\"x\":[\"4\"],\"y\":[14.641959798994975]}},\"id\":\"868489a2-03ad-4a5e-bbf4-8f9b0325c8ad\",\"type\":\"ColumnDataSource\"},{\"attributes\":{\"axis_label\":\"Mean( Mpg )\",\"formatter\":{\"id\":\"45afed0e-e8ed-43de-bf81-87e00c3238c4\",\"type\":\"BasicTickFormatter\"},\"plot\":{\"id\":\"5f072e2a-dbde-4d32-b286-9c1f72e925ce\",\"subtype\":\"Chart\",\"type\":\"Plot\"},\"ticker\":{\"id\":\"b4ab5741-8e18-4908-a554-da31347b3318\",\"type\":\"BasicTicker\"}},\"id\":\"73a36aa9-c7c9-438d-81ff-0bbde9d7e897\",\"type\":\"LinearAxis\"},{\"attributes\":{\"fill_alpha\":{\"field\":\"fill_alpha\"},\"fill_color\":{\"field\":\"color\"},\"height\":{\"field\":\"height\",\"units\":\"data\"},\"line_color\":{\"field\":\"line_color\"},\"width\":{\"field\":\"width\",\"units\":\"data\"},\"x\":{\"field\":\"x\"},\"y\":{\"field\":\"y\"}},\"id\":\"887d2e07-765b-44db-8e1c-08124bd762ff\",\"type\":\"Rect\"},{\"attributes\":{\"fill_alpha\":{\"field\":\"fill_alpha\"},\"fill_color\":{\"field\":\"color\"},\"height\":{\"field\":\"height\",\"units\":\"data\"},\"line_color\":{\"field\":\"line_color\"},\"width\":{\"field\":\"width\",\"units\":\"data\"},\"x\":{\"field\":\"x\"},\"y\":{\"field\":\"y\"}},\"id\":\"56f3e7d1-08ae-43c5-9ddc-1d7869ace6b4\",\"type\":\"Rect\"},{\"attributes\":{\"axis_label\":\"Cyl\",\"formatter\":{\"id\":\"533ff599-dd44-4e4b-a10e-b91f9c91139b\",\"type\":\"CategoricalTickFormatter\"},\"major_label_orientation\":0.7853981633974483,\"plot\":{\"id\":\"5f072e2a-dbde-4d32-b286-9c1f72e925ce\",\"subtype\":\"Chart\",\"type\":\"Plot\"},\"ticker\":{\"id\":\"21bebbf3-03fc-4001-824e-a3a416117bf3\",\"type\":\"CategoricalTicker\"}},\"id\":\"db24b4f0-cb5b-4ef9-8377-fabc42cd4940\",\"type\":\"CategoricalAxis\"},{\"attributes\":{\"data_source\":{\"id\":\"868489a2-03ad-4a5e-bbf4-8f9b0325c8ad\",\"type\":\"ColumnDataSource\"},\"glyph\":{\"id\":\"936cecd9-213d-460b-8152-a2978eece127\",\"type\":\"Rect\"},\"hover_glyph\":null,\"nonselection_glyph\":null,\"selection_glyph\":null},\"id\":\"a4f73e81-7746-45d1-b7b7-368f76e8145d\",\"type\":\"GlyphRenderer\"},{\"attributes\":{\"callback\":null,\"column_names\":[\"x\",\"y\",\"width\",\"height\",\"color\",\"fill_alpha\",\"line_color\",\"line_alpha\",\"label\"],\"data\":{\"chart_index\":[{\"cyl\":6}],\"color\":[\"#f22c40\"],\"cyl\":[6],\"fill_alpha\":[0.8],\"height\":[19.973493975903615],\"label\":[{\"cyl\":6}],\"line_alpha\":[1.0],\"line_color\":[\"white\"],\"width\":[0.8],\"x\":[\"6\"],\"y\":[9.986746987951808]}},\"id\":\"f8315ab2-f2fe-4837-8619-10adc52ed25d\",\"type\":\"ColumnDataSource\"},{\"attributes\":{\"label\":{\"value\":\"5\"},\"renderers\":[{\"id\":\"09f2e72e-455d-4a04-87a1-025a7bdf8fd5\",\"type\":\"GlyphRenderer\"}]},\"id\":\"b38b6ba7-39bc-4cd0-a29c-226c19695045\",\"type\":\"LegendItem\"},{\"attributes\":{\"callback\":null,\"column_names\":[\"x\",\"y\",\"width\",\"height\",\"color\",\"fill_alpha\",\"line_color\",\"line_alpha\",\"label\"],\"data\":{\"chart_index\":[{\"cyl\":5}],\"color\":[\"#f22c40\"],\"cyl\":[5],\"fill_alpha\":[0.8],\"height\":[27.366666666666664],\"label\":[{\"cyl\":5}],\"line_alpha\":[1.0],\"line_color\":[\"white\"],\"width\":[0.8],\"x\":[\"5\"],\"y\":[13.683333333333332]}},\"id\":\"96f2b73f-86e6-4259-ba5b-96935af6c588\",\"type\":\"ColumnDataSource\"},{\"attributes\":{\"label\":{\"value\":\"8\"},\"renderers\":[{\"id\":\"2977cb40-0b70-4dc3-825e-c510d25f0ff0\",\"type\":\"GlyphRenderer\"}]},\"id\":\"e5db992a-f83e-4019-99f9-7bf28798238c\",\"type\":\"LegendItem\"},{\"attributes\":{\"fill_alpha\":{\"field\":\"fill_alpha\"},\"fill_color\":{\"field\":\"color\"},\"height\":{\"field\":\"height\",\"units\":\"data\"},\"line_color\":{\"field\":\"line_color\"},\"width\":{\"field\":\"width\",\"units\":\"data\"},\"x\":{\"field\":\"x\"},\"y\":{\"field\":\"y\"}},\"id\":\"f52f39c1-79ff-4249-9a3d-56f95bc59c48\",\"type\":\"Rect\"},{\"attributes\":{\"label\":{\"value\":\"4\"},\"renderers\":[{\"id\":\"a4f73e81-7746-45d1-b7b7-368f76e8145d\",\"type\":\"GlyphRenderer\"}]},\"id\":\"5010ac5a-157e-4998-afff-9089472f55bd\",\"type\":\"LegendItem\"},{\"attributes\":{\"callback\":null,\"end\":30.748115577889447},\"id\":\"a3cbd1b1-0a1f-4890-8d5f-2aef7ad9868e\",\"type\":\"Range1d\"},{\"attributes\":{\"data_source\":{\"id\":\"f8315ab2-f2fe-4837-8619-10adc52ed25d\",\"type\":\"ColumnDataSource\"},\"glyph\":{\"id\":\"56f3e7d1-08ae-43c5-9ddc-1d7869ace6b4\",\"type\":\"Rect\"},\"hover_glyph\":null,\"nonselection_glyph\":null,\"selection_glyph\":null},\"id\":\"c0314be9-6a34-4d5c-8287-909a89708db3\",\"type\":\"GlyphRenderer\"},{\"attributes\":{\"items\":[{\"id\":\"e5db992a-f83e-4019-99f9-7bf28798238c\",\"type\":\"LegendItem\"},{\"id\":\"5010ac5a-157e-4998-afff-9089472f55bd\",\"type\":\"LegendItem\"},{\"id\":\"335b1662-6ced-4f17-aa8e-686434c25034\",\"type\":\"LegendItem\"},{\"id\":\"baa51f7d-a762-486b-b43e-749c56e7f870\",\"type\":\"LegendItem\"},{\"id\":\"b38b6ba7-39bc-4cd0-a29c-226c19695045\",\"type\":\"LegendItem\"}],\"location\":\"top_left\",\"plot\":{\"id\":\"5f072e2a-dbde-4d32-b286-9c1f72e925ce\",\"subtype\":\"Chart\",\"type\":\"Plot\"}},\"id\":\"5824f421-0a01-45cf-baa2-ec970cf63618\",\"type\":\"Legend\"},{\"attributes\":{\"callback\":null,\"column_names\":[\"x\",\"y\",\"width\",\"height\",\"color\",\"fill_alpha\",\"line_color\",\"line_alpha\",\"label\"],\"data\":{\"chart_index\":[{\"cyl\":3}],\"color\":[\"#f22c40\"],\"cyl\":[3],\"fill_alpha\":[0.8],\"height\":[20.55],\"label\":[{\"cyl\":3}],\"line_alpha\":[1.0],\"line_color\":[\"white\"],\"width\":[0.8],\"x\":[\"3\"],\"y\":[10.275]}},\"id\":\"831a42c2-72fe-4b60-99cd-83beac4ae7ae\",\"type\":\"ColumnDataSource\"},{\"attributes\":{\"below\":[{\"id\":\"db24b4f0-cb5b-4ef9-8377-fabc42cd4940\",\"type\":\"CategoricalAxis\"}],\"css_classes\":null,\"left\":[{\"id\":\"73a36aa9-c7c9-438d-81ff-0bbde9d7e897\",\"type\":\"LinearAxis\"}],\"renderers\":[{\"id\":\"ebdf3b9a-f1c0-43a2-b98f-6486cafa8c7c\",\"type\":\"BoxAnnotation\"},{\"id\":\"2977cb40-0b70-4dc3-825e-c510d25f0ff0\",\"type\":\"GlyphRenderer\"},{\"id\":\"a4f73e81-7746-45d1-b7b7-368f76e8145d\",\"type\":\"GlyphRenderer\"},{\"id\":\"c0314be9-6a34-4d5c-8287-909a89708db3\",\"type\":\"GlyphRenderer\"},{\"id\":\"b733ab87-8e05-400d-9e52-a06f1e362431\",\"type\":\"GlyphRenderer\"},{\"id\":\"09f2e72e-455d-4a04-87a1-025a7bdf8fd5\",\"type\":\"GlyphRenderer\"},{\"id\":\"5824f421-0a01-45cf-baa2-ec970cf63618\",\"type\":\"Legend\"},{\"id\":\"db24b4f0-cb5b-4ef9-8377-fabc42cd4940\",\"type\":\"CategoricalAxis\"},{\"id\":\"73a36aa9-c7c9-438d-81ff-0bbde9d7e897\",\"type\":\"LinearAxis\"},{\"id\":\"8559c70e-f73b-4da8-aafd-9e8a61cb7f97\",\"type\":\"Grid\"}],\"title\":{\"id\":\"ff04e0d1-60fc-4703-8a96-2a1afbe59548\",\"type\":\"Title\"},\"tool_events\":{\"id\":\"86ab434e-52e6-4c96-aea4-e4bdde97e660\",\"type\":\"ToolEvents\"},\"toolbar\":{\"id\":\"92cfb53e-bb21-4ded-9020-f140d5eec100\",\"type\":\"Toolbar\"},\"x_mapper_type\":\"auto\",\"x_range\":{\"id\":\"9372cadf-4047-482d-8a00-70d546f1a581\",\"type\":\"FactorRange\"},\"y_mapper_type\":\"auto\",\"y_range\":{\"id\":\"a3cbd1b1-0a1f-4890-8d5f-2aef7ad9868e\",\"type\":\"Range1d\"}},\"id\":\"5f072e2a-dbde-4d32-b286-9c1f72e925ce\",\"subtype\":\"Chart\",\"type\":\"Plot\"},{\"attributes\":{\"callback\":null,\"factors\":[\"3\",\"4\",\"5\",\"6\",\"8\"]},\"id\":\"9372cadf-4047-482d-8a00-70d546f1a581\",\"type\":\"FactorRange\"},{\"attributes\":{},\"id\":\"b4ab5741-8e18-4908-a554-da31347b3318\",\"type\":\"BasicTicker\"},{\"attributes\":{},\"id\":\"86ab434e-52e6-4c96-aea4-e4bdde97e660\",\"type\":\"ToolEvents\"},{\"attributes\":{\"data_source\":{\"id\":\"831a42c2-72fe-4b60-99cd-83beac4ae7ae\",\"type\":\"ColumnDataSource\"},\"glyph\":{\"id\":\"f52f39c1-79ff-4249-9a3d-56f95bc59c48\",\"type\":\"Rect\"},\"hover_glyph\":null,\"nonselection_glyph\":null,\"selection_glyph\":null},\"id\":\"b733ab87-8e05-400d-9e52-a06f1e362431\",\"type\":\"GlyphRenderer\"},{\"attributes\":{},\"id\":\"21bebbf3-03fc-4001-824e-a3a416117bf3\",\"type\":\"CategoricalTicker\"},{\"attributes\":{\"active_drag\":\"auto\",\"active_scroll\":\"auto\",\"active_tap\":\"auto\",\"tools\":[{\"id\":\"6c30387a-59a0-4799-9087-77a1ee1d58a3\",\"type\":\"PanTool\"},{\"id\":\"16e22400-6816-4919-acf1-0189e655d162\",\"type\":\"WheelZoomTool\"},{\"id\":\"75449784-84e8-4c35-83c0-8da328cd9469\",\"type\":\"BoxZoomTool\"},{\"id\":\"2fd7a9c6-8609-4809-80cc-f8bc6a2bc51c\",\"type\":\"SaveTool\"},{\"id\":\"8a430e94-7163-43bb-85fa-aba1d42cac03\",\"type\":\"ResetTool\"},{\"id\":\"b1bcc621-a705-48f7-b4e2-69e64bb34297\",\"type\":\"HelpTool\"}]},\"id\":\"92cfb53e-bb21-4ded-9020-f140d5eec100\",\"type\":\"Toolbar\"},{\"attributes\":{\"plot\":null,\"text\":\"Average MPG By Cycle\"},\"id\":\"ff04e0d1-60fc-4703-8a96-2a1afbe59548\",\"type\":\"Title\"},{\"attributes\":{\"label\":{\"value\":\"6\"},\"renderers\":[{\"id\":\"c0314be9-6a34-4d5c-8287-909a89708db3\",\"type\":\"GlyphRenderer\"}]},\"id\":\"335b1662-6ced-4f17-aa8e-686434c25034\",\"type\":\"LegendItem\"},{\"attributes\":{\"data_source\":{\"id\":\"96f2b73f-86e6-4259-ba5b-96935af6c588\",\"type\":\"ColumnDataSource\"},\"glyph\":{\"id\":\"887d2e07-765b-44db-8e1c-08124bd762ff\",\"type\":\"Rect\"},\"hover_glyph\":null,\"nonselection_glyph\":null,\"selection_glyph\":null},\"id\":\"09f2e72e-455d-4a04-87a1-025a7bdf8fd5\",\"type\":\"GlyphRenderer\"},{\"attributes\":{\"label\":{\"value\":\"3\"},\"renderers\":[{\"id\":\"b733ab87-8e05-400d-9e52-a06f1e362431\",\"type\":\"GlyphRenderer\"}]},\"id\":\"baa51f7d-a762-486b-b43e-749c56e7f870\",\"type\":\"LegendItem\"}],\"root_ids\":[\"5f072e2a-dbde-4d32-b286-9c1f72e925ce\"]},\"title\":\"Bokeh Application\",\"version\":\"0.12.4\"}};\n",
       "            var render_items = [{\"docid\":\"8ba42444-f265-4c16-bdb8-1a04c9741b8f\",\"elementid\":\"cd0eb485-c29d-43d8-94e4-861e7fd244a7\",\"modelid\":\"5f072e2a-dbde-4d32-b286-9c1f72e925ce\"}];\n",
       "            \n",
       "            Bokeh.embed.embed_items(docs_json, render_items);\n",
       "          };\n",
       "          if (document.readyState != \"loading\") fn();\n",
       "          else document.addEventListener(\"DOMContentLoaded\", fn);\n",
       "        })();\n",
       "      },\n",
       "      function(Bokeh) {\n",
       "      }\n",
       "    ];\n",
       "  \n",
       "    function run_inline_js() {\n",
       "      \n",
       "      if ((window.Bokeh !== undefined) || (force === true)) {\n",
       "        for (var i = 0; i < inline_js.length; i++) {\n",
       "          inline_js[i](window.Bokeh);\n",
       "        }if (force === true) {\n",
       "          display_loaded();\n",
       "        }} else if (Date.now() < window._bokeh_timeout) {\n",
       "        setTimeout(run_inline_js, 100);\n",
       "      } else if (!window._bokeh_failed_load) {\n",
       "        console.log(\"Bokeh: BokehJS failed to load within specified timeout.\");\n",
       "        window._bokeh_failed_load = true;\n",
       "      } else if (force !== true) {\n",
       "        var cell = $(document.getElementById(\"cd0eb485-c29d-43d8-94e4-861e7fd244a7\")).parents('.cell').data().cell;\n",
       "        cell.output_area.append_execute_result(NB_LOAD_WARNING)\n",
       "      }\n",
       "  \n",
       "    }\n",
       "  \n",
       "    if (window._bokeh_is_loading === 0) {\n",
       "      console.log(\"Bokeh: BokehJS loaded, going straight to plotting\");\n",
       "      run_inline_js();\n",
       "    } else {\n",
       "      load_libs(js_urls, function() {\n",
       "        console.log(\"Bokeh: BokehJS plotting callback run at\", now());\n",
       "        run_inline_js();\n",
       "      });\n",
       "    }\n",
       "  }(this));\n",
       "</script>"
      ]
     },
     "metadata": {},
     "output_type": "display_data"
    }
   ],
   "source": [
    "from bokeh.charts import Bar\n",
    "\n",
    "# group by cyl, apply aggregate average function to mpg column\n",
    "barchart = Bar(df, label='cyl', values=\"mpg\", agg='mean', title=\"Average MPG By Cycle\")\n",
    "\n",
    "show(barchart)"
   ]
  },
  {
   "cell_type": "code",
   "execution_count": 4,
   "metadata": {
    "collapsed": false,
    "hide_input": false,
    "nbpresent": {
     "id": "697946da-f475-436b-8f44-0167b316fafc"
    },
    "scrolled": false
   },
   "outputs": [
    {
     "data": {
      "text/html": [
       "\n",
       "\n",
       "    <div class=\"bk-root\">\n",
       "        <div class=\"bk-plotdiv\" id=\"1d164497-b158-4ce3-99d2-b1cb4daa21ed\"></div>\n",
       "    </div>\n",
       "<script type=\"text/javascript\">\n",
       "  \n",
       "  (function(global) {\n",
       "    function now() {\n",
       "      return new Date();\n",
       "    }\n",
       "  \n",
       "    var force = false;\n",
       "  \n",
       "    if (typeof (window._bokeh_onload_callbacks) === \"undefined\" || force === true) {\n",
       "      window._bokeh_onload_callbacks = [];\n",
       "      window._bokeh_is_loading = undefined;\n",
       "    }\n",
       "  \n",
       "  \n",
       "    \n",
       "    if (typeof (window._bokeh_timeout) === \"undefined\" || force === true) {\n",
       "      window._bokeh_timeout = Date.now() + 0;\n",
       "      window._bokeh_failed_load = false;\n",
       "    }\n",
       "  \n",
       "    var NB_LOAD_WARNING = {'data': {'text/html':\n",
       "       \"<div style='background-color: #fdd'>\\n\"+\n",
       "       \"<p>\\n\"+\n",
       "       \"BokehJS does not appear to have successfully loaded. If loading BokehJS from CDN, this \\n\"+\n",
       "       \"may be due to a slow or bad network connection. Possible fixes:\\n\"+\n",
       "       \"</p>\\n\"+\n",
       "       \"<ul>\\n\"+\n",
       "       \"<li>re-rerun `output_notebook()` to attempt to load from CDN again, or</li>\\n\"+\n",
       "       \"<li>use INLINE resources instead, as so:</li>\\n\"+\n",
       "       \"</ul>\\n\"+\n",
       "       \"<code>\\n\"+\n",
       "       \"from bokeh.resources import INLINE\\n\"+\n",
       "       \"output_notebook(resources=INLINE)\\n\"+\n",
       "       \"</code>\\n\"+\n",
       "       \"</div>\"}};\n",
       "  \n",
       "    function display_loaded() {\n",
       "      if (window.Bokeh !== undefined) {\n",
       "        document.getElementById(\"1d164497-b158-4ce3-99d2-b1cb4daa21ed\").textContent = \"BokehJS successfully loaded.\";\n",
       "      } else if (Date.now() < window._bokeh_timeout) {\n",
       "        setTimeout(display_loaded, 100)\n",
       "      }\n",
       "    }\n",
       "  \n",
       "    function run_callbacks() {\n",
       "      window._bokeh_onload_callbacks.forEach(function(callback) { callback() });\n",
       "      delete window._bokeh_onload_callbacks\n",
       "      console.info(\"Bokeh: all callbacks have finished\");\n",
       "    }\n",
       "  \n",
       "    function load_libs(js_urls, callback) {\n",
       "      window._bokeh_onload_callbacks.push(callback);\n",
       "      if (window._bokeh_is_loading > 0) {\n",
       "        console.log(\"Bokeh: BokehJS is being loaded, scheduling callback at\", now());\n",
       "        return null;\n",
       "      }\n",
       "      if (js_urls == null || js_urls.length === 0) {\n",
       "        run_callbacks();\n",
       "        return null;\n",
       "      }\n",
       "      console.log(\"Bokeh: BokehJS not loaded, scheduling load and callback at\", now());\n",
       "      window._bokeh_is_loading = js_urls.length;\n",
       "      for (var i = 0; i < js_urls.length; i++) {\n",
       "        var url = js_urls[i];\n",
       "        var s = document.createElement('script');\n",
       "        s.src = url;\n",
       "        s.async = false;\n",
       "        s.onreadystatechange = s.onload = function() {\n",
       "          window._bokeh_is_loading--;\n",
       "          if (window._bokeh_is_loading === 0) {\n",
       "            console.log(\"Bokeh: all BokehJS libraries loaded\");\n",
       "            run_callbacks()\n",
       "          }\n",
       "        };\n",
       "        s.onerror = function() {\n",
       "          console.warn(\"failed to load library \" + url);\n",
       "        };\n",
       "        console.log(\"Bokeh: injecting script tag for BokehJS library: \", url);\n",
       "        document.getElementsByTagName(\"head\")[0].appendChild(s);\n",
       "      }\n",
       "    };var element = document.getElementById(\"1d164497-b158-4ce3-99d2-b1cb4daa21ed\");\n",
       "    if (element == null) {\n",
       "      console.log(\"Bokeh: ERROR: autoload.js configured with elementid '1d164497-b158-4ce3-99d2-b1cb4daa21ed' but no matching script tag was found. \")\n",
       "      return false;\n",
       "    }\n",
       "  \n",
       "    var js_urls = [];\n",
       "  \n",
       "    var inline_js = [\n",
       "      function(Bokeh) {\n",
       "        (function() {\n",
       "          var fn = function() {\n",
       "            var docs_json = {\"590718e6-f343-4de0-a880-87ac098de325\":{\"roots\":{\"references\":[{\"attributes\":{\"axis_label\":\"Horsepower\",\"formatter\":{\"id\":\"51a57223-e6e6-41bb-a59a-98a89cebf746\",\"type\":\"BasicTickFormatter\"},\"plot\":{\"id\":\"84c59125-0326-4b2e-9fe5-6292ee56a4eb\",\"subtype\":\"Chart\",\"type\":\"Plot\"},\"ticker\":{\"id\":\"3d3b5b8c-ec7e-496f-82c3-d83b51ee9431\",\"type\":\"BasicTicker\"}},\"id\":\"96cb371d-e781-4176-9e7d-c80870bbbdb2\",\"type\":\"LinearAxis\"},{\"attributes\":{},\"id\":\"a31df8b3-2092-4124-8ecb-d84c17b7551f\",\"type\":\"BasicTickFormatter\"},{\"attributes\":{\"data_source\":{\"id\":\"3bb9275d-0069-4ae8-ad7b-12cd95ef436c\",\"type\":\"ColumnDataSource\"},\"glyph\":{\"id\":\"a58dde1a-7be3-4a2c-b750-78a70e2f349e\",\"type\":\"Circle\"},\"hover_glyph\":null,\"nonselection_glyph\":null,\"selection_glyph\":null},\"id\":\"90f81caf-c29b-4af5-b850-6b8575b08674\",\"type\":\"GlyphRenderer\"},{\"attributes\":{\"data_source\":{\"id\":\"e8d82f8f-4040-4602-be66-8e7317c4293f\",\"type\":\"ColumnDataSource\"},\"glyph\":{\"id\":\"06a96479-40d6-46c2-b439-abb7f90cf9cb\",\"type\":\"Circle\"},\"hover_glyph\":null,\"nonselection_glyph\":null,\"selection_glyph\":null},\"id\":\"57db6dd5-a406-4e65-9c8b-db47d71577a0\",\"type\":\"GlyphRenderer\"},{\"attributes\":{\"fill_alpha\":{\"value\":0.7},\"fill_color\":{\"value\":\"#00ad9c\"},\"line_color\":{\"value\":\"#00ad9c\"},\"size\":{\"units\":\"screen\",\"value\":8},\"x\":{\"field\":\"x_values\"},\"y\":{\"field\":\"y_values\"}},\"id\":\"06a96479-40d6-46c2-b439-abb7f90cf9cb\",\"type\":\"Circle\"},{\"attributes\":{\"bottom_units\":\"screen\",\"fill_alpha\":{\"value\":0.5},\"fill_color\":{\"value\":\"lightgrey\"},\"left_units\":\"screen\",\"level\":\"overlay\",\"line_alpha\":{\"value\":1.0},\"line_color\":{\"value\":\"black\"},\"line_dash\":[4,4],\"line_width\":{\"value\":2},\"plot\":null,\"render_mode\":\"css\",\"right_units\":\"screen\",\"top_units\":\"screen\"},\"id\":\"7e881711-7ab9-4e23-8bdc-8da97d605f57\",\"type\":\"BoxAnnotation\"},{\"attributes\":{\"data_source\":{\"id\":\"50e62306-4527-4215-ac0a-4389c104a9d7\",\"type\":\"ColumnDataSource\"},\"glyph\":{\"id\":\"1d070b76-605e-40d1-b27c-bc2fdadcc3ac\",\"type\":\"Circle\"},\"hover_glyph\":null,\"nonselection_glyph\":null,\"selection_glyph\":null},\"id\":\"660ce438-ff42-42b4-b300-53bbd23aa0aa\",\"type\":\"GlyphRenderer\"},{\"attributes\":{\"plot\":{\"id\":\"84c59125-0326-4b2e-9fe5-6292ee56a4eb\",\"subtype\":\"Chart\",\"type\":\"Plot\"}},\"id\":\"bc15cc8e-eb5b-4989-aaf7-a84716c5c10c\",\"type\":\"WheelZoomTool\"},{\"attributes\":{\"callback\":null,\"end\":50.36,\"start\":5.24},\"id\":\"7292d0b9-fe35-4768-8465-d6a23b0f5d11\",\"type\":\"Range1d\"},{\"attributes\":{\"plot\":null,\"text\":\"MPG vs Horsepower\"},\"id\":\"2f734f06-60f0-4f6f-b9f6-5c56fddf7d4e\",\"type\":\"Title\"},{\"attributes\":{\"active_drag\":\"auto\",\"active_scroll\":\"auto\",\"active_tap\":\"auto\",\"tools\":[{\"id\":\"9b39aa67-52d3-4132-ac01-53ba06cf7239\",\"type\":\"PanTool\"},{\"id\":\"bc15cc8e-eb5b-4989-aaf7-a84716c5c10c\",\"type\":\"WheelZoomTool\"},{\"id\":\"77b25fde-bd8f-4559-81ed-64e4133714e8\",\"type\":\"BoxZoomTool\"},{\"id\":\"91d430de-dd6c-4b9c-9c3b-366ba8e19f74\",\"type\":\"SaveTool\"},{\"id\":\"f439efcb-dd9a-461d-a429-5e4360c415f4\",\"type\":\"ResetTool\"},{\"id\":\"a50e0bc9-a925-4ae2-a588-a5342d82f9ef\",\"type\":\"HelpTool\"}]},\"id\":\"4c29073c-db48-46b6-9adc-a2639531c299\",\"type\":\"Toolbar\"},{\"attributes\":{},\"id\":\"3d3b5b8c-ec7e-496f-82c3-d83b51ee9431\",\"type\":\"BasicTicker\"},{\"attributes\":{\"data_source\":{\"id\":\"731e8b32-bf7b-418f-a391-118363f4c825\",\"type\":\"ColumnDataSource\"},\"glyph\":{\"id\":\"fa09a6eb-c3c2-4f54-af7d-dfe5f05e7211\",\"type\":\"Circle\"},\"hover_glyph\":null,\"nonselection_glyph\":null,\"selection_glyph\":null},\"id\":\"9928e0e7-c5b8-4cb5-a7b3-2c9c7ced4551\",\"type\":\"GlyphRenderer\"},{\"attributes\":{\"plot\":{\"id\":\"84c59125-0326-4b2e-9fe5-6292ee56a4eb\",\"subtype\":\"Chart\",\"type\":\"Plot\"},\"ticker\":{\"id\":\"902b7de2-2548-498e-9f7f-9b33512f4a90\",\"type\":\"BasicTicker\"}},\"id\":\"6e206551-592e-4be0-88c1-03e90fd10ec2\",\"type\":\"Grid\"},{\"attributes\":{\"label\":{\"value\":\"5\"},\"renderers\":[{\"id\":\"61c4edd4-71aa-4eea-b435-a78bb05ba8c8\",\"type\":\"GlyphRenderer\"}]},\"id\":\"d5dbba19-619b-45a4-b42f-056f70697976\",\"type\":\"LegendItem\"},{\"attributes\":{\"overlay\":{\"id\":\"7e881711-7ab9-4e23-8bdc-8da97d605f57\",\"type\":\"BoxAnnotation\"},\"plot\":{\"id\":\"84c59125-0326-4b2e-9fe5-6292ee56a4eb\",\"subtype\":\"Chart\",\"type\":\"Plot\"}},\"id\":\"77b25fde-bd8f-4559-81ed-64e4133714e8\",\"type\":\"BoxZoomTool\"},{\"attributes\":{\"fill_alpha\":{\"value\":0.7},\"fill_color\":{\"value\":\"#f22c40\"},\"line_color\":{\"value\":\"#f22c40\"},\"size\":{\"units\":\"screen\",\"value\":8},\"x\":{\"field\":\"x_values\"},\"y\":{\"field\":\"y_values\"}},\"id\":\"1d070b76-605e-40d1-b27c-bc2fdadcc3ac\",\"type\":\"Circle\"},{\"attributes\":{\"callback\":null,\"end\":248.4,\"start\":27.599999999999998},\"id\":\"b90f4ad9-96b2-460a-a89c-1c0638a5e1ba\",\"type\":\"Range1d\"},{\"attributes\":{\"items\":[{\"id\":\"1de18f59-cbdb-4c33-948a-62c24bf8adc2\",\"type\":\"LegendItem\"},{\"id\":\"37f92009-c906-41dc-9c98-65d45fc0ed0a\",\"type\":\"LegendItem\"},{\"id\":\"eafbc613-3f48-441f-90b2-3801ac9d16b6\",\"type\":\"LegendItem\"},{\"id\":\"f71d333f-5cd8-4348-b989-2de6113c572a\",\"type\":\"LegendItem\"},{\"id\":\"d5dbba19-619b-45a4-b42f-056f70697976\",\"type\":\"LegendItem\"}],\"location\":\"top_left\",\"plot\":{\"id\":\"84c59125-0326-4b2e-9fe5-6292ee56a4eb\",\"subtype\":\"Chart\",\"type\":\"Plot\"}},\"id\":\"19e3108a-33be-4776-9b20-c67b035d7f80\",\"type\":\"Legend\"},{\"attributes\":{\"callback\":null,\"column_names\":[\"x_values\",\"y_values\"],\"data\":{\"chart_index\":[{\"cyl\":6},{\"cyl\":6},{\"cyl\":6},{\"cyl\":6},{\"cyl\":6},{\"cyl\":6},{\"cyl\":6},{\"cyl\":6},{\"cyl\":6},{\"cyl\":6},{\"cyl\":6},{\"cyl\":6},{\"cyl\":6},{\"cyl\":6},{\"cyl\":6},{\"cyl\":6},{\"cyl\":6},{\"cyl\":6},{\"cyl\":6},{\"cyl\":6},{\"cyl\":6},{\"cyl\":6},{\"cyl\":6},{\"cyl\":6},{\"cyl\":6},{\"cyl\":6},{\"cyl\":6},{\"cyl\":6},{\"cyl\":6},{\"cyl\":6},{\"cyl\":6},{\"cyl\":6},{\"cyl\":6},{\"cyl\":6},{\"cyl\":6},{\"cyl\":6},{\"cyl\":6},{\"cyl\":6},{\"cyl\":6},{\"cyl\":6},{\"cyl\":6},{\"cyl\":6},{\"cyl\":6},{\"cyl\":6},{\"cyl\":6},{\"cyl\":6},{\"cyl\":6},{\"cyl\":6},{\"cyl\":6},{\"cyl\":6},{\"cyl\":6},{\"cyl\":6},{\"cyl\":6},{\"cyl\":6},{\"cyl\":6},{\"cyl\":6},{\"cyl\":6},{\"cyl\":6},{\"cyl\":6},{\"cyl\":6},{\"cyl\":6},{\"cyl\":6},{\"cyl\":6},{\"cyl\":6},{\"cyl\":6},{\"cyl\":6},{\"cyl\":6},{\"cyl\":6},{\"cyl\":6},{\"cyl\":6},{\"cyl\":6},{\"cyl\":6},{\"cyl\":6},{\"cyl\":6},{\"cyl\":6},{\"cyl\":6},{\"cyl\":6},{\"cyl\":6},{\"cyl\":6},{\"cyl\":6},{\"cyl\":6},{\"cyl\":6},{\"cyl\":6}],\"cyl\":[6,6,6,6,6,6,6,6,6,6,6,6,6,6,6,6,6,6,6,6,6,6,6,6,6,6,6,6,6,6,6,6,6,6,6,6,6,6,6,6,6,6,6,6,6,6,6,6,6,6,6,6,6,6,6,6,6,6,6,6,6,6,6,6,6,6,6,6,6,6,6,6,6,6,6,6,6,6,6,6,6,6,6],\"x_values\":{\"__ndarray__\":\"AAAAAAAANkAAAAAAAAAyQAAAAAAAADVAAAAAAAAANUAAAAAAAAAzQAAAAAAAADBAAAAAAAAAMUAAAAAAAAAzQAAAAAAAADJAAAAAAAAAMkAAAAAAAAAzQAAAAAAAADJAAAAAAAAAMkAAAAAAAAAwQAAAAAAAADJAAAAAAAAAMkAAAAAAAAA3QAAAAAAAADJAAAAAAAAANUAAAAAAAAA0QAAAAAAAADRAAAAAAAAAM0AAAAAAAAAuQAAAAAAAADBAAAAAAAAAMEAAAAAAAAAyQAAAAAAAADNAAAAAAAAAMkAAAAAAAAAuQAAAAAAAAC5AAAAAAAAAMUAAAAAAAAAwQAAAAAAAAC5AAAAAAAAAMkAAAAAAAAA1QAAAAAAAADRAAAAAAAAAMkAAAAAAAAAzQAAAAAAAADZAAAAAAAAANkAAAAAAAAA4QAAAAAAAgDZAAAAAAAAANEAAAAAAAAAyQAAAAAAAgDJAAAAAAACAMUAAAAAAAAAzQAAAAAAAgDBAAAAAAACAMUAAAAAAAIA0QAAAAAAAADNAAAAAAACAMkAAAAAAAAA2QDMzMzMzMzNAAAAAAACANEAzMzMzMzM0QAAAAAAAgDRAZmZmZmZmM0CamZmZmZk0QM3MzMzMzDRAmpmZmZmZMkCamZmZmRkyQDMzMzMzszFAAAAAAAAAMUAzMzMzMzMwQAAAAAAAgDVAzczMzMzMM0AzMzMzMzM0QJqZmZmZmTRAzczMzMzMPEDNzMzMzMw6QJqZmZmZGTNAmpmZmZlZQEAAAAAAAIA3QDMzMzMzsz5AZmZmZmZmOUAzMzMzMzM4QGZmZmZmZjZAMzMzMzMzNECamZmZmZkxQAAAAAAAADlAAAAAAAAAQ0AAAAAAAAA2QA==\",\"dtype\":\"float64\",\"shape\":[83]},\"y_values\":[95,97,85,90,100,105,100,88,100,110,100,88,105,100,100,88,95,100,107,122,95,100,100,100,110,105,95,105,72,72,110,105,110,95,110,100,97,90,100,105,81,90,100,78,110,95,108,120,110,105,100,98,97,105,95,85,100,90,105,85,110,120,165,125,133,115,85,90,110,115,115,90,132,110,76,116,120,110,88,85,110,85,112]}},\"id\":\"731e8b32-bf7b-418f-a391-118363f4c825\",\"type\":\"ColumnDataSource\"},{\"attributes\":{\"callback\":null,\"column_names\":[\"x_values\",\"y_values\"],\"data\":{\"chart_index\":[{\"cyl\":5},{\"cyl\":5},{\"cyl\":5}],\"cyl\":[5,5,5],\"x_values\":{\"__ndarray__\":\"zczMzMxMNEBmZmZmZmY5QDMzMzMzM0JA\",\"dtype\":\"float64\",\"shape\":[3]},\"y_values\":[103,77,67]}},\"id\":\"6f3a1cc3-1730-473d-995f-a10e82aa113a\",\"type\":\"ColumnDataSource\"},{\"attributes\":{\"label\":{\"value\":\"8\"},\"renderers\":[{\"id\":\"57db6dd5-a406-4e65-9c8b-db47d71577a0\",\"type\":\"GlyphRenderer\"}]},\"id\":\"1de18f59-cbdb-4c33-948a-62c24bf8adc2\",\"type\":\"LegendItem\"},{\"attributes\":{},\"id\":\"0944fddd-06a1-458c-af96-456e530e1504\",\"type\":\"ToolEvents\"},{\"attributes\":{\"plot\":{\"id\":\"84c59125-0326-4b2e-9fe5-6292ee56a4eb\",\"subtype\":\"Chart\",\"type\":\"Plot\"}},\"id\":\"9b39aa67-52d3-4132-ac01-53ba06cf7239\",\"type\":\"PanTool\"},{\"attributes\":{\"callback\":null,\"column_names\":[\"x_values\",\"y_values\"],\"data\":{\"chart_index\":[{\"cyl\":4},{\"cyl\":4},{\"cyl\":4},{\"cyl\":4},{\"cyl\":4},{\"cyl\":4},{\"cyl\":4},{\"cyl\":4},{\"cyl\":4},{\"cyl\":4},{\"cyl\":4},{\"cyl\":4},{\"cyl\":4},{\"cyl\":4},{\"cyl\":4},{\"cyl\":4},{\"cyl\":4},{\"cyl\":4},{\"cyl\":4},{\"cyl\":4},{\"cyl\":4},{\"cyl\":4},{\"cyl\":4},{\"cyl\":4},{\"cyl\":4},{\"cyl\":4},{\"cyl\":4},{\"cyl\":4},{\"cyl\":4},{\"cyl\":4},{\"cyl\":4},{\"cyl\":4},{\"cyl\":4},{\"cyl\":4},{\"cyl\":4},{\"cyl\":4},{\"cyl\":4},{\"cyl\":4},{\"cyl\":4},{\"cyl\":4},{\"cyl\":4},{\"cyl\":4},{\"cyl\":4},{\"cyl\":4},{\"cyl\":4},{\"cyl\":4},{\"cyl\":4},{\"cyl\":4},{\"cyl\":4},{\"cyl\":4},{\"cyl\":4},{\"cyl\":4},{\"cyl\":4},{\"cyl\":4},{\"cyl\":4},{\"cyl\":4},{\"cyl\":4},{\"cyl\":4},{\"cyl\":4},{\"cyl\":4},{\"cyl\":4},{\"cyl\":4},{\"cyl\":4},{\"cyl\":4},{\"cyl\":4},{\"cyl\":4},{\"cyl\":4},{\"cyl\":4},{\"cyl\":4},{\"cyl\":4},{\"cyl\":4},{\"cyl\":4},{\"cyl\":4},{\"cyl\":4},{\"cyl\":4},{\"cyl\":4},{\"cyl\":4},{\"cyl\":4},{\"cyl\":4},{\"cyl\":4},{\"cyl\":4},{\"cyl\":4},{\"cyl\":4},{\"cyl\":4},{\"cyl\":4},{\"cyl\":4},{\"cyl\":4},{\"cyl\":4},{\"cyl\":4},{\"cyl\":4},{\"cyl\":4},{\"cyl\":4},{\"cyl\":4},{\"cyl\":4},{\"cyl\":4},{\"cyl\":4},{\"cyl\":4},{\"cyl\":4},{\"cyl\":4},{\"cyl\":4},{\"cyl\":4},{\"cyl\":4},{\"cyl\":4},{\"cyl\":4},{\"cyl\":4},{\"cyl\":4},{\"cyl\":4},{\"cyl\":4},{\"cyl\":4},{\"cyl\":4},{\"cyl\":4},{\"cyl\":4},{\"cyl\":4},{\"cyl\":4},{\"cyl\":4},{\"cyl\":4},{\"cyl\":4},{\"cyl\":4},{\"cyl\":4},{\"cyl\":4},{\"cyl\":4},{\"cyl\":4},{\"cyl\":4},{\"cyl\":4},{\"cyl\":4},{\"cyl\":4},{\"cyl\":4},{\"cyl\":4},{\"cyl\":4},{\"cyl\":4},{\"cyl\":4},{\"cyl\":4},{\"cyl\":4},{\"cyl\":4},{\"cyl\":4},{\"cyl\":4},{\"cyl\":4},{\"cyl\":4},{\"cyl\":4},{\"cyl\":4},{\"cyl\":4},{\"cyl\":4},{\"cyl\":4},{\"cyl\":4},{\"cyl\":4},{\"cyl\":4},{\"cyl\":4},{\"cyl\":4},{\"cyl\":4},{\"cyl\":4},{\"cyl\":4},{\"cyl\":4},{\"cyl\":4},{\"cyl\":4},{\"cyl\":4},{\"cyl\":4},{\"cyl\":4},{\"cyl\":4},{\"cyl\":4},{\"cyl\":4},{\"cyl\":4},{\"cyl\":4},{\"cyl\":4},{\"cyl\":4},{\"cyl\":4},{\"cyl\":4},{\"cyl\":4},{\"cyl\":4},{\"cyl\":4},{\"cyl\":4},{\"cyl\":4},{\"cyl\":4},{\"cyl\":4},{\"cyl\":4},{\"cyl\":4},{\"cyl\":4},{\"cyl\":4},{\"cyl\":4},{\"cyl\":4},{\"cyl\":4},{\"cyl\":4},{\"cyl\":4},{\"cyl\":4},{\"cyl\":4},{\"cyl\":4},{\"cyl\":4},{\"cyl\":4},{\"cyl\":4},{\"cyl\":4},{\"cyl\":4},{\"cyl\":4},{\"cyl\":4},{\"cyl\":4},{\"cyl\":4},{\"cyl\":4},{\"cyl\":4},{\"cyl\":4},{\"cyl\":4},{\"cyl\":4}],\"cyl\":[4,4,4,4,4,4,4,4,4,4,4,4,4,4,4,4,4,4,4,4,4,4,4,4,4,4,4,4,4,4,4,4,4,4,4,4,4,4,4,4,4,4,4,4,4,4,4,4,4,4,4,4,4,4,4,4,4,4,4,4,4,4,4,4,4,4,4,4,4,4,4,4,4,4,4,4,4,4,4,4,4,4,4,4,4,4,4,4,4,4,4,4,4,4,4,4,4,4,4,4,4,4,4,4,4,4,4,4,4,4,4,4,4,4,4,4,4,4,4,4,4,4,4,4,4,4,4,4,4,4,4,4,4,4,4,4,4,4,4,4,4,4,4,4,4,4,4,4,4,4,4,4,4,4,4,4,4,4,4,4,4,4,4,4,4,4,4,4,4,4,4,4,4,4,4,4,4,4,4,4,4,4,4,4,4,4,4,4,4,4,4,4,4,4,4,4,4,4,4],\"x_values\":{\"__ndarray__\":\"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\",\"dtype\":\"float64\",\"shape\":[199]},\"y_values\":[95,88,46,87,90,95,113,88,90,95,72,86,90,70,76,65,69,60,70,95,80,54,90,86,112,76,87,69,86,92,97,80,88,46,88,72,94,85,90,49,75,91,112,110,67,80,65,75,83,67,78,52,61,75,75,75,97,93,67,75,83,78,96,71,97,70,95,88,98,115,53,86,81,92,79,83,52,60,70,53,71,70,75,72,102,88,68,80,58,96,70,78,88,75,89,63,83,67,78,110,48,66,52,70,60,88,68,95,97,75,95,105,85,97,115,71,68,88,71,65,80,80,71,70,70,65,69,90,90,76,60,70,65,90,88,90,78,90,75,92,75,65,105,65,48,48,67,67,67,62,88,72,84,84,92,84,58,64,60,67,65,62,68,63,65,65,74,75,75,100,74,80,88,88,88,85,84,90,92,74,68,68,63,70,88,75,70,67,67,67,92,96,84,90,86,52,84,79,82]}},\"id\":\"3bb9275d-0069-4ae8-ad7b-12cd95ef436c\",\"type\":\"ColumnDataSource\"},{\"attributes\":{\"dimension\":1,\"plot\":{\"id\":\"84c59125-0326-4b2e-9fe5-6292ee56a4eb\",\"subtype\":\"Chart\",\"type\":\"Plot\"},\"ticker\":{\"id\":\"3d3b5b8c-ec7e-496f-82c3-d83b51ee9431\",\"type\":\"BasicTicker\"}},\"id\":\"9f453b73-75c4-4528-86b8-9dd56dc89cf7\",\"type\":\"Grid\"},{\"attributes\":{\"fill_alpha\":{\"value\":0.7},\"fill_color\":{\"value\":\"#df5320\"},\"line_color\":{\"value\":\"#df5320\"},\"size\":{\"units\":\"screen\",\"value\":8},\"x\":{\"field\":\"x_values\"},\"y\":{\"field\":\"y_values\"}},\"id\":\"fa09a6eb-c3c2-4f54-af7d-dfe5f05e7211\",\"type\":\"Circle\"},{\"attributes\":{\"plot\":{\"id\":\"84c59125-0326-4b2e-9fe5-6292ee56a4eb\",\"subtype\":\"Chart\",\"type\":\"Plot\"}},\"id\":\"f439efcb-dd9a-461d-a429-5e4360c415f4\",\"type\":\"ResetTool\"},{\"attributes\":{},\"id\":\"51a57223-e6e6-41bb-a59a-98a89cebf746\",\"type\":\"BasicTickFormatter\"},{\"attributes\":{\"axis_label\":\"Miles Per Gallon\",\"formatter\":{\"id\":\"a31df8b3-2092-4124-8ecb-d84c17b7551f\",\"type\":\"BasicTickFormatter\"},\"plot\":{\"id\":\"84c59125-0326-4b2e-9fe5-6292ee56a4eb\",\"subtype\":\"Chart\",\"type\":\"Plot\"},\"ticker\":{\"id\":\"902b7de2-2548-498e-9f7f-9b33512f4a90\",\"type\":\"BasicTicker\"}},\"id\":\"61ce0408-4ac7-4982-a3b3-9fa1119f1cc7\",\"type\":\"LinearAxis\"},{\"attributes\":{},\"id\":\"902b7de2-2548-498e-9f7f-9b33512f4a90\",\"type\":\"BasicTicker\"},{\"attributes\":{\"label\":{\"value\":\"4\"},\"renderers\":[{\"id\":\"90f81caf-c29b-4af5-b850-6b8575b08674\",\"type\":\"GlyphRenderer\"}]},\"id\":\"37f92009-c906-41dc-9c98-65d45fc0ed0a\",\"type\":\"LegendItem\"},{\"attributes\":{\"label\":{\"value\":\"6\"},\"renderers\":[{\"id\":\"9928e0e7-c5b8-4cb5-a7b3-2c9c7ced4551\",\"type\":\"GlyphRenderer\"}]},\"id\":\"eafbc613-3f48-441f-90b2-3801ac9d16b6\",\"type\":\"LegendItem\"},{\"attributes\":{\"label\":{\"value\":\"3\"},\"renderers\":[{\"id\":\"660ce438-ff42-42b4-b300-53bbd23aa0aa\",\"type\":\"GlyphRenderer\"}]},\"id\":\"f71d333f-5cd8-4348-b989-2de6113c572a\",\"type\":\"LegendItem\"},{\"attributes\":{\"below\":[{\"id\":\"61ce0408-4ac7-4982-a3b3-9fa1119f1cc7\",\"type\":\"LinearAxis\"}],\"css_classes\":null,\"left\":[{\"id\":\"96cb371d-e781-4176-9e7d-c80870bbbdb2\",\"type\":\"LinearAxis\"}],\"renderers\":[{\"id\":\"7e881711-7ab9-4e23-8bdc-8da97d605f57\",\"type\":\"BoxAnnotation\"},{\"id\":\"57db6dd5-a406-4e65-9c8b-db47d71577a0\",\"type\":\"GlyphRenderer\"},{\"id\":\"90f81caf-c29b-4af5-b850-6b8575b08674\",\"type\":\"GlyphRenderer\"},{\"id\":\"9928e0e7-c5b8-4cb5-a7b3-2c9c7ced4551\",\"type\":\"GlyphRenderer\"},{\"id\":\"660ce438-ff42-42b4-b300-53bbd23aa0aa\",\"type\":\"GlyphRenderer\"},{\"id\":\"61c4edd4-71aa-4eea-b435-a78bb05ba8c8\",\"type\":\"GlyphRenderer\"},{\"id\":\"19e3108a-33be-4776-9b20-c67b035d7f80\",\"type\":\"Legend\"},{\"id\":\"61ce0408-4ac7-4982-a3b3-9fa1119f1cc7\",\"type\":\"LinearAxis\"},{\"id\":\"96cb371d-e781-4176-9e7d-c80870bbbdb2\",\"type\":\"LinearAxis\"},{\"id\":\"6e206551-592e-4be0-88c1-03e90fd10ec2\",\"type\":\"Grid\"},{\"id\":\"9f453b73-75c4-4528-86b8-9dd56dc89cf7\",\"type\":\"Grid\"}],\"title\":{\"id\":\"2f734f06-60f0-4f6f-b9f6-5c56fddf7d4e\",\"type\":\"Title\"},\"tool_events\":{\"id\":\"0944fddd-06a1-458c-af96-456e530e1504\",\"type\":\"ToolEvents\"},\"toolbar\":{\"id\":\"4c29073c-db48-46b6-9adc-a2639531c299\",\"type\":\"Toolbar\"},\"x_mapper_type\":\"auto\",\"x_range\":{\"id\":\"7292d0b9-fe35-4768-8465-d6a23b0f5d11\",\"type\":\"Range1d\"},\"y_mapper_type\":\"auto\",\"y_range\":{\"id\":\"b90f4ad9-96b2-460a-a89c-1c0638a5e1ba\",\"type\":\"Range1d\"}},\"id\":\"84c59125-0326-4b2e-9fe5-6292ee56a4eb\",\"subtype\":\"Chart\",\"type\":\"Plot\"},{\"attributes\":{\"plot\":{\"id\":\"84c59125-0326-4b2e-9fe5-6292ee56a4eb\",\"subtype\":\"Chart\",\"type\":\"Plot\"}},\"id\":\"a50e0bc9-a925-4ae2-a588-a5342d82f9ef\",\"type\":\"HelpTool\"},{\"attributes\":{\"plot\":{\"id\":\"84c59125-0326-4b2e-9fe5-6292ee56a4eb\",\"subtype\":\"Chart\",\"type\":\"Plot\"}},\"id\":\"91d430de-dd6c-4b9c-9c3b-366ba8e19f74\",\"type\":\"SaveTool\"},{\"attributes\":{\"callback\":null,\"column_names\":[\"x_values\",\"y_values\"],\"data\":{\"chart_index\":[{\"cyl\":3},{\"cyl\":3},{\"cyl\":3},{\"cyl\":3}],\"cyl\":[3,3,3,3],\"x_values\":{\"__ndarray__\":\"AAAAAAAAM0AAAAAAAAAyQAAAAAAAgDVAMzMzMzOzN0A=\",\"dtype\":\"float64\",\"shape\":[4]},\"y_values\":[97,90,110,100]}},\"id\":\"50e62306-4527-4215-ac0a-4389c104a9d7\",\"type\":\"ColumnDataSource\"},{\"attributes\":{\"fill_alpha\":{\"value\":0.7},\"fill_color\":{\"value\":\"#407ee7\"},\"line_color\":{\"value\":\"#407ee7\"},\"size\":{\"units\":\"screen\",\"value\":8},\"x\":{\"field\":\"x_values\"},\"y\":{\"field\":\"y_values\"}},\"id\":\"93d455ed-90cc-4d34-9e54-cc4ff500d576\",\"type\":\"Circle\"},{\"attributes\":{\"fill_alpha\":{\"value\":0.7},\"fill_color\":{\"value\":\"#5ab738\"},\"line_color\":{\"value\":\"#5ab738\"},\"size\":{\"units\":\"screen\",\"value\":8},\"x\":{\"field\":\"x_values\"},\"y\":{\"field\":\"y_values\"}},\"id\":\"a58dde1a-7be3-4a2c-b750-78a70e2f349e\",\"type\":\"Circle\"},{\"attributes\":{\"callback\":null,\"column_names\":[\"x_values\",\"y_values\"],\"data\":{\"chart_index\":[{\"cyl\":8},{\"cyl\":8},{\"cyl\":8},{\"cyl\":8},{\"cyl\":8},{\"cyl\":8},{\"cyl\":8},{\"cyl\":8},{\"cyl\":8},{\"cyl\":8},{\"cyl\":8},{\"cyl\":8},{\"cyl\":8},{\"cyl\":8},{\"cyl\":8},{\"cyl\":8},{\"cyl\":8},{\"cyl\":8},{\"cyl\":8},{\"cyl\":8},{\"cyl\":8},{\"cyl\":8},{\"cyl\":8},{\"cyl\":8},{\"cyl\":8},{\"cyl\":8},{\"cyl\":8},{\"cyl\":8},{\"cyl\":8},{\"cyl\":8},{\"cyl\":8},{\"cyl\":8},{\"cyl\":8},{\"cyl\":8},{\"cyl\":8},{\"cyl\":8},{\"cyl\":8},{\"cyl\":8},{\"cyl\":8},{\"cyl\":8},{\"cyl\":8},{\"cyl\":8},{\"cyl\":8},{\"cyl\":8},{\"cyl\":8},{\"cyl\":8},{\"cyl\":8},{\"cyl\":8},{\"cyl\":8},{\"cyl\":8},{\"cyl\":8},{\"cyl\":8},{\"cyl\":8},{\"cyl\":8},{\"cyl\":8},{\"cyl\":8},{\"cyl\":8},{\"cyl\":8},{\"cyl\":8},{\"cyl\":8},{\"cyl\":8},{\"cyl\":8},{\"cyl\":8},{\"cyl\":8},{\"cyl\":8},{\"cyl\":8},{\"cyl\":8},{\"cyl\":8},{\"cyl\":8},{\"cyl\":8},{\"cyl\":8},{\"cyl\":8},{\"cyl\":8},{\"cyl\":8},{\"cyl\":8},{\"cyl\":8},{\"cyl\":8},{\"cyl\":8},{\"cyl\":8},{\"cyl\":8},{\"cyl\":8},{\"cyl\":8},{\"cyl\":8},{\"cyl\":8},{\"cyl\":8},{\"cyl\":8},{\"cyl\":8},{\"cyl\":8},{\"cyl\":8},{\"cyl\":8},{\"cyl\":8},{\"cyl\":8},{\"cyl\":8},{\"cyl\":8},{\"cyl\":8},{\"cyl\":8},{\"cyl\":8},{\"cyl\":8},{\"cyl\":8},{\"cyl\":8},{\"cyl\":8},{\"cyl\":8},{\"cyl\":8}],\"cyl\":[8,8,8,8,8,8,8,8,8,8,8,8,8,8,8,8,8,8,8,8,8,8,8,8,8,8,8,8,8,8,8,8,8,8,8,8,8,8,8,8,8,8,8,8,8,8,8,8,8,8,8,8,8,8,8,8,8,8,8,8,8,8,8,8,8,8,8,8,8,8,8,8,8,8,8,8,8,8,8,8,8,8,8,8,8,8,8,8,8,8,8,8,8,8,8,8,8,8,8,8,8,8,8],\"x_values\":{\"__ndarray__\":\"AAAAAAAAMkAAAAAAAAAuQAAAAAAAADJAAAAAAAAAMEAAAAAAAAAxQAAAAAAAAC5AAAAAAAAALEAAAAAAAAAsQAAAAAAAACxAAAAAAAAALkAAAAAAAAAuQAAAAAAAACxAAAAAAAAALkAAAAAAAAAsQAAAAAAAACRAAAAAAAAAJEAAAAAAAAAmQAAAAAAAACJAAAAAAAAALEAAAAAAAAAsQAAAAAAAACxAAAAAAAAALEAAAAAAAAAoQAAAAAAAACpAAAAAAAAAKkAAAAAAAAAqQAAAAAAAACxAAAAAAAAALkAAAAAAAAAsQAAAAAAAADFAAAAAAAAAJkAAAAAAAAAqQAAAAAAAAChAAAAAAAAAKkAAAAAAAAAuQAAAAAAAACpAAAAAAAAAKkAAAAAAAAAsQAAAAAAAACpAAAAAAAAALEAAAAAAAAAqQAAAAAAAACxAAAAAAAAALkAAAAAAAAAoQAAAAAAAACpAAAAAAAAAKkAAAAAAAAAsQAAAAAAAACpAAAAAAAAAKEAAAAAAAAAqQAAAAAAAACZAAAAAAAAAKEAAAAAAAAAqQAAAAAAAAChAAAAAAAAALkAAAAAAAAAwQAAAAAAAAC5AAAAAAAAAJkAAAAAAAAAwQAAAAAAAACpAAAAAAAAALEAAAAAAAAAsQAAAAAAAACxAAAAAAAAAMEAAAAAAAAAuQAAAAAAAADBAAAAAAAAALEAAAAAAAAA0QAAAAAAAACpAAAAAAACAMUAAAAAAAAAwQAAAAAAAAC9AAAAAAAAALUAAAAAAAAAqQAAAAAAAgDBAAAAAAAAAKkAAAAAAAAAqQAAAAAAAACpAAAAAAACAMUAAAAAAAAAxQAAAAAAAAC9AAAAAAAAALkAAAAAAAAAwQAAAAAAAAC9AAAAAAAAAL0AAAAAAAAAwQGZmZmZm5jNAZmZmZmZmM0AzMzMzMzM0QDMzMzMzMzNAmpmZmZkZMkAAAAAAAIAxQAAAAAAAADFAmpmZmZmZMUAAAAAAAIAwQDMzMzMzMzJAZmZmZmbmMEAAAAAAAAAvQDMzMzMzMzNAAAAAAACAMkAAAAAAAAA3QGZmZmZm5jdAmpmZmZmZOkA=\",\"dtype\":\"float64\",\"shape\":[103]},\"y_values\":[130,165,150,150,140,198,220,215,225,190,170,160,150,225,215,200,210,193,165,175,153,150,180,170,175,165,175,150,153,150,208,155,160,190,150,130,140,150,175,150,145,137,150,198,150,158,150,215,225,175,150,167,170,180,145,230,150,180,140,150,150,140,150,170,145,150,148,110,129,140,150,120,152,150,180,145,130,150,145,110,145,130,180,170,190,149,110,140,139,145,139,140,130,129,138,135,155,142,125,150,125,90,105]}},\"id\":\"e8d82f8f-4040-4602-be66-8e7317c4293f\",\"type\":\"ColumnDataSource\"},{\"attributes\":{\"data_source\":{\"id\":\"6f3a1cc3-1730-473d-995f-a10e82aa113a\",\"type\":\"ColumnDataSource\"},\"glyph\":{\"id\":\"93d455ed-90cc-4d34-9e54-cc4ff500d576\",\"type\":\"Circle\"},\"hover_glyph\":null,\"nonselection_glyph\":null,\"selection_glyph\":null},\"id\":\"61c4edd4-71aa-4eea-b435-a78bb05ba8c8\",\"type\":\"GlyphRenderer\"}],\"root_ids\":[\"84c59125-0326-4b2e-9fe5-6292ee56a4eb\"]},\"title\":\"Bokeh Application\",\"version\":\"0.12.4\"}};\n",
       "            var render_items = [{\"docid\":\"590718e6-f343-4de0-a880-87ac098de325\",\"elementid\":\"1d164497-b158-4ce3-99d2-b1cb4daa21ed\",\"modelid\":\"84c59125-0326-4b2e-9fe5-6292ee56a4eb\"}];\n",
       "            \n",
       "            Bokeh.embed.embed_items(docs_json, render_items);\n",
       "          };\n",
       "          if (document.readyState != \"loading\") fn();\n",
       "          else document.addEventListener(\"DOMContentLoaded\", fn);\n",
       "        })();\n",
       "      },\n",
       "      function(Bokeh) {\n",
       "      }\n",
       "    ];\n",
       "  \n",
       "    function run_inline_js() {\n",
       "      \n",
       "      if ((window.Bokeh !== undefined) || (force === true)) {\n",
       "        for (var i = 0; i < inline_js.length; i++) {\n",
       "          inline_js[i](window.Bokeh);\n",
       "        }if (force === true) {\n",
       "          display_loaded();\n",
       "        }} else if (Date.now() < window._bokeh_timeout) {\n",
       "        setTimeout(run_inline_js, 100);\n",
       "      } else if (!window._bokeh_failed_load) {\n",
       "        console.log(\"Bokeh: BokehJS failed to load within specified timeout.\");\n",
       "        window._bokeh_failed_load = true;\n",
       "      } else if (force !== true) {\n",
       "        var cell = $(document.getElementById(\"1d164497-b158-4ce3-99d2-b1cb4daa21ed\")).parents('.cell').data().cell;\n",
       "        cell.output_area.append_execute_result(NB_LOAD_WARNING)\n",
       "      }\n",
       "  \n",
       "    }\n",
       "  \n",
       "    if (window._bokeh_is_loading === 0) {\n",
       "      console.log(\"Bokeh: BokehJS loaded, going straight to plotting\");\n",
       "      run_inline_js();\n",
       "    } else {\n",
       "      load_libs(js_urls, function() {\n",
       "        console.log(\"Bokeh: BokehJS plotting callback run at\", now());\n",
       "        run_inline_js();\n",
       "      });\n",
       "    }\n",
       "  }(this));\n",
       "</script>"
      ]
     },
     "metadata": {},
     "output_type": "display_data"
    }
   ],
   "source": [
    "from bokeh.charts import Scatter\n",
    "\n",
    "scatter = Scatter(df, x='mpg', y='hp', color='cyl', \n",
    "                  title=\"MPG vs Horsepower\", xlabel=\"Miles Per Gallon\",\n",
    "                  ylabel=\"Horsepower\")\n",
    "\n",
    "show(scatter)"
   ]
  },
  {
   "cell_type": "markdown",
   "metadata": {
    "nbpresent": {
     "id": "1ec28525-f523-4e70-af2e-04c15aabdea0"
    }
   },
   "source": [
    "## Linking\n",
    "Bokeh plots can be displayed in rows with their interactions linked."
   ]
  },
  {
   "cell_type": "code",
   "execution_count": 5,
   "metadata": {
    "collapsed": false,
    "nbpresent": {
     "id": "f7a216e7-df66-4703-a263-158cf23f7d29"
    },
    "scrolled": false
   },
   "outputs": [
    {
     "data": {
      "text/html": [
       "\n",
       "\n",
       "    <div class=\"bk-root\">\n",
       "        <div class=\"bk-plotdiv\" id=\"4859962c-bcf3-4160-8fc3-ee743ea6ce74\"></div>\n",
       "    </div>\n",
       "<script type=\"text/javascript\">\n",
       "  \n",
       "  (function(global) {\n",
       "    function now() {\n",
       "      return new Date();\n",
       "    }\n",
       "  \n",
       "    var force = false;\n",
       "  \n",
       "    if (typeof (window._bokeh_onload_callbacks) === \"undefined\" || force === true) {\n",
       "      window._bokeh_onload_callbacks = [];\n",
       "      window._bokeh_is_loading = undefined;\n",
       "    }\n",
       "  \n",
       "  \n",
       "    \n",
       "    if (typeof (window._bokeh_timeout) === \"undefined\" || force === true) {\n",
       "      window._bokeh_timeout = Date.now() + 0;\n",
       "      window._bokeh_failed_load = false;\n",
       "    }\n",
       "  \n",
       "    var NB_LOAD_WARNING = {'data': {'text/html':\n",
       "       \"<div style='background-color: #fdd'>\\n\"+\n",
       "       \"<p>\\n\"+\n",
       "       \"BokehJS does not appear to have successfully loaded. If loading BokehJS from CDN, this \\n\"+\n",
       "       \"may be due to a slow or bad network connection. Possible fixes:\\n\"+\n",
       "       \"</p>\\n\"+\n",
       "       \"<ul>\\n\"+\n",
       "       \"<li>re-rerun `output_notebook()` to attempt to load from CDN again, or</li>\\n\"+\n",
       "       \"<li>use INLINE resources instead, as so:</li>\\n\"+\n",
       "       \"</ul>\\n\"+\n",
       "       \"<code>\\n\"+\n",
       "       \"from bokeh.resources import INLINE\\n\"+\n",
       "       \"output_notebook(resources=INLINE)\\n\"+\n",
       "       \"</code>\\n\"+\n",
       "       \"</div>\"}};\n",
       "  \n",
       "    function display_loaded() {\n",
       "      if (window.Bokeh !== undefined) {\n",
       "        document.getElementById(\"4859962c-bcf3-4160-8fc3-ee743ea6ce74\").textContent = \"BokehJS successfully loaded.\";\n",
       "      } else if (Date.now() < window._bokeh_timeout) {\n",
       "        setTimeout(display_loaded, 100)\n",
       "      }\n",
       "    }\n",
       "  \n",
       "    function run_callbacks() {\n",
       "      window._bokeh_onload_callbacks.forEach(function(callback) { callback() });\n",
       "      delete window._bokeh_onload_callbacks\n",
       "      console.info(\"Bokeh: all callbacks have finished\");\n",
       "    }\n",
       "  \n",
       "    function load_libs(js_urls, callback) {\n",
       "      window._bokeh_onload_callbacks.push(callback);\n",
       "      if (window._bokeh_is_loading > 0) {\n",
       "        console.log(\"Bokeh: BokehJS is being loaded, scheduling callback at\", now());\n",
       "        return null;\n",
       "      }\n",
       "      if (js_urls == null || js_urls.length === 0) {\n",
       "        run_callbacks();\n",
       "        return null;\n",
       "      }\n",
       "      console.log(\"Bokeh: BokehJS not loaded, scheduling load and callback at\", now());\n",
       "      window._bokeh_is_loading = js_urls.length;\n",
       "      for (var i = 0; i < js_urls.length; i++) {\n",
       "        var url = js_urls[i];\n",
       "        var s = document.createElement('script');\n",
       "        s.src = url;\n",
       "        s.async = false;\n",
       "        s.onreadystatechange = s.onload = function() {\n",
       "          window._bokeh_is_loading--;\n",
       "          if (window._bokeh_is_loading === 0) {\n",
       "            console.log(\"Bokeh: all BokehJS libraries loaded\");\n",
       "            run_callbacks()\n",
       "          }\n",
       "        };\n",
       "        s.onerror = function() {\n",
       "          console.warn(\"failed to load library \" + url);\n",
       "        };\n",
       "        console.log(\"Bokeh: injecting script tag for BokehJS library: \", url);\n",
       "        document.getElementsByTagName(\"head\")[0].appendChild(s);\n",
       "      }\n",
       "    };var element = document.getElementById(\"4859962c-bcf3-4160-8fc3-ee743ea6ce74\");\n",
       "    if (element == null) {\n",
       "      console.log(\"Bokeh: ERROR: autoload.js configured with elementid '4859962c-bcf3-4160-8fc3-ee743ea6ce74' but no matching script tag was found. \")\n",
       "      return false;\n",
       "    }\n",
       "  \n",
       "    var js_urls = [];\n",
       "  \n",
       "    var inline_js = [\n",
       "      function(Bokeh) {\n",
       "        (function() {\n",
       "          var fn = function() {\n",
       "            var docs_json = {\"946392d2-af8c-4deb-80b3-fce4ab8e4d2a\":{\"roots\":{\"references\":[{\"attributes\":{\"callback\":null,\"column_names\":[\"x\",\"y0\",\"y1\"],\"data\":{\"x\":[-20,-19,-18,-17,-16,-15,-14,-13,-12,-11,-10,-9,-8,-7,-6,-5,-4,-3,-2,-1,0,1,2,3,4,5,6,7,8,9,10,11,12,13,14,15,16,17,18,19,20],\"y0\":[20,19,18,17,16,15,14,13,12,11,10,9,8,7,6,5,4,3,2,1,0,1,2,3,4,5,6,7,8,9,10,11,12,13,14,15,16,17,18,19,20],\"y1\":[400,361,324,289,256,225,196,169,144,121,100,81,64,49,36,25,16,9,4,1,0,1,4,9,16,25,36,49,64,81,100,121,144,169,196,225,256,289,324,361,400]}},\"id\":\"90f30d75-3fdc-41fe-af0f-efe1ec48bbfa\",\"type\":\"ColumnDataSource\"},{\"attributes\":{\"plot\":null,\"text\":\"|x|\"},\"id\":\"7479ce21-bec7-49dc-82d5-c029b4f8e8ec\",\"type\":\"Title\"},{\"attributes\":{\"callback\":null},\"id\":\"2d95c3d8-baeb-4252-84ad-3d9ba9ea200b\",\"type\":\"DataRange1d\"},{\"attributes\":{},\"id\":\"81ff5c54-2755-436a-beff-73bda167c342\",\"type\":\"ToolEvents\"},{\"attributes\":{\"active_drag\":\"auto\",\"active_scroll\":\"auto\",\"active_tap\":\"auto\",\"tools\":[{\"id\":\"cdb72542-46b2-4acc-92be-f7fcd7bdb896\",\"type\":\"PanTool\"},{\"id\":\"133b6f53-e347-4c62-84ea-0087b3a27968\",\"type\":\"WheelZoomTool\"},{\"id\":\"f416930e-e28e-4289-ba58-fe32937fc7be\",\"type\":\"LassoSelectTool\"}]},\"id\":\"50284495-0555-4417-9317-9342e806ee37\",\"type\":\"Toolbar\"},{\"attributes\":{\"plot\":null,\"text\":\"x^2\"},\"id\":\"fe1ae3fa-890e-4914-8179-b6d3662f5717\",\"type\":\"Title\"},{\"attributes\":{\"fill_alpha\":{\"value\":0.5},\"fill_color\":{\"value\":\"lightgrey\"},\"level\":\"overlay\",\"line_alpha\":{\"value\":1.0},\"line_color\":{\"value\":\"black\"},\"line_dash\":[4,4],\"line_width\":{\"value\":2},\"plot\":null,\"xs_units\":\"screen\",\"ys_units\":\"screen\"},\"id\":\"c4ec9d1a-dad6-4281-8f83-a9b8181298e2\",\"type\":\"PolyAnnotation\"},{\"attributes\":{\"formatter\":{\"id\":\"cb3d74ba-3e24-49ea-8c21-26aaa383d98f\",\"type\":\"BasicTickFormatter\"},\"plot\":{\"id\":\"69ad44e3-46ac-4cfc-b38e-6cd08d8730ff\",\"subtype\":\"Figure\",\"type\":\"Plot\"},\"ticker\":{\"id\":\"385bcf38-963f-43dd-9f66-ac8acf3f097d\",\"type\":\"BasicTicker\"}},\"id\":\"70194ff7-561c-4451-ac49-1648aa342a92\",\"type\":\"LinearAxis\"},{\"attributes\":{\"active_drag\":\"auto\",\"active_scroll\":\"auto\",\"active_tap\":\"auto\",\"tools\":[{\"id\":\"42d1b942-8f79-449d-afb3-7dbf1970ae0b\",\"type\":\"PanTool\"},{\"id\":\"87938d36-70e7-4cce-bfe4-dfb12f9696ee\",\"type\":\"WheelZoomTool\"},{\"id\":\"5cb0b2c0-1c71-4926-b9ca-ed633111aa35\",\"type\":\"LassoSelectTool\"}]},\"id\":\"e3a41ea1-351c-4ab3-b7d4-4b0264cccdcb\",\"type\":\"Toolbar\"},{\"attributes\":{\"callback\":null},\"id\":\"e27e0281-e8ee-4c86-9c71-b83fc0b50702\",\"type\":\"DataRange1d\"},{\"attributes\":{},\"id\":\"385bcf38-963f-43dd-9f66-ac8acf3f097d\",\"type\":\"BasicTicker\"},{\"attributes\":{\"plot\":{\"id\":\"69ad44e3-46ac-4cfc-b38e-6cd08d8730ff\",\"subtype\":\"Figure\",\"type\":\"Plot\"},\"ticker\":{\"id\":\"385bcf38-963f-43dd-9f66-ac8acf3f097d\",\"type\":\"BasicTicker\"}},\"id\":\"15b64102-9360-495a-b5b9-4acd5e611b40\",\"type\":\"Grid\"},{\"attributes\":{\"formatter\":{\"id\":\"5936c2c3-42f6-411c-95df-fcd0b4b01be9\",\"type\":\"BasicTickFormatter\"},\"plot\":{\"id\":\"69ad44e3-46ac-4cfc-b38e-6cd08d8730ff\",\"subtype\":\"Figure\",\"type\":\"Plot\"},\"ticker\":{\"id\":\"3f72d0f0-fec4-4ca5-98c2-72cdb498b405\",\"type\":\"BasicTicker\"}},\"id\":\"776d0909-4d2e-4a6f-bc11-a269bd6bbce9\",\"type\":\"LinearAxis\"},{\"attributes\":{},\"id\":\"3f72d0f0-fec4-4ca5-98c2-72cdb498b405\",\"type\":\"BasicTicker\"},{\"attributes\":{\"dimension\":1,\"plot\":{\"id\":\"69ad44e3-46ac-4cfc-b38e-6cd08d8730ff\",\"subtype\":\"Figure\",\"type\":\"Plot\"},\"ticker\":{\"id\":\"3f72d0f0-fec4-4ca5-98c2-72cdb498b405\",\"type\":\"BasicTicker\"}},\"id\":\"55e9cb2e-ce9d-4d82-bec4-bf5c3506726d\",\"type\":\"Grid\"},{\"attributes\":{\"plot\":{\"id\":\"69ad44e3-46ac-4cfc-b38e-6cd08d8730ff\",\"subtype\":\"Figure\",\"type\":\"Plot\"}},\"id\":\"cdb72542-46b2-4acc-92be-f7fcd7bdb896\",\"type\":\"PanTool\"},{\"attributes\":{\"plot\":{\"id\":\"69ad44e3-46ac-4cfc-b38e-6cd08d8730ff\",\"subtype\":\"Figure\",\"type\":\"Plot\"}},\"id\":\"133b6f53-e347-4c62-84ea-0087b3a27968\",\"type\":\"WheelZoomTool\"},{\"attributes\":{\"callback\":null,\"overlay\":{\"id\":\"c4ec9d1a-dad6-4281-8f83-a9b8181298e2\",\"type\":\"PolyAnnotation\"},\"plot\":{\"id\":\"69ad44e3-46ac-4cfc-b38e-6cd08d8730ff\",\"subtype\":\"Figure\",\"type\":\"Plot\"}},\"id\":\"f416930e-e28e-4289-ba58-fe32937fc7be\",\"type\":\"LassoSelectTool\"},{\"attributes\":{\"fill_alpha\":{\"value\":0.1},\"fill_color\":{\"value\":\"#1f77b4\"},\"line_alpha\":{\"value\":0.1},\"line_color\":{\"value\":\"#1f77b4\"},\"x\":{\"field\":\"x\"},\"y\":{\"field\":\"y1\"}},\"id\":\"c634d3f9-9d94-4a2e-b432-74b5026df738\",\"type\":\"Circle\"},{\"attributes\":{\"callback\":null},\"id\":\"16dc243a-8a3c-470b-8e20-2165abf7c676\",\"type\":\"DataRange1d\"},{\"attributes\":{\"fill_alpha\":{\"value\":0.5},\"fill_color\":{\"value\":\"lightgrey\"},\"level\":\"overlay\",\"line_alpha\":{\"value\":1.0},\"line_color\":{\"value\":\"black\"},\"line_dash\":[4,4],\"line_width\":{\"value\":2},\"plot\":null,\"xs_units\":\"screen\",\"ys_units\":\"screen\"},\"id\":\"8548b707-72b2-4da8-8bbf-475573d7fb39\",\"type\":\"PolyAnnotation\"},{\"attributes\":{},\"id\":\"47c06bde-3224-42e3-9e58-2428db405d62\",\"type\":\"BasicTicker\"},{\"attributes\":{\"formatter\":{\"id\":\"cba82515-41ca-4aa3-812d-cda3d59c3611\",\"type\":\"BasicTickFormatter\"},\"plot\":{\"id\":\"f1e2c5c6-56fd-4aa5-a4af-ffaf99c74b72\",\"subtype\":\"Figure\",\"type\":\"Plot\"},\"ticker\":{\"id\":\"47c06bde-3224-42e3-9e58-2428db405d62\",\"type\":\"BasicTicker\"}},\"id\":\"8a3d702e-4649-4a37-a34f-ee744aca467e\",\"type\":\"LinearAxis\"},{\"attributes\":{\"plot\":{\"id\":\"f1e2c5c6-56fd-4aa5-a4af-ffaf99c74b72\",\"subtype\":\"Figure\",\"type\":\"Plot\"},\"ticker\":{\"id\":\"47c06bde-3224-42e3-9e58-2428db405d62\",\"type\":\"BasicTicker\"}},\"id\":\"d0826fbe-55ce-48d4-9ff2-4516ea9f2868\",\"type\":\"Grid\"},{\"attributes\":{\"formatter\":{\"id\":\"c0d521aa-0f43-44ad-aab4-21819c61a82f\",\"type\":\"BasicTickFormatter\"},\"plot\":{\"id\":\"f1e2c5c6-56fd-4aa5-a4af-ffaf99c74b72\",\"subtype\":\"Figure\",\"type\":\"Plot\"},\"ticker\":{\"id\":\"77763036-160c-4128-bd1f-89dd0505bc63\",\"type\":\"BasicTicker\"}},\"id\":\"7790f252-6871-4b17-aa4a-c6df2c243230\",\"type\":\"LinearAxis\"},{\"attributes\":{\"fill_alpha\":{\"value\":0.1},\"fill_color\":{\"value\":\"#1f77b4\"},\"line_alpha\":{\"value\":0.1},\"line_color\":{\"value\":\"#1f77b4\"},\"x\":{\"field\":\"x\"},\"y\":{\"field\":\"y0\"}},\"id\":\"08ce1d47-8696-4d7a-a40b-8c97901359ef\",\"type\":\"Circle\"},{\"attributes\":{},\"id\":\"77763036-160c-4128-bd1f-89dd0505bc63\",\"type\":\"BasicTicker\"},{\"attributes\":{\"dimension\":1,\"plot\":{\"id\":\"f1e2c5c6-56fd-4aa5-a4af-ffaf99c74b72\",\"subtype\":\"Figure\",\"type\":\"Plot\"},\"ticker\":{\"id\":\"77763036-160c-4128-bd1f-89dd0505bc63\",\"type\":\"BasicTicker\"}},\"id\":\"02010c24-3f88-4a12-b417-1c7389533713\",\"type\":\"Grid\"},{\"attributes\":{\"sizing_mode\":\"scale_width\",\"toolbar_location\":\"above\",\"tools\":[{\"id\":\"cdb72542-46b2-4acc-92be-f7fcd7bdb896\",\"type\":\"PanTool\"},{\"id\":\"133b6f53-e347-4c62-84ea-0087b3a27968\",\"type\":\"WheelZoomTool\"},{\"id\":\"f416930e-e28e-4289-ba58-fe32937fc7be\",\"type\":\"LassoSelectTool\"},{\"id\":\"42d1b942-8f79-449d-afb3-7dbf1970ae0b\",\"type\":\"PanTool\"},{\"id\":\"87938d36-70e7-4cce-bfe4-dfb12f9696ee\",\"type\":\"WheelZoomTool\"},{\"id\":\"5cb0b2c0-1c71-4926-b9ca-ed633111aa35\",\"type\":\"LassoSelectTool\"}]},\"id\":\"6daa6973-535a-4dcc-bf6c-c58419bcd414\",\"type\":\"ToolbarBox\"},{\"attributes\":{},\"id\":\"5936c2c3-42f6-411c-95df-fcd0b4b01be9\",\"type\":\"BasicTickFormatter\"},{\"attributes\":{\"plot\":{\"id\":\"f1e2c5c6-56fd-4aa5-a4af-ffaf99c74b72\",\"subtype\":\"Figure\",\"type\":\"Plot\"}},\"id\":\"42d1b942-8f79-449d-afb3-7dbf1970ae0b\",\"type\":\"PanTool\"},{\"attributes\":{\"children\":[{\"id\":\"6daa6973-535a-4dcc-bf6c-c58419bcd414\",\"type\":\"ToolbarBox\"},{\"id\":\"8b0b5c0b-990d-4b40-a14b-11c5a93b0b40\",\"type\":\"Column\"}]},\"id\":\"7a9e4940-0cbb-4acb-b26c-2941dbf38f73\",\"type\":\"Column\"},{\"attributes\":{\"plot\":{\"id\":\"f1e2c5c6-56fd-4aa5-a4af-ffaf99c74b72\",\"subtype\":\"Figure\",\"type\":\"Plot\"}},\"id\":\"87938d36-70e7-4cce-bfe4-dfb12f9696ee\",\"type\":\"WheelZoomTool\"},{\"attributes\":{\"callback\":null,\"overlay\":{\"id\":\"8548b707-72b2-4da8-8bbf-475573d7fb39\",\"type\":\"PolyAnnotation\"},\"plot\":{\"id\":\"f1e2c5c6-56fd-4aa5-a4af-ffaf99c74b72\",\"subtype\":\"Figure\",\"type\":\"Plot\"}},\"id\":\"5cb0b2c0-1c71-4926-b9ca-ed633111aa35\",\"type\":\"LassoSelectTool\"},{\"attributes\":{},\"id\":\"cb3d74ba-3e24-49ea-8c21-26aaa383d98f\",\"type\":\"BasicTickFormatter\"},{\"attributes\":{\"data_source\":{\"id\":\"90f30d75-3fdc-41fe-af0f-efe1ec48bbfa\",\"type\":\"ColumnDataSource\"},\"glyph\":{\"id\":\"ab46d9bd-cbd1-4855-8142-6d35939d9e8b\",\"type\":\"Circle\"},\"hover_glyph\":null,\"nonselection_glyph\":{\"id\":\"c634d3f9-9d94-4a2e-b432-74b5026df738\",\"type\":\"Circle\"},\"selection_glyph\":null},\"id\":\"123fa967-977d-4278-96f1-f2fce4d1c36a\",\"type\":\"GlyphRenderer\"},{\"attributes\":{},\"id\":\"cba82515-41ca-4aa3-812d-cda3d59c3611\",\"type\":\"BasicTickFormatter\"},{\"attributes\":{},\"id\":\"c0d521aa-0f43-44ad-aab4-21819c61a82f\",\"type\":\"BasicTickFormatter\"},{\"attributes\":{\"data_source\":{\"id\":\"90f30d75-3fdc-41fe-af0f-efe1ec48bbfa\",\"type\":\"ColumnDataSource\"},\"glyph\":{\"id\":\"ea8cb95e-db3e-4cb2-aa34-748de9440006\",\"type\":\"Circle\"},\"hover_glyph\":null,\"nonselection_glyph\":{\"id\":\"08ce1d47-8696-4d7a-a40b-8c97901359ef\",\"type\":\"Circle\"},\"selection_glyph\":null},\"id\":\"cb0a7d41-da66-4ed8-a11f-6c0fbdad62ab\",\"type\":\"GlyphRenderer\"},{\"attributes\":{},\"id\":\"3c98921a-4324-43b3-b017-811620bf63be\",\"type\":\"ToolEvents\"},{\"attributes\":{\"children\":[{\"id\":\"69ad44e3-46ac-4cfc-b38e-6cd08d8730ff\",\"subtype\":\"Figure\",\"type\":\"Plot\"},{\"id\":\"f1e2c5c6-56fd-4aa5-a4af-ffaf99c74b72\",\"subtype\":\"Figure\",\"type\":\"Plot\"}]},\"id\":\"800cb73f-cacd-4244-8d36-9f19b29127b0\",\"type\":\"Row\"},{\"attributes\":{\"children\":[{\"id\":\"800cb73f-cacd-4244-8d36-9f19b29127b0\",\"type\":\"Row\"}]},\"id\":\"8b0b5c0b-990d-4b40-a14b-11c5a93b0b40\",\"type\":\"Column\"},{\"attributes\":{\"fill_color\":{\"value\":\"#1f77b4\"},\"line_color\":{\"value\":\"#1f77b4\"},\"x\":{\"field\":\"x\"},\"y\":{\"field\":\"y1\"}},\"id\":\"ab46d9bd-cbd1-4855-8142-6d35939d9e8b\",\"type\":\"Circle\"},{\"attributes\":{\"below\":[{\"id\":\"8a3d702e-4649-4a37-a34f-ee744aca467e\",\"type\":\"LinearAxis\"}],\"left\":[{\"id\":\"7790f252-6871-4b17-aa4a-c6df2c243230\",\"type\":\"LinearAxis\"}],\"plot_height\":300,\"plot_width\":300,\"renderers\":[{\"id\":\"8a3d702e-4649-4a37-a34f-ee744aca467e\",\"type\":\"LinearAxis\"},{\"id\":\"d0826fbe-55ce-48d4-9ff2-4516ea9f2868\",\"type\":\"Grid\"},{\"id\":\"7790f252-6871-4b17-aa4a-c6df2c243230\",\"type\":\"LinearAxis\"},{\"id\":\"02010c24-3f88-4a12-b417-1c7389533713\",\"type\":\"Grid\"},{\"id\":\"8548b707-72b2-4da8-8bbf-475573d7fb39\",\"type\":\"PolyAnnotation\"},{\"id\":\"123fa967-977d-4278-96f1-f2fce4d1c36a\",\"type\":\"GlyphRenderer\"}],\"title\":{\"id\":\"fe1ae3fa-890e-4914-8179-b6d3662f5717\",\"type\":\"Title\"},\"tool_events\":{\"id\":\"3c98921a-4324-43b3-b017-811620bf63be\",\"type\":\"ToolEvents\"},\"toolbar\":{\"id\":\"e3a41ea1-351c-4ab3-b7d4-4b0264cccdcb\",\"type\":\"Toolbar\"},\"toolbar_location\":null,\"x_range\":{\"id\":\"2d95c3d8-baeb-4252-84ad-3d9ba9ea200b\",\"type\":\"DataRange1d\"},\"y_range\":{\"id\":\"16dc243a-8a3c-470b-8e20-2165abf7c676\",\"type\":\"DataRange1d\"}},\"id\":\"f1e2c5c6-56fd-4aa5-a4af-ffaf99c74b72\",\"subtype\":\"Figure\",\"type\":\"Plot\"},{\"attributes\":{\"below\":[{\"id\":\"70194ff7-561c-4451-ac49-1648aa342a92\",\"type\":\"LinearAxis\"}],\"left\":[{\"id\":\"776d0909-4d2e-4a6f-bc11-a269bd6bbce9\",\"type\":\"LinearAxis\"}],\"plot_height\":300,\"plot_width\":300,\"renderers\":[{\"id\":\"70194ff7-561c-4451-ac49-1648aa342a92\",\"type\":\"LinearAxis\"},{\"id\":\"15b64102-9360-495a-b5b9-4acd5e611b40\",\"type\":\"Grid\"},{\"id\":\"776d0909-4d2e-4a6f-bc11-a269bd6bbce9\",\"type\":\"LinearAxis\"},{\"id\":\"55e9cb2e-ce9d-4d82-bec4-bf5c3506726d\",\"type\":\"Grid\"},{\"id\":\"c4ec9d1a-dad6-4281-8f83-a9b8181298e2\",\"type\":\"PolyAnnotation\"},{\"id\":\"cb0a7d41-da66-4ed8-a11f-6c0fbdad62ab\",\"type\":\"GlyphRenderer\"}],\"title\":{\"id\":\"7479ce21-bec7-49dc-82d5-c029b4f8e8ec\",\"type\":\"Title\"},\"tool_events\":{\"id\":\"81ff5c54-2755-436a-beff-73bda167c342\",\"type\":\"ToolEvents\"},\"toolbar\":{\"id\":\"50284495-0555-4417-9317-9342e806ee37\",\"type\":\"Toolbar\"},\"toolbar_location\":null,\"x_range\":{\"id\":\"2d95c3d8-baeb-4252-84ad-3d9ba9ea200b\",\"type\":\"DataRange1d\"},\"y_range\":{\"id\":\"e27e0281-e8ee-4c86-9c71-b83fc0b50702\",\"type\":\"DataRange1d\"}},\"id\":\"69ad44e3-46ac-4cfc-b38e-6cd08d8730ff\",\"subtype\":\"Figure\",\"type\":\"Plot\"},{\"attributes\":{\"fill_color\":{\"value\":\"#1f77b4\"},\"line_color\":{\"value\":\"#1f77b4\"},\"x\":{\"field\":\"x\"},\"y\":{\"field\":\"y0\"}},\"id\":\"ea8cb95e-db3e-4cb2-aa34-748de9440006\",\"type\":\"Circle\"}],\"root_ids\":[\"7a9e4940-0cbb-4acb-b26c-2941dbf38f73\"]},\"title\":\"Bokeh Application\",\"version\":\"0.12.4\"}};\n",
       "            var render_items = [{\"docid\":\"946392d2-af8c-4deb-80b3-fce4ab8e4d2a\",\"elementid\":\"4859962c-bcf3-4160-8fc3-ee743ea6ce74\",\"modelid\":\"7a9e4940-0cbb-4acb-b26c-2941dbf38f73\"}];\n",
       "            \n",
       "            Bokeh.embed.embed_items(docs_json, render_items);\n",
       "          };\n",
       "          if (document.readyState != \"loading\") fn();\n",
       "          else document.addEventListener(\"DOMContentLoaded\", fn);\n",
       "        })();\n",
       "      },\n",
       "      function(Bokeh) {\n",
       "      }\n",
       "    ];\n",
       "  \n",
       "    function run_inline_js() {\n",
       "      \n",
       "      if ((window.Bokeh !== undefined) || (force === true)) {\n",
       "        for (var i = 0; i < inline_js.length; i++) {\n",
       "          inline_js[i](window.Bokeh);\n",
       "        }if (force === true) {\n",
       "          display_loaded();\n",
       "        }} else if (Date.now() < window._bokeh_timeout) {\n",
       "        setTimeout(run_inline_js, 100);\n",
       "      } else if (!window._bokeh_failed_load) {\n",
       "        console.log(\"Bokeh: BokehJS failed to load within specified timeout.\");\n",
       "        window._bokeh_failed_load = true;\n",
       "      } else if (force !== true) {\n",
       "        var cell = $(document.getElementById(\"4859962c-bcf3-4160-8fc3-ee743ea6ce74\")).parents('.cell').data().cell;\n",
       "        cell.output_area.append_execute_result(NB_LOAD_WARNING)\n",
       "      }\n",
       "  \n",
       "    }\n",
       "  \n",
       "    if (window._bokeh_is_loading === 0) {\n",
       "      console.log(\"Bokeh: BokehJS loaded, going straight to plotting\");\n",
       "      run_inline_js();\n",
       "    } else {\n",
       "      load_libs(js_urls, function() {\n",
       "        console.log(\"Bokeh: BokehJS plotting callback run at\", now());\n",
       "        run_inline_js();\n",
       "      });\n",
       "    }\n",
       "  }(this));\n",
       "</script>"
      ]
     },
     "metadata": {},
     "output_type": "display_data"
    }
   ],
   "source": [
    "from bokeh.layouts import gridplot\n",
    "from bokeh.models import ColumnDataSource\n",
    "from bokeh.plotting import figure\n",
    "\n",
    "x = list(range(-20, 21))\n",
    "y0 = [abs(xx) for xx in x]\n",
    "y1 = [xx**2 for xx in x]\n",
    "\n",
    "# create a column data source for the plots to share\n",
    "source = ColumnDataSource(data=dict(x=x, y0=y0, y1=y1))\n",
    "\n",
    "TOOLS = \"pan,wheel_zoom,lasso_select\"\n",
    "\n",
    "# create a new plot and add a renderer\n",
    "left = figure(tools=TOOLS, width=300, height=300, title=\"|x|\")\n",
    "left.circle('x', 'y0', source=source)\n",
    "\n",
    "# create another new plot and add a renderer\n",
    "right = figure(tools=TOOLS, width=300, height=300, x_range=left.x_range, title=\"x^2\")\n",
    "right.circle('x', 'y1', source=source)\n",
    "\n",
    "p = gridplot([[left, right]])\n",
    "\n",
    "show(p)"
   ]
  },
  {
   "cell_type": "markdown",
   "metadata": {
    "nbpresent": {
     "id": "bbb5ce9f-7029-4394-8352-0bb5394c808d"
    }
   },
   "source": [
    "## Widget\n",
    "Bokeh widgets provide user interface components such as sliders and buttons styled with Bootstrap to make your plots interactive.\n",
    "\n",
    "There are two ways to program widget functionality:\n",
    "* Use the ```CustomJS``` callback. This works in standalone HTML documents\n",
    "* Use ```bokeh serve``` to start the Bokeh server and set up event handlers with ```.on_change```\n",
    "\n",
    "** For this exercise, we'll utilize the Bokeh server **"
   ]
  },
  {
   "cell_type": "code",
   "execution_count": null,
   "metadata": {
    "collapsed": false,
    "nbpresent": {
     "id": "ef9d2623-53f3-4ae2-bfa4-0e4ff153d089"
    },
    "scrolled": false
   },
   "outputs": [],
   "source": [
    "from bokeh.layouts import widgetbox\n",
    "from bokeh.models.widgets.inputs import RangeSlider\n",
    "from bokeh.client import push_session\n",
    "from bokeh.plotting import curdoc\n",
    "\n",
    "# open a session to keep our local document in sync with server\n",
    "session = push_session(curdoc())\n",
    "\n",
    "def range_slider_handler(attr, old, new):\n",
    "    print(\"previous value: %s\" % old)\n",
    "    print(\"new value: %s\" % new)\n",
    "    \n",
    "range_slider = RangeSlider(start=-25, end=25, range=(-20,20), step=1, title=\"X range\")\n",
    "range_slider.on_change(\"start\", range_slider_handler)\n",
    "range_slider.on_change(\"end\", range_slider_handler)\n",
    "\n",
    "session.show(widgetbox(range_slider))\n",
    "\n",
    "\n",
    "\n"
   ]
  },
  {
   "cell_type": "code",
   "execution_count": null,
   "metadata": {
    "collapsed": false,
    "nbpresent": {
     "id": "7c2d00d9-80d3-432f-9daf-6481feaf0299"
    },
    "scrolled": false
   },
   "outputs": [
    {
     "data": {
      "text/html": [
       "\n",
       "\n",
       "    <div class=\"bk-root\">\n",
       "        <div class=\"bk-plotdiv\" id=\"9df1c725-f632-4feb-8ca1-d6e0bfe244e3\"></div>\n",
       "    </div>\n",
       "<script type=\"text/javascript\">\n",
       "  \n",
       "  (function(global) {\n",
       "    function now() {\n",
       "      return new Date();\n",
       "    }\n",
       "  \n",
       "    var force = false;\n",
       "  \n",
       "    if (typeof (window._bokeh_onload_callbacks) === \"undefined\" || force === true) {\n",
       "      window._bokeh_onload_callbacks = [];\n",
       "      window._bokeh_is_loading = undefined;\n",
       "    }\n",
       "  \n",
       "  \n",
       "    \n",
       "    if (typeof (window._bokeh_timeout) === \"undefined\" || force === true) {\n",
       "      window._bokeh_timeout = Date.now() + 0;\n",
       "      window._bokeh_failed_load = false;\n",
       "    }\n",
       "  \n",
       "    var NB_LOAD_WARNING = {'data': {'text/html':\n",
       "       \"<div style='background-color: #fdd'>\\n\"+\n",
       "       \"<p>\\n\"+\n",
       "       \"BokehJS does not appear to have successfully loaded. If loading BokehJS from CDN, this \\n\"+\n",
       "       \"may be due to a slow or bad network connection. Possible fixes:\\n\"+\n",
       "       \"</p>\\n\"+\n",
       "       \"<ul>\\n\"+\n",
       "       \"<li>re-rerun `output_notebook()` to attempt to load from CDN again, or</li>\\n\"+\n",
       "       \"<li>use INLINE resources instead, as so:</li>\\n\"+\n",
       "       \"</ul>\\n\"+\n",
       "       \"<code>\\n\"+\n",
       "       \"from bokeh.resources import INLINE\\n\"+\n",
       "       \"output_notebook(resources=INLINE)\\n\"+\n",
       "       \"</code>\\n\"+\n",
       "       \"</div>\"}};\n",
       "  \n",
       "    function display_loaded() {\n",
       "      if (window.Bokeh !== undefined) {\n",
       "        document.getElementById(\"9df1c725-f632-4feb-8ca1-d6e0bfe244e3\").textContent = \"BokehJS successfully loaded.\";\n",
       "      } else if (Date.now() < window._bokeh_timeout) {\n",
       "        setTimeout(display_loaded, 100)\n",
       "      }\n",
       "    }\n",
       "  \n",
       "    function run_callbacks() {\n",
       "      window._bokeh_onload_callbacks.forEach(function(callback) { callback() });\n",
       "      delete window._bokeh_onload_callbacks\n",
       "      console.info(\"Bokeh: all callbacks have finished\");\n",
       "    }\n",
       "  \n",
       "    function load_libs(js_urls, callback) {\n",
       "      window._bokeh_onload_callbacks.push(callback);\n",
       "      if (window._bokeh_is_loading > 0) {\n",
       "        console.log(\"Bokeh: BokehJS is being loaded, scheduling callback at\", now());\n",
       "        return null;\n",
       "      }\n",
       "      if (js_urls == null || js_urls.length === 0) {\n",
       "        run_callbacks();\n",
       "        return null;\n",
       "      }\n",
       "      console.log(\"Bokeh: BokehJS not loaded, scheduling load and callback at\", now());\n",
       "      window._bokeh_is_loading = js_urls.length;\n",
       "      for (var i = 0; i < js_urls.length; i++) {\n",
       "        var url = js_urls[i];\n",
       "        var s = document.createElement('script');\n",
       "        s.src = url;\n",
       "        s.async = false;\n",
       "        s.onreadystatechange = s.onload = function() {\n",
       "          window._bokeh_is_loading--;\n",
       "          if (window._bokeh_is_loading === 0) {\n",
       "            console.log(\"Bokeh: all BokehJS libraries loaded\");\n",
       "            run_callbacks()\n",
       "          }\n",
       "        };\n",
       "        s.onerror = function() {\n",
       "          console.warn(\"failed to load library \" + url);\n",
       "        };\n",
       "        console.log(\"Bokeh: injecting script tag for BokehJS library: \", url);\n",
       "        document.getElementsByTagName(\"head\")[0].appendChild(s);\n",
       "      }\n",
       "    };var element = document.getElementById(\"9df1c725-f632-4feb-8ca1-d6e0bfe244e3\");\n",
       "    if (element == null) {\n",
       "      console.log(\"Bokeh: ERROR: autoload.js configured with elementid '9df1c725-f632-4feb-8ca1-d6e0bfe244e3' but no matching script tag was found. \")\n",
       "      return false;\n",
       "    }\n",
       "  \n",
       "    var js_urls = [];\n",
       "  \n",
       "    var inline_js = [\n",
       "      function(Bokeh) {\n",
       "        (function() {\n",
       "          var fn = function() {\n",
       "            var docs_json = {\"c34db23d-669f-4839-8651-559df4ed63b1\":{\"roots\":{\"references\":[{\"attributes\":{\"callback\":null,\"end\":6.283185307179586,\"title\":\"phase\",\"value\":0.0},\"id\":\"76a1ddf9-399e-4bea-8602-a382cd964941\",\"type\":\"Slider\"},{\"attributes\":{\"callback\":null,\"end\":5.0,\"start\":-5.0,\"title\":\"offset\",\"value\":0.0},\"id\":\"f23f43db-59f3-427e-a76e-02c6d31e6ed2\",\"type\":\"Slider\"},{\"attributes\":{\"children\":[{\"id\":\"f490bbdc-43f0-4020-bedb-24f1ec9be582\",\"type\":\"TextInput\"},{\"id\":\"f23f43db-59f3-427e-a76e-02c6d31e6ed2\",\"type\":\"Slider\"},{\"id\":\"5139dc2c-b3b5-43a0-9c45-31b21379f111\",\"type\":\"Slider\"},{\"id\":\"76a1ddf9-399e-4bea-8602-a382cd964941\",\"type\":\"Slider\"},{\"id\":\"7061dd09-8f7b-4111-a9ff-7579401dc397\",\"type\":\"Slider\"}]},\"id\":\"af19d0c1-11bf-4277-8a6e-d2a5996ccc55\",\"type\":\"WidgetBox\"},{\"attributes\":{\"callback\":null,\"end\":5.1,\"start\":0.1,\"title\":\"frequency\",\"value\":1.0},\"id\":\"7061dd09-8f7b-4111-a9ff-7579401dc397\",\"type\":\"Slider\"},{\"attributes\":{\"children\":[{\"id\":\"af19d0c1-11bf-4277-8a6e-d2a5996ccc55\",\"type\":\"WidgetBox\"},{\"id\":\"50325b7b-0d78-4f17-a22b-f91495806ca2\",\"subtype\":\"Figure\",\"type\":\"Plot\"}],\"width\":800},\"id\":\"cd0c9ef5-e09f-40ff-861f-c40fa1a661bb\",\"type\":\"Row\"},{\"attributes\":{\"callback\":null,\"column_names\":[\"x\",\"y\"],\"data\":{\"x\":{\"__ndarray__\":\"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\",\"dtype\":\"float64\",\"shape\":[200]},\"y\":{\"__ndarray__\":\"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\",\"dtype\":\"float64\",\"shape\":[200]}}},\"id\":\"a38b7bc2-eee1-4ef8-9a92-7717e2853ac8\",\"type\":\"ColumnDataSource\"},{\"attributes\":{\"below\":[{\"id\":\"abbd0609-63f7-45cb-a4ba-6ccc82bcea4b\",\"type\":\"LinearAxis\"}],\"left\":[{\"id\":\"96555e98-cb1e-4b20-af0f-8b1594c222c0\",\"type\":\"LinearAxis\"}],\"plot_height\":400,\"plot_width\":400,\"renderers\":[{\"id\":\"abbd0609-63f7-45cb-a4ba-6ccc82bcea4b\",\"type\":\"LinearAxis\"},{\"id\":\"0febb88a-afb3-4d1a-987e-b4a01c7b2a1e\",\"type\":\"Grid\"},{\"id\":\"96555e98-cb1e-4b20-af0f-8b1594c222c0\",\"type\":\"LinearAxis\"},{\"id\":\"1791e118-654b-4230-83f1-1fb195a64602\",\"type\":\"Grid\"},{\"id\":\"f2610146-ab19-4127-b821-3da2b09b15fb\",\"type\":\"GlyphRenderer\"}],\"title\":{\"id\":\"04bf393d-a965-4e90-a37d-ced2b4bfd670\",\"type\":\"Title\"},\"tool_events\":{\"id\":\"b8b42bc7-312b-4ddc-8e41-e8452313a1d6\",\"type\":\"ToolEvents\"},\"toolbar\":{\"id\":\"7557064b-4dea-4010-a334-438c3cea424c\",\"type\":\"Toolbar\"},\"x_range\":{\"id\":\"9726ba98-177f-4f47-8e67-3f2fb62db17b\",\"type\":\"Range1d\"},\"y_range\":{\"id\":\"ed6d4610-32c0-4388-b235-9136059c869a\",\"type\":\"Range1d\"}},\"id\":\"50325b7b-0d78-4f17-a22b-f91495806ca2\",\"subtype\":\"Figure\",\"type\":\"Plot\"},{\"attributes\":{\"callback\":null,\"end\":12.566370614359172},\"id\":\"9726ba98-177f-4f47-8e67-3f2fb62db17b\",\"type\":\"Range1d\"},{\"attributes\":{\"plot\":null,\"text\":\"my sine wave\"},\"id\":\"04bf393d-a965-4e90-a37d-ced2b4bfd670\",\"type\":\"Title\"},{\"attributes\":{},\"id\":\"b8b42bc7-312b-4ddc-8e41-e8452313a1d6\",\"type\":\"ToolEvents\"},{\"attributes\":{\"active_drag\":\"auto\",\"active_scroll\":\"auto\",\"active_tap\":\"auto\",\"tools\":[{\"id\":\"87fe7420-6737-4500-acf1-b79aefcadcd9\",\"type\":\"CrosshairTool\"},{\"id\":\"0f23e998-1cb5-44f7-81c0-99334bb12a88\",\"type\":\"PanTool\"},{\"id\":\"d4eaa2cf-abe4-42fe-8cac-662ac65738b4\",\"type\":\"ResetTool\"},{\"id\":\"e1a72b91-cb28-42f7-8ed9-d314abd3aaff\",\"type\":\"SaveTool\"},{\"id\":\"990764a0-c035-4a27-8306-8e2333f11d73\",\"type\":\"WheelZoomTool\"}]},\"id\":\"7557064b-4dea-4010-a334-438c3cea424c\",\"type\":\"Toolbar\"},{\"attributes\":{\"line_alpha\":{\"value\":0.1},\"line_color\":{\"value\":\"#1f77b4\"},\"line_width\":{\"value\":3},\"x\":{\"field\":\"x\"},\"y\":{\"field\":\"y\"}},\"id\":\"6b28dbfb-3944-42fc-9431-1797984e4901\",\"type\":\"Line\"},{\"attributes\":{\"formatter\":{\"id\":\"3660d5ef-c4d4-4789-9b16-2f0b85003f7c\",\"type\":\"BasicTickFormatter\"},\"plot\":{\"id\":\"50325b7b-0d78-4f17-a22b-f91495806ca2\",\"subtype\":\"Figure\",\"type\":\"Plot\"},\"ticker\":{\"id\":\"a533cc58-d1af-4cae-b04f-6afa09b80bb9\",\"type\":\"BasicTicker\"}},\"id\":\"abbd0609-63f7-45cb-a4ba-6ccc82bcea4b\",\"type\":\"LinearAxis\"},{\"attributes\":{\"callback\":null,\"end\":2.5,\"start\":-2.5},\"id\":\"ed6d4610-32c0-4388-b235-9136059c869a\",\"type\":\"Range1d\"},{\"attributes\":{},\"id\":\"a533cc58-d1af-4cae-b04f-6afa09b80bb9\",\"type\":\"BasicTicker\"},{\"attributes\":{\"plot\":{\"id\":\"50325b7b-0d78-4f17-a22b-f91495806ca2\",\"subtype\":\"Figure\",\"type\":\"Plot\"},\"ticker\":{\"id\":\"a533cc58-d1af-4cae-b04f-6afa09b80bb9\",\"type\":\"BasicTicker\"}},\"id\":\"0febb88a-afb3-4d1a-987e-b4a01c7b2a1e\",\"type\":\"Grid\"},{\"attributes\":{\"formatter\":{\"id\":\"1961b364-c0ff-4da5-893b-eebbeb3ef84e\",\"type\":\"BasicTickFormatter\"},\"plot\":{\"id\":\"50325b7b-0d78-4f17-a22b-f91495806ca2\",\"subtype\":\"Figure\",\"type\":\"Plot\"},\"ticker\":{\"id\":\"56ae87b6-8fc0-4852-bac2-10fbae935acc\",\"type\":\"BasicTicker\"}},\"id\":\"96555e98-cb1e-4b20-af0f-8b1594c222c0\",\"type\":\"LinearAxis\"},{\"attributes\":{},\"id\":\"56ae87b6-8fc0-4852-bac2-10fbae935acc\",\"type\":\"BasicTicker\"},{\"attributes\":{\"dimension\":1,\"plot\":{\"id\":\"50325b7b-0d78-4f17-a22b-f91495806ca2\",\"subtype\":\"Figure\",\"type\":\"Plot\"},\"ticker\":{\"id\":\"56ae87b6-8fc0-4852-bac2-10fbae935acc\",\"type\":\"BasicTicker\"}},\"id\":\"1791e118-654b-4230-83f1-1fb195a64602\",\"type\":\"Grid\"},{\"attributes\":{\"callback\":null,\"end\":5.0,\"start\":-5.0,\"title\":\"amplitude\",\"value\":1.0},\"id\":\"5139dc2c-b3b5-43a0-9c45-31b21379f111\",\"type\":\"Slider\"},{\"attributes\":{\"callback\":null,\"title\":\"title\",\"value\":\"my sine wave\"},\"id\":\"f490bbdc-43f0-4020-bedb-24f1ec9be582\",\"type\":\"TextInput\"},{\"attributes\":{},\"id\":\"1961b364-c0ff-4da5-893b-eebbeb3ef84e\",\"type\":\"BasicTickFormatter\"},{\"attributes\":{\"plot\":{\"id\":\"50325b7b-0d78-4f17-a22b-f91495806ca2\",\"subtype\":\"Figure\",\"type\":\"Plot\"}},\"id\":\"87fe7420-6737-4500-acf1-b79aefcadcd9\",\"type\":\"CrosshairTool\"},{\"attributes\":{},\"id\":\"3660d5ef-c4d4-4789-9b16-2f0b85003f7c\",\"type\":\"BasicTickFormatter\"},{\"attributes\":{\"plot\":{\"id\":\"50325b7b-0d78-4f17-a22b-f91495806ca2\",\"subtype\":\"Figure\",\"type\":\"Plot\"}},\"id\":\"0f23e998-1cb5-44f7-81c0-99334bb12a88\",\"type\":\"PanTool\"},{\"attributes\":{\"line_alpha\":{\"value\":0.6},\"line_color\":{\"value\":\"#1f77b4\"},\"line_width\":{\"value\":3},\"x\":{\"field\":\"x\"},\"y\":{\"field\":\"y\"}},\"id\":\"3df19cba-64eb-4332-baea-515bdb6f9ef6\",\"type\":\"Line\"},{\"attributes\":{\"plot\":{\"id\":\"50325b7b-0d78-4f17-a22b-f91495806ca2\",\"subtype\":\"Figure\",\"type\":\"Plot\"}},\"id\":\"d4eaa2cf-abe4-42fe-8cac-662ac65738b4\",\"type\":\"ResetTool\"},{\"attributes\":{\"plot\":{\"id\":\"50325b7b-0d78-4f17-a22b-f91495806ca2\",\"subtype\":\"Figure\",\"type\":\"Plot\"}},\"id\":\"e1a72b91-cb28-42f7-8ed9-d314abd3aaff\",\"type\":\"SaveTool\"},{\"attributes\":{\"plot\":{\"id\":\"50325b7b-0d78-4f17-a22b-f91495806ca2\",\"subtype\":\"Figure\",\"type\":\"Plot\"}},\"id\":\"990764a0-c035-4a27-8306-8e2333f11d73\",\"type\":\"WheelZoomTool\"},{\"attributes\":{\"data_source\":{\"id\":\"a38b7bc2-eee1-4ef8-9a92-7717e2853ac8\",\"type\":\"ColumnDataSource\"},\"glyph\":{\"id\":\"3df19cba-64eb-4332-baea-515bdb6f9ef6\",\"type\":\"Line\"},\"hover_glyph\":null,\"nonselection_glyph\":{\"id\":\"6b28dbfb-3944-42fc-9431-1797984e4901\",\"type\":\"Line\"},\"selection_glyph\":null},\"id\":\"f2610146-ab19-4127-b821-3da2b09b15fb\",\"type\":\"GlyphRenderer\"}],\"root_ids\":[\"cd0c9ef5-e09f-40ff-861f-c40fa1a661bb\"]},\"title\":\"Bokeh Application\",\"version\":\"0.12.4\"}};\n",
       "            var render_items = [{\"docid\":\"c34db23d-669f-4839-8651-559df4ed63b1\",\"elementid\":\"9df1c725-f632-4feb-8ca1-d6e0bfe244e3\",\"modelid\":\"cd0c9ef5-e09f-40ff-861f-c40fa1a661bb\"}];\n",
       "            \n",
       "            Bokeh.embed.embed_items(docs_json, render_items);\n",
       "          };\n",
       "          if (document.readyState != \"loading\") fn();\n",
       "          else document.addEventListener(\"DOMContentLoaded\", fn);\n",
       "        })();\n",
       "      },\n",
       "      function(Bokeh) {\n",
       "      }\n",
       "    ];\n",
       "  \n",
       "    function run_inline_js() {\n",
       "      \n",
       "      if ((window.Bokeh !== undefined) || (force === true)) {\n",
       "        for (var i = 0; i < inline_js.length; i++) {\n",
       "          inline_js[i](window.Bokeh);\n",
       "        }if (force === true) {\n",
       "          display_loaded();\n",
       "        }} else if (Date.now() < window._bokeh_timeout) {\n",
       "        setTimeout(run_inline_js, 100);\n",
       "      } else if (!window._bokeh_failed_load) {\n",
       "        console.log(\"Bokeh: BokehJS failed to load within specified timeout.\");\n",
       "        window._bokeh_failed_load = true;\n",
       "      } else if (force !== true) {\n",
       "        var cell = $(document.getElementById(\"9df1c725-f632-4feb-8ca1-d6e0bfe244e3\")).parents('.cell').data().cell;\n",
       "        cell.output_area.append_execute_result(NB_LOAD_WARNING)\n",
       "      }\n",
       "  \n",
       "    }\n",
       "  \n",
       "    if (window._bokeh_is_loading === 0) {\n",
       "      console.log(\"Bokeh: BokehJS loaded, going straight to plotting\");\n",
       "      run_inline_js();\n",
       "    } else {\n",
       "      load_libs(js_urls, function() {\n",
       "        console.log(\"Bokeh: BokehJS plotting callback run at\", now());\n",
       "        run_inline_js();\n",
       "      });\n",
       "    }\n",
       "  }(this));\n",
       "</script>"
      ]
     },
     "metadata": {},
     "output_type": "display_data"
    }
   ],
   "source": [
    "import numpy as np\n",
    "\n",
    "from bokeh.io import curdoc\n",
    "from bokeh.layouts import row, widgetbox\n",
    "from bokeh.models import ColumnDataSource\n",
    "from bokeh.models.widgets import Slider, TextInput\n",
    "from bokeh.plotting import figure\n",
    "\n",
    "# Set up data\n",
    "N = 200\n",
    "x = np.linspace(0, 4*np.pi, N)\n",
    "y = np.sin(x)\n",
    "source = ColumnDataSource(data=dict(x=x, y=y))\n",
    "\n",
    "\n",
    "# Set up plot\n",
    "plot = figure(plot_height=400, plot_width=400, title=\"my sine wave\",\n",
    "              tools=\"crosshair,pan,reset,save,wheel_zoom\",\n",
    "              x_range=[0, 4*np.pi], y_range=[-2.5, 2.5])\n",
    "\n",
    "plot.line('x', 'y', source=source, line_width=3, line_alpha=0.6)\n",
    "\n",
    "\n",
    "# Set up widgets\n",
    "text = TextInput(title=\"title\", value='my sine wave')\n",
    "offset = Slider(title=\"offset\", value=0.0, start=-5.0, end=5.0, step=0.1)\n",
    "amplitude = Slider(title=\"amplitude\", value=1.0, start=-5.0, end=5.0)\n",
    "phase = Slider(title=\"phase\", value=0.0, start=0.0, end=2*np.pi)\n",
    "freq = Slider(title=\"frequency\", value=1.0, start=0.1, end=5.1)\n",
    "\n",
    "\n",
    "# Set up callbacks\n",
    "def update_title(attrname, old, new):\n",
    "    plot.title.text = text.value\n",
    "\n",
    "text.on_change('value', update_title)\n",
    "\n",
    "def update_data(attrname, old, new):\n",
    "\n",
    "    # Get the current slider values\n",
    "    a = amplitude.value\n",
    "    b = offset.value\n",
    "    w = phase.value\n",
    "    k = freq.value\n",
    "\n",
    "    # Generate the new curve\n",
    "    x = np.linspace(0, 4*np.pi, N)\n",
    "    y = a*np.sin(k*x + w) + b\n",
    "\n",
    "    source.data = dict(x=x, y=y)\n",
    "\n",
    "for w in [offset, amplitude, phase, freq]:\n",
    "    w.on_change('value', update_data)\n",
    "\n",
    "\n",
    "# Set up layouts and display in Jupyter notebook\n",
    "inputs = widgetbox(text, offset, amplitude, phase, freq)\n",
    "show(row(inputs, plot, width=800))"
   ]
  },
  {
   "cell_type": "code",
   "execution_count": null,
   "metadata": {
    "collapsed": false,
    "nbpresent": {
     "id": "ed83d33a-1cfb-4040-aca0-00247ea0f1a4"
    },
    "scrolled": false
   },
   "outputs": [],
   "source": [
    "from numpy import pi, cos, sin, linspace, roll\n",
    "\n",
    "from bokeh.client import push_session\n",
    "from bokeh.io import curdoc\n",
    "from bokeh.plotting import figure\n",
    "\n",
    "M = 5\n",
    "N = M*10 + 1\n",
    "r_base = 8\n",
    "theta = linspace(0, 2*pi, N)\n",
    "r_x = linspace(0, 6*pi, N-1)\n",
    "rmin = r_base - cos(r_x) - 1\n",
    "rmax = r_base + sin(r_x) + 1\n",
    "\n",
    "colors = [\"FFFFCC\", \"#C7E9B4\", \"#7FCDBB\", \"#41B6C4\", \"#2C7FB8\", \"#253494\", \"#2C7FB8\", \"#41B6C4\", \"#7FCDBB\", \"#C7E9B4\"] * M\n",
    "\n",
    "# figure() function auto-adds the figure to curdoc()\n",
    "p = figure(x_range=(-11, 11), y_range=(-11, 11))\n",
    "r = p.annular_wedge(0, 0, rmin, rmax, theta[:-1], theta[1:],\n",
    "                    fill_color=colors, line_color=\"white\")\n",
    "\n",
    "# open a session to keep our local document in sync with server\n",
    "#session = push_session(curdoc())\n",
    "\n",
    "ds = r.data_source\n",
    "\n",
    "def update():\n",
    "    rmin = roll(ds.data[\"inner_radius\"], 1)\n",
    "    rmax = roll(ds.data[\"outer_radius\"], -1)\n",
    "    ds.data.update(inner_radius=rmin, outer_radius=rmax)\n",
    "\n",
    "curdoc().add_periodic_callback(update, 30)\n",
    "\n",
    "session.show(p) # open the document in a browser\n",
    "\n",
    "session.loop_until_closed() # run forever"
   ]
  },
  {
   "cell_type": "markdown",
   "metadata": {
    "nbpresent": {
     "id": "eaaadb06-e101-4fb4-b668-d7f8cba5059f"
    }
   },
   "source": [
    "## Custom Tools\n",
    "If you're building apps around bokeh, you might want to customize some of the tools. Here's an example of how to do that."
   ]
  },
  {
   "cell_type": "code",
   "execution_count": null,
   "metadata": {
    "collapsed": false,
    "nbpresent": {
     "id": "34a64d54-7fd9-4d0e-bd0b-179bcef0cc2f"
    },
    "scrolled": false
   },
   "outputs": [],
   "source": [
    "from bokeh.core.properties import Instance\n",
    "from bokeh.io import show\n",
    "from bokeh.models import ColumnDataSource, Tool, CustomJS\n",
    "from bokeh.plotting import figure\n",
    "\n",
    "JS_CODE = \"\"\"\n",
    "import * as p from \"core/properties\"\n",
    "import {GestureTool, GestureToolView} from \"models/tools/gestures/gesture_tool\"\n",
    "\n",
    "export class DrawToolView extends GestureToolView\n",
    "\n",
    "  # this is executed when the pan/drag event starts\n",
    "  _pan_start: (e) ->\n",
    "    @model.source.data = {x: [], y: []}\n",
    "\n",
    "  # this is executed on subsequent mouse/touch moves\n",
    "  _pan: (e) ->\n",
    "    frame = @plot_model.frame\n",
    "    canvas = @plot_view.canvas\n",
    "\n",
    "    vx = canvas.sx_to_vx(e.bokeh.sx)\n",
    "    vy = canvas.sy_to_vy(e.bokeh.sy)\n",
    "    if not frame.contains(vx, vy)\n",
    "      return null\n",
    "\n",
    "    x = frame.x_mappers['default'].map_from_target(vx)\n",
    "    y = frame.y_mappers['default'].map_from_target(vy)\n",
    "\n",
    "    @model.source.data.x.push(x)\n",
    "    @model.source.data.y.push(y)\n",
    "    @model.source.trigger('change')\n",
    "\n",
    "  # this is executed then the pan/drag ends\n",
    "  _pan_end: (e) -> return null\n",
    "\n",
    "export class DrawTool extends GestureTool\n",
    "  default_view: DrawToolView\n",
    "  type: \"DrawTool\"\n",
    "\n",
    "  tool_name: \"Drag Span\"\n",
    "  icon: \"bk-tool-icon-lasso-select\"\n",
    "  event_type: \"pan\"\n",
    "  default_order: 12\n",
    "\n",
    "  @define { source: [ p.Instance ] }\n",
    "\"\"\"\n",
    "\n",
    "class DrawTool(Tool):\n",
    "    __implementation__ = JS_CODE\n",
    "    source = Instance(ColumnDataSource)\n",
    "\n",
    "source = ColumnDataSource(data=dict(x=[], y=[]))\n",
    "\n",
    "# plot = figure(x_range=(0,10), y_range=(0,10), tools=[DrawTool(source=source)])\n",
    "plot = Scatter(df, x='mpg', y='hp', color='cyl',\n",
    "                  title=\"Auto MPG\", xlabel=\"Miles Per Gallon\",\n",
    "                  ylabel=\"Horsepower\", tools=[DrawTool(source=source), \"save\"])\n",
    "# plot.title.text =\"Drag to draw on the plot\"\n",
    "plot.line('x', 'y', source=source)\n",
    "\n",
    "show(plot)"
   ]
  },
  {
   "cell_type": "markdown",
   "metadata": {
    "nbpresent": {
     "id": "d8680f0f-541d-4b7f-a548-e2a41af30769"
    }
   },
   "source": [
    "# Plotly\n",
    "[Plotly](https://plot.ly/)  is an enterprise application providing advanced graphing and data analysis within the browser. The python library and associated javascript is open source. By default the service uses the ```plot.ly``` account and servers  to host data but you can also run without a server or with a paid enterprise service on your corporate network."
   ]
  }
 ],
 "metadata": {
  "hide_input": false,
  "kernelspec": {
   "display_name": "vistalk",
   "language": "python",
   "name": "vistalk"
  },
  "language_info": {
   "codemirror_mode": {
    "name": "ipython",
    "version": 3
   },
   "file_extension": ".py",
   "mimetype": "text/x-python",
   "name": "python",
   "nbconvert_exporter": "python",
   "pygments_lexer": "ipython3",
   "version": "3.6.0"
  },
  "nbpresent": {
   "slides": {
    "1415e5c6-b76f-4e28-9ac6-73b8d5b067cc": {
     "id": "1415e5c6-b76f-4e28-9ac6-73b8d5b067cc",
     "prev": "6fa3f26f-f172-4fd8-a7dd-01242f2352e8",
     "regions": {
      "36f5f103-1a72-43c7-adf7-0e4b7c706a57": {
       "attrs": {
        "height": 0.8,
        "width": 0.8,
        "x": 0.1,
        "y": 0.1
       },
       "content": {
        "cell": "bbb5ce9f-7029-4394-8352-0bb5394c808d",
        "part": "whole"
       },
       "id": "36f5f103-1a72-43c7-adf7-0e4b7c706a57"
      }
     }
    },
    "1837b716-8c37-44a6-8d6b-7cf1a014fb4d": {
     "id": "1837b716-8c37-44a6-8d6b-7cf1a014fb4d",
     "prev": "89412bcd-7283-4e43-8718-c8d9cd1201cf",
     "regions": {
      "92154aee-bff7-4cbf-9a27-03717348d1e6": {
       "attrs": {
        "height": 0.8,
        "width": 0.8,
        "x": 0.1,
        "y": 0.1
       },
       "content": {
        "cell": "041bc5f8-b557-47db-a872-a4e759ca3d1e",
        "part": "whole"
       },
       "id": "92154aee-bff7-4cbf-9a27-03717348d1e6"
      }
     }
    },
    "1a9c8f38-41ed-4c5a-83c6-60941499e036": {
     "id": "1a9c8f38-41ed-4c5a-83c6-60941499e036",
     "prev": "e08b8880-6dcc-49dc-ad54-250e6a9ced96",
     "regions": {
      "f80fe663-4695-4018-8514-8dd0de96c954": {
       "attrs": {
        "height": 0.8,
        "width": 0.8,
        "x": 0.1,
        "y": 0.1
       },
       "content": {
        "cell": "c7bec2d4-4a83-432f-b46b-fda2788ecca6",
        "part": "whole"
       },
       "id": "f80fe663-4695-4018-8514-8dd0de96c954"
      }
     }
    },
    "1fc0b239-afce-4867-ac88-d33fdc84bf3f": {
     "id": "1fc0b239-afce-4867-ac88-d33fdc84bf3f",
     "prev": "53e998ae-d7c5-440a-9ac4-79f29fd023dc",
     "regions": {
      "836c4f31-ff7b-483a-ae4c-fb3815430bf7": {
       "attrs": {
        "height": 0.8,
        "width": 0.8,
        "x": 0.1,
        "y": 0.1
       },
       "content": {
        "cell": "1f84592e-89c4-484a-a8c2-d99f0746667b",
        "part": "whole"
       },
       "id": "836c4f31-ff7b-483a-ae4c-fb3815430bf7"
      }
     }
    },
    "2ed0f0cc-0e53-4710-80fc-85adc36a5f49": {
     "id": "2ed0f0cc-0e53-4710-80fc-85adc36a5f49",
     "prev": "3e6dae00-581f-4a1c-b98c-6c922814afb2",
     "regions": {
      "92617ded-688b-4bed-811c-4f5ba49f5b25": {
       "attrs": {
        "height": 0.8,
        "width": 0.8,
        "x": 0.1,
        "y": 0.1
       },
       "content": {
        "cell": "697946da-f475-436b-8f44-0167b316fafc",
        "part": "whole"
       },
       "id": "92617ded-688b-4bed-811c-4f5ba49f5b25"
      }
     }
    },
    "3e6dae00-581f-4a1c-b98c-6c922814afb2": {
     "id": "3e6dae00-581f-4a1c-b98c-6c922814afb2",
     "prev": "1837b716-8c37-44a6-8d6b-7cf1a014fb4d",
     "regions": {
      "92475bd5-aef1-43e9-b886-22e3b16d79eb": {
       "attrs": {
        "height": 0.8,
        "width": 0.8,
        "x": 0.1,
        "y": 0.1
       },
       "content": {
        "cell": "92ac28e1-d384-489e-8688-5415a4886d9e",
        "part": "whole"
       },
       "id": "92475bd5-aef1-43e9-b886-22e3b16d79eb"
      }
     }
    },
    "3f6b5fb3-2817-40d0-92c7-fe156e4d5c90": {
     "id": "3f6b5fb3-2817-40d0-92c7-fe156e4d5c90",
     "prev": "2ed0f0cc-0e53-4710-80fc-85adc36a5f49",
     "regions": {
      "70f0a6a1-5bd9-4f60-aaa2-d11b958f2ce2": {
       "attrs": {
        "height": 0.8,
        "width": 0.8,
        "x": 0.1,
        "y": 0.1
       },
       "content": {
        "cell": "1ec28525-f523-4e70-af2e-04c15aabdea0",
        "part": "whole"
       },
       "id": "70f0a6a1-5bd9-4f60-aaa2-d11b958f2ce2"
      }
     }
    },
    "47aee3a1-f0f8-40b2-bb5e-f931ad947e3a": {
     "id": "47aee3a1-f0f8-40b2-bb5e-f931ad947e3a",
     "prev": "b7b1f689-0203-474d-8c1e-2f69fce514e8",
     "regions": {
      "0c4e7916-9d35-443e-8df4-3d1920b81fc3": {
       "attrs": {
        "height": 0.8,
        "width": 0.8,
        "x": 0.1,
        "y": 0.1
       },
       "content": {
        "cell": "34a64d54-7fd9-4d0e-bd0b-179bcef0cc2f",
        "part": "whole"
       },
       "id": "0c4e7916-9d35-443e-8df4-3d1920b81fc3"
      }
     }
    },
    "53e998ae-d7c5-440a-9ac4-79f29fd023dc": {
     "id": "53e998ae-d7c5-440a-9ac4-79f29fd023dc",
     "prev": "8e713ed3-dd54-482f-bc38-070c559ee517",
     "regions": {
      "7ff8f3c3-10b4-495a-86c1-7f94de507edc": {
       "attrs": {
        "height": 0.8,
        "width": 0.8,
        "x": 0.1,
        "y": 0.1
       },
       "content": {
        "cell": "e0b532cc-4ccf-489a-b85c-7682db8f327a",
        "part": "whole"
       },
       "id": "7ff8f3c3-10b4-495a-86c1-7f94de507edc"
      }
     }
    },
    "57479ccb-5ed1-40d8-b74f-0030ee853492": {
     "id": "57479ccb-5ed1-40d8-b74f-0030ee853492",
     "prev": "1a9c8f38-41ed-4c5a-83c6-60941499e036",
     "regions": {
      "e64a1f10-94ee-4317-b378-34f58cc4764c": {
       "attrs": {
        "height": 0.8,
        "width": 0.8,
        "x": 0.1,
        "y": 0.1
       },
       "content": {
        "cell": "7c2d00d9-80d3-432f-9daf-6481feaf0299",
        "part": "whole"
       },
       "id": "e64a1f10-94ee-4317-b378-34f58cc4764c"
      }
     }
    },
    "6ad4f26f-8b31-40b7-b0e4-8863fb131c8e": {
     "id": "6ad4f26f-8b31-40b7-b0e4-8863fb131c8e",
     "prev": "db012a79-c3bb-459a-91c4-870673659724",
     "regions": {
      "86103d9a-9462-4e12-900c-a5f7a339dac9": {
       "attrs": {
        "height": 0.8,
        "width": 0.8,
        "x": 0.1,
        "y": 0.1
       },
       "content": {
        "cell": "d8680f0f-541d-4b7f-a548-e2a41af30769",
        "part": "whole"
       },
       "id": "86103d9a-9462-4e12-900c-a5f7a339dac9"
      }
     }
    },
    "6fa3f26f-f172-4fd8-a7dd-01242f2352e8": {
     "id": "6fa3f26f-f172-4fd8-a7dd-01242f2352e8",
     "prev": "3f6b5fb3-2817-40d0-92c7-fe156e4d5c90",
     "regions": {
      "8247e1ee-4aa4-4217-91c7-46326bbc515e": {
       "attrs": {
        "height": 0.8,
        "width": 0.8,
        "x": 0.1,
        "y": 0.1
       },
       "content": {
        "cell": "f7a216e7-df66-4703-a263-158cf23f7d29",
        "part": "whole"
       },
       "id": "8247e1ee-4aa4-4217-91c7-46326bbc515e"
      }
     }
    },
    "89412bcd-7283-4e43-8718-c8d9cd1201cf": {
     "id": "89412bcd-7283-4e43-8718-c8d9cd1201cf",
     "prev": "1fc0b239-afce-4867-ac88-d33fdc84bf3f",
     "regions": {
      "237f3554-c15c-4039-97a6-ad654f148d16": {
       "attrs": {
        "height": 0.8,
        "width": 0.8,
        "x": 0.1,
        "y": 0.1
       },
       "content": {
        "cell": "2aa1c50d-fc0c-4af9-8b60-5ad046a38704",
        "part": "whole"
       },
       "id": "237f3554-c15c-4039-97a6-ad654f148d16"
      }
     }
    },
    "8e713ed3-dd54-482f-bc38-070c559ee517": {
     "id": "8e713ed3-dd54-482f-bc38-070c559ee517",
     "prev": "95586794-45b0-41f7-8e7a-7b633feb15f6",
     "regions": {
      "359b1e28-1257-473b-836a-96e9240cb7e1": {
       "attrs": {
        "height": 0.8,
        "width": 0.8,
        "x": 0.1,
        "y": 0.1
       },
       "content": {
        "cell": "90a32421-fa7c-4b00-aa80-ddc8a265ff68",
        "part": "whole"
       },
       "id": "359b1e28-1257-473b-836a-96e9240cb7e1"
      }
     }
    },
    "95586794-45b0-41f7-8e7a-7b633feb15f6": {
     "id": "95586794-45b0-41f7-8e7a-7b633feb15f6",
     "prev": "d6a5fb8c-7554-4b98-91db-0328e91ab3cb",
     "regions": {
      "33f62786-abb9-4ebd-b633-54a407b88626": {
       "attrs": {
        "height": 0.8,
        "width": 0.8,
        "x": 0.1,
        "y": 0.1
       },
       "content": {
        "cell": "d1edc7fb-bc4d-45f3-8adb-2b79275fcabe",
        "part": "whole"
       },
       "id": "33f62786-abb9-4ebd-b633-54a407b88626"
      }
     }
    },
    "b7b1f689-0203-474d-8c1e-2f69fce514e8": {
     "id": "b7b1f689-0203-474d-8c1e-2f69fce514e8",
     "prev": "57479ccb-5ed1-40d8-b74f-0030ee853492",
     "regions": {
      "855b2b55-7416-4cfa-916e-23d8884c7a20": {
       "attrs": {
        "height": 0.8,
        "width": 0.8,
        "x": 0.1,
        "y": 0.1
       },
       "content": {
        "cell": "eaaadb06-e101-4fb4-b668-d7f8cba5059f",
        "part": "whole"
       },
       "id": "855b2b55-7416-4cfa-916e-23d8884c7a20"
      }
     }
    },
    "d6a5fb8c-7554-4b98-91db-0328e91ab3cb": {
     "id": "d6a5fb8c-7554-4b98-91db-0328e91ab3cb",
     "prev": null,
     "regions": {
      "94673510-3e6c-4c53-bac3-14bf68a59491": {
       "attrs": {
        "height": 0.8,
        "width": 0.8,
        "x": 0.1,
        "y": 0.1
       },
       "content": {
        "cell": "14d8314b-2b79-4f1d-bbd8-4f7bbc718492",
        "part": "whole"
       },
       "id": "94673510-3e6c-4c53-bac3-14bf68a59491"
      }
     }
    },
    "db012a79-c3bb-459a-91c4-870673659724": {
     "id": "db012a79-c3bb-459a-91c4-870673659724",
     "prev": "47aee3a1-f0f8-40b2-bb5e-f931ad947e3a",
     "regions": {
      "92b42d9c-b4e5-4633-a0c9-705c231a504a": {
       "attrs": {
        "height": 0.8,
        "width": 0.8,
        "x": 0.1,
        "y": 0.1
       },
       "content": {
        "cell": "ed83d33a-1cfb-4040-aca0-00247ea0f1a4",
        "part": "whole"
       },
       "id": "92b42d9c-b4e5-4633-a0c9-705c231a504a"
      }
     }
    },
    "e08b8880-6dcc-49dc-ad54-250e6a9ced96": {
     "id": "e08b8880-6dcc-49dc-ad54-250e6a9ced96",
     "prev": "1415e5c6-b76f-4e28-9ac6-73b8d5b067cc",
     "regions": {
      "453e8cc3-2736-4d09-8190-c8d274bb8880": {
       "attrs": {
        "height": 0.8,
        "width": 0.8,
        "x": 0.1,
        "y": 0.1
       },
       "content": {
        "cell": "ef9d2623-53f3-4ae2-bfa4-0e4ff153d089",
        "part": "whole"
       },
       "id": "453e8cc3-2736-4d09-8190-c8d274bb8880"
      }
     }
    }
   },
   "themes": {
    "default": "ea0fc3f7-21ee-436e-a6a1-68d1946ff346",
    "theme": {
     "ea0fc3f7-21ee-436e-a6a1-68d1946ff346": {
      "id": "ea0fc3f7-21ee-436e-a6a1-68d1946ff346",
      "palette": {
       "19cc588f-0593-49c9-9f4b-e4d7cc113b1c": {
        "id": "19cc588f-0593-49c9-9f4b-e4d7cc113b1c",
        "rgb": [
         252,
         252,
         252
        ]
       },
       "31af15d2-7e15-44c5-ab5e-e04b16a89eff": {
        "id": "31af15d2-7e15-44c5-ab5e-e04b16a89eff",
        "rgb": [
         68,
         68,
         68
        ]
       },
       "50f92c45-a630-455b-aec3-788680ec7410": {
        "id": "50f92c45-a630-455b-aec3-788680ec7410",
        "rgb": [
         155,
         177,
         192
        ]
       },
       "c5cc3653-2ee1-402a-aba2-7caae1da4f6c": {
        "id": "c5cc3653-2ee1-402a-aba2-7caae1da4f6c",
        "rgb": [
         43,
         126,
         184
        ]
       },
       "efa7f048-9acb-414c-8b04-a26811511a21": {
        "id": "efa7f048-9acb-414c-8b04-a26811511a21",
        "rgb": [
         25.118061674008803,
         73.60176211453744,
         107.4819383259912
        ]
       }
      },
      "rules": {
       "blockquote": {
        "color": "50f92c45-a630-455b-aec3-788680ec7410"
       },
       "code": {
        "font-family": "Anonymous Pro"
       },
       "h1": {
        "color": "c5cc3653-2ee1-402a-aba2-7caae1da4f6c",
        "font-family": "Lato",
        "font-size": 8
       },
       "h2": {
        "color": "c5cc3653-2ee1-402a-aba2-7caae1da4f6c",
        "font-family": "Lato",
        "font-size": 6
       },
       "h3": {
        "color": "50f92c45-a630-455b-aec3-788680ec7410",
        "font-family": "Lato",
        "font-size": 5.5
       },
       "h4": {
        "color": "c5cc3653-2ee1-402a-aba2-7caae1da4f6c",
        "font-family": "Lato",
        "font-size": 5
       },
       "h5": {
        "font-family": "Lato"
       },
       "h6": {
        "font-family": "Lato"
       },
       "h7": {
        "font-family": "Lato"
       },
       "pre": {
        "font-family": "Anonymous Pro",
        "font-size": 4
       }
      },
      "text-base": {
       "font-family": "Merriweather",
       "font-size": 4
      }
     }
    }
   }
  },
  "toc": {
   "colors": {
    "hover_highlight": "#DAA520",
    "running_highlight": "#FF0000",
    "selected_highlight": "#FFD700"
   },
   "moveMenuLeft": true,
   "nav_menu": {
    "height": "187px",
    "width": "370px"
   },
   "navigate_menu": true,
   "number_sections": true,
   "sideBar": false,
   "threshold": 4,
   "toc_cell": false,
   "toc_position": {
    "height": "1689px",
    "left": "9px",
    "right": "20px",
    "top": "106px",
    "width": "241px"
   },
   "toc_section_display": "block",
   "toc_window_display": false
  },
  "widgets": {
   "state": {
    "7eac2a2ee3844503b0713f529f24802b": {
     "views": [
      {
       "cell_index": 6
      }
     ]
    }
   },
   "version": "1.2.0"
  }
 },
 "nbformat": 4,
 "nbformat_minor": 2
}
