{
 "cells": [
  {
   "cell_type": "markdown",
   "metadata": {
    "nbpresent": {
     "id": "14d8314b-2b79-4f1d-bbd8-4f7bbc718492"
    },
    "slideshow": {
     "slide_type": "slide"
    }
   },
   "source": [
    "![Title: Building Interactive Visualizations with Jupyter Notebook](presentation_title.png)"
   ]
  },
  {
   "cell_type": "markdown",
   "metadata": {
    "nbpresent": {
     "id": "d1edc7fb-bc4d-45f3-8adb-2b79275fcabe"
    }
   },
   "source": [
    "# What's Jupyter Notebook?\n",
    "* A web application for scientific computation in the browser \n",
    "* Supports 40+ languages (kernals) including R and Matlab\n",
    "* Formerly known as IPython Notebook\n",
    "* Standard day-to-day tool for many scientists"
   ]
  },
  {
   "cell_type": "markdown",
   "metadata": {},
   "source": [
    "# Problem Statement\n",
    "Python has a wealth of  fantastic libraries for analyzing and plotting data, including\n",
    "* matplotlib\n",
    "* numpy\n",
    "* pandas\n",
    "\n",
    "However, the plots become static images when rendered in Jupyter or on the web.\n",
    "\n",
    "**Wouldn't it be more interesting to have interactive plots?**"
   ]
  },
  {
   "cell_type": "markdown",
   "metadata": {
    "nbpresent": {
     "id": "90a32421-fa7c-4b00-aa80-ddc8a265ff68"
    }
   },
   "source": [
    "# Bokeh\n",
    "For this demonstration, we'll use the [Bokeh](http://bokeh.pydata.org/en/latest/), pronounced \"Bow (as in crossbow) Keh (as in kettle). We first need to tell  Bokeh to load its JavaScript component, BokehJS, using the ```output_notebook()``` function."
   ]
  },
  {
   "cell_type": "code",
   "execution_count": 1,
   "metadata": {
    "collapsed": false,
    "nbpresent": {
     "id": "e0b532cc-4ccf-489a-b85c-7682db8f327a"
    },
    "scrolled": false
   },
   "outputs": [
    {
     "data": {
      "text/html": [
       "\n",
       "    <div class=\"bk-root\">\n",
       "        <a href=\"http://bokeh.pydata.org\" target=\"_blank\" class=\"bk-logo bk-logo-small bk-logo-notebook\"></a>\n",
       "        <span id=\"3f552d3a-4947-4f3f-8f2b-df44880aa3b9\">Loading BokehJS ...</span>\n",
       "    </div>"
      ]
     },
     "metadata": {},
     "output_type": "display_data"
    },
    {
     "data": {
      "application/javascript": [
       "\n",
       "(function(global) {\n",
       "  function now() {\n",
       "    return new Date();\n",
       "  }\n",
       "\n",
       "  var force = true;\n",
       "\n",
       "  if (typeof (window._bokeh_onload_callbacks) === \"undefined\" || force === true) {\n",
       "    window._bokeh_onload_callbacks = [];\n",
       "    window._bokeh_is_loading = undefined;\n",
       "  }\n",
       "\n",
       "\n",
       "  \n",
       "  if (typeof (window._bokeh_timeout) === \"undefined\" || force === true) {\n",
       "    window._bokeh_timeout = Date.now() + 5000;\n",
       "    window._bokeh_failed_load = false;\n",
       "  }\n",
       "\n",
       "  var NB_LOAD_WARNING = {'data': {'text/html':\n",
       "     \"<div style='background-color: #fdd'>\\n\"+\n",
       "     \"<p>\\n\"+\n",
       "     \"BokehJS does not appear to have successfully loaded. If loading BokehJS from CDN, this \\n\"+\n",
       "     \"may be due to a slow or bad network connection. Possible fixes:\\n\"+\n",
       "     \"</p>\\n\"+\n",
       "     \"<ul>\\n\"+\n",
       "     \"<li>re-rerun `output_notebook()` to attempt to load from CDN again, or</li>\\n\"+\n",
       "     \"<li>use INLINE resources instead, as so:</li>\\n\"+\n",
       "     \"</ul>\\n\"+\n",
       "     \"<code>\\n\"+\n",
       "     \"from bokeh.resources import INLINE\\n\"+\n",
       "     \"output_notebook(resources=INLINE)\\n\"+\n",
       "     \"</code>\\n\"+\n",
       "     \"</div>\"}};\n",
       "\n",
       "  function display_loaded() {\n",
       "    if (window.Bokeh !== undefined) {\n",
       "      document.getElementById(\"3f552d3a-4947-4f3f-8f2b-df44880aa3b9\").textContent = \"BokehJS successfully loaded.\";\n",
       "    } else if (Date.now() < window._bokeh_timeout) {\n",
       "      setTimeout(display_loaded, 100)\n",
       "    }\n",
       "  }\n",
       "\n",
       "  function run_callbacks() {\n",
       "    window._bokeh_onload_callbacks.forEach(function(callback) { callback() });\n",
       "    delete window._bokeh_onload_callbacks\n",
       "    console.info(\"Bokeh: all callbacks have finished\");\n",
       "  }\n",
       "\n",
       "  function load_libs(js_urls, callback) {\n",
       "    window._bokeh_onload_callbacks.push(callback);\n",
       "    if (window._bokeh_is_loading > 0) {\n",
       "      console.log(\"Bokeh: BokehJS is being loaded, scheduling callback at\", now());\n",
       "      return null;\n",
       "    }\n",
       "    if (js_urls == null || js_urls.length === 0) {\n",
       "      run_callbacks();\n",
       "      return null;\n",
       "    }\n",
       "    console.log(\"Bokeh: BokehJS not loaded, scheduling load and callback at\", now());\n",
       "    window._bokeh_is_loading = js_urls.length;\n",
       "    for (var i = 0; i < js_urls.length; i++) {\n",
       "      var url = js_urls[i];\n",
       "      var s = document.createElement('script');\n",
       "      s.src = url;\n",
       "      s.async = false;\n",
       "      s.onreadystatechange = s.onload = function() {\n",
       "        window._bokeh_is_loading--;\n",
       "        if (window._bokeh_is_loading === 0) {\n",
       "          console.log(\"Bokeh: all BokehJS libraries loaded\");\n",
       "          run_callbacks()\n",
       "        }\n",
       "      };\n",
       "      s.onerror = function() {\n",
       "        console.warn(\"failed to load library \" + url);\n",
       "      };\n",
       "      console.log(\"Bokeh: injecting script tag for BokehJS library: \", url);\n",
       "      document.getElementsByTagName(\"head\")[0].appendChild(s);\n",
       "    }\n",
       "  };var element = document.getElementById(\"3f552d3a-4947-4f3f-8f2b-df44880aa3b9\");\n",
       "  if (element == null) {\n",
       "    console.log(\"Bokeh: ERROR: autoload.js configured with elementid '3f552d3a-4947-4f3f-8f2b-df44880aa3b9' but no matching script tag was found. \")\n",
       "    return false;\n",
       "  }\n",
       "\n",
       "  var js_urls = [\"https://cdn.pydata.org/bokeh/release/bokeh-0.12.4.min.js\", \"https://cdn.pydata.org/bokeh/release/bokeh-widgets-0.12.4.min.js\"];\n",
       "\n",
       "  var inline_js = [\n",
       "    function(Bokeh) {\n",
       "      Bokeh.set_log_level(\"info\");\n",
       "    },\n",
       "    \n",
       "    function(Bokeh) {\n",
       "      \n",
       "      document.getElementById(\"3f552d3a-4947-4f3f-8f2b-df44880aa3b9\").textContent = \"BokehJS is loading...\";\n",
       "    },\n",
       "    function(Bokeh) {\n",
       "      console.log(\"Bokeh: injecting CSS: https://cdn.pydata.org/bokeh/release/bokeh-0.12.4.min.css\");\n",
       "      Bokeh.embed.inject_css(\"https://cdn.pydata.org/bokeh/release/bokeh-0.12.4.min.css\");\n",
       "      console.log(\"Bokeh: injecting CSS: https://cdn.pydata.org/bokeh/release/bokeh-widgets-0.12.4.min.css\");\n",
       "      Bokeh.embed.inject_css(\"https://cdn.pydata.org/bokeh/release/bokeh-widgets-0.12.4.min.css\");\n",
       "    }\n",
       "  ];\n",
       "\n",
       "  function run_inline_js() {\n",
       "    \n",
       "    if ((window.Bokeh !== undefined) || (force === true)) {\n",
       "      for (var i = 0; i < inline_js.length; i++) {\n",
       "        inline_js[i](window.Bokeh);\n",
       "      }if (force === true) {\n",
       "        display_loaded();\n",
       "      }} else if (Date.now() < window._bokeh_timeout) {\n",
       "      setTimeout(run_inline_js, 100);\n",
       "    } else if (!window._bokeh_failed_load) {\n",
       "      console.log(\"Bokeh: BokehJS failed to load within specified timeout.\");\n",
       "      window._bokeh_failed_load = true;\n",
       "    } else if (force !== true) {\n",
       "      var cell = $(document.getElementById(\"3f552d3a-4947-4f3f-8f2b-df44880aa3b9\")).parents('.cell').data().cell;\n",
       "      cell.output_area.append_execute_result(NB_LOAD_WARNING)\n",
       "    }\n",
       "\n",
       "  }\n",
       "\n",
       "  if (window._bokeh_is_loading === 0) {\n",
       "    console.log(\"Bokeh: BokehJS loaded, going straight to plotting\");\n",
       "    run_inline_js();\n",
       "  } else {\n",
       "    load_libs(js_urls, function() {\n",
       "      console.log(\"Bokeh: BokehJS plotting callback run at\", now());\n",
       "      run_inline_js();\n",
       "    });\n",
       "  }\n",
       "}(this));"
      ]
     },
     "metadata": {},
     "output_type": "display_data"
    }
   ],
   "source": [
    "from bokeh.plotting import output_notebook, show\n",
    "\n",
    "output_notebook()"
   ]
  },
  {
   "cell_type": "markdown",
   "metadata": {
    "nbpresent": {
     "id": "1f84592e-89c4-484a-a8c2-d99f0746667b"
    }
   },
   "source": [
    "## Sample Data\n",
    "A small set of data, ```autompg```, is available in the ```bokeh.sampledata``` package. ```autompg``` is in the ```pandas.dataframe``` format which you can think of as a database table or spreadsheet."
   ]
  },
  {
   "cell_type": "code",
   "execution_count": 2,
   "metadata": {
    "collapsed": false,
    "nbpresent": {
     "id": "2aa1c50d-fc0c-4af9-8b60-5ad046a38704"
    }
   },
   "outputs": [],
   "source": [
    "from bokeh.sampledata.autompg import autompg as df\n",
    "#Display contents using qgrid\n",
    "import qgrid\n",
    "# copies javascript dependencies to your /nbextensions folder\n",
    "qgrid.nbinstall(overwrite=True) \n",
    "\n",
    "qgrid.show_grid(df)"
   ]
  },
  {
   "cell_type": "markdown",
   "metadata": {
    "hide_input": true,
    "nbpresent": {
     "id": "041bc5f8-b557-47db-a872-a4e759ca3d1e"
    }
   },
   "source": [
    "## Charts\n",
    "Bokeh provides high level statistical plots such as bar charts, horizon plots and time series using the ```bokeh.charts``` interface. \n",
    "\n",
    "The interface is geared to be extremely simple to use in conjunction with the [Pandas](http://pandas.pydata.org/) data structures library (```Series``` or ```DataFrame```).\n",
    "\n",
    "In the first plot below, we use the ```Bar``` chart to show the average miles per gallon for a given cylinder type. Note that we specify the ```mean``` aggregation type (default is sum)."
   ]
  },
  {
   "cell_type": "code",
   "execution_count": 3,
   "metadata": {
    "collapsed": false,
    "nbpresent": {
     "id": "92ac28e1-d384-489e-8688-5415a4886d9e"
    },
    "scrolled": false
   },
   "outputs": [
    {
     "data": {
      "text/html": [
       "\n",
       "\n",
       "    <div class=\"bk-root\">\n",
       "        <div class=\"bk-plotdiv\" id=\"4e5f3f55-1b87-4e8b-83ba-7a4761b75e89\"></div>\n",
       "    </div>\n",
       "<script type=\"text/javascript\">\n",
       "  \n",
       "  (function(global) {\n",
       "    function now() {\n",
       "      return new Date();\n",
       "    }\n",
       "  \n",
       "    var force = false;\n",
       "  \n",
       "    if (typeof (window._bokeh_onload_callbacks) === \"undefined\" || force === true) {\n",
       "      window._bokeh_onload_callbacks = [];\n",
       "      window._bokeh_is_loading = undefined;\n",
       "    }\n",
       "  \n",
       "  \n",
       "    \n",
       "    if (typeof (window._bokeh_timeout) === \"undefined\" || force === true) {\n",
       "      window._bokeh_timeout = Date.now() + 0;\n",
       "      window._bokeh_failed_load = false;\n",
       "    }\n",
       "  \n",
       "    var NB_LOAD_WARNING = {'data': {'text/html':\n",
       "       \"<div style='background-color: #fdd'>\\n\"+\n",
       "       \"<p>\\n\"+\n",
       "       \"BokehJS does not appear to have successfully loaded. If loading BokehJS from CDN, this \\n\"+\n",
       "       \"may be due to a slow or bad network connection. Possible fixes:\\n\"+\n",
       "       \"</p>\\n\"+\n",
       "       \"<ul>\\n\"+\n",
       "       \"<li>re-rerun `output_notebook()` to attempt to load from CDN again, or</li>\\n\"+\n",
       "       \"<li>use INLINE resources instead, as so:</li>\\n\"+\n",
       "       \"</ul>\\n\"+\n",
       "       \"<code>\\n\"+\n",
       "       \"from bokeh.resources import INLINE\\n\"+\n",
       "       \"output_notebook(resources=INLINE)\\n\"+\n",
       "       \"</code>\\n\"+\n",
       "       \"</div>\"}};\n",
       "  \n",
       "    function display_loaded() {\n",
       "      if (window.Bokeh !== undefined) {\n",
       "        document.getElementById(\"4e5f3f55-1b87-4e8b-83ba-7a4761b75e89\").textContent = \"BokehJS successfully loaded.\";\n",
       "      } else if (Date.now() < window._bokeh_timeout) {\n",
       "        setTimeout(display_loaded, 100)\n",
       "      }\n",
       "    }\n",
       "  \n",
       "    function run_callbacks() {\n",
       "      window._bokeh_onload_callbacks.forEach(function(callback) { callback() });\n",
       "      delete window._bokeh_onload_callbacks\n",
       "      console.info(\"Bokeh: all callbacks have finished\");\n",
       "    }\n",
       "  \n",
       "    function load_libs(js_urls, callback) {\n",
       "      window._bokeh_onload_callbacks.push(callback);\n",
       "      if (window._bokeh_is_loading > 0) {\n",
       "        console.log(\"Bokeh: BokehJS is being loaded, scheduling callback at\", now());\n",
       "        return null;\n",
       "      }\n",
       "      if (js_urls == null || js_urls.length === 0) {\n",
       "        run_callbacks();\n",
       "        return null;\n",
       "      }\n",
       "      console.log(\"Bokeh: BokehJS not loaded, scheduling load and callback at\", now());\n",
       "      window._bokeh_is_loading = js_urls.length;\n",
       "      for (var i = 0; i < js_urls.length; i++) {\n",
       "        var url = js_urls[i];\n",
       "        var s = document.createElement('script');\n",
       "        s.src = url;\n",
       "        s.async = false;\n",
       "        s.onreadystatechange = s.onload = function() {\n",
       "          window._bokeh_is_loading--;\n",
       "          if (window._bokeh_is_loading === 0) {\n",
       "            console.log(\"Bokeh: all BokehJS libraries loaded\");\n",
       "            run_callbacks()\n",
       "          }\n",
       "        };\n",
       "        s.onerror = function() {\n",
       "          console.warn(\"failed to load library \" + url);\n",
       "        };\n",
       "        console.log(\"Bokeh: injecting script tag for BokehJS library: \", url);\n",
       "        document.getElementsByTagName(\"head\")[0].appendChild(s);\n",
       "      }\n",
       "    };var element = document.getElementById(\"4e5f3f55-1b87-4e8b-83ba-7a4761b75e89\");\n",
       "    if (element == null) {\n",
       "      console.log(\"Bokeh: ERROR: autoload.js configured with elementid '4e5f3f55-1b87-4e8b-83ba-7a4761b75e89' but no matching script tag was found. \")\n",
       "      return false;\n",
       "    }\n",
       "  \n",
       "    var js_urls = [];\n",
       "  \n",
       "    var inline_js = [\n",
       "      function(Bokeh) {\n",
       "        (function() {\n",
       "          var fn = function() {\n",
       "            var docs_json = {\"849209b6-029c-4b24-a35f-199338a192ea\":{\"roots\":{\"references\":[{\"attributes\":{\"dimension\":1,\"plot\":{\"id\":\"41d57c0f-d59d-4059-831d-3a04a345dc13\",\"subtype\":\"Chart\",\"type\":\"Plot\"},\"ticker\":{\"id\":\"bff21a73-2e0f-4d63-be1b-82ceda75c70e\",\"type\":\"BasicTicker\"}},\"id\":\"0247a50c-32b8-4051-86bb-fd144d2e4241\",\"type\":\"Grid\"},{\"attributes\":{\"plot\":{\"id\":\"41d57c0f-d59d-4059-831d-3a04a345dc13\",\"subtype\":\"Chart\",\"type\":\"Plot\"}},\"id\":\"c9ff8aa3-4fcf-4264-8d12-b3e31c5a86b5\",\"type\":\"PanTool\"},{\"attributes\":{\"bottom_units\":\"screen\",\"fill_alpha\":{\"value\":0.5},\"fill_color\":{\"value\":\"lightgrey\"},\"left_units\":\"screen\",\"level\":\"overlay\",\"line_alpha\":{\"value\":1.0},\"line_color\":{\"value\":\"black\"},\"line_dash\":[4,4],\"line_width\":{\"value\":2},\"plot\":null,\"render_mode\":\"css\",\"right_units\":\"screen\",\"top_units\":\"screen\"},\"id\":\"ed667eba-bcb2-42d6-ab1d-16d2a5fc85ad\",\"type\":\"BoxAnnotation\"},{\"attributes\":{},\"id\":\"570cde86-4a11-49c8-b9c0-bc516e7999aa\",\"type\":\"CategoricalTicker\"},{\"attributes\":{\"plot\":{\"id\":\"41d57c0f-d59d-4059-831d-3a04a345dc13\",\"subtype\":\"Chart\",\"type\":\"Plot\"}},\"id\":\"87580930-cee3-4523-991a-2589814bf9fc\",\"type\":\"WheelZoomTool\"},{\"attributes\":{},\"id\":\"af9426a3-3fef-4fcd-a46e-91e8f7cf10ef\",\"type\":\"CategoricalTickFormatter\"},{\"attributes\":{\"overlay\":{\"id\":\"ed667eba-bcb2-42d6-ab1d-16d2a5fc85ad\",\"type\":\"BoxAnnotation\"},\"plot\":{\"id\":\"41d57c0f-d59d-4059-831d-3a04a345dc13\",\"subtype\":\"Chart\",\"type\":\"Plot\"}},\"id\":\"cac61b48-c4d4-4057-bf70-dea88a912dc2\",\"type\":\"BoxZoomTool\"},{\"attributes\":{\"plot\":{\"id\":\"41d57c0f-d59d-4059-831d-3a04a345dc13\",\"subtype\":\"Chart\",\"type\":\"Plot\"}},\"id\":\"e7311a6f-6222-46f0-a3ce-5b2af90537a1\",\"type\":\"SaveTool\"},{\"attributes\":{\"plot\":{\"id\":\"41d57c0f-d59d-4059-831d-3a04a345dc13\",\"subtype\":\"Chart\",\"type\":\"Plot\"}},\"id\":\"fcd05422-1aa2-4e68-b623-23f9e2e07e9d\",\"type\":\"ResetTool\"},{\"attributes\":{\"plot\":{\"id\":\"41d57c0f-d59d-4059-831d-3a04a345dc13\",\"subtype\":\"Chart\",\"type\":\"Plot\"}},\"id\":\"f1881c62-738c-44f0-9e48-ca7674af9c72\",\"type\":\"HelpTool\"},{\"attributes\":{\"axis_label\":\"Cyl\",\"formatter\":{\"id\":\"af9426a3-3fef-4fcd-a46e-91e8f7cf10ef\",\"type\":\"CategoricalTickFormatter\"},\"major_label_orientation\":0.7853981633974483,\"plot\":{\"id\":\"41d57c0f-d59d-4059-831d-3a04a345dc13\",\"subtype\":\"Chart\",\"type\":\"Plot\"},\"ticker\":{\"id\":\"570cde86-4a11-49c8-b9c0-bc516e7999aa\",\"type\":\"CategoricalTicker\"}},\"id\":\"2e2a1035-4c73-4927-8608-47d680ffc0cf\",\"type\":\"CategoricalAxis\"},{\"attributes\":{\"callback\":null,\"column_names\":[\"x\",\"y\",\"width\",\"height\",\"color\",\"fill_alpha\",\"line_color\",\"line_alpha\",\"label\"],\"data\":{\"chart_index\":[{\"cyl\":8}],\"color\":[\"#f22c40\"],\"cyl\":[8],\"fill_alpha\":[0.8],\"height\":[14.963106796116506],\"label\":[{\"cyl\":8}],\"line_alpha\":[1.0],\"line_color\":[\"white\"],\"width\":[0.8],\"x\":[\"8\"],\"y\":[7.481553398058253]}},\"id\":\"b4bdf0bb-f813-4f26-b465-54e611d426a3\",\"type\":\"ColumnDataSource\"},{\"attributes\":{\"fill_alpha\":{\"field\":\"fill_alpha\"},\"fill_color\":{\"field\":\"color\"},\"height\":{\"field\":\"height\",\"units\":\"data\"},\"line_color\":{\"field\":\"line_color\"},\"width\":{\"field\":\"width\",\"units\":\"data\"},\"x\":{\"field\":\"x\"},\"y\":{\"field\":\"y\"}},\"id\":\"92ecbe00-6bcc-4221-9d35-fc0986139b5b\",\"type\":\"Rect\"},{\"attributes\":{\"fill_alpha\":{\"field\":\"fill_alpha\"},\"fill_color\":{\"field\":\"color\"},\"height\":{\"field\":\"height\",\"units\":\"data\"},\"line_color\":{\"field\":\"line_color\"},\"width\":{\"field\":\"width\",\"units\":\"data\"},\"x\":{\"field\":\"x\"},\"y\":{\"field\":\"y\"}},\"id\":\"04c2489a-d4bc-49d0-a345-08539008a61b\",\"type\":\"Rect\"},{\"attributes\":{\"data_source\":{\"id\":\"b4bdf0bb-f813-4f26-b465-54e611d426a3\",\"type\":\"ColumnDataSource\"},\"glyph\":{\"id\":\"92ecbe00-6bcc-4221-9d35-fc0986139b5b\",\"type\":\"Rect\"},\"hover_glyph\":null,\"nonselection_glyph\":null,\"selection_glyph\":null},\"id\":\"678a0783-45dc-4781-a498-e221fbe942ff\",\"type\":\"GlyphRenderer\"},{\"attributes\":{\"callback\":null,\"column_names\":[\"x\",\"y\",\"width\",\"height\",\"color\",\"fill_alpha\",\"line_color\",\"line_alpha\",\"label\"],\"data\":{\"chart_index\":[{\"cyl\":4}],\"color\":[\"#f22c40\"],\"cyl\":[4],\"fill_alpha\":[0.8],\"height\":[29.28391959798995],\"label\":[{\"cyl\":4}],\"line_alpha\":[1.0],\"line_color\":[\"white\"],\"width\":[0.8],\"x\":[\"4\"],\"y\":[14.641959798994975]}},\"id\":\"2d82e74c-b8c9-468c-b2e6-eccd14c8fe20\",\"type\":\"ColumnDataSource\"},{\"attributes\":{\"fill_alpha\":{\"field\":\"fill_alpha\"},\"fill_color\":{\"field\":\"color\"},\"height\":{\"field\":\"height\",\"units\":\"data\"},\"line_color\":{\"field\":\"line_color\"},\"width\":{\"field\":\"width\",\"units\":\"data\"},\"x\":{\"field\":\"x\"},\"y\":{\"field\":\"y\"}},\"id\":\"c6093cc8-6842-4b64-92ca-f5eabfba368c\",\"type\":\"Rect\"},{\"attributes\":{\"fill_alpha\":{\"field\":\"fill_alpha\"},\"fill_color\":{\"field\":\"color\"},\"height\":{\"field\":\"height\",\"units\":\"data\"},\"line_color\":{\"field\":\"line_color\"},\"width\":{\"field\":\"width\",\"units\":\"data\"},\"x\":{\"field\":\"x\"},\"y\":{\"field\":\"y\"}},\"id\":\"7413a445-2195-417e-a305-3bb676d549c4\",\"type\":\"Rect\"},{\"attributes\":{\"axis_label\":\"Mean( Mpg )\",\"formatter\":{\"id\":\"9fb81950-2698-44a3-be7d-0e766c64f5d0\",\"type\":\"BasicTickFormatter\"},\"plot\":{\"id\":\"41d57c0f-d59d-4059-831d-3a04a345dc13\",\"subtype\":\"Chart\",\"type\":\"Plot\"},\"ticker\":{\"id\":\"bff21a73-2e0f-4d63-be1b-82ceda75c70e\",\"type\":\"BasicTicker\"}},\"id\":\"8171e595-187b-49ee-a45c-b09d4f873733\",\"type\":\"LinearAxis\"},{\"attributes\":{\"data_source\":{\"id\":\"2d82e74c-b8c9-468c-b2e6-eccd14c8fe20\",\"type\":\"ColumnDataSource\"},\"glyph\":{\"id\":\"04c2489a-d4bc-49d0-a345-08539008a61b\",\"type\":\"Rect\"},\"hover_glyph\":null,\"nonselection_glyph\":null,\"selection_glyph\":null},\"id\":\"1ab6df1c-2abf-41f6-a289-758c37e76cb6\",\"type\":\"GlyphRenderer\"},{\"attributes\":{\"callback\":null,\"column_names\":[\"x\",\"y\",\"width\",\"height\",\"color\",\"fill_alpha\",\"line_color\",\"line_alpha\",\"label\"],\"data\":{\"chart_index\":[{\"cyl\":6}],\"color\":[\"#f22c40\"],\"cyl\":[6],\"fill_alpha\":[0.8],\"height\":[19.973493975903615],\"label\":[{\"cyl\":6}],\"line_alpha\":[1.0],\"line_color\":[\"white\"],\"width\":[0.8],\"x\":[\"6\"],\"y\":[9.986746987951808]}},\"id\":\"ffefb486-e67b-4e1c-9534-0599a5b251d2\",\"type\":\"ColumnDataSource\"},{\"attributes\":{\"callback\":null,\"column_names\":[\"x\",\"y\",\"width\",\"height\",\"color\",\"fill_alpha\",\"line_color\",\"line_alpha\",\"label\"],\"data\":{\"chart_index\":[{\"cyl\":5}],\"color\":[\"#f22c40\"],\"cyl\":[5],\"fill_alpha\":[0.8],\"height\":[27.366666666666664],\"label\":[{\"cyl\":5}],\"line_alpha\":[1.0],\"line_color\":[\"white\"],\"width\":[0.8],\"x\":[\"5\"],\"y\":[13.683333333333332]}},\"id\":\"3dde01cb-f3c4-4ad6-830e-c9b94dbbbed7\",\"type\":\"ColumnDataSource\"},{\"attributes\":{\"label\":{\"value\":\"8\"},\"renderers\":[{\"id\":\"678a0783-45dc-4781-a498-e221fbe942ff\",\"type\":\"GlyphRenderer\"}]},\"id\":\"d2f1fe10-17a9-4059-b19d-47527b8b10ba\",\"type\":\"LegendItem\"},{\"attributes\":{\"fill_alpha\":{\"field\":\"fill_alpha\"},\"fill_color\":{\"field\":\"color\"},\"height\":{\"field\":\"height\",\"units\":\"data\"},\"line_color\":{\"field\":\"line_color\"},\"width\":{\"field\":\"width\",\"units\":\"data\"},\"x\":{\"field\":\"x\"},\"y\":{\"field\":\"y\"}},\"id\":\"94fbeecb-8773-44cb-803c-84dfe139dc05\",\"type\":\"Rect\"},{\"attributes\":{\"label\":{\"value\":\"4\"},\"renderers\":[{\"id\":\"1ab6df1c-2abf-41f6-a289-758c37e76cb6\",\"type\":\"GlyphRenderer\"}]},\"id\":\"5b4d9165-6348-4254-a042-23de892249f3\",\"type\":\"LegendItem\"},{\"attributes\":{\"callback\":null,\"end\":30.748115577889447},\"id\":\"6ba364a5-56e5-4502-a2e6-9166af957a96\",\"type\":\"Range1d\"},{\"attributes\":{\"data_source\":{\"id\":\"ffefb486-e67b-4e1c-9534-0599a5b251d2\",\"type\":\"ColumnDataSource\"},\"glyph\":{\"id\":\"7413a445-2195-417e-a305-3bb676d549c4\",\"type\":\"Rect\"},\"hover_glyph\":null,\"nonselection_glyph\":null,\"selection_glyph\":null},\"id\":\"989ebc9b-dad5-404f-8d9a-5f62e562aa5d\",\"type\":\"GlyphRenderer\"},{\"attributes\":{\"items\":[{\"id\":\"d2f1fe10-17a9-4059-b19d-47527b8b10ba\",\"type\":\"LegendItem\"},{\"id\":\"5b4d9165-6348-4254-a042-23de892249f3\",\"type\":\"LegendItem\"},{\"id\":\"c962d22e-0146-457f-bcba-773e35468528\",\"type\":\"LegendItem\"},{\"id\":\"54c0f161-6904-40ff-ae23-0723183468ce\",\"type\":\"LegendItem\"},{\"id\":\"e3ee7677-833c-4572-ae64-347f1e580246\",\"type\":\"LegendItem\"}],\"location\":\"top_left\",\"plot\":{\"id\":\"41d57c0f-d59d-4059-831d-3a04a345dc13\",\"subtype\":\"Chart\",\"type\":\"Plot\"}},\"id\":\"725f75d6-24b6-4555-8a2e-b0e2ba9ce451\",\"type\":\"Legend\"},{\"attributes\":{\"below\":[{\"id\":\"2e2a1035-4c73-4927-8608-47d680ffc0cf\",\"type\":\"CategoricalAxis\"}],\"css_classes\":null,\"left\":[{\"id\":\"8171e595-187b-49ee-a45c-b09d4f873733\",\"type\":\"LinearAxis\"}],\"renderers\":[{\"id\":\"ed667eba-bcb2-42d6-ab1d-16d2a5fc85ad\",\"type\":\"BoxAnnotation\"},{\"id\":\"678a0783-45dc-4781-a498-e221fbe942ff\",\"type\":\"GlyphRenderer\"},{\"id\":\"1ab6df1c-2abf-41f6-a289-758c37e76cb6\",\"type\":\"GlyphRenderer\"},{\"id\":\"989ebc9b-dad5-404f-8d9a-5f62e562aa5d\",\"type\":\"GlyphRenderer\"},{\"id\":\"3987a979-103e-4cc2-b97e-a2eb8f163924\",\"type\":\"GlyphRenderer\"},{\"id\":\"b7b7ac14-74f5-4d62-b2ed-3deadd51dc8f\",\"type\":\"GlyphRenderer\"},{\"id\":\"725f75d6-24b6-4555-8a2e-b0e2ba9ce451\",\"type\":\"Legend\"},{\"id\":\"2e2a1035-4c73-4927-8608-47d680ffc0cf\",\"type\":\"CategoricalAxis\"},{\"id\":\"8171e595-187b-49ee-a45c-b09d4f873733\",\"type\":\"LinearAxis\"},{\"id\":\"0247a50c-32b8-4051-86bb-fd144d2e4241\",\"type\":\"Grid\"}],\"title\":{\"id\":\"20ff1a54-e0fb-4508-bc88-bfe334a83d6c\",\"type\":\"Title\"},\"tool_events\":{\"id\":\"c1e98ffd-07b2-456d-b481-76ccbc0f74e3\",\"type\":\"ToolEvents\"},\"toolbar\":{\"id\":\"b5c17e44-b813-42cc-af29-b7d9f9a35d33\",\"type\":\"Toolbar\"},\"x_mapper_type\":\"auto\",\"x_range\":{\"id\":\"87cc2752-83f4-45f9-8281-598df48a61e8\",\"type\":\"FactorRange\"},\"y_mapper_type\":\"auto\",\"y_range\":{\"id\":\"6ba364a5-56e5-4502-a2e6-9166af957a96\",\"type\":\"Range1d\"}},\"id\":\"41d57c0f-d59d-4059-831d-3a04a345dc13\",\"subtype\":\"Chart\",\"type\":\"Plot\"},{\"attributes\":{\"callback\":null,\"column_names\":[\"x\",\"y\",\"width\",\"height\",\"color\",\"fill_alpha\",\"line_color\",\"line_alpha\",\"label\"],\"data\":{\"chart_index\":[{\"cyl\":3}],\"color\":[\"#f22c40\"],\"cyl\":[3],\"fill_alpha\":[0.8],\"height\":[20.55],\"label\":[{\"cyl\":3}],\"line_alpha\":[1.0],\"line_color\":[\"white\"],\"width\":[0.8],\"x\":[\"3\"],\"y\":[10.275]}},\"id\":\"6c6739dd-5b65-444f-855a-19ee0cc8d39a\",\"type\":\"ColumnDataSource\"},{\"attributes\":{\"callback\":null,\"factors\":[\"3\",\"4\",\"5\",\"6\",\"8\"]},\"id\":\"87cc2752-83f4-45f9-8281-598df48a61e8\",\"type\":\"FactorRange\"},{\"attributes\":{\"data_source\":{\"id\":\"3dde01cb-f3c4-4ad6-830e-c9b94dbbbed7\",\"type\":\"ColumnDataSource\"},\"glyph\":{\"id\":\"c6093cc8-6842-4b64-92ca-f5eabfba368c\",\"type\":\"Rect\"},\"hover_glyph\":null,\"nonselection_glyph\":null,\"selection_glyph\":null},\"id\":\"b7b7ac14-74f5-4d62-b2ed-3deadd51dc8f\",\"type\":\"GlyphRenderer\"},{\"attributes\":{},\"id\":\"c1e98ffd-07b2-456d-b481-76ccbc0f74e3\",\"type\":\"ToolEvents\"},{\"attributes\":{},\"id\":\"bff21a73-2e0f-4d63-be1b-82ceda75c70e\",\"type\":\"BasicTicker\"},{\"attributes\":{\"data_source\":{\"id\":\"6c6739dd-5b65-444f-855a-19ee0cc8d39a\",\"type\":\"ColumnDataSource\"},\"glyph\":{\"id\":\"94fbeecb-8773-44cb-803c-84dfe139dc05\",\"type\":\"Rect\"},\"hover_glyph\":null,\"nonselection_glyph\":null,\"selection_glyph\":null},\"id\":\"3987a979-103e-4cc2-b97e-a2eb8f163924\",\"type\":\"GlyphRenderer\"},{\"attributes\":{},\"id\":\"9fb81950-2698-44a3-be7d-0e766c64f5d0\",\"type\":\"BasicTickFormatter\"},{\"attributes\":{\"active_drag\":\"auto\",\"active_scroll\":\"auto\",\"active_tap\":\"auto\",\"tools\":[{\"id\":\"c9ff8aa3-4fcf-4264-8d12-b3e31c5a86b5\",\"type\":\"PanTool\"},{\"id\":\"87580930-cee3-4523-991a-2589814bf9fc\",\"type\":\"WheelZoomTool\"},{\"id\":\"cac61b48-c4d4-4057-bf70-dea88a912dc2\",\"type\":\"BoxZoomTool\"},{\"id\":\"e7311a6f-6222-46f0-a3ce-5b2af90537a1\",\"type\":\"SaveTool\"},{\"id\":\"fcd05422-1aa2-4e68-b623-23f9e2e07e9d\",\"type\":\"ResetTool\"},{\"id\":\"f1881c62-738c-44f0-9e48-ca7674af9c72\",\"type\":\"HelpTool\"}]},\"id\":\"b5c17e44-b813-42cc-af29-b7d9f9a35d33\",\"type\":\"Toolbar\"},{\"attributes\":{\"plot\":null,\"text\":\"Average MPG By Cycle\"},\"id\":\"20ff1a54-e0fb-4508-bc88-bfe334a83d6c\",\"type\":\"Title\"},{\"attributes\":{\"label\":{\"value\":\"3\"},\"renderers\":[{\"id\":\"3987a979-103e-4cc2-b97e-a2eb8f163924\",\"type\":\"GlyphRenderer\"}]},\"id\":\"54c0f161-6904-40ff-ae23-0723183468ce\",\"type\":\"LegendItem\"},{\"attributes\":{\"label\":{\"value\":\"6\"},\"renderers\":[{\"id\":\"989ebc9b-dad5-404f-8d9a-5f62e562aa5d\",\"type\":\"GlyphRenderer\"}]},\"id\":\"c962d22e-0146-457f-bcba-773e35468528\",\"type\":\"LegendItem\"},{\"attributes\":{\"label\":{\"value\":\"5\"},\"renderers\":[{\"id\":\"b7b7ac14-74f5-4d62-b2ed-3deadd51dc8f\",\"type\":\"GlyphRenderer\"}]},\"id\":\"e3ee7677-833c-4572-ae64-347f1e580246\",\"type\":\"LegendItem\"}],\"root_ids\":[\"41d57c0f-d59d-4059-831d-3a04a345dc13\"]},\"title\":\"Bokeh Application\",\"version\":\"0.12.4\"}};\n",
       "            var render_items = [{\"docid\":\"849209b6-029c-4b24-a35f-199338a192ea\",\"elementid\":\"4e5f3f55-1b87-4e8b-83ba-7a4761b75e89\",\"modelid\":\"41d57c0f-d59d-4059-831d-3a04a345dc13\"}];\n",
       "            \n",
       "            Bokeh.embed.embed_items(docs_json, render_items);\n",
       "          };\n",
       "          if (document.readyState != \"loading\") fn();\n",
       "          else document.addEventListener(\"DOMContentLoaded\", fn);\n",
       "        })();\n",
       "      },\n",
       "      function(Bokeh) {\n",
       "      }\n",
       "    ];\n",
       "  \n",
       "    function run_inline_js() {\n",
       "      \n",
       "      if ((window.Bokeh !== undefined) || (force === true)) {\n",
       "        for (var i = 0; i < inline_js.length; i++) {\n",
       "          inline_js[i](window.Bokeh);\n",
       "        }if (force === true) {\n",
       "          display_loaded();\n",
       "        }} else if (Date.now() < window._bokeh_timeout) {\n",
       "        setTimeout(run_inline_js, 100);\n",
       "      } else if (!window._bokeh_failed_load) {\n",
       "        console.log(\"Bokeh: BokehJS failed to load within specified timeout.\");\n",
       "        window._bokeh_failed_load = true;\n",
       "      } else if (force !== true) {\n",
       "        var cell = $(document.getElementById(\"4e5f3f55-1b87-4e8b-83ba-7a4761b75e89\")).parents('.cell').data().cell;\n",
       "        cell.output_area.append_execute_result(NB_LOAD_WARNING)\n",
       "      }\n",
       "  \n",
       "    }\n",
       "  \n",
       "    if (window._bokeh_is_loading === 0) {\n",
       "      console.log(\"Bokeh: BokehJS loaded, going straight to plotting\");\n",
       "      run_inline_js();\n",
       "    } else {\n",
       "      load_libs(js_urls, function() {\n",
       "        console.log(\"Bokeh: BokehJS plotting callback run at\", now());\n",
       "        run_inline_js();\n",
       "      });\n",
       "    }\n",
       "  }(this));\n",
       "</script>"
      ]
     },
     "metadata": {},
     "output_type": "display_data"
    }
   ],
   "source": [
    "from bokeh.charts import Bar\n",
    "\n",
    "# group by cyl, apply aggregate average function to mpg column\n",
    "barchart = Bar(df, label='cyl', values=\"mpg\", agg='mean', title=\"Average MPG By Cycle\")\n",
    "\n",
    "show(barchart)"
   ]
  },
  {
   "cell_type": "code",
   "execution_count": 4,
   "metadata": {
    "collapsed": false,
    "hide_input": false,
    "nbpresent": {
     "id": "697946da-f475-436b-8f44-0167b316fafc"
    },
    "scrolled": false
   },
   "outputs": [
    {
     "data": {
      "text/html": [
       "\n",
       "\n",
       "    <div class=\"bk-root\">\n",
       "        <div class=\"bk-plotdiv\" id=\"97ee2a05-675c-4884-a24b-e6eddd2e3546\"></div>\n",
       "    </div>\n",
       "<script type=\"text/javascript\">\n",
       "  \n",
       "  (function(global) {\n",
       "    function now() {\n",
       "      return new Date();\n",
       "    }\n",
       "  \n",
       "    var force = false;\n",
       "  \n",
       "    if (typeof (window._bokeh_onload_callbacks) === \"undefined\" || force === true) {\n",
       "      window._bokeh_onload_callbacks = [];\n",
       "      window._bokeh_is_loading = undefined;\n",
       "    }\n",
       "  \n",
       "  \n",
       "    \n",
       "    if (typeof (window._bokeh_timeout) === \"undefined\" || force === true) {\n",
       "      window._bokeh_timeout = Date.now() + 0;\n",
       "      window._bokeh_failed_load = false;\n",
       "    }\n",
       "  \n",
       "    var NB_LOAD_WARNING = {'data': {'text/html':\n",
       "       \"<div style='background-color: #fdd'>\\n\"+\n",
       "       \"<p>\\n\"+\n",
       "       \"BokehJS does not appear to have successfully loaded. If loading BokehJS from CDN, this \\n\"+\n",
       "       \"may be due to a slow or bad network connection. Possible fixes:\\n\"+\n",
       "       \"</p>\\n\"+\n",
       "       \"<ul>\\n\"+\n",
       "       \"<li>re-rerun `output_notebook()` to attempt to load from CDN again, or</li>\\n\"+\n",
       "       \"<li>use INLINE resources instead, as so:</li>\\n\"+\n",
       "       \"</ul>\\n\"+\n",
       "       \"<code>\\n\"+\n",
       "       \"from bokeh.resources import INLINE\\n\"+\n",
       "       \"output_notebook(resources=INLINE)\\n\"+\n",
       "       \"</code>\\n\"+\n",
       "       \"</div>\"}};\n",
       "  \n",
       "    function display_loaded() {\n",
       "      if (window.Bokeh !== undefined) {\n",
       "        document.getElementById(\"97ee2a05-675c-4884-a24b-e6eddd2e3546\").textContent = \"BokehJS successfully loaded.\";\n",
       "      } else if (Date.now() < window._bokeh_timeout) {\n",
       "        setTimeout(display_loaded, 100)\n",
       "      }\n",
       "    }\n",
       "  \n",
       "    function run_callbacks() {\n",
       "      window._bokeh_onload_callbacks.forEach(function(callback) { callback() });\n",
       "      delete window._bokeh_onload_callbacks\n",
       "      console.info(\"Bokeh: all callbacks have finished\");\n",
       "    }\n",
       "  \n",
       "    function load_libs(js_urls, callback) {\n",
       "      window._bokeh_onload_callbacks.push(callback);\n",
       "      if (window._bokeh_is_loading > 0) {\n",
       "        console.log(\"Bokeh: BokehJS is being loaded, scheduling callback at\", now());\n",
       "        return null;\n",
       "      }\n",
       "      if (js_urls == null || js_urls.length === 0) {\n",
       "        run_callbacks();\n",
       "        return null;\n",
       "      }\n",
       "      console.log(\"Bokeh: BokehJS not loaded, scheduling load and callback at\", now());\n",
       "      window._bokeh_is_loading = js_urls.length;\n",
       "      for (var i = 0; i < js_urls.length; i++) {\n",
       "        var url = js_urls[i];\n",
       "        var s = document.createElement('script');\n",
       "        s.src = url;\n",
       "        s.async = false;\n",
       "        s.onreadystatechange = s.onload = function() {\n",
       "          window._bokeh_is_loading--;\n",
       "          if (window._bokeh_is_loading === 0) {\n",
       "            console.log(\"Bokeh: all BokehJS libraries loaded\");\n",
       "            run_callbacks()\n",
       "          }\n",
       "        };\n",
       "        s.onerror = function() {\n",
       "          console.warn(\"failed to load library \" + url);\n",
       "        };\n",
       "        console.log(\"Bokeh: injecting script tag for BokehJS library: \", url);\n",
       "        document.getElementsByTagName(\"head\")[0].appendChild(s);\n",
       "      }\n",
       "    };var element = document.getElementById(\"97ee2a05-675c-4884-a24b-e6eddd2e3546\");\n",
       "    if (element == null) {\n",
       "      console.log(\"Bokeh: ERROR: autoload.js configured with elementid '97ee2a05-675c-4884-a24b-e6eddd2e3546' but no matching script tag was found. \")\n",
       "      return false;\n",
       "    }\n",
       "  \n",
       "    var js_urls = [];\n",
       "  \n",
       "    var inline_js = [\n",
       "      function(Bokeh) {\n",
       "        (function() {\n",
       "          var fn = function() {\n",
       "            var docs_json = {\"d802e14e-7b21-4e67-b2b7-0813a6113686\":{\"roots\":{\"references\":[{\"attributes\":{},\"id\":\"d48647de-40f4-43e6-bed2-3ab0672a5f1a\",\"type\":\"BasicTickFormatter\"},{\"attributes\":{\"fill_alpha\":{\"value\":0.7},\"fill_color\":{\"value\":\"#407ee7\"},\"line_color\":{\"value\":\"#407ee7\"},\"size\":{\"units\":\"screen\",\"value\":8},\"x\":{\"field\":\"x_values\"},\"y\":{\"field\":\"y_values\"}},\"id\":\"bbc47192-ed2a-46f8-a9a4-916e042807e9\",\"type\":\"Circle\"},{\"attributes\":{},\"id\":\"be7af742-1e1d-4cf3-b0e4-652bef1b74bc\",\"type\":\"BasicTicker\"},{\"attributes\":{\"data_source\":{\"id\":\"5bde9c73-f7aa-4981-b0fa-f97a45e4b408\",\"type\":\"ColumnDataSource\"},\"glyph\":{\"id\":\"a040b938-4f39-42e5-89c3-12518155ee12\",\"type\":\"Circle\"},\"hover_glyph\":null,\"nonselection_glyph\":null,\"selection_glyph\":null},\"id\":\"fdadc166-0025-4c21-88b1-de1b634044f3\",\"type\":\"GlyphRenderer\"},{\"attributes\":{\"data_source\":{\"id\":\"5ec7f7c5-2f4f-40d4-8aff-a874a9191b97\",\"type\":\"ColumnDataSource\"},\"glyph\":{\"id\":\"91eae7b5-1593-48dd-87b1-86be3b9284a7\",\"type\":\"Circle\"},\"hover_glyph\":null,\"nonselection_glyph\":null,\"selection_glyph\":null},\"id\":\"4ffb9db4-9cdd-4d87-8cd6-d546fc8a1d23\",\"type\":\"GlyphRenderer\"},{\"attributes\":{\"callback\":null,\"column_names\":[\"x_values\",\"y_values\"],\"data\":{\"chart_index\":[{\"cyl\":4},{\"cyl\":4},{\"cyl\":4},{\"cyl\":4},{\"cyl\":4},{\"cyl\":4},{\"cyl\":4},{\"cyl\":4},{\"cyl\":4},{\"cyl\":4},{\"cyl\":4},{\"cyl\":4},{\"cyl\":4},{\"cyl\":4},{\"cyl\":4},{\"cyl\":4},{\"cyl\":4},{\"cyl\":4},{\"cyl\":4},{\"cyl\":4},{\"cyl\":4},{\"cyl\":4},{\"cyl\":4},{\"cyl\":4},{\"cyl\":4},{\"cyl\":4},{\"cyl\":4},{\"cyl\":4},{\"cyl\":4},{\"cyl\":4},{\"cyl\":4},{\"cyl\":4},{\"cyl\":4},{\"cyl\":4},{\"cyl\":4},{\"cyl\":4},{\"cyl\":4},{\"cyl\":4},{\"cyl\":4},{\"cyl\":4},{\"cyl\":4},{\"cyl\":4},{\"cyl\":4},{\"cyl\":4},{\"cyl\":4},{\"cyl\":4},{\"cyl\":4},{\"cyl\":4},{\"cyl\":4},{\"cyl\":4},{\"cyl\":4},{\"cyl\":4},{\"cyl\":4},{\"cyl\":4},{\"cyl\":4},{\"cyl\":4},{\"cyl\":4},{\"cyl\":4},{\"cyl\":4},{\"cyl\":4},{\"cyl\":4},{\"cyl\":4},{\"cyl\":4},{\"cyl\":4},{\"cyl\":4},{\"cyl\":4},{\"cyl\":4},{\"cyl\":4},{\"cyl\":4},{\"cyl\":4},{\"cyl\":4},{\"cyl\":4},{\"cyl\":4},{\"cyl\":4},{\"cyl\":4},{\"cyl\":4},{\"cyl\":4},{\"cyl\":4},{\"cyl\":4},{\"cyl\":4},{\"cyl\":4},{\"cyl\":4},{\"cyl\":4},{\"cyl\":4},{\"cyl\":4},{\"cyl\":4},{\"cyl\":4},{\"cyl\":4},{\"cyl\":4},{\"cyl\":4},{\"cyl\":4},{\"cyl\":4},{\"cyl\":4},{\"cyl\":4},{\"cyl\":4},{\"cyl\":4},{\"cyl\":4},{\"cyl\":4},{\"cyl\":4},{\"cyl\":4},{\"cyl\":4},{\"cyl\":4},{\"cyl\":4},{\"cyl\":4},{\"cyl\":4},{\"cyl\":4},{\"cyl\":4},{\"cyl\":4},{\"cyl\":4},{\"cyl\":4},{\"cyl\":4},{\"cyl\":4},{\"cyl\":4},{\"cyl\":4},{\"cyl\":4},{\"cyl\":4},{\"cyl\":4},{\"cyl\":4},{\"cyl\":4},{\"cyl\":4},{\"cyl\":4},{\"cyl\":4},{\"cyl\":4},{\"cyl\":4},{\"cyl\":4},{\"cyl\":4},{\"cyl\":4},{\"cyl\":4},{\"cyl\":4},{\"cyl\":4},{\"cyl\":4},{\"cyl\":4},{\"cyl\":4},{\"cyl\":4},{\"cyl\":4},{\"cyl\":4},{\"cyl\":4},{\"cyl\":4},{\"cyl\":4},{\"cyl\":4},{\"cyl\":4},{\"cyl\":4},{\"cyl\":4},{\"cyl\":4},{\"cyl\":4},{\"cyl\":4},{\"cyl\":4},{\"cyl\":4},{\"cyl\":4},{\"cyl\":4},{\"cyl\":4},{\"cyl\":4},{\"cyl\":4},{\"cyl\":4},{\"cyl\":4},{\"cyl\":4},{\"cyl\":4},{\"cyl\":4},{\"cyl\":4},{\"cyl\":4},{\"cyl\":4},{\"cyl\":4},{\"cyl\":4},{\"cyl\":4},{\"cyl\":4},{\"cyl\":4},{\"cyl\":4},{\"cyl\":4},{\"cyl\":4},{\"cyl\":4},{\"cyl\":4},{\"cyl\":4},{\"cyl\":4},{\"cyl\":4},{\"cyl\":4},{\"cyl\":4},{\"cyl\":4},{\"cyl\":4},{\"cyl\":4},{\"cyl\":4},{\"cyl\":4},{\"cyl\":4},{\"cyl\":4},{\"cyl\":4},{\"cyl\":4},{\"cyl\":4},{\"cyl\":4},{\"cyl\":4},{\"cyl\":4},{\"cyl\":4},{\"cyl\":4},{\"cyl\":4},{\"cyl\":4},{\"cyl\":4},{\"cyl\":4},{\"cyl\":4},{\"cyl\":4},{\"cyl\":4},{\"cyl\":4}],\"cyl\":[4,4,4,4,4,4,4,4,4,4,4,4,4,4,4,4,4,4,4,4,4,4,4,4,4,4,4,4,4,4,4,4,4,4,4,4,4,4,4,4,4,4,4,4,4,4,4,4,4,4,4,4,4,4,4,4,4,4,4,4,4,4,4,4,4,4,4,4,4,4,4,4,4,4,4,4,4,4,4,4,4,4,4,4,4,4,4,4,4,4,4,4,4,4,4,4,4,4,4,4,4,4,4,4,4,4,4,4,4,4,4,4,4,4,4,4,4,4,4,4,4,4,4,4,4,4,4,4,4,4,4,4,4,4,4,4,4,4,4,4,4,4,4,4,4,4,4,4,4,4,4,4,4,4,4,4,4,4,4,4,4,4,4,4,4,4,4,4,4,4,4,4,4,4,4,4,4,4,4,4,4,4,4,4,4,4,4,4,4,4,4,4,4,4,4,4,4,4,4],\"x_values\":{\"__ndarray__\":\"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\",\"dtype\":\"float64\",\"shape\":[199]},\"y_values\":[95,88,46,87,90,95,113,88,90,95,72,86,90,70,76,65,69,60,70,95,80,54,90,86,112,76,87,69,86,92,97,80,88,46,88,72,94,85,90,49,75,91,112,110,67,80,65,75,83,67,78,52,61,75,75,75,97,93,67,75,83,78,96,71,97,70,95,88,98,115,53,86,81,92,79,83,52,60,70,53,71,70,75,72,102,88,68,80,58,96,70,78,88,75,89,63,83,67,78,110,48,66,52,70,60,88,68,95,97,75,95,105,85,97,115,71,68,88,71,65,80,80,71,70,70,65,69,90,90,76,60,70,65,90,88,90,78,90,75,92,75,65,105,65,48,48,67,67,67,62,88,72,84,84,92,84,58,64,60,67,65,62,68,63,65,65,74,75,75,100,74,80,88,88,88,85,84,90,92,74,68,68,63,70,88,75,70,67,67,67,92,96,84,90,86,52,84,79,82]}},\"id\":\"5ec7f7c5-2f4f-40d4-8aff-a874a9191b97\",\"type\":\"ColumnDataSource\"},{\"attributes\":{\"fill_alpha\":{\"value\":0.7},\"fill_color\":{\"value\":\"#00ad9c\"},\"line_color\":{\"value\":\"#00ad9c\"},\"size\":{\"units\":\"screen\",\"value\":8},\"x\":{\"field\":\"x_values\"},\"y\":{\"field\":\"y_values\"}},\"id\":\"a040b938-4f39-42e5-89c3-12518155ee12\",\"type\":\"Circle\"},{\"attributes\":{\"plot\":null,\"text\":\"MPG vs Horsepower\"},\"id\":\"625bc9a8-d9e5-4e32-b39a-fec349298cd2\",\"type\":\"Title\"},{\"attributes\":{},\"id\":\"a5fdc50a-6947-459b-a9bf-ef5e542814d5\",\"type\":\"ToolEvents\"},{\"attributes\":{\"data_source\":{\"id\":\"85ef3884-6a0c-4167-9e90-5a3b5aa27d9c\",\"type\":\"ColumnDataSource\"},\"glyph\":{\"id\":\"e3e288a5-aadf-478f-bc4f-d9e71a4ea7be\",\"type\":\"Circle\"},\"hover_glyph\":null,\"nonselection_glyph\":null,\"selection_glyph\":null},\"id\":\"dc4823c0-5779-4ef9-8df5-8ad3ccdb1724\",\"type\":\"GlyphRenderer\"},{\"attributes\":{\"data_source\":{\"id\":\"593aa9ae-f99d-493c-b5c9-1681f6956c11\",\"type\":\"ColumnDataSource\"},\"glyph\":{\"id\":\"bbc47192-ed2a-46f8-a9a4-916e042807e9\",\"type\":\"Circle\"},\"hover_glyph\":null,\"nonselection_glyph\":null,\"selection_glyph\":null},\"id\":\"dd59af9a-55a3-47c2-ad0d-b7dcae410c3d\",\"type\":\"GlyphRenderer\"},{\"attributes\":{\"data_source\":{\"id\":\"7f09872e-3f02-4220-afad-9c18f7ee60d2\",\"type\":\"ColumnDataSource\"},\"glyph\":{\"id\":\"2565ac23-52f3-4e24-972c-b6b659e67cda\",\"type\":\"Circle\"},\"hover_glyph\":null,\"nonselection_glyph\":null,\"selection_glyph\":null},\"id\":\"205c531c-dd7a-4491-bb70-af64e61afb2c\",\"type\":\"GlyphRenderer\"},{\"attributes\":{\"dimension\":1,\"plot\":{\"id\":\"a5f7d032-2d98-47fb-9eca-84ec36e8a23a\",\"subtype\":\"Chart\",\"type\":\"Plot\"},\"ticker\":{\"id\":\"39f405f8-0c08-4ad1-b033-039e370cb1b5\",\"type\":\"BasicTicker\"}},\"id\":\"9fb2464e-d6f5-430d-a904-157ff60802e3\",\"type\":\"Grid\"},{\"attributes\":{\"fill_alpha\":{\"value\":0.7},\"fill_color\":{\"value\":\"#df5320\"},\"line_color\":{\"value\":\"#df5320\"},\"size\":{\"units\":\"screen\",\"value\":8},\"x\":{\"field\":\"x_values\"},\"y\":{\"field\":\"y_values\"}},\"id\":\"2565ac23-52f3-4e24-972c-b6b659e67cda\",\"type\":\"Circle\"},{\"attributes\":{},\"id\":\"39f405f8-0c08-4ad1-b033-039e370cb1b5\",\"type\":\"BasicTicker\"},{\"attributes\":{\"callback\":null,\"column_names\":[\"x_values\",\"y_values\"],\"data\":{\"chart_index\":[{\"cyl\":6},{\"cyl\":6},{\"cyl\":6},{\"cyl\":6},{\"cyl\":6},{\"cyl\":6},{\"cyl\":6},{\"cyl\":6},{\"cyl\":6},{\"cyl\":6},{\"cyl\":6},{\"cyl\":6},{\"cyl\":6},{\"cyl\":6},{\"cyl\":6},{\"cyl\":6},{\"cyl\":6},{\"cyl\":6},{\"cyl\":6},{\"cyl\":6},{\"cyl\":6},{\"cyl\":6},{\"cyl\":6},{\"cyl\":6},{\"cyl\":6},{\"cyl\":6},{\"cyl\":6},{\"cyl\":6},{\"cyl\":6},{\"cyl\":6},{\"cyl\":6},{\"cyl\":6},{\"cyl\":6},{\"cyl\":6},{\"cyl\":6},{\"cyl\":6},{\"cyl\":6},{\"cyl\":6},{\"cyl\":6},{\"cyl\":6},{\"cyl\":6},{\"cyl\":6},{\"cyl\":6},{\"cyl\":6},{\"cyl\":6},{\"cyl\":6},{\"cyl\":6},{\"cyl\":6},{\"cyl\":6},{\"cyl\":6},{\"cyl\":6},{\"cyl\":6},{\"cyl\":6},{\"cyl\":6},{\"cyl\":6},{\"cyl\":6},{\"cyl\":6},{\"cyl\":6},{\"cyl\":6},{\"cyl\":6},{\"cyl\":6},{\"cyl\":6},{\"cyl\":6},{\"cyl\":6},{\"cyl\":6},{\"cyl\":6},{\"cyl\":6},{\"cyl\":6},{\"cyl\":6},{\"cyl\":6},{\"cyl\":6},{\"cyl\":6},{\"cyl\":6},{\"cyl\":6},{\"cyl\":6},{\"cyl\":6},{\"cyl\":6},{\"cyl\":6},{\"cyl\":6},{\"cyl\":6},{\"cyl\":6},{\"cyl\":6},{\"cyl\":6}],\"cyl\":[6,6,6,6,6,6,6,6,6,6,6,6,6,6,6,6,6,6,6,6,6,6,6,6,6,6,6,6,6,6,6,6,6,6,6,6,6,6,6,6,6,6,6,6,6,6,6,6,6,6,6,6,6,6,6,6,6,6,6,6,6,6,6,6,6,6,6,6,6,6,6,6,6,6,6,6,6,6,6,6,6,6,6],\"x_values\":{\"__ndarray__\":\"AAAAAAAANkAAAAAAAAAyQAAAAAAAADVAAAAAAAAANUAAAAAAAAAzQAAAAAAAADBAAAAAAAAAMUAAAAAAAAAzQAAAAAAAADJAAAAAAAAAMkAAAAAAAAAzQAAAAAAAADJAAAAAAAAAMkAAAAAAAAAwQAAAAAAAADJAAAAAAAAAMkAAAAAAAAA3QAAAAAAAADJAAAAAAAAANUAAAAAAAAA0QAAAAAAAADRAAAAAAAAAM0AAAAAAAAAuQAAAAAAAADBAAAAAAAAAMEAAAAAAAAAyQAAAAAAAADNAAAAAAAAAMkAAAAAAAAAuQAAAAAAAAC5AAAAAAAAAMUAAAAAAAAAwQAAAAAAAAC5AAAAAAAAAMkAAAAAAAAA1QAAAAAAAADRAAAAAAAAAMkAAAAAAAAAzQAAAAAAAADZAAAAAAAAANkAAAAAAAAA4QAAAAAAAgDZAAAAAAAAANEAAAAAAAAAyQAAAAAAAgDJAAAAAAACAMUAAAAAAAAAzQAAAAAAAgDBAAAAAAACAMUAAAAAAAIA0QAAAAAAAADNAAAAAAACAMkAAAAAAAAA2QDMzMzMzMzNAAAAAAACANEAzMzMzMzM0QAAAAAAAgDRAZmZmZmZmM0CamZmZmZk0QM3MzMzMzDRAmpmZmZmZMkCamZmZmRkyQDMzMzMzszFAAAAAAAAAMUAzMzMzMzMwQAAAAAAAgDVAzczMzMzMM0AzMzMzMzM0QJqZmZmZmTRAzczMzMzMPEDNzMzMzMw6QJqZmZmZGTNAmpmZmZlZQEAAAAAAAIA3QDMzMzMzsz5AZmZmZmZmOUAzMzMzMzM4QGZmZmZmZjZAMzMzMzMzNECamZmZmZkxQAAAAAAAADlAAAAAAAAAQ0AAAAAAAAA2QA==\",\"dtype\":\"float64\",\"shape\":[83]},\"y_values\":[95,97,85,90,100,105,100,88,100,110,100,88,105,100,100,88,95,100,107,122,95,100,100,100,110,105,95,105,72,72,110,105,110,95,110,100,97,90,100,105,81,90,100,78,110,95,108,120,110,105,100,98,97,105,95,85,100,90,105,85,110,120,165,125,133,115,85,90,110,115,115,90,132,110,76,116,120,110,88,85,110,85,112]}},\"id\":\"7f09872e-3f02-4220-afad-9c18f7ee60d2\",\"type\":\"ColumnDataSource\"},{\"attributes\":{\"active_drag\":\"auto\",\"active_scroll\":\"auto\",\"active_tap\":\"auto\",\"tools\":[{\"id\":\"a2a06cc0-5b0a-4a48-b4dd-daff2908caf9\",\"type\":\"PanTool\"},{\"id\":\"ff3e5aec-0bb4-411b-9c45-841f5972af9f\",\"type\":\"WheelZoomTool\"},{\"id\":\"5b0d3be7-5972-4124-8a1d-279192ea5ba5\",\"type\":\"BoxZoomTool\"},{\"id\":\"c3b29a95-41b2-4925-a0bd-cefebb6c6f5f\",\"type\":\"SaveTool\"},{\"id\":\"315024db-ddba-4ebf-8211-9f757d534b57\",\"type\":\"ResetTool\"},{\"id\":\"201c8db3-8c04-4f2a-af84-5cf7e8680acf\",\"type\":\"HelpTool\"}]},\"id\":\"4c87e2ea-7f0e-4336-8621-3fa7fcbc3cf5\",\"type\":\"Toolbar\"},{\"attributes\":{\"label\":{\"value\":\"5\"},\"renderers\":[{\"id\":\"dd59af9a-55a3-47c2-ad0d-b7dcae410c3d\",\"type\":\"GlyphRenderer\"}]},\"id\":\"52378096-8917-4a40-b802-ec0fe3271d36\",\"type\":\"LegendItem\"},{\"attributes\":{\"plot\":{\"id\":\"a5f7d032-2d98-47fb-9eca-84ec36e8a23a\",\"subtype\":\"Chart\",\"type\":\"Plot\"}},\"id\":\"ff3e5aec-0bb4-411b-9c45-841f5972af9f\",\"type\":\"WheelZoomTool\"},{\"attributes\":{\"fill_alpha\":{\"value\":0.7},\"fill_color\":{\"value\":\"#f22c40\"},\"line_color\":{\"value\":\"#f22c40\"},\"size\":{\"units\":\"screen\",\"value\":8},\"x\":{\"field\":\"x_values\"},\"y\":{\"field\":\"y_values\"}},\"id\":\"e3e288a5-aadf-478f-bc4f-d9e71a4ea7be\",\"type\":\"Circle\"},{\"attributes\":{\"overlay\":{\"id\":\"53c1598c-de01-4a9d-98a9-a0a3d6e11506\",\"type\":\"BoxAnnotation\"},\"plot\":{\"id\":\"a5f7d032-2d98-47fb-9eca-84ec36e8a23a\",\"subtype\":\"Chart\",\"type\":\"Plot\"}},\"id\":\"5b0d3be7-5972-4124-8a1d-279192ea5ba5\",\"type\":\"BoxZoomTool\"},{\"attributes\":{\"plot\":{\"id\":\"a5f7d032-2d98-47fb-9eca-84ec36e8a23a\",\"subtype\":\"Chart\",\"type\":\"Plot\"}},\"id\":\"a2a06cc0-5b0a-4a48-b4dd-daff2908caf9\",\"type\":\"PanTool\"},{\"attributes\":{\"plot\":{\"id\":\"a5f7d032-2d98-47fb-9eca-84ec36e8a23a\",\"subtype\":\"Chart\",\"type\":\"Plot\"}},\"id\":\"c3b29a95-41b2-4925-a0bd-cefebb6c6f5f\",\"type\":\"SaveTool\"},{\"attributes\":{\"items\":[{\"id\":\"9717cec7-8bb0-42a0-b76f-0eff966c2b11\",\"type\":\"LegendItem\"},{\"id\":\"eb6a100a-97de-43e7-96ef-a45535be4a51\",\"type\":\"LegendItem\"},{\"id\":\"975fdefa-8161-4332-8859-594f233bf5f2\",\"type\":\"LegendItem\"},{\"id\":\"a7c34f51-163d-4376-be42-94eb4f9f7f58\",\"type\":\"LegendItem\"},{\"id\":\"52378096-8917-4a40-b802-ec0fe3271d36\",\"type\":\"LegendItem\"}],\"location\":\"top_left\",\"plot\":{\"id\":\"a5f7d032-2d98-47fb-9eca-84ec36e8a23a\",\"subtype\":\"Chart\",\"type\":\"Plot\"}},\"id\":\"a32d3d36-a42d-44f8-9d21-c22b1e3b90bf\",\"type\":\"Legend\"},{\"attributes\":{},\"id\":\"dd21edcd-8601-433e-bc03-e9391a829d77\",\"type\":\"BasicTickFormatter\"},{\"attributes\":{\"callback\":null,\"end\":50.36,\"start\":5.24},\"id\":\"fb40f4e1-bfab-41f9-83a7-4c48613d35c3\",\"type\":\"Range1d\"},{\"attributes\":{\"callback\":null,\"column_names\":[\"x_values\",\"y_values\"],\"data\":{\"chart_index\":[{\"cyl\":8},{\"cyl\":8},{\"cyl\":8},{\"cyl\":8},{\"cyl\":8},{\"cyl\":8},{\"cyl\":8},{\"cyl\":8},{\"cyl\":8},{\"cyl\":8},{\"cyl\":8},{\"cyl\":8},{\"cyl\":8},{\"cyl\":8},{\"cyl\":8},{\"cyl\":8},{\"cyl\":8},{\"cyl\":8},{\"cyl\":8},{\"cyl\":8},{\"cyl\":8},{\"cyl\":8},{\"cyl\":8},{\"cyl\":8},{\"cyl\":8},{\"cyl\":8},{\"cyl\":8},{\"cyl\":8},{\"cyl\":8},{\"cyl\":8},{\"cyl\":8},{\"cyl\":8},{\"cyl\":8},{\"cyl\":8},{\"cyl\":8},{\"cyl\":8},{\"cyl\":8},{\"cyl\":8},{\"cyl\":8},{\"cyl\":8},{\"cyl\":8},{\"cyl\":8},{\"cyl\":8},{\"cyl\":8},{\"cyl\":8},{\"cyl\":8},{\"cyl\":8},{\"cyl\":8},{\"cyl\":8},{\"cyl\":8},{\"cyl\":8},{\"cyl\":8},{\"cyl\":8},{\"cyl\":8},{\"cyl\":8},{\"cyl\":8},{\"cyl\":8},{\"cyl\":8},{\"cyl\":8},{\"cyl\":8},{\"cyl\":8},{\"cyl\":8},{\"cyl\":8},{\"cyl\":8},{\"cyl\":8},{\"cyl\":8},{\"cyl\":8},{\"cyl\":8},{\"cyl\":8},{\"cyl\":8},{\"cyl\":8},{\"cyl\":8},{\"cyl\":8},{\"cyl\":8},{\"cyl\":8},{\"cyl\":8},{\"cyl\":8},{\"cyl\":8},{\"cyl\":8},{\"cyl\":8},{\"cyl\":8},{\"cyl\":8},{\"cyl\":8},{\"cyl\":8},{\"cyl\":8},{\"cyl\":8},{\"cyl\":8},{\"cyl\":8},{\"cyl\":8},{\"cyl\":8},{\"cyl\":8},{\"cyl\":8},{\"cyl\":8},{\"cyl\":8},{\"cyl\":8},{\"cyl\":8},{\"cyl\":8},{\"cyl\":8},{\"cyl\":8},{\"cyl\":8},{\"cyl\":8},{\"cyl\":8},{\"cyl\":8}],\"cyl\":[8,8,8,8,8,8,8,8,8,8,8,8,8,8,8,8,8,8,8,8,8,8,8,8,8,8,8,8,8,8,8,8,8,8,8,8,8,8,8,8,8,8,8,8,8,8,8,8,8,8,8,8,8,8,8,8,8,8,8,8,8,8,8,8,8,8,8,8,8,8,8,8,8,8,8,8,8,8,8,8,8,8,8,8,8,8,8,8,8,8,8,8,8,8,8,8,8,8,8,8,8,8,8],\"x_values\":{\"__ndarray__\":\"AAAAAAAAMkAAAAAAAAAuQAAAAAAAADJAAAAAAAAAMEAAAAAAAAAxQAAAAAAAAC5AAAAAAAAALEAAAAAAAAAsQAAAAAAAACxAAAAAAAAALkAAAAAAAAAuQAAAAAAAACxAAAAAAAAALkAAAAAAAAAsQAAAAAAAACRAAAAAAAAAJEAAAAAAAAAmQAAAAAAAACJAAAAAAAAALEAAAAAAAAAsQAAAAAAAACxAAAAAAAAALEAAAAAAAAAoQAAAAAAAACpAAAAAAAAAKkAAAAAAAAAqQAAAAAAAACxAAAAAAAAALkAAAAAAAAAsQAAAAAAAADFAAAAAAAAAJkAAAAAAAAAqQAAAAAAAAChAAAAAAAAAKkAAAAAAAAAuQAAAAAAAACpAAAAAAAAAKkAAAAAAAAAsQAAAAAAAACpAAAAAAAAALEAAAAAAAAAqQAAAAAAAACxAAAAAAAAALkAAAAAAAAAoQAAAAAAAACpAAAAAAAAAKkAAAAAAAAAsQAAAAAAAACpAAAAAAAAAKEAAAAAAAAAqQAAAAAAAACZAAAAAAAAAKEAAAAAAAAAqQAAAAAAAAChAAAAAAAAALkAAAAAAAAAwQAAAAAAAAC5AAAAAAAAAJkAAAAAAAAAwQAAAAAAAACpAAAAAAAAALEAAAAAAAAAsQAAAAAAAACxAAAAAAAAAMEAAAAAAAAAuQAAAAAAAADBAAAAAAAAALEAAAAAAAAA0QAAAAAAAACpAAAAAAACAMUAAAAAAAAAwQAAAAAAAAC9AAAAAAAAALUAAAAAAAAAqQAAAAAAAgDBAAAAAAAAAKkAAAAAAAAAqQAAAAAAAACpAAAAAAACAMUAAAAAAAAAxQAAAAAAAAC9AAAAAAAAALkAAAAAAAAAwQAAAAAAAAC9AAAAAAAAAL0AAAAAAAAAwQGZmZmZm5jNAZmZmZmZmM0AzMzMzMzM0QDMzMzMzMzNAmpmZmZkZMkAAAAAAAIAxQAAAAAAAADFAmpmZmZmZMUAAAAAAAIAwQDMzMzMzMzJAZmZmZmbmMEAAAAAAAAAvQDMzMzMzMzNAAAAAAACAMkAAAAAAAAA3QGZmZmZm5jdAmpmZmZmZOkA=\",\"dtype\":\"float64\",\"shape\":[103]},\"y_values\":[130,165,150,150,140,198,220,215,225,190,170,160,150,225,215,200,210,193,165,175,153,150,180,170,175,165,175,150,153,150,208,155,160,190,150,130,140,150,175,150,145,137,150,198,150,158,150,215,225,175,150,167,170,180,145,230,150,180,140,150,150,140,150,170,145,150,148,110,129,140,150,120,152,150,180,145,130,150,145,110,145,130,180,170,190,149,110,140,139,145,139,140,130,129,138,135,155,142,125,150,125,90,105]}},\"id\":\"5bde9c73-f7aa-4981-b0fa-f97a45e4b408\",\"type\":\"ColumnDataSource\"},{\"attributes\":{\"callback\":null,\"column_names\":[\"x_values\",\"y_values\"],\"data\":{\"chart_index\":[{\"cyl\":5},{\"cyl\":5},{\"cyl\":5}],\"cyl\":[5,5,5],\"x_values\":{\"__ndarray__\":\"zczMzMxMNEBmZmZmZmY5QDMzMzMzM0JA\",\"dtype\":\"float64\",\"shape\":[3]},\"y_values\":[103,77,67]}},\"id\":\"593aa9ae-f99d-493c-b5c9-1681f6956c11\",\"type\":\"ColumnDataSource\"},{\"attributes\":{\"below\":[{\"id\":\"2785f651-52dc-4120-896f-3dd782ef8a87\",\"type\":\"LinearAxis\"}],\"css_classes\":null,\"left\":[{\"id\":\"865e201a-e097-48ce-88df-b5bcd34f146e\",\"type\":\"LinearAxis\"}],\"renderers\":[{\"id\":\"53c1598c-de01-4a9d-98a9-a0a3d6e11506\",\"type\":\"BoxAnnotation\"},{\"id\":\"fdadc166-0025-4c21-88b1-de1b634044f3\",\"type\":\"GlyphRenderer\"},{\"id\":\"4ffb9db4-9cdd-4d87-8cd6-d546fc8a1d23\",\"type\":\"GlyphRenderer\"},{\"id\":\"205c531c-dd7a-4491-bb70-af64e61afb2c\",\"type\":\"GlyphRenderer\"},{\"id\":\"dc4823c0-5779-4ef9-8df5-8ad3ccdb1724\",\"type\":\"GlyphRenderer\"},{\"id\":\"dd59af9a-55a3-47c2-ad0d-b7dcae410c3d\",\"type\":\"GlyphRenderer\"},{\"id\":\"a32d3d36-a42d-44f8-9d21-c22b1e3b90bf\",\"type\":\"Legend\"},{\"id\":\"2785f651-52dc-4120-896f-3dd782ef8a87\",\"type\":\"LinearAxis\"},{\"id\":\"865e201a-e097-48ce-88df-b5bcd34f146e\",\"type\":\"LinearAxis\"},{\"id\":\"4746a23c-33a4-44f2-b933-d1b2c5c4da41\",\"type\":\"Grid\"},{\"id\":\"9fb2464e-d6f5-430d-a904-157ff60802e3\",\"type\":\"Grid\"}],\"title\":{\"id\":\"625bc9a8-d9e5-4e32-b39a-fec349298cd2\",\"type\":\"Title\"},\"tool_events\":{\"id\":\"a5fdc50a-6947-459b-a9bf-ef5e542814d5\",\"type\":\"ToolEvents\"},\"toolbar\":{\"id\":\"4c87e2ea-7f0e-4336-8621-3fa7fcbc3cf5\",\"type\":\"Toolbar\"},\"x_mapper_type\":\"auto\",\"x_range\":{\"id\":\"fb40f4e1-bfab-41f9-83a7-4c48613d35c3\",\"type\":\"Range1d\"},\"y_mapper_type\":\"auto\",\"y_range\":{\"id\":\"346de228-e81c-4df2-a81e-5a4acb890553\",\"type\":\"Range1d\"}},\"id\":\"a5f7d032-2d98-47fb-9eca-84ec36e8a23a\",\"subtype\":\"Chart\",\"type\":\"Plot\"},{\"attributes\":{\"callback\":null,\"end\":248.4,\"start\":27.599999999999998},\"id\":\"346de228-e81c-4df2-a81e-5a4acb890553\",\"type\":\"Range1d\"},{\"attributes\":{\"label\":{\"value\":\"8\"},\"renderers\":[{\"id\":\"fdadc166-0025-4c21-88b1-de1b634044f3\",\"type\":\"GlyphRenderer\"}]},\"id\":\"9717cec7-8bb0-42a0-b76f-0eff966c2b11\",\"type\":\"LegendItem\"},{\"attributes\":{\"bottom_units\":\"screen\",\"fill_alpha\":{\"value\":0.5},\"fill_color\":{\"value\":\"lightgrey\"},\"left_units\":\"screen\",\"level\":\"overlay\",\"line_alpha\":{\"value\":1.0},\"line_color\":{\"value\":\"black\"},\"line_dash\":[4,4],\"line_width\":{\"value\":2},\"plot\":null,\"render_mode\":\"css\",\"right_units\":\"screen\",\"top_units\":\"screen\"},\"id\":\"53c1598c-de01-4a9d-98a9-a0a3d6e11506\",\"type\":\"BoxAnnotation\"},{\"attributes\":{\"axis_label\":\"Miles Per Gallon\",\"formatter\":{\"id\":\"dd21edcd-8601-433e-bc03-e9391a829d77\",\"type\":\"BasicTickFormatter\"},\"plot\":{\"id\":\"a5f7d032-2d98-47fb-9eca-84ec36e8a23a\",\"subtype\":\"Chart\",\"type\":\"Plot\"},\"ticker\":{\"id\":\"be7af742-1e1d-4cf3-b0e4-652bef1b74bc\",\"type\":\"BasicTicker\"}},\"id\":\"2785f651-52dc-4120-896f-3dd782ef8a87\",\"type\":\"LinearAxis\"},{\"attributes\":{\"plot\":{\"id\":\"a5f7d032-2d98-47fb-9eca-84ec36e8a23a\",\"subtype\":\"Chart\",\"type\":\"Plot\"}},\"id\":\"315024db-ddba-4ebf-8211-9f757d534b57\",\"type\":\"ResetTool\"},{\"attributes\":{\"plot\":{\"id\":\"a5f7d032-2d98-47fb-9eca-84ec36e8a23a\",\"subtype\":\"Chart\",\"type\":\"Plot\"},\"ticker\":{\"id\":\"be7af742-1e1d-4cf3-b0e4-652bef1b74bc\",\"type\":\"BasicTicker\"}},\"id\":\"4746a23c-33a4-44f2-b933-d1b2c5c4da41\",\"type\":\"Grid\"},{\"attributes\":{\"label\":{\"value\":\"6\"},\"renderers\":[{\"id\":\"205c531c-dd7a-4491-bb70-af64e61afb2c\",\"type\":\"GlyphRenderer\"}]},\"id\":\"975fdefa-8161-4332-8859-594f233bf5f2\",\"type\":\"LegendItem\"},{\"attributes\":{\"plot\":{\"id\":\"a5f7d032-2d98-47fb-9eca-84ec36e8a23a\",\"subtype\":\"Chart\",\"type\":\"Plot\"}},\"id\":\"201c8db3-8c04-4f2a-af84-5cf7e8680acf\",\"type\":\"HelpTool\"},{\"attributes\":{\"label\":{\"value\":\"3\"},\"renderers\":[{\"id\":\"dc4823c0-5779-4ef9-8df5-8ad3ccdb1724\",\"type\":\"GlyphRenderer\"}]},\"id\":\"a7c34f51-163d-4376-be42-94eb4f9f7f58\",\"type\":\"LegendItem\"},{\"attributes\":{\"label\":{\"value\":\"4\"},\"renderers\":[{\"id\":\"4ffb9db4-9cdd-4d87-8cd6-d546fc8a1d23\",\"type\":\"GlyphRenderer\"}]},\"id\":\"eb6a100a-97de-43e7-96ef-a45535be4a51\",\"type\":\"LegendItem\"},{\"attributes\":{\"callback\":null,\"column_names\":[\"x_values\",\"y_values\"],\"data\":{\"chart_index\":[{\"cyl\":3},{\"cyl\":3},{\"cyl\":3},{\"cyl\":3}],\"cyl\":[3,3,3,3],\"x_values\":{\"__ndarray__\":\"AAAAAAAAM0AAAAAAAAAyQAAAAAAAgDVAMzMzMzOzN0A=\",\"dtype\":\"float64\",\"shape\":[4]},\"y_values\":[97,90,110,100]}},\"id\":\"85ef3884-6a0c-4167-9e90-5a3b5aa27d9c\",\"type\":\"ColumnDataSource\"},{\"attributes\":{\"axis_label\":\"Horsepower\",\"formatter\":{\"id\":\"d48647de-40f4-43e6-bed2-3ab0672a5f1a\",\"type\":\"BasicTickFormatter\"},\"plot\":{\"id\":\"a5f7d032-2d98-47fb-9eca-84ec36e8a23a\",\"subtype\":\"Chart\",\"type\":\"Plot\"},\"ticker\":{\"id\":\"39f405f8-0c08-4ad1-b033-039e370cb1b5\",\"type\":\"BasicTicker\"}},\"id\":\"865e201a-e097-48ce-88df-b5bcd34f146e\",\"type\":\"LinearAxis\"},{\"attributes\":{\"fill_alpha\":{\"value\":0.7},\"fill_color\":{\"value\":\"#5ab738\"},\"line_color\":{\"value\":\"#5ab738\"},\"size\":{\"units\":\"screen\",\"value\":8},\"x\":{\"field\":\"x_values\"},\"y\":{\"field\":\"y_values\"}},\"id\":\"91eae7b5-1593-48dd-87b1-86be3b9284a7\",\"type\":\"Circle\"}],\"root_ids\":[\"a5f7d032-2d98-47fb-9eca-84ec36e8a23a\"]},\"title\":\"Bokeh Application\",\"version\":\"0.12.4\"}};\n",
       "            var render_items = [{\"docid\":\"d802e14e-7b21-4e67-b2b7-0813a6113686\",\"elementid\":\"97ee2a05-675c-4884-a24b-e6eddd2e3546\",\"modelid\":\"a5f7d032-2d98-47fb-9eca-84ec36e8a23a\"}];\n",
       "            \n",
       "            Bokeh.embed.embed_items(docs_json, render_items);\n",
       "          };\n",
       "          if (document.readyState != \"loading\") fn();\n",
       "          else document.addEventListener(\"DOMContentLoaded\", fn);\n",
       "        })();\n",
       "      },\n",
       "      function(Bokeh) {\n",
       "      }\n",
       "    ];\n",
       "  \n",
       "    function run_inline_js() {\n",
       "      \n",
       "      if ((window.Bokeh !== undefined) || (force === true)) {\n",
       "        for (var i = 0; i < inline_js.length; i++) {\n",
       "          inline_js[i](window.Bokeh);\n",
       "        }if (force === true) {\n",
       "          display_loaded();\n",
       "        }} else if (Date.now() < window._bokeh_timeout) {\n",
       "        setTimeout(run_inline_js, 100);\n",
       "      } else if (!window._bokeh_failed_load) {\n",
       "        console.log(\"Bokeh: BokehJS failed to load within specified timeout.\");\n",
       "        window._bokeh_failed_load = true;\n",
       "      } else if (force !== true) {\n",
       "        var cell = $(document.getElementById(\"97ee2a05-675c-4884-a24b-e6eddd2e3546\")).parents('.cell').data().cell;\n",
       "        cell.output_area.append_execute_result(NB_LOAD_WARNING)\n",
       "      }\n",
       "  \n",
       "    }\n",
       "  \n",
       "    if (window._bokeh_is_loading === 0) {\n",
       "      console.log(\"Bokeh: BokehJS loaded, going straight to plotting\");\n",
       "      run_inline_js();\n",
       "    } else {\n",
       "      load_libs(js_urls, function() {\n",
       "        console.log(\"Bokeh: BokehJS plotting callback run at\", now());\n",
       "        run_inline_js();\n",
       "      });\n",
       "    }\n",
       "  }(this));\n",
       "</script>"
      ]
     },
     "metadata": {},
     "output_type": "display_data"
    }
   ],
   "source": [
    "from bokeh.charts import Scatter\n",
    "\n",
    "scatter = Scatter(df, x='mpg', y='hp', color='cyl', \n",
    "                  title=\"MPG vs Horsepower\", xlabel=\"Miles Per Gallon\",\n",
    "                  ylabel=\"Horsepower\")\n",
    "\n",
    "show(scatter)"
   ]
  },
  {
   "cell_type": "markdown",
   "metadata": {
    "nbpresent": {
     "id": "1ec28525-f523-4e70-af2e-04c15aabdea0"
    }
   },
   "source": [
    "## Linking\n",
    "Bokeh plots can be displayed in rows with their interactions linked."
   ]
  },
  {
   "cell_type": "code",
   "execution_count": 5,
   "metadata": {
    "collapsed": false,
    "nbpresent": {
     "id": "f7a216e7-df66-4703-a263-158cf23f7d29"
    },
    "scrolled": false
   },
   "outputs": [
    {
     "data": {
      "text/html": [
       "\n",
       "\n",
       "    <div class=\"bk-root\">\n",
       "        <div class=\"bk-plotdiv\" id=\"a7a30a9f-fb87-4697-bec0-8d9d01ce6707\"></div>\n",
       "    </div>\n",
       "<script type=\"text/javascript\">\n",
       "  \n",
       "  (function(global) {\n",
       "    function now() {\n",
       "      return new Date();\n",
       "    }\n",
       "  \n",
       "    var force = false;\n",
       "  \n",
       "    if (typeof (window._bokeh_onload_callbacks) === \"undefined\" || force === true) {\n",
       "      window._bokeh_onload_callbacks = [];\n",
       "      window._bokeh_is_loading = undefined;\n",
       "    }\n",
       "  \n",
       "  \n",
       "    \n",
       "    if (typeof (window._bokeh_timeout) === \"undefined\" || force === true) {\n",
       "      window._bokeh_timeout = Date.now() + 0;\n",
       "      window._bokeh_failed_load = false;\n",
       "    }\n",
       "  \n",
       "    var NB_LOAD_WARNING = {'data': {'text/html':\n",
       "       \"<div style='background-color: #fdd'>\\n\"+\n",
       "       \"<p>\\n\"+\n",
       "       \"BokehJS does not appear to have successfully loaded. If loading BokehJS from CDN, this \\n\"+\n",
       "       \"may be due to a slow or bad network connection. Possible fixes:\\n\"+\n",
       "       \"</p>\\n\"+\n",
       "       \"<ul>\\n\"+\n",
       "       \"<li>re-rerun `output_notebook()` to attempt to load from CDN again, or</li>\\n\"+\n",
       "       \"<li>use INLINE resources instead, as so:</li>\\n\"+\n",
       "       \"</ul>\\n\"+\n",
       "       \"<code>\\n\"+\n",
       "       \"from bokeh.resources import INLINE\\n\"+\n",
       "       \"output_notebook(resources=INLINE)\\n\"+\n",
       "       \"</code>\\n\"+\n",
       "       \"</div>\"}};\n",
       "  \n",
       "    function display_loaded() {\n",
       "      if (window.Bokeh !== undefined) {\n",
       "        document.getElementById(\"a7a30a9f-fb87-4697-bec0-8d9d01ce6707\").textContent = \"BokehJS successfully loaded.\";\n",
       "      } else if (Date.now() < window._bokeh_timeout) {\n",
       "        setTimeout(display_loaded, 100)\n",
       "      }\n",
       "    }\n",
       "  \n",
       "    function run_callbacks() {\n",
       "      window._bokeh_onload_callbacks.forEach(function(callback) { callback() });\n",
       "      delete window._bokeh_onload_callbacks\n",
       "      console.info(\"Bokeh: all callbacks have finished\");\n",
       "    }\n",
       "  \n",
       "    function load_libs(js_urls, callback) {\n",
       "      window._bokeh_onload_callbacks.push(callback);\n",
       "      if (window._bokeh_is_loading > 0) {\n",
       "        console.log(\"Bokeh: BokehJS is being loaded, scheduling callback at\", now());\n",
       "        return null;\n",
       "      }\n",
       "      if (js_urls == null || js_urls.length === 0) {\n",
       "        run_callbacks();\n",
       "        return null;\n",
       "      }\n",
       "      console.log(\"Bokeh: BokehJS not loaded, scheduling load and callback at\", now());\n",
       "      window._bokeh_is_loading = js_urls.length;\n",
       "      for (var i = 0; i < js_urls.length; i++) {\n",
       "        var url = js_urls[i];\n",
       "        var s = document.createElement('script');\n",
       "        s.src = url;\n",
       "        s.async = false;\n",
       "        s.onreadystatechange = s.onload = function() {\n",
       "          window._bokeh_is_loading--;\n",
       "          if (window._bokeh_is_loading === 0) {\n",
       "            console.log(\"Bokeh: all BokehJS libraries loaded\");\n",
       "            run_callbacks()\n",
       "          }\n",
       "        };\n",
       "        s.onerror = function() {\n",
       "          console.warn(\"failed to load library \" + url);\n",
       "        };\n",
       "        console.log(\"Bokeh: injecting script tag for BokehJS library: \", url);\n",
       "        document.getElementsByTagName(\"head\")[0].appendChild(s);\n",
       "      }\n",
       "    };var element = document.getElementById(\"a7a30a9f-fb87-4697-bec0-8d9d01ce6707\");\n",
       "    if (element == null) {\n",
       "      console.log(\"Bokeh: ERROR: autoload.js configured with elementid 'a7a30a9f-fb87-4697-bec0-8d9d01ce6707' but no matching script tag was found. \")\n",
       "      return false;\n",
       "    }\n",
       "  \n",
       "    var js_urls = [];\n",
       "  \n",
       "    var inline_js = [\n",
       "      function(Bokeh) {\n",
       "        (function() {\n",
       "          var fn = function() {\n",
       "            var docs_json = {\"859a1167-de67-4ff0-8342-4d227f90ede9\":{\"roots\":{\"references\":[{\"attributes\":{\"plot\":null,\"text\":\"|x|\"},\"id\":\"b2bc0533-a54f-43a7-8041-982664d7ff04\",\"type\":\"Title\"},{\"attributes\":{\"active_drag\":\"auto\",\"active_scroll\":\"auto\",\"active_tap\":\"auto\",\"tools\":[{\"id\":\"5f0f8d51-cb4a-47af-94da-0c82ba6af748\",\"type\":\"PanTool\"},{\"id\":\"414e6c85-51d4-48c9-b566-e8f0334be6ec\",\"type\":\"WheelZoomTool\"},{\"id\":\"84e1b9a2-af67-45f6-be4a-b74105fd4f90\",\"type\":\"LassoSelectTool\"}]},\"id\":\"e6b2ccd0-4a9e-465b-a74c-f57f2f46bddb\",\"type\":\"Toolbar\"},{\"attributes\":{\"callback\":null},\"id\":\"b6c19967-2c9a-4b3f-86ab-863dd43125ba\",\"type\":\"DataRange1d\"},{\"attributes\":{\"fill_alpha\":{\"value\":0.5},\"fill_color\":{\"value\":\"lightgrey\"},\"level\":\"overlay\",\"line_alpha\":{\"value\":1.0},\"line_color\":{\"value\":\"black\"},\"line_dash\":[4,4],\"line_width\":{\"value\":2},\"plot\":null,\"xs_units\":\"screen\",\"ys_units\":\"screen\"},\"id\":\"91ce9ac8-71b8-49db-884f-6d4055dc25de\",\"type\":\"PolyAnnotation\"},{\"attributes\":{\"plot\":null,\"text\":\"x^2\"},\"id\":\"46af5449-85aa-4b6a-8e6e-9329a8b6f39a\",\"type\":\"Title\"},{\"attributes\":{\"formatter\":{\"id\":\"b12f3fbd-5c9e-4036-9445-cd98805e5318\",\"type\":\"BasicTickFormatter\"},\"plot\":{\"id\":\"b3942b1b-dcde-405d-aa70-f05e9cd50ede\",\"subtype\":\"Figure\",\"type\":\"Plot\"},\"ticker\":{\"id\":\"437a40ca-b0f6-4c24-8655-c7514bfe20e8\",\"type\":\"BasicTicker\"}},\"id\":\"4a4c150a-65e4-49ac-ac2b-68311d06b31d\",\"type\":\"LinearAxis\"},{\"attributes\":{\"callback\":null},\"id\":\"ad2f907a-0608-4151-a58d-fc8815f3083b\",\"type\":\"DataRange1d\"},{\"attributes\":{},\"id\":\"437a40ca-b0f6-4c24-8655-c7514bfe20e8\",\"type\":\"BasicTicker\"},{\"attributes\":{\"plot\":{\"id\":\"b3942b1b-dcde-405d-aa70-f05e9cd50ede\",\"subtype\":\"Figure\",\"type\":\"Plot\"},\"ticker\":{\"id\":\"437a40ca-b0f6-4c24-8655-c7514bfe20e8\",\"type\":\"BasicTicker\"}},\"id\":\"29936625-5708-4eda-b24b-b2841caab6d5\",\"type\":\"Grid\"},{\"attributes\":{\"formatter\":{\"id\":\"4f901bf7-3ef7-4af4-8703-1eb882f3bf36\",\"type\":\"BasicTickFormatter\"},\"plot\":{\"id\":\"b3942b1b-dcde-405d-aa70-f05e9cd50ede\",\"subtype\":\"Figure\",\"type\":\"Plot\"},\"ticker\":{\"id\":\"4c0ca582-dc71-4d93-9912-2e091c9c854a\",\"type\":\"BasicTicker\"}},\"id\":\"4dd7d0c3-7e85-4000-934f-98bb4352314e\",\"type\":\"LinearAxis\"},{\"attributes\":{},\"id\":\"4c0ca582-dc71-4d93-9912-2e091c9c854a\",\"type\":\"BasicTicker\"},{\"attributes\":{\"dimension\":1,\"plot\":{\"id\":\"b3942b1b-dcde-405d-aa70-f05e9cd50ede\",\"subtype\":\"Figure\",\"type\":\"Plot\"},\"ticker\":{\"id\":\"4c0ca582-dc71-4d93-9912-2e091c9c854a\",\"type\":\"BasicTicker\"}},\"id\":\"80fd8ee3-163b-463f-9988-43f374cfe1c9\",\"type\":\"Grid\"},{\"attributes\":{\"fill_alpha\":{\"value\":0.5},\"fill_color\":{\"value\":\"lightgrey\"},\"level\":\"overlay\",\"line_alpha\":{\"value\":1.0},\"line_color\":{\"value\":\"black\"},\"line_dash\":[4,4],\"line_width\":{\"value\":2},\"plot\":null,\"xs_units\":\"screen\",\"ys_units\":\"screen\"},\"id\":\"576fc11a-8806-446e-94e5-405ac1e0e016\",\"type\":\"PolyAnnotation\"},{\"attributes\":{\"plot\":{\"id\":\"b3942b1b-dcde-405d-aa70-f05e9cd50ede\",\"subtype\":\"Figure\",\"type\":\"Plot\"}},\"id\":\"5f0f8d51-cb4a-47af-94da-0c82ba6af748\",\"type\":\"PanTool\"},{\"attributes\":{\"plot\":{\"id\":\"b3942b1b-dcde-405d-aa70-f05e9cd50ede\",\"subtype\":\"Figure\",\"type\":\"Plot\"}},\"id\":\"414e6c85-51d4-48c9-b566-e8f0334be6ec\",\"type\":\"WheelZoomTool\"},{\"attributes\":{\"callback\":null,\"overlay\":{\"id\":\"91ce9ac8-71b8-49db-884f-6d4055dc25de\",\"type\":\"PolyAnnotation\"},\"plot\":{\"id\":\"b3942b1b-dcde-405d-aa70-f05e9cd50ede\",\"subtype\":\"Figure\",\"type\":\"Plot\"}},\"id\":\"84e1b9a2-af67-45f6-be4a-b74105fd4f90\",\"type\":\"LassoSelectTool\"},{\"attributes\":{\"children\":[{\"id\":\"b709e554-e9b0-46dd-9b91-8ff726f4f907\",\"type\":\"ToolbarBox\"},{\"id\":\"a9766479-a8c8-4139-b493-b345dcd2050f\",\"type\":\"Column\"}]},\"id\":\"d25969c0-71ee-4f4f-925c-60fdb9f9f971\",\"type\":\"Column\"},{\"attributes\":{},\"id\":\"62ebd01b-7a43-4abf-b2af-af0f0dbca9ca\",\"type\":\"BasicTicker\"},{\"attributes\":{\"formatter\":{\"id\":\"1598fa54-35f1-4a7c-8e1b-affba201b113\",\"type\":\"BasicTickFormatter\"},\"plot\":{\"id\":\"bf71de08-8d1a-4709-8a85-5a9a3a6030f8\",\"subtype\":\"Figure\",\"type\":\"Plot\"},\"ticker\":{\"id\":\"62ebd01b-7a43-4abf-b2af-af0f0dbca9ca\",\"type\":\"BasicTicker\"}},\"id\":\"93e0e58c-a265-4178-b92d-b4b975101b97\",\"type\":\"LinearAxis\"},{\"attributes\":{\"plot\":{\"id\":\"bf71de08-8d1a-4709-8a85-5a9a3a6030f8\",\"subtype\":\"Figure\",\"type\":\"Plot\"},\"ticker\":{\"id\":\"62ebd01b-7a43-4abf-b2af-af0f0dbca9ca\",\"type\":\"BasicTicker\"}},\"id\":\"fc0222cf-7bda-4bf8-bdc1-7d3bff9b228f\",\"type\":\"Grid\"},{\"attributes\":{\"formatter\":{\"id\":\"406ae2cf-4d9c-4cbd-8a98-3a4d3fa17656\",\"type\":\"BasicTickFormatter\"},\"plot\":{\"id\":\"bf71de08-8d1a-4709-8a85-5a9a3a6030f8\",\"subtype\":\"Figure\",\"type\":\"Plot\"},\"ticker\":{\"id\":\"412edb7e-6130-42af-81e7-a4bb9a047b55\",\"type\":\"BasicTicker\"}},\"id\":\"ab0f2933-7b01-4be7-b9be-593a9fe31a31\",\"type\":\"LinearAxis\"},{\"attributes\":{},\"id\":\"412edb7e-6130-42af-81e7-a4bb9a047b55\",\"type\":\"BasicTicker\"},{\"attributes\":{\"dimension\":1,\"plot\":{\"id\":\"bf71de08-8d1a-4709-8a85-5a9a3a6030f8\",\"subtype\":\"Figure\",\"type\":\"Plot\"},\"ticker\":{\"id\":\"412edb7e-6130-42af-81e7-a4bb9a047b55\",\"type\":\"BasicTicker\"}},\"id\":\"7e28c6dc-ae5a-4e84-b249-143cb633c91e\",\"type\":\"Grid\"},{\"attributes\":{\"fill_alpha\":{\"value\":0.1},\"fill_color\":{\"value\":\"#1f77b4\"},\"line_alpha\":{\"value\":0.1},\"line_color\":{\"value\":\"#1f77b4\"},\"x\":{\"field\":\"x\"},\"y\":{\"field\":\"y0\"}},\"id\":\"84d22562-87d8-43f8-abb6-1b6f57fa00a0\",\"type\":\"Circle\"},{\"attributes\":{\"fill_alpha\":{\"value\":0.1},\"fill_color\":{\"value\":\"#1f77b4\"},\"line_alpha\":{\"value\":0.1},\"line_color\":{\"value\":\"#1f77b4\"},\"x\":{\"field\":\"x\"},\"y\":{\"field\":\"y1\"}},\"id\":\"1330c3df-805c-4224-a192-c273afaa42f3\",\"type\":\"Circle\"},{\"attributes\":{\"plot\":{\"id\":\"bf71de08-8d1a-4709-8a85-5a9a3a6030f8\",\"subtype\":\"Figure\",\"type\":\"Plot\"}},\"id\":\"e51c567d-9b7c-44f3-bdc4-e6754a34de9a\",\"type\":\"PanTool\"},{\"attributes\":{},\"id\":\"5484be34-8c3f-40eb-a173-28783ebde18a\",\"type\":\"ToolEvents\"},{\"attributes\":{\"sizing_mode\":\"scale_width\",\"toolbar_location\":\"above\",\"tools\":[{\"id\":\"5f0f8d51-cb4a-47af-94da-0c82ba6af748\",\"type\":\"PanTool\"},{\"id\":\"414e6c85-51d4-48c9-b566-e8f0334be6ec\",\"type\":\"WheelZoomTool\"},{\"id\":\"84e1b9a2-af67-45f6-be4a-b74105fd4f90\",\"type\":\"LassoSelectTool\"},{\"id\":\"e51c567d-9b7c-44f3-bdc4-e6754a34de9a\",\"type\":\"PanTool\"},{\"id\":\"f795b2e8-2dbf-448a-99eb-9608a1f4b70e\",\"type\":\"WheelZoomTool\"},{\"id\":\"1354804b-348f-4ef5-a23a-107631c73a38\",\"type\":\"LassoSelectTool\"}]},\"id\":\"b709e554-e9b0-46dd-9b91-8ff726f4f907\",\"type\":\"ToolbarBox\"},{\"attributes\":{\"plot\":{\"id\":\"bf71de08-8d1a-4709-8a85-5a9a3a6030f8\",\"subtype\":\"Figure\",\"type\":\"Plot\"}},\"id\":\"f795b2e8-2dbf-448a-99eb-9608a1f4b70e\",\"type\":\"WheelZoomTool\"},{\"attributes\":{\"fill_color\":{\"value\":\"#1f77b4\"},\"line_color\":{\"value\":\"#1f77b4\"},\"x\":{\"field\":\"x\"},\"y\":{\"field\":\"y1\"}},\"id\":\"0f784bee-7a65-45a6-8748-44601137fa73\",\"type\":\"Circle\"},{\"attributes\":{\"callback\":null,\"overlay\":{\"id\":\"576fc11a-8806-446e-94e5-405ac1e0e016\",\"type\":\"PolyAnnotation\"},\"plot\":{\"id\":\"bf71de08-8d1a-4709-8a85-5a9a3a6030f8\",\"subtype\":\"Figure\",\"type\":\"Plot\"}},\"id\":\"1354804b-348f-4ef5-a23a-107631c73a38\",\"type\":\"LassoSelectTool\"},{\"attributes\":{\"children\":[{\"id\":\"b3942b1b-dcde-405d-aa70-f05e9cd50ede\",\"subtype\":\"Figure\",\"type\":\"Plot\"},{\"id\":\"bf71de08-8d1a-4709-8a85-5a9a3a6030f8\",\"subtype\":\"Figure\",\"type\":\"Plot\"}]},\"id\":\"881bf3e5-15c7-4f46-b90f-198ee5fc9c7f\",\"type\":\"Row\"},{\"attributes\":{},\"id\":\"4f901bf7-3ef7-4af4-8703-1eb882f3bf36\",\"type\":\"BasicTickFormatter\"},{\"attributes\":{\"data_source\":{\"id\":\"19003e12-8b28-4aa1-b7d5-76dd082b7f0d\",\"type\":\"ColumnDataSource\"},\"glyph\":{\"id\":\"0f784bee-7a65-45a6-8748-44601137fa73\",\"type\":\"Circle\"},\"hover_glyph\":null,\"nonselection_glyph\":{\"id\":\"1330c3df-805c-4224-a192-c273afaa42f3\",\"type\":\"Circle\"},\"selection_glyph\":null},\"id\":\"f7931f17-5b50-4e06-8a09-b8ed7a18cf7f\",\"type\":\"GlyphRenderer\"},{\"attributes\":{},\"id\":\"406ae2cf-4d9c-4cbd-8a98-3a4d3fa17656\",\"type\":\"BasicTickFormatter\"},{\"attributes\":{},\"id\":\"1598fa54-35f1-4a7c-8e1b-affba201b113\",\"type\":\"BasicTickFormatter\"},{\"attributes\":{\"data_source\":{\"id\":\"19003e12-8b28-4aa1-b7d5-76dd082b7f0d\",\"type\":\"ColumnDataSource\"},\"glyph\":{\"id\":\"45f1bc7d-ad3a-49fc-baeb-72de65a4870b\",\"type\":\"Circle\"},\"hover_glyph\":null,\"nonselection_glyph\":{\"id\":\"84d22562-87d8-43f8-abb6-1b6f57fa00a0\",\"type\":\"Circle\"},\"selection_glyph\":null},\"id\":\"b751a904-73f0-4269-8be9-d98f2c343779\",\"type\":\"GlyphRenderer\"},{\"attributes\":{},\"id\":\"b12f3fbd-5c9e-4036-9445-cd98805e5318\",\"type\":\"BasicTickFormatter\"},{\"attributes\":{},\"id\":\"3939640b-4f43-4493-95af-77735c602ea7\",\"type\":\"ToolEvents\"},{\"attributes\":{\"active_drag\":\"auto\",\"active_scroll\":\"auto\",\"active_tap\":\"auto\",\"tools\":[{\"id\":\"e51c567d-9b7c-44f3-bdc4-e6754a34de9a\",\"type\":\"PanTool\"},{\"id\":\"f795b2e8-2dbf-448a-99eb-9608a1f4b70e\",\"type\":\"WheelZoomTool\"},{\"id\":\"1354804b-348f-4ef5-a23a-107631c73a38\",\"type\":\"LassoSelectTool\"}]},\"id\":\"c9da9eec-b156-41f9-b2fe-6280b8745622\",\"type\":\"Toolbar\"},{\"attributes\":{\"children\":[{\"id\":\"881bf3e5-15c7-4f46-b90f-198ee5fc9c7f\",\"type\":\"Row\"}]},\"id\":\"a9766479-a8c8-4139-b493-b345dcd2050f\",\"type\":\"Column\"},{\"attributes\":{\"callback\":null},\"id\":\"a4510444-d085-43de-97ff-add64d4a5421\",\"type\":\"DataRange1d\"},{\"attributes\":{\"fill_color\":{\"value\":\"#1f77b4\"},\"line_color\":{\"value\":\"#1f77b4\"},\"x\":{\"field\":\"x\"},\"y\":{\"field\":\"y0\"}},\"id\":\"45f1bc7d-ad3a-49fc-baeb-72de65a4870b\",\"type\":\"Circle\"},{\"attributes\":{\"below\":[{\"id\":\"93e0e58c-a265-4178-b92d-b4b975101b97\",\"type\":\"LinearAxis\"}],\"left\":[{\"id\":\"ab0f2933-7b01-4be7-b9be-593a9fe31a31\",\"type\":\"LinearAxis\"}],\"plot_height\":300,\"plot_width\":300,\"renderers\":[{\"id\":\"93e0e58c-a265-4178-b92d-b4b975101b97\",\"type\":\"LinearAxis\"},{\"id\":\"fc0222cf-7bda-4bf8-bdc1-7d3bff9b228f\",\"type\":\"Grid\"},{\"id\":\"ab0f2933-7b01-4be7-b9be-593a9fe31a31\",\"type\":\"LinearAxis\"},{\"id\":\"7e28c6dc-ae5a-4e84-b249-143cb633c91e\",\"type\":\"Grid\"},{\"id\":\"576fc11a-8806-446e-94e5-405ac1e0e016\",\"type\":\"PolyAnnotation\"},{\"id\":\"f7931f17-5b50-4e06-8a09-b8ed7a18cf7f\",\"type\":\"GlyphRenderer\"}],\"title\":{\"id\":\"46af5449-85aa-4b6a-8e6e-9329a8b6f39a\",\"type\":\"Title\"},\"tool_events\":{\"id\":\"3939640b-4f43-4493-95af-77735c602ea7\",\"type\":\"ToolEvents\"},\"toolbar\":{\"id\":\"c9da9eec-b156-41f9-b2fe-6280b8745622\",\"type\":\"Toolbar\"},\"toolbar_location\":null,\"x_range\":{\"id\":\"b6c19967-2c9a-4b3f-86ab-863dd43125ba\",\"type\":\"DataRange1d\"},\"y_range\":{\"id\":\"a4510444-d085-43de-97ff-add64d4a5421\",\"type\":\"DataRange1d\"}},\"id\":\"bf71de08-8d1a-4709-8a85-5a9a3a6030f8\",\"subtype\":\"Figure\",\"type\":\"Plot\"},{\"attributes\":{\"below\":[{\"id\":\"4a4c150a-65e4-49ac-ac2b-68311d06b31d\",\"type\":\"LinearAxis\"}],\"left\":[{\"id\":\"4dd7d0c3-7e85-4000-934f-98bb4352314e\",\"type\":\"LinearAxis\"}],\"plot_height\":300,\"plot_width\":300,\"renderers\":[{\"id\":\"4a4c150a-65e4-49ac-ac2b-68311d06b31d\",\"type\":\"LinearAxis\"},{\"id\":\"29936625-5708-4eda-b24b-b2841caab6d5\",\"type\":\"Grid\"},{\"id\":\"4dd7d0c3-7e85-4000-934f-98bb4352314e\",\"type\":\"LinearAxis\"},{\"id\":\"80fd8ee3-163b-463f-9988-43f374cfe1c9\",\"type\":\"Grid\"},{\"id\":\"91ce9ac8-71b8-49db-884f-6d4055dc25de\",\"type\":\"PolyAnnotation\"},{\"id\":\"b751a904-73f0-4269-8be9-d98f2c343779\",\"type\":\"GlyphRenderer\"}],\"title\":{\"id\":\"b2bc0533-a54f-43a7-8041-982664d7ff04\",\"type\":\"Title\"},\"tool_events\":{\"id\":\"5484be34-8c3f-40eb-a173-28783ebde18a\",\"type\":\"ToolEvents\"},\"toolbar\":{\"id\":\"e6b2ccd0-4a9e-465b-a74c-f57f2f46bddb\",\"type\":\"Toolbar\"},\"toolbar_location\":null,\"x_range\":{\"id\":\"b6c19967-2c9a-4b3f-86ab-863dd43125ba\",\"type\":\"DataRange1d\"},\"y_range\":{\"id\":\"ad2f907a-0608-4151-a58d-fc8815f3083b\",\"type\":\"DataRange1d\"}},\"id\":\"b3942b1b-dcde-405d-aa70-f05e9cd50ede\",\"subtype\":\"Figure\",\"type\":\"Plot\"},{\"attributes\":{\"callback\":null,\"column_names\":[\"x\",\"y0\",\"y1\"],\"data\":{\"x\":[-20,-19,-18,-17,-16,-15,-14,-13,-12,-11,-10,-9,-8,-7,-6,-5,-4,-3,-2,-1,0,1,2,3,4,5,6,7,8,9,10,11,12,13,14,15,16,17,18,19,20],\"y0\":[20,19,18,17,16,15,14,13,12,11,10,9,8,7,6,5,4,3,2,1,0,1,2,3,4,5,6,7,8,9,10,11,12,13,14,15,16,17,18,19,20],\"y1\":[400,361,324,289,256,225,196,169,144,121,100,81,64,49,36,25,16,9,4,1,0,1,4,9,16,25,36,49,64,81,100,121,144,169,196,225,256,289,324,361,400]}},\"id\":\"19003e12-8b28-4aa1-b7d5-76dd082b7f0d\",\"type\":\"ColumnDataSource\"}],\"root_ids\":[\"d25969c0-71ee-4f4f-925c-60fdb9f9f971\"]},\"title\":\"Bokeh Application\",\"version\":\"0.12.4\"}};\n",
       "            var render_items = [{\"docid\":\"859a1167-de67-4ff0-8342-4d227f90ede9\",\"elementid\":\"a7a30a9f-fb87-4697-bec0-8d9d01ce6707\",\"modelid\":\"d25969c0-71ee-4f4f-925c-60fdb9f9f971\"}];\n",
       "            \n",
       "            Bokeh.embed.embed_items(docs_json, render_items);\n",
       "          };\n",
       "          if (document.readyState != \"loading\") fn();\n",
       "          else document.addEventListener(\"DOMContentLoaded\", fn);\n",
       "        })();\n",
       "      },\n",
       "      function(Bokeh) {\n",
       "      }\n",
       "    ];\n",
       "  \n",
       "    function run_inline_js() {\n",
       "      \n",
       "      if ((window.Bokeh !== undefined) || (force === true)) {\n",
       "        for (var i = 0; i < inline_js.length; i++) {\n",
       "          inline_js[i](window.Bokeh);\n",
       "        }if (force === true) {\n",
       "          display_loaded();\n",
       "        }} else if (Date.now() < window._bokeh_timeout) {\n",
       "        setTimeout(run_inline_js, 100);\n",
       "      } else if (!window._bokeh_failed_load) {\n",
       "        console.log(\"Bokeh: BokehJS failed to load within specified timeout.\");\n",
       "        window._bokeh_failed_load = true;\n",
       "      } else if (force !== true) {\n",
       "        var cell = $(document.getElementById(\"a7a30a9f-fb87-4697-bec0-8d9d01ce6707\")).parents('.cell').data().cell;\n",
       "        cell.output_area.append_execute_result(NB_LOAD_WARNING)\n",
       "      }\n",
       "  \n",
       "    }\n",
       "  \n",
       "    if (window._bokeh_is_loading === 0) {\n",
       "      console.log(\"Bokeh: BokehJS loaded, going straight to plotting\");\n",
       "      run_inline_js();\n",
       "    } else {\n",
       "      load_libs(js_urls, function() {\n",
       "        console.log(\"Bokeh: BokehJS plotting callback run at\", now());\n",
       "        run_inline_js();\n",
       "      });\n",
       "    }\n",
       "  }(this));\n",
       "</script>"
      ]
     },
     "metadata": {},
     "output_type": "display_data"
    }
   ],
   "source": [
    "from bokeh.layouts import gridplot\n",
    "from bokeh.models import ColumnDataSource\n",
    "from bokeh.plotting import figure\n",
    "\n",
    "x = list(range(-20, 21))\n",
    "y0 = [abs(xx) for xx in x]\n",
    "y1 = [xx**2 for xx in x]\n",
    "\n",
    "# create a column data source for the plots to share\n",
    "source = ColumnDataSource(data=dict(x=x, y0=y0, y1=y1))\n",
    "\n",
    "TOOLS = \"pan,wheel_zoom,lasso_select\"\n",
    "\n",
    "# create a new plot and add a renderer\n",
    "left = figure(tools=TOOLS, width=300, height=300, title=\"|x|\")\n",
    "left.circle('x', 'y0', source=source)\n",
    "\n",
    "# create another new plot and add a renderer\n",
    "right = figure(tools=TOOLS, width=300, height=300, x_range=left.x_range, title=\"x^2\")\n",
    "right.circle('x', 'y1', source=source)\n",
    "\n",
    "p = gridplot([[left, right]])\n",
    "\n",
    "show(p)"
   ]
  },
  {
   "cell_type": "markdown",
   "metadata": {
    "nbpresent": {
     "id": "bbb5ce9f-7029-4394-8352-0bb5394c808d"
    }
   },
   "source": [
    "## Widget\n",
    "IPython widgets provide user interface components such as sliders and buttons styled to make your plots interactive."
   ]
  },
  {
   "cell_type": "code",
   "execution_count": 6,
   "metadata": {
    "collapsed": false,
    "nbpresent": {
     "id": "7c2d00d9-80d3-432f-9daf-6481feaf0299"
    },
    "scrolled": false
   },
   "outputs": [
    {
     "data": {
      "text/html": [
       "\n",
       "\n",
       "    <div class=\"bk-root\">\n",
       "        <div class=\"bk-plotdiv\" id=\"24194948-5bcf-4da1-a9e9-08fd2d183b53\"></div>\n",
       "    </div>\n",
       "<script type=\"text/javascript\">\n",
       "  \n",
       "  (function(global) {\n",
       "    function now() {\n",
       "      return new Date();\n",
       "    }\n",
       "  \n",
       "    var force = false;\n",
       "  \n",
       "    if (typeof (window._bokeh_onload_callbacks) === \"undefined\" || force === true) {\n",
       "      window._bokeh_onload_callbacks = [];\n",
       "      window._bokeh_is_loading = undefined;\n",
       "    }\n",
       "  \n",
       "  \n",
       "    \n",
       "    if (typeof (window._bokeh_timeout) === \"undefined\" || force === true) {\n",
       "      window._bokeh_timeout = Date.now() + 0;\n",
       "      window._bokeh_failed_load = false;\n",
       "    }\n",
       "  \n",
       "    var NB_LOAD_WARNING = {'data': {'text/html':\n",
       "       \"<div style='background-color: #fdd'>\\n\"+\n",
       "       \"<p>\\n\"+\n",
       "       \"BokehJS does not appear to have successfully loaded. If loading BokehJS from CDN, this \\n\"+\n",
       "       \"may be due to a slow or bad network connection. Possible fixes:\\n\"+\n",
       "       \"</p>\\n\"+\n",
       "       \"<ul>\\n\"+\n",
       "       \"<li>re-rerun `output_notebook()` to attempt to load from CDN again, or</li>\\n\"+\n",
       "       \"<li>use INLINE resources instead, as so:</li>\\n\"+\n",
       "       \"</ul>\\n\"+\n",
       "       \"<code>\\n\"+\n",
       "       \"from bokeh.resources import INLINE\\n\"+\n",
       "       \"output_notebook(resources=INLINE)\\n\"+\n",
       "       \"</code>\\n\"+\n",
       "       \"</div>\"}};\n",
       "  \n",
       "    function display_loaded() {\n",
       "      if (window.Bokeh !== undefined) {\n",
       "        document.getElementById(\"24194948-5bcf-4da1-a9e9-08fd2d183b53\").textContent = \"BokehJS successfully loaded.\";\n",
       "      } else if (Date.now() < window._bokeh_timeout) {\n",
       "        setTimeout(display_loaded, 100)\n",
       "      }\n",
       "    }if ((window.Jupyter !== undefined) && Jupyter.notebook.kernel) {\n",
       "      comm_manager = Jupyter.notebook.kernel.comm_manager\n",
       "      comm_manager.register_target(\"b6193296-49eb-486e-94ef-78205503dd79\", function () {});\n",
       "    }\n",
       "  \n",
       "    function run_callbacks() {\n",
       "      window._bokeh_onload_callbacks.forEach(function(callback) { callback() });\n",
       "      delete window._bokeh_onload_callbacks\n",
       "      console.info(\"Bokeh: all callbacks have finished\");\n",
       "    }\n",
       "  \n",
       "    function load_libs(js_urls, callback) {\n",
       "      window._bokeh_onload_callbacks.push(callback);\n",
       "      if (window._bokeh_is_loading > 0) {\n",
       "        console.log(\"Bokeh: BokehJS is being loaded, scheduling callback at\", now());\n",
       "        return null;\n",
       "      }\n",
       "      if (js_urls == null || js_urls.length === 0) {\n",
       "        run_callbacks();\n",
       "        return null;\n",
       "      }\n",
       "      console.log(\"Bokeh: BokehJS not loaded, scheduling load and callback at\", now());\n",
       "      window._bokeh_is_loading = js_urls.length;\n",
       "      for (var i = 0; i < js_urls.length; i++) {\n",
       "        var url = js_urls[i];\n",
       "        var s = document.createElement('script');\n",
       "        s.src = url;\n",
       "        s.async = false;\n",
       "        s.onreadystatechange = s.onload = function() {\n",
       "          window._bokeh_is_loading--;\n",
       "          if (window._bokeh_is_loading === 0) {\n",
       "            console.log(\"Bokeh: all BokehJS libraries loaded\");\n",
       "            run_callbacks()\n",
       "          }\n",
       "        };\n",
       "        s.onerror = function() {\n",
       "          console.warn(\"failed to load library \" + url);\n",
       "        };\n",
       "        console.log(\"Bokeh: injecting script tag for BokehJS library: \", url);\n",
       "        document.getElementsByTagName(\"head\")[0].appendChild(s);\n",
       "      }\n",
       "    };var element = document.getElementById(\"24194948-5bcf-4da1-a9e9-08fd2d183b53\");\n",
       "    if (element == null) {\n",
       "      console.log(\"Bokeh: ERROR: autoload.js configured with elementid '24194948-5bcf-4da1-a9e9-08fd2d183b53' but no matching script tag was found. \")\n",
       "      return false;\n",
       "    }\n",
       "  \n",
       "    var js_urls = [];\n",
       "  \n",
       "    var inline_js = [\n",
       "      function(Bokeh) {\n",
       "        (function() {\n",
       "          var fn = function() {\n",
       "            var docs_json = {\"d75aa473-abf8-4d87-850d-a095bd186e6d\":{\"roots\":{\"references\":[{\"attributes\":{\"bottom_units\":\"screen\",\"fill_alpha\":{\"value\":0.5},\"fill_color\":{\"value\":\"lightgrey\"},\"left_units\":\"screen\",\"level\":\"overlay\",\"line_alpha\":{\"value\":1.0},\"line_color\":{\"value\":\"black\"},\"line_dash\":[4,4],\"line_width\":{\"value\":2},\"plot\":null,\"render_mode\":\"css\",\"right_units\":\"screen\",\"top_units\":\"screen\"},\"id\":\"50981877-6b6c-421c-9dc8-ed76dc534f7c\",\"type\":\"BoxAnnotation\"},{\"attributes\":{\"plot\":{\"id\":\"bb556559-f1e5-40e4-9b6d-3a5ec476212b\",\"subtype\":\"Figure\",\"type\":\"Plot\"}},\"id\":\"f3b83b37-d8b7-44bc-9563-e96c2c454ea1\",\"type\":\"ResetTool\"},{\"attributes\":{\"plot\":{\"id\":\"bb556559-f1e5-40e4-9b6d-3a5ec476212b\",\"subtype\":\"Figure\",\"type\":\"Plot\"}},\"id\":\"6a27ccda-91b0-476d-a883-fb455ba58e0e\",\"type\":\"SaveTool\"},{\"attributes\":{\"plot\":{\"id\":\"bb556559-f1e5-40e4-9b6d-3a5ec476212b\",\"subtype\":\"Figure\",\"type\":\"Plot\"}},\"id\":\"d096a826-d379-4e00-9d07-6b1ad986c68b\",\"type\":\"HelpTool\"},{\"attributes\":{\"plot\":{\"id\":\"bb556559-f1e5-40e4-9b6d-3a5ec476212b\",\"subtype\":\"Figure\",\"type\":\"Plot\"}},\"id\":\"06cb3a10-5a27-46d9-b18b-41d689b01ac1\",\"type\":\"WheelZoomTool\"},{\"attributes\":{\"plot\":{\"id\":\"bb556559-f1e5-40e4-9b6d-3a5ec476212b\",\"subtype\":\"Figure\",\"type\":\"Plot\"}},\"id\":\"8421fa19-b486-458c-95ce-996da9f1979f\",\"type\":\"PanTool\"},{\"attributes\":{\"callback\":null},\"id\":\"7662b555-926f-41ff-8e1d-fe6951930554\",\"type\":\"DataRange1d\"},{\"attributes\":{\"callback\":null,\"end\":5,\"start\":-5},\"id\":\"b8e95ea1-6254-43db-84e0-308336dbbd82\",\"type\":\"Range1d\"},{\"attributes\":{},\"id\":\"7786212f-ceaf-4d5f-9e9c-25b1d309649c\",\"type\":\"ToolEvents\"},{\"attributes\":{\"active_drag\":\"auto\",\"active_scroll\":\"auto\",\"active_tap\":\"auto\",\"tools\":[{\"id\":\"8421fa19-b486-458c-95ce-996da9f1979f\",\"type\":\"PanTool\"},{\"id\":\"06cb3a10-5a27-46d9-b18b-41d689b01ac1\",\"type\":\"WheelZoomTool\"},{\"id\":\"8c7a8417-9d33-4a7a-9c6b-b74dd1079aa6\",\"type\":\"BoxZoomTool\"},{\"id\":\"6a27ccda-91b0-476d-a883-fb455ba58e0e\",\"type\":\"SaveTool\"},{\"id\":\"f3b83b37-d8b7-44bc-9563-e96c2c454ea1\",\"type\":\"ResetTool\"},{\"id\":\"d096a826-d379-4e00-9d07-6b1ad986c68b\",\"type\":\"HelpTool\"}]},\"id\":\"e81b25d0-ebe6-4965-9a91-21452b2d35d4\",\"type\":\"Toolbar\"},{\"attributes\":{\"overlay\":{\"id\":\"50981877-6b6c-421c-9dc8-ed76dc534f7c\",\"type\":\"BoxAnnotation\"},\"plot\":{\"id\":\"bb556559-f1e5-40e4-9b6d-3a5ec476212b\",\"subtype\":\"Figure\",\"type\":\"Plot\"}},\"id\":\"8c7a8417-9d33-4a7a-9c6b-b74dd1079aa6\",\"type\":\"BoxZoomTool\"},{\"attributes\":{\"plot\":null,\"text\":\"simple line example\"},\"id\":\"afce5fc4-24a5-4e4e-ae7f-618be0998e38\",\"type\":\"Title\"},{\"attributes\":{},\"id\":\"94fbe15a-1e50-478c-8cad-dc0a7adc9fe2\",\"type\":\"BasicTickFormatter\"},{\"attributes\":{\"below\":[{\"id\":\"92be5ce4-8f81-407f-89dc-d3d9677f695f\",\"type\":\"LinearAxis\"}],\"left\":[{\"id\":\"4479be7f-c988-4ba8-ac47-79c253c35c3c\",\"type\":\"LinearAxis\"}],\"plot_height\":300,\"renderers\":[{\"id\":\"92be5ce4-8f81-407f-89dc-d3d9677f695f\",\"type\":\"LinearAxis\"},{\"id\":\"64fbf14c-5e1f-436f-9a87-a7ce93be9e1a\",\"type\":\"Grid\"},{\"id\":\"4479be7f-c988-4ba8-ac47-79c253c35c3c\",\"type\":\"LinearAxis\"},{\"id\":\"26b74d81-da7a-45b1-8482-f20edc6889f4\",\"type\":\"Grid\"},{\"id\":\"50981877-6b6c-421c-9dc8-ed76dc534f7c\",\"type\":\"BoxAnnotation\"},{\"id\":\"7d05c4a5-3bc7-41c9-bfef-78405795a063\",\"type\":\"GlyphRenderer\"}],\"title\":{\"id\":\"afce5fc4-24a5-4e4e-ae7f-618be0998e38\",\"type\":\"Title\"},\"tool_events\":{\"id\":\"7786212f-ceaf-4d5f-9e9c-25b1d309649c\",\"type\":\"ToolEvents\"},\"toolbar\":{\"id\":\"e81b25d0-ebe6-4965-9a91-21452b2d35d4\",\"type\":\"Toolbar\"},\"x_range\":{\"id\":\"7662b555-926f-41ff-8e1d-fe6951930554\",\"type\":\"DataRange1d\"},\"y_range\":{\"id\":\"b8e95ea1-6254-43db-84e0-308336dbbd82\",\"type\":\"Range1d\"}},\"id\":\"bb556559-f1e5-40e4-9b6d-3a5ec476212b\",\"subtype\":\"Figure\",\"type\":\"Plot\"},{\"attributes\":{\"callback\":null,\"column_names\":[\"x\",\"y\"],\"data\":{\"x\":{\"__ndarray__\":\"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\",\"dtype\":\"float64\",\"shape\":[2000]},\"y\":{\"__ndarray__\":\"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\",\"dtype\":\"float64\",\"shape\":[2000]}}},\"id\":\"b52365f6-9dfb-43fa-8a2c-a2c0d5c524b2\",\"type\":\"ColumnDataSource\"},{\"attributes\":{},\"id\":\"fca42ea1-bb44-47e2-99a3-184b2855ac7e\",\"type\":\"BasicTicker\"},{\"attributes\":{\"data_source\":{\"id\":\"b52365f6-9dfb-43fa-8a2c-a2c0d5c524b2\",\"type\":\"ColumnDataSource\"},\"glyph\":{\"id\":\"12688b79-2132-41ac-a1c7-2124a0c68a6a\",\"type\":\"Line\"},\"hover_glyph\":null,\"nonselection_glyph\":{\"id\":\"b22d3979-6f04-4ac6-8f4b-a955d2e0ffe0\",\"type\":\"Line\"},\"selection_glyph\":null},\"id\":\"7d05c4a5-3bc7-41c9-bfef-78405795a063\",\"type\":\"GlyphRenderer\"},{\"attributes\":{},\"id\":\"c1554a8a-0094-4b68-97d4-b0a6ff5a4327\",\"type\":\"BasicTicker\"},{\"attributes\":{\"line_color\":{\"value\":\"#2222aa\"},\"line_width\":{\"value\":3},\"x\":{\"field\":\"x\"},\"y\":{\"field\":\"y\"}},\"id\":\"12688b79-2132-41ac-a1c7-2124a0c68a6a\",\"type\":\"Line\"},{\"attributes\":{\"formatter\":{\"id\":\"add170d5-e7c9-4709-8418-5a737dda94bd\",\"type\":\"BasicTickFormatter\"},\"plot\":{\"id\":\"bb556559-f1e5-40e4-9b6d-3a5ec476212b\",\"subtype\":\"Figure\",\"type\":\"Plot\"},\"ticker\":{\"id\":\"c1554a8a-0094-4b68-97d4-b0a6ff5a4327\",\"type\":\"BasicTicker\"}},\"id\":\"4479be7f-c988-4ba8-ac47-79c253c35c3c\",\"type\":\"LinearAxis\"},{\"attributes\":{\"plot\":{\"id\":\"bb556559-f1e5-40e4-9b6d-3a5ec476212b\",\"subtype\":\"Figure\",\"type\":\"Plot\"},\"ticker\":{\"id\":\"fca42ea1-bb44-47e2-99a3-184b2855ac7e\",\"type\":\"BasicTicker\"}},\"id\":\"64fbf14c-5e1f-436f-9a87-a7ce93be9e1a\",\"type\":\"Grid\"},{\"attributes\":{\"formatter\":{\"id\":\"94fbe15a-1e50-478c-8cad-dc0a7adc9fe2\",\"type\":\"BasicTickFormatter\"},\"plot\":{\"id\":\"bb556559-f1e5-40e4-9b6d-3a5ec476212b\",\"subtype\":\"Figure\",\"type\":\"Plot\"},\"ticker\":{\"id\":\"fca42ea1-bb44-47e2-99a3-184b2855ac7e\",\"type\":\"BasicTicker\"}},\"id\":\"92be5ce4-8f81-407f-89dc-d3d9677f695f\",\"type\":\"LinearAxis\"},{\"attributes\":{},\"id\":\"add170d5-e7c9-4709-8418-5a737dda94bd\",\"type\":\"BasicTickFormatter\"},{\"attributes\":{\"line_alpha\":{\"value\":0.1},\"line_color\":{\"value\":\"#1f77b4\"},\"line_width\":{\"value\":3},\"x\":{\"field\":\"x\"},\"y\":{\"field\":\"y\"}},\"id\":\"b22d3979-6f04-4ac6-8f4b-a955d2e0ffe0\",\"type\":\"Line\"},{\"attributes\":{\"dimension\":1,\"plot\":{\"id\":\"bb556559-f1e5-40e4-9b6d-3a5ec476212b\",\"subtype\":\"Figure\",\"type\":\"Plot\"},\"ticker\":{\"id\":\"c1554a8a-0094-4b68-97d4-b0a6ff5a4327\",\"type\":\"BasicTicker\"}},\"id\":\"26b74d81-da7a-45b1-8482-f20edc6889f4\",\"type\":\"Grid\"}],\"root_ids\":[\"bb556559-f1e5-40e4-9b6d-3a5ec476212b\"]},\"title\":\"Bokeh Application\",\"version\":\"0.12.4\"}};\n",
       "            var render_items = [{\"docid\":\"d75aa473-abf8-4d87-850d-a095bd186e6d\",\"elementid\":\"24194948-5bcf-4da1-a9e9-08fd2d183b53\",\"modelid\":\"bb556559-f1e5-40e4-9b6d-3a5ec476212b\",\"notebook_comms_target\":\"b6193296-49eb-486e-94ef-78205503dd79\"}];\n",
       "            \n",
       "            Bokeh.embed.embed_items(docs_json, render_items);\n",
       "          };\n",
       "          if (document.readyState != \"loading\") fn();\n",
       "          else document.addEventListener(\"DOMContentLoaded\", fn);\n",
       "        })();\n",
       "      },\n",
       "      function(Bokeh) {\n",
       "      }\n",
       "    ];\n",
       "  \n",
       "    function run_inline_js() {\n",
       "      \n",
       "      if ((window.Bokeh !== undefined) || (force === true)) {\n",
       "        for (var i = 0; i < inline_js.length; i++) {\n",
       "          inline_js[i](window.Bokeh);\n",
       "        }if (force === true) {\n",
       "          display_loaded();\n",
       "        }} else if (Date.now() < window._bokeh_timeout) {\n",
       "        setTimeout(run_inline_js, 100);\n",
       "      } else if (!window._bokeh_failed_load) {\n",
       "        console.log(\"Bokeh: BokehJS failed to load within specified timeout.\");\n",
       "        window._bokeh_failed_load = true;\n",
       "      } else if (force !== true) {\n",
       "        var cell = $(document.getElementById(\"24194948-5bcf-4da1-a9e9-08fd2d183b53\")).parents('.cell').data().cell;\n",
       "        cell.output_area.append_execute_result(NB_LOAD_WARNING)\n",
       "      }\n",
       "  \n",
       "    }\n",
       "  \n",
       "    if (window._bokeh_is_loading === 0) {\n",
       "      console.log(\"Bokeh: BokehJS loaded, going straight to plotting\");\n",
       "      run_inline_js();\n",
       "    } else {\n",
       "      load_libs(js_urls, function() {\n",
       "        console.log(\"Bokeh: BokehJS plotting callback run at\", now());\n",
       "        run_inline_js();\n",
       "      });\n",
       "    }\n",
       "  }(this));\n",
       "</script>"
      ]
     },
     "metadata": {},
     "output_type": "display_data"
    }
   ],
   "source": [
    "import numpy as np\n",
    "from bokeh.plotting import figure\n",
    "from bokeh.io import push_notebook, show\n",
    "\n",
    "x = np.linspace(0, 2*np.pi, 2000)\n",
    "y = np.sin(x)\n",
    "p = figure(title=\"simple line example\", plot_height=300, plot_width=600, y_range=(-5,5))\n",
    "r = p.line(x, y, color=\"#2222aa\", line_width=3)\n",
    "widget_plot_target = show(p, notebook_handle=True)\n",
    "\n",
    "def update(f, w=1, A=1, phi=0):\n",
    "    if   f == \"sin\": func = np.sin\n",
    "    elif f == \"cos\": func = np.cos\n",
    "    elif f == \"tan\": func = np.tan\n",
    "    r.data_source.data['y'] = A * func(w * x + phi)\n",
    "    push_notebook(handle=widget_plot_target)"
   ]
  },
  {
   "cell_type": "code",
   "execution_count": 7,
   "metadata": {
    "collapsed": false
   },
   "outputs": [
    {
     "data": {
      "text/plain": [
       "<function __main__.update>"
      ]
     },
     "execution_count": 7,
     "metadata": {},
     "output_type": "execute_result"
    }
   ],
   "source": [
    "from ipywidgets import interact\n",
    "\n",
    "interact(update, f=[\"sin\", \"cos\", \"tan\"], w=(0,100), A=(1,5), phi=(0, 20, 0.1))"
   ]
  },
  {
   "cell_type": "code",
   "execution_count": null,
   "metadata": {
    "collapsed": true
   },
   "outputs": [],
   "source": [
    "## Server\n",
    "The Bokeh Server can be used to support long running processes such as animations. Bokeh server is started on the commandline with \n",
    "```\n",
    "bokeh serve\n",
    "```\n",
    "Bokeh server can also be started within the jupyter notebook but may affect system performance if a notebook using animations is restarted many times."
   ]
  },
  {
   "cell_type": "code",
   "execution_count": 8,
   "metadata": {
    "collapsed": false,
    "nbpresent": {
     "id": "ed83d33a-1cfb-4040-aca0-00247ea0f1a4"
    },
    "scrolled": false
   },
   "outputs": [
    {
     "data": {
      "text/html": [
       "\n",
       "\n",
       "    <div class=\"bk-root\">\n",
       "        <div class=\"bk-plotdiv\" id=\"b4a9166c-0a6a-4bd7-8171-649d662ba801\"></div>\n",
       "    </div>\n",
       "<script type=\"text/javascript\">\n",
       "  \n",
       "  (function(global) {\n",
       "    function now() {\n",
       "      return new Date();\n",
       "    }\n",
       "  \n",
       "    var force = false;\n",
       "  \n",
       "    if (typeof (window._bokeh_onload_callbacks) === \"undefined\" || force === true) {\n",
       "      window._bokeh_onload_callbacks = [];\n",
       "      window._bokeh_is_loading = undefined;\n",
       "    }\n",
       "  \n",
       "  \n",
       "    \n",
       "    if (typeof (window._bokeh_timeout) === \"undefined\" || force === true) {\n",
       "      window._bokeh_timeout = Date.now() + 0;\n",
       "      window._bokeh_failed_load = false;\n",
       "    }\n",
       "  \n",
       "    var NB_LOAD_WARNING = {'data': {'text/html':\n",
       "       \"<div style='background-color: #fdd'>\\n\"+\n",
       "       \"<p>\\n\"+\n",
       "       \"BokehJS does not appear to have successfully loaded. If loading BokehJS from CDN, this \\n\"+\n",
       "       \"may be due to a slow or bad network connection. Possible fixes:\\n\"+\n",
       "       \"</p>\\n\"+\n",
       "       \"<ul>\\n\"+\n",
       "       \"<li>re-rerun `output_notebook()` to attempt to load from CDN again, or</li>\\n\"+\n",
       "       \"<li>use INLINE resources instead, as so:</li>\\n\"+\n",
       "       \"</ul>\\n\"+\n",
       "       \"<code>\\n\"+\n",
       "       \"from bokeh.resources import INLINE\\n\"+\n",
       "       \"output_notebook(resources=INLINE)\\n\"+\n",
       "       \"</code>\\n\"+\n",
       "       \"</div>\"}};\n",
       "  \n",
       "    function display_loaded() {\n",
       "      if (window.Bokeh !== undefined) {\n",
       "        document.getElementById(\"b4a9166c-0a6a-4bd7-8171-649d662ba801\").textContent = \"BokehJS successfully loaded.\";\n",
       "      } else if (Date.now() < window._bokeh_timeout) {\n",
       "        setTimeout(display_loaded, 100)\n",
       "      }\n",
       "    }if ((window.Jupyter !== undefined) && Jupyter.notebook.kernel) {\n",
       "      comm_manager = Jupyter.notebook.kernel.comm_manager\n",
       "      comm_manager.register_target(\"a776af77-6577-46a8-b268-a5190749d460\", function () {});\n",
       "    }\n",
       "  \n",
       "    function run_callbacks() {\n",
       "      window._bokeh_onload_callbacks.forEach(function(callback) { callback() });\n",
       "      delete window._bokeh_onload_callbacks\n",
       "      console.info(\"Bokeh: all callbacks have finished\");\n",
       "    }\n",
       "  \n",
       "    function load_libs(js_urls, callback) {\n",
       "      window._bokeh_onload_callbacks.push(callback);\n",
       "      if (window._bokeh_is_loading > 0) {\n",
       "        console.log(\"Bokeh: BokehJS is being loaded, scheduling callback at\", now());\n",
       "        return null;\n",
       "      }\n",
       "      if (js_urls == null || js_urls.length === 0) {\n",
       "        run_callbacks();\n",
       "        return null;\n",
       "      }\n",
       "      console.log(\"Bokeh: BokehJS not loaded, scheduling load and callback at\", now());\n",
       "      window._bokeh_is_loading = js_urls.length;\n",
       "      for (var i = 0; i < js_urls.length; i++) {\n",
       "        var url = js_urls[i];\n",
       "        var s = document.createElement('script');\n",
       "        s.src = url;\n",
       "        s.async = false;\n",
       "        s.onreadystatechange = s.onload = function() {\n",
       "          window._bokeh_is_loading--;\n",
       "          if (window._bokeh_is_loading === 0) {\n",
       "            console.log(\"Bokeh: all BokehJS libraries loaded\");\n",
       "            run_callbacks()\n",
       "          }\n",
       "        };\n",
       "        s.onerror = function() {\n",
       "          console.warn(\"failed to load library \" + url);\n",
       "        };\n",
       "        console.log(\"Bokeh: injecting script tag for BokehJS library: \", url);\n",
       "        document.getElementsByTagName(\"head\")[0].appendChild(s);\n",
       "      }\n",
       "    };var element = document.getElementById(\"b4a9166c-0a6a-4bd7-8171-649d662ba801\");\n",
       "    if (element == null) {\n",
       "      console.log(\"Bokeh: ERROR: autoload.js configured with elementid 'b4a9166c-0a6a-4bd7-8171-649d662ba801' but no matching script tag was found. \")\n",
       "      return false;\n",
       "    }\n",
       "  \n",
       "    var js_urls = [];\n",
       "  \n",
       "    var inline_js = [\n",
       "      function(Bokeh) {\n",
       "        (function() {\n",
       "          var fn = function() {\n",
       "            var docs_json = {\"a155ed61-2f26-400c-bb5d-30178a8742ba\":{\"roots\":{\"references\":[{\"attributes\":{\"end_angle\":{\"field\":\"end_angle\",\"units\":\"rad\"},\"fill_alpha\":{\"value\":0.1},\"fill_color\":{\"value\":\"#1f77b4\"},\"inner_radius\":{\"field\":\"inner_radius\",\"units\":\"data\"},\"line_alpha\":{\"value\":0.1},\"line_color\":{\"value\":\"#1f77b4\"},\"outer_radius\":{\"field\":\"outer_radius\",\"units\":\"data\"},\"start_angle\":{\"field\":\"start_angle\",\"units\":\"rad\"},\"x\":{\"value\":0},\"y\":{\"value\":0}},\"id\":\"0d03122d-657e-4320-8e48-787306b34a6a\",\"type\":\"AnnularWedge\"},{\"attributes\":{\"callback\":null,\"end\":11,\"start\":-11},\"id\":\"f8e41175-a0ac-4468-b6e9-cb64aadbcf86\",\"type\":\"Range1d\"},{\"attributes\":{\"formatter\":{\"id\":\"4f82acc9-1e5a-4bb5-a201-63f8cca45b89\",\"type\":\"BasicTickFormatter\"},\"plot\":{\"id\":\"eb8e038b-71f2-4604-bbfa-1a17a8386eef\",\"subtype\":\"Figure\",\"type\":\"Plot\"},\"ticker\":{\"id\":\"c3b6301c-836f-4a6d-adb7-0e727d9f74a5\",\"type\":\"BasicTicker\"}},\"id\":\"2983c72d-5f1f-4419-a28d-e28be5346493\",\"type\":\"LinearAxis\"},{\"attributes\":{},\"id\":\"c3b6301c-836f-4a6d-adb7-0e727d9f74a5\",\"type\":\"BasicTicker\"},{\"attributes\":{\"plot\":{\"id\":\"eb8e038b-71f2-4604-bbfa-1a17a8386eef\",\"subtype\":\"Figure\",\"type\":\"Plot\"},\"ticker\":{\"id\":\"c3b6301c-836f-4a6d-adb7-0e727d9f74a5\",\"type\":\"BasicTicker\"}},\"id\":\"b3902cdf-e29a-4676-89e4-7b31cb9ee975\",\"type\":\"Grid\"},{\"attributes\":{\"formatter\":{\"id\":\"ae969ef2-78f6-4a0a-a95b-d11690a27374\",\"type\":\"BasicTickFormatter\"},\"plot\":{\"id\":\"eb8e038b-71f2-4604-bbfa-1a17a8386eef\",\"subtype\":\"Figure\",\"type\":\"Plot\"},\"ticker\":{\"id\":\"20edd5d3-7882-431f-9df1-7007fbd8afdd\",\"type\":\"BasicTicker\"}},\"id\":\"529afd2b-c9f1-477b-aec0-3b40c40c64bf\",\"type\":\"LinearAxis\"},{\"attributes\":{},\"id\":\"20edd5d3-7882-431f-9df1-7007fbd8afdd\",\"type\":\"BasicTicker\"},{\"attributes\":{\"dimension\":1,\"plot\":{\"id\":\"eb8e038b-71f2-4604-bbfa-1a17a8386eef\",\"subtype\":\"Figure\",\"type\":\"Plot\"},\"ticker\":{\"id\":\"20edd5d3-7882-431f-9df1-7007fbd8afdd\",\"type\":\"BasicTicker\"}},\"id\":\"dca99d63-9954-4a0f-b9d8-a02e5bd0499e\",\"type\":\"Grid\"},{\"attributes\":{\"data_source\":{\"id\":\"9c7c5b4b-f9f4-4df4-b39a-6d1352251f9b\",\"type\":\"ColumnDataSource\"},\"glyph\":{\"id\":\"e158c58d-77c1-48ad-83c6-b8041c79ab78\",\"type\":\"AnnularWedge\"},\"hover_glyph\":null,\"nonselection_glyph\":{\"id\":\"0d03122d-657e-4320-8e48-787306b34a6a\",\"type\":\"AnnularWedge\"},\"selection_glyph\":null},\"id\":\"122a6786-1d50-4179-9355-083524df8542\",\"type\":\"GlyphRenderer\"},{\"attributes\":{\"bottom_units\":\"screen\",\"fill_alpha\":{\"value\":0.5},\"fill_color\":{\"value\":\"lightgrey\"},\"left_units\":\"screen\",\"level\":\"overlay\",\"line_alpha\":{\"value\":1.0},\"line_color\":{\"value\":\"black\"},\"line_dash\":[4,4],\"line_width\":{\"value\":2},\"plot\":null,\"render_mode\":\"css\",\"right_units\":\"screen\",\"top_units\":\"screen\"},\"id\":\"0071ea49-bcf3-41fa-961d-56eadd4febda\",\"type\":\"BoxAnnotation\"},{\"attributes\":{\"plot\":{\"id\":\"eb8e038b-71f2-4604-bbfa-1a17a8386eef\",\"subtype\":\"Figure\",\"type\":\"Plot\"}},\"id\":\"f550ae49-795e-4930-8af4-bfba9953e6d6\",\"type\":\"PanTool\"},{\"attributes\":{},\"id\":\"ae969ef2-78f6-4a0a-a95b-d11690a27374\",\"type\":\"BasicTickFormatter\"},{\"attributes\":{\"plot\":{\"id\":\"eb8e038b-71f2-4604-bbfa-1a17a8386eef\",\"subtype\":\"Figure\",\"type\":\"Plot\"}},\"id\":\"c658a39c-19ef-4554-b2e1-e522ecb80089\",\"type\":\"WheelZoomTool\"},{\"attributes\":{\"overlay\":{\"id\":\"0071ea49-bcf3-41fa-961d-56eadd4febda\",\"type\":\"BoxAnnotation\"},\"plot\":{\"id\":\"eb8e038b-71f2-4604-bbfa-1a17a8386eef\",\"subtype\":\"Figure\",\"type\":\"Plot\"}},\"id\":\"812ef8aa-a493-4963-af39-94d59b516434\",\"type\":\"BoxZoomTool\"},{\"attributes\":{\"plot\":{\"id\":\"eb8e038b-71f2-4604-bbfa-1a17a8386eef\",\"subtype\":\"Figure\",\"type\":\"Plot\"}},\"id\":\"4fef38e4-7982-461d-8869-139912714c7a\",\"type\":\"SaveTool\"},{\"attributes\":{\"plot\":{\"id\":\"eb8e038b-71f2-4604-bbfa-1a17a8386eef\",\"subtype\":\"Figure\",\"type\":\"Plot\"}},\"id\":\"0a1f5a5c-f0ce-4820-8c9b-8a7f3494d972\",\"type\":\"ResetTool\"},{\"attributes\":{\"plot\":{\"id\":\"eb8e038b-71f2-4604-bbfa-1a17a8386eef\",\"subtype\":\"Figure\",\"type\":\"Plot\"}},\"id\":\"e18a8eee-6103-4a2f-9bf1-fd30c25d76f0\",\"type\":\"HelpTool\"},{\"attributes\":{},\"id\":\"4f82acc9-1e5a-4bb5-a201-63f8cca45b89\",\"type\":\"BasicTickFormatter\"},{\"attributes\":{\"end_angle\":{\"field\":\"end_angle\",\"units\":\"rad\"},\"fill_color\":{\"field\":\"fill_color\"},\"inner_radius\":{\"field\":\"inner_radius\",\"units\":\"data\"},\"line_color\":{\"value\":\"white\"},\"outer_radius\":{\"field\":\"outer_radius\",\"units\":\"data\"},\"start_angle\":{\"field\":\"start_angle\",\"units\":\"rad\"},\"x\":{\"value\":0},\"y\":{\"value\":0}},\"id\":\"e158c58d-77c1-48ad-83c6-b8041c79ab78\",\"type\":\"AnnularWedge\"},{\"attributes\":{\"plot\":null,\"text\":\"\"},\"id\":\"84b58470-522e-47ee-82e5-cf15669c3b59\",\"type\":\"Title\"},{\"attributes\":{\"callback\":null,\"column_names\":[\"inner_radius\",\"outer_radius\",\"start_angle\",\"end_angle\",\"fill_color\"],\"data\":{\"end_angle\":{\"__ndarray__\":\"GicXkr8VwD8aJxeSvxXQP6e6IlufINg/GicXkr8V4D/g8Jx2LxvkP6e6IlufIOg/boSoPw8m7D8aJxeSvxXwP/0LWoR3GPI/4PCcdi8b9D/E1d9o5x32P6e6IlufIPg/ip9lTVcj+j9uhKg/Dyb8P1Fp6zHHKP4/GicXkr8VAECMmTiLGxcBQP0LWoR3GAJAb357fdMZA0Dg8Jx2LxsEQFJjvm+LHAVAxNXfaOcdBkA1SAFiQx8HQKe6IlufIAhAGS1EVPshCUCKn2VNVyMKQPwRh0azJAtAboSoPw8mDEDf9sk4aycNQFFp6zHHKA5AwtsMKyMqD0AaJxeSvxUQQFPgp45tlhBAjJk4ixsXEUDEUsmHyZcRQP0LWoR3GBJANsXqgCWZEkBvfnt90xkTQKg3DHqBmhNA4PCcdi8bFEAZqi1z3ZsUQFJjvm+LHBVAixxPbDmdFUDE1d9o5x0WQP2OcGWVnhZANUgBYkMfF0BuAZJe8Z8XQKe6IlufIBhA4HOzV02hGEAYLURU+yEZQA==\",\"dtype\":\"float64\",\"shape\":[50]},\"fill_color\":[\"FFFFCC\",\"#C7E9B4\",\"#7FCDBB\",\"#41B6C4\",\"#2C7FB8\",\"#253494\",\"#2C7FB8\",\"#41B6C4\",\"#7FCDBB\",\"#C7E9B4\",\"FFFFCC\",\"#C7E9B4\",\"#7FCDBB\",\"#41B6C4\",\"#2C7FB8\",\"#253494\",\"#2C7FB8\",\"#41B6C4\",\"#7FCDBB\",\"#C7E9B4\",\"FFFFCC\",\"#C7E9B4\",\"#7FCDBB\",\"#41B6C4\",\"#2C7FB8\",\"#253494\",\"#2C7FB8\",\"#41B6C4\",\"#7FCDBB\",\"#C7E9B4\",\"FFFFCC\",\"#C7E9B4\",\"#7FCDBB\",\"#41B6C4\",\"#2C7FB8\",\"#253494\",\"#2C7FB8\",\"#41B6C4\",\"#7FCDBB\",\"#C7E9B4\",\"FFFFCC\",\"#C7E9B4\",\"#7FCDBB\",\"#41B6C4\",\"#2C7FB8\",\"#253494\",\"#2C7FB8\",\"#41B6C4\",\"#7FCDBB\",\"#C7E9B4\"],\"inner_radius\":{\"__ndarray__\":\"AAAAAAAAGEB/VmRV1koYQN3oKAdpIBlAi0uteYBhGkCaLQrfLd8bQOCud2CnYR1A5vkCpW+wHkCOazmVl5ofQO45pGXl/R9AePcNRdXLH0Ced0N9uAsfQLjtNqOj2R1A7r4v3FNiHECMcOLMpNwaQEaCruOLgRlAeJaVB8WDGEDihNgyaAgYQGCilnR9IRhAaQg+OlrLGECmd6J/Ku0ZQOGLWdiRXBtALBIYh9zjHEDI4iLz2EkeQFK1psQzWh9AvHb51x3tH0C+dvnXHe0fQFS1psQzWh9AyOIi89hJHkAsEhiH3OMcQOSLWdiRXBtAqXeifyrtGUBrCD46WssYQGCilnR9IRhA4oTYMmgIGEB4lpUHxYMYQEWCruOLgRlAinDizKTcGkDsvi/cU2IcQLbtNqOj2R1AnHdDfbgLH0B49w1F1csfQO45pGXl/R9Ajms5lZeaH0Do+QKlb7AeQOCud2CnYR1AnC0K3y3fG0COS615gGEaQN7oKAdpIBlAgFZkVdZKGEAAAAAAAAAYQA==\",\"dtype\":\"float64\",\"shape\":[50]},\"outer_radius\":{\"__ndarray__\":\"AAAAAAAAIkAXczL/IsAiQMx61oAwZCNAE84t5C3UI0D9xEaovP8jQJ0Q2u5+4CNAE8a2twV7I0BejWsCJt4iQOzt1s/NICJAgsa5IqpeIUAFoWNoG7QgQIDx3KcPOiBA/oU9q10CIEBG9rZ8KRUgQBuir8izbyBAyiNFq8AEIUDKUXnihr4hQF++fAPfgSJAurQfizsyI0C/CbFF1bUjQKzxBeRv+SNAl45VwCnzI0A5KSWe7aMjQEMNv1lQFyNAwD01i99hIkBBwsp0IJ4hQL7yQKav6CBAyNbaYRJcIEBqcao/1gwgQFQO+huQBiBAQPZOuipKIEBFS+B0xM0gQKBBg/wgfiFANq6GHXlBIkA13LpUP/siQORdUDdMkCNAuQlJg9bqI0ACesJUov0jQIAOI1jwxSNA/F6cl+RLI0B+OUbdVaEiQBUSKTAy3yFAonKU/dkhIUDuOUlI+oQgQGPvJRGBHyBABDu5V0MAIEDsMdIb0isgQDSFKX/PmyBA6IzNAN0/IUAAAAAAAAAiQA==\",\"dtype\":\"float64\",\"shape\":[50]},\"start_angle\":{\"__ndarray__\":\"AAAAAAAAAAAaJxeSvxXAPxonF5K/FdA/p7oiW58g2D8aJxeSvxXgP+DwnHYvG+Q/p7oiW58g6D9uhKg/DybsPxonF5K/FfA//QtahHcY8j/g8Jx2Lxv0P8TV32jnHfY/p7oiW58g+D+Kn2VNVyP6P26EqD8PJvw/UWnrMcco/j8aJxeSvxUAQIyZOIsbFwFA/QtahHcYAkBvfnt90xkDQODwnHYvGwRAUmO+b4scBUDE1d9o5x0GQDVIAWJDHwdAp7oiW58gCEAZLURU+yEJQIqfZU1XIwpA/BGHRrMkC0BuhKg/DyYMQN/2yThrJw1AUWnrMccoDkDC2wwrIyoPQBonF5K/FRBAU+Cnjm2WEECMmTiLGxcRQMRSyYfJlxFA/QtahHcYEkA2xeqAJZkSQG9+e33TGRNAqDcMeoGaE0Dg8Jx2LxsUQBmqLXPdmxRAUmO+b4scFUCLHE9sOZ0VQMTV32jnHRZA/Y5wZZWeFkA1SAFiQx8XQG4Bkl7xnxdAp7oiW58gGEDgc7NXTaEYQA==\",\"dtype\":\"float64\",\"shape\":[50]}}},\"id\":\"9c7c5b4b-f9f4-4df4-b39a-6d1352251f9b\",\"type\":\"ColumnDataSource\"},{\"attributes\":{\"below\":[{\"id\":\"2983c72d-5f1f-4419-a28d-e28be5346493\",\"type\":\"LinearAxis\"}],\"left\":[{\"id\":\"529afd2b-c9f1-477b-aec0-3b40c40c64bf\",\"type\":\"LinearAxis\"}],\"renderers\":[{\"id\":\"2983c72d-5f1f-4419-a28d-e28be5346493\",\"type\":\"LinearAxis\"},{\"id\":\"b3902cdf-e29a-4676-89e4-7b31cb9ee975\",\"type\":\"Grid\"},{\"id\":\"529afd2b-c9f1-477b-aec0-3b40c40c64bf\",\"type\":\"LinearAxis\"},{\"id\":\"dca99d63-9954-4a0f-b9d8-a02e5bd0499e\",\"type\":\"Grid\"},{\"id\":\"0071ea49-bcf3-41fa-961d-56eadd4febda\",\"type\":\"BoxAnnotation\"},{\"id\":\"122a6786-1d50-4179-9355-083524df8542\",\"type\":\"GlyphRenderer\"}],\"title\":{\"id\":\"84b58470-522e-47ee-82e5-cf15669c3b59\",\"type\":\"Title\"},\"tool_events\":{\"id\":\"2b085d8b-93e4-4881-961f-0f9abb9cd059\",\"type\":\"ToolEvents\"},\"toolbar\":{\"id\":\"95643078-629d-4831-b8f8-2f57d235fa20\",\"type\":\"Toolbar\"},\"x_range\":{\"id\":\"11d74292-2cc0-4347-8430-2ae8a024b7bb\",\"type\":\"Range1d\"},\"y_range\":{\"id\":\"f8e41175-a0ac-4468-b6e9-cb64aadbcf86\",\"type\":\"Range1d\"}},\"id\":\"eb8e038b-71f2-4604-bbfa-1a17a8386eef\",\"subtype\":\"Figure\",\"type\":\"Plot\"},{\"attributes\":{},\"id\":\"2b085d8b-93e4-4881-961f-0f9abb9cd059\",\"type\":\"ToolEvents\"},{\"attributes\":{\"callback\":null,\"end\":11,\"start\":-11},\"id\":\"11d74292-2cc0-4347-8430-2ae8a024b7bb\",\"type\":\"Range1d\"},{\"attributes\":{\"active_drag\":\"auto\",\"active_scroll\":\"auto\",\"active_tap\":\"auto\",\"tools\":[{\"id\":\"f550ae49-795e-4930-8af4-bfba9953e6d6\",\"type\":\"PanTool\"},{\"id\":\"c658a39c-19ef-4554-b2e1-e522ecb80089\",\"type\":\"WheelZoomTool\"},{\"id\":\"812ef8aa-a493-4963-af39-94d59b516434\",\"type\":\"BoxZoomTool\"},{\"id\":\"4fef38e4-7982-461d-8869-139912714c7a\",\"type\":\"SaveTool\"},{\"id\":\"0a1f5a5c-f0ce-4820-8c9b-8a7f3494d972\",\"type\":\"ResetTool\"},{\"id\":\"e18a8eee-6103-4a2f-9bf1-fd30c25d76f0\",\"type\":\"HelpTool\"}]},\"id\":\"95643078-629d-4831-b8f8-2f57d235fa20\",\"type\":\"Toolbar\"}],\"root_ids\":[\"eb8e038b-71f2-4604-bbfa-1a17a8386eef\"]},\"title\":\"Bokeh Application\",\"version\":\"0.12.4\"}};\n",
       "            var render_items = [{\"docid\":\"a155ed61-2f26-400c-bb5d-30178a8742ba\",\"elementid\":\"b4a9166c-0a6a-4bd7-8171-649d662ba801\",\"modelid\":\"eb8e038b-71f2-4604-bbfa-1a17a8386eef\",\"notebook_comms_target\":\"a776af77-6577-46a8-b268-a5190749d460\"}];\n",
       "            \n",
       "            Bokeh.embed.embed_items(docs_json, render_items);\n",
       "          };\n",
       "          if (document.readyState != \"loading\") fn();\n",
       "          else document.addEventListener(\"DOMContentLoaded\", fn);\n",
       "        })();\n",
       "      },\n",
       "      function(Bokeh) {\n",
       "      }\n",
       "    ];\n",
       "  \n",
       "    function run_inline_js() {\n",
       "      \n",
       "      if ((window.Bokeh !== undefined) || (force === true)) {\n",
       "        for (var i = 0; i < inline_js.length; i++) {\n",
       "          inline_js[i](window.Bokeh);\n",
       "        }if (force === true) {\n",
       "          display_loaded();\n",
       "        }} else if (Date.now() < window._bokeh_timeout) {\n",
       "        setTimeout(run_inline_js, 100);\n",
       "      } else if (!window._bokeh_failed_load) {\n",
       "        console.log(\"Bokeh: BokehJS failed to load within specified timeout.\");\n",
       "        window._bokeh_failed_load = true;\n",
       "      } else if (force !== true) {\n",
       "        var cell = $(document.getElementById(\"b4a9166c-0a6a-4bd7-8171-649d662ba801\")).parents('.cell').data().cell;\n",
       "        cell.output_area.append_execute_result(NB_LOAD_WARNING)\n",
       "      }\n",
       "  \n",
       "    }\n",
       "  \n",
       "    if (window._bokeh_is_loading === 0) {\n",
       "      console.log(\"Bokeh: BokehJS loaded, going straight to plotting\");\n",
       "      run_inline_js();\n",
       "    } else {\n",
       "      load_libs(js_urls, function() {\n",
       "        console.log(\"Bokeh: BokehJS plotting callback run at\", now());\n",
       "        run_inline_js();\n",
       "      });\n",
       "    }\n",
       "  }(this));\n",
       "</script>"
      ]
     },
     "metadata": {},
     "output_type": "display_data"
    }
   ],
   "source": [
    "from numpy import pi, cos, sin, linspace, roll\n",
    "\n",
    "from bokeh.client import push_session\n",
    "from bokeh.io import curdoc, push_notebook\n",
    "from bokeh.plotting import figure\n",
    "\n",
    "M = 5\n",
    "N = M*10 + 1\n",
    "r_base = 8\n",
    "theta = linspace(0, 2*pi, N)\n",
    "r_x = linspace(0, 6*pi, N-1)\n",
    "rmin = r_base - cos(r_x) - 1\n",
    "rmax = r_base + sin(r_x) + 1\n",
    "\n",
    "colors = [\"FFFFCC\", \"#C7E9B4\", \"#7FCDBB\", \"#41B6C4\", \"#2C7FB8\", \"#253494\", \"#2C7FB8\", \"#41B6C4\", \"#7FCDBB\", \"#C7E9B4\"] * M\n",
    "\n",
    "# figure() function auto-adds the figure to curdoc()\n",
    "p = figure(x_range=(-11, 11), y_range=(-11, 11))\n",
    "r = p.annular_wedge(0, 0, rmin, rmax, theta[:-1], theta[1:],\n",
    "                    fill_color=colors, line_color=\"white\")\n",
    "\n",
    "ds = r.data_source\n",
    "\n",
    "roll_target = show(p, notebook_handle=True)"
   ]
  },
  {
   "cell_type": "code",
   "execution_count": null,
   "metadata": {
    "collapsed": true
   },
   "outputs": [],
   "source": [
    "def update_rolling_plot():\n",
    "    rmin = roll(ds.data[\"inner_radius\"], 1)\n",
    "    rmax = roll(ds.data[\"outer_radius\"], -1)\n",
    "    ds.data.update(inner_radius=rmin, outer_radius=rmax)\n",
    "    push_notebook(handle=roll_target)\n",
    "\n",
    "# open a session to keep our local document in sync with server\n",
    "session = push_session(curdoc())\n",
    "\n",
    "ds = r.data_source\n",
    "\n",
    "curdoc().add_periodic_callback(update_rolling_plot, 30)\n",
    "\n",
    "session.loop_until_closed() # run forever"
   ]
  },
  {
   "cell_type": "code",
   "execution_count": null,
   "metadata": {
    "collapsed": true
   },
   "outputs": [],
   "source": []
  },
  {
   "cell_type": "markdown",
   "metadata": {
    "nbpresent": {
     "id": "eaaadb06-e101-4fb4-b668-d7f8cba5059f"
    }
   },
   "source": [
    "## Custom Tools\n",
    "If you're building apps around bokeh, you might want to customize some of the tools. Here's an example of how to do that."
   ]
  },
  {
   "cell_type": "code",
   "execution_count": null,
   "metadata": {
    "collapsed": false,
    "nbpresent": {
     "id": "34a64d54-7fd9-4d0e-bd0b-179bcef0cc2f"
    },
    "scrolled": false
   },
   "outputs": [],
   "source": [
    "from bokeh.core.properties import Instance\n",
    "from bokeh.io import show\n",
    "from bokeh.models import ColumnDataSource, Tool, CustomJS\n",
    "from bokeh.plotting import figure\n",
    "\n",
    "JS_CODE = \"\"\"\n",
    "import * as p from \"core/properties\"\n",
    "import {GestureTool, GestureToolView} from \"models/tools/gestures/gesture_tool\"\n",
    "\n",
    "export class DrawToolView extends GestureToolView\n",
    "\n",
    "  # this is executed when the pan/drag event starts\n",
    "  _pan_start: (e) ->\n",
    "    @model.source.data = {x: [], y: []}\n",
    "\n",
    "  # this is executed on subsequent mouse/touch moves\n",
    "  _pan: (e) ->\n",
    "    frame = @plot_model.frame\n",
    "    canvas = @plot_view.canvas\n",
    "\n",
    "    vx = canvas.sx_to_vx(e.bokeh.sx)\n",
    "    vy = canvas.sy_to_vy(e.bokeh.sy)\n",
    "    if not frame.contains(vx, vy)\n",
    "      return null\n",
    "\n",
    "    x = frame.x_mappers['default'].map_from_target(vx)\n",
    "    y = frame.y_mappers['default'].map_from_target(vy)\n",
    "\n",
    "    @model.source.data.x.push(x)\n",
    "    @model.source.data.y.push(y)\n",
    "    @model.source.trigger('change')\n",
    "\n",
    "  # this is executed then the pan/drag ends\n",
    "  _pan_end: (e) -> return null\n",
    "\n",
    "export class DrawTool extends GestureTool\n",
    "  default_view: DrawToolView\n",
    "  type: \"DrawTool\"\n",
    "\n",
    "  tool_name: \"Drag Span\"\n",
    "  icon: \"bk-tool-icon-lasso-select\"\n",
    "  event_type: \"pan\"\n",
    "  default_order: 12\n",
    "\n",
    "  @define { source: [ p.Instance ] }\n",
    "\"\"\"\n",
    "\n",
    "class DrawTool(Tool):\n",
    "    __implementation__ = JS_CODE\n",
    "    source = Instance(ColumnDataSource)\n",
    "\n",
    "source = ColumnDataSource(data=dict(x=[], y=[]))\n",
    "\n",
    "# plot = figure(x_range=(0,10), y_range=(0,10), tools=[DrawTool(source=source)])\n",
    "plot = Scatter(df, x='mpg', y='hp', color='cyl',\n",
    "                  title=\"Auto MPG\", xlabel=\"Miles Per Gallon\",\n",
    "                  ylabel=\"Horsepower\", tools=[DrawTool(source=source), \"save\"])\n",
    "# plot.title.text =\"Drag to draw on the plot\"\n",
    "plot.line('x', 'y', source=source)\n",
    "\n",
    "show(plot)"
   ]
  },
  {
   "cell_type": "markdown",
   "metadata": {
    "nbpresent": {
     "id": "d8680f0f-541d-4b7f-a548-e2a41af30769"
    }
   },
   "source": [
    "# Plotly\n",
    "[Plotly](https://plot.ly/)  is an enterprise application providing advanced graphing and data analysis within the browser. The python library and associated javascript is open source. By default the service uses the ```plot.ly``` account and servers  to host data but you can also run without a server or with a paid enterprise service on your corporate network."
   ]
  }
 ],
 "metadata": {
  "hide_input": false,
  "kernelspec": {
   "display_name": "vistalk",
   "language": "python",
   "name": "vistalk"
  },
  "language_info": {
   "codemirror_mode": {
    "name": "ipython",
    "version": 3
   },
   "file_extension": ".py",
   "mimetype": "text/x-python",
   "name": "python",
   "nbconvert_exporter": "python",
   "pygments_lexer": "ipython3",
   "version": "3.6.0"
  },
  "nbpresent": {
   "slides": {
    "1415e5c6-b76f-4e28-9ac6-73b8d5b067cc": {
     "id": "1415e5c6-b76f-4e28-9ac6-73b8d5b067cc",
     "prev": "6fa3f26f-f172-4fd8-a7dd-01242f2352e8",
     "regions": {
      "36f5f103-1a72-43c7-adf7-0e4b7c706a57": {
       "attrs": {
        "height": 0.8,
        "width": 0.8,
        "x": 0.1,
        "y": 0.1
       },
       "content": {
        "cell": "bbb5ce9f-7029-4394-8352-0bb5394c808d",
        "part": "whole"
       },
       "id": "36f5f103-1a72-43c7-adf7-0e4b7c706a57"
      }
     }
    },
    "1837b716-8c37-44a6-8d6b-7cf1a014fb4d": {
     "id": "1837b716-8c37-44a6-8d6b-7cf1a014fb4d",
     "prev": "89412bcd-7283-4e43-8718-c8d9cd1201cf",
     "regions": {
      "92154aee-bff7-4cbf-9a27-03717348d1e6": {
       "attrs": {
        "height": 0.8,
        "width": 0.8,
        "x": 0.1,
        "y": 0.1
       },
       "content": {
        "cell": "041bc5f8-b557-47db-a872-a4e759ca3d1e",
        "part": "whole"
       },
       "id": "92154aee-bff7-4cbf-9a27-03717348d1e6"
      }
     }
    },
    "1a9c8f38-41ed-4c5a-83c6-60941499e036": {
     "id": "1a9c8f38-41ed-4c5a-83c6-60941499e036",
     "prev": "e08b8880-6dcc-49dc-ad54-250e6a9ced96",
     "regions": {
      "f80fe663-4695-4018-8514-8dd0de96c954": {
       "attrs": {
        "height": 0.8,
        "width": 0.8,
        "x": 0.1,
        "y": 0.1
       },
       "content": {
        "cell": "c7bec2d4-4a83-432f-b46b-fda2788ecca6",
        "part": "whole"
       },
       "id": "f80fe663-4695-4018-8514-8dd0de96c954"
      }
     }
    },
    "1fc0b239-afce-4867-ac88-d33fdc84bf3f": {
     "id": "1fc0b239-afce-4867-ac88-d33fdc84bf3f",
     "prev": "53e998ae-d7c5-440a-9ac4-79f29fd023dc",
     "regions": {
      "836c4f31-ff7b-483a-ae4c-fb3815430bf7": {
       "attrs": {
        "height": 0.8,
        "width": 0.8,
        "x": 0.1,
        "y": 0.1
       },
       "content": {
        "cell": "1f84592e-89c4-484a-a8c2-d99f0746667b",
        "part": "whole"
       },
       "id": "836c4f31-ff7b-483a-ae4c-fb3815430bf7"
      }
     }
    },
    "2ed0f0cc-0e53-4710-80fc-85adc36a5f49": {
     "id": "2ed0f0cc-0e53-4710-80fc-85adc36a5f49",
     "prev": "3e6dae00-581f-4a1c-b98c-6c922814afb2",
     "regions": {
      "92617ded-688b-4bed-811c-4f5ba49f5b25": {
       "attrs": {
        "height": 0.8,
        "width": 0.8,
        "x": 0.1,
        "y": 0.1
       },
       "content": {
        "cell": "697946da-f475-436b-8f44-0167b316fafc",
        "part": "whole"
       },
       "id": "92617ded-688b-4bed-811c-4f5ba49f5b25"
      }
     }
    },
    "3e6dae00-581f-4a1c-b98c-6c922814afb2": {
     "id": "3e6dae00-581f-4a1c-b98c-6c922814afb2",
     "prev": "1837b716-8c37-44a6-8d6b-7cf1a014fb4d",
     "regions": {
      "92475bd5-aef1-43e9-b886-22e3b16d79eb": {
       "attrs": {
        "height": 0.8,
        "width": 0.8,
        "x": 0.1,
        "y": 0.1
       },
       "content": {
        "cell": "92ac28e1-d384-489e-8688-5415a4886d9e",
        "part": "whole"
       },
       "id": "92475bd5-aef1-43e9-b886-22e3b16d79eb"
      }
     }
    },
    "3f6b5fb3-2817-40d0-92c7-fe156e4d5c90": {
     "id": "3f6b5fb3-2817-40d0-92c7-fe156e4d5c90",
     "prev": "2ed0f0cc-0e53-4710-80fc-85adc36a5f49",
     "regions": {
      "70f0a6a1-5bd9-4f60-aaa2-d11b958f2ce2": {
       "attrs": {
        "height": 0.8,
        "width": 0.8,
        "x": 0.1,
        "y": 0.1
       },
       "content": {
        "cell": "1ec28525-f523-4e70-af2e-04c15aabdea0",
        "part": "whole"
       },
       "id": "70f0a6a1-5bd9-4f60-aaa2-d11b958f2ce2"
      }
     }
    },
    "47aee3a1-f0f8-40b2-bb5e-f931ad947e3a": {
     "id": "47aee3a1-f0f8-40b2-bb5e-f931ad947e3a",
     "prev": "b7b1f689-0203-474d-8c1e-2f69fce514e8",
     "regions": {
      "0c4e7916-9d35-443e-8df4-3d1920b81fc3": {
       "attrs": {
        "height": 0.8,
        "width": 0.8,
        "x": 0.1,
        "y": 0.1
       },
       "content": {
        "cell": "34a64d54-7fd9-4d0e-bd0b-179bcef0cc2f",
        "part": "whole"
       },
       "id": "0c4e7916-9d35-443e-8df4-3d1920b81fc3"
      }
     }
    },
    "53e998ae-d7c5-440a-9ac4-79f29fd023dc": {
     "id": "53e998ae-d7c5-440a-9ac4-79f29fd023dc",
     "prev": "8e713ed3-dd54-482f-bc38-070c559ee517",
     "regions": {
      "7ff8f3c3-10b4-495a-86c1-7f94de507edc": {
       "attrs": {
        "height": 0.8,
        "width": 0.8,
        "x": 0.1,
        "y": 0.1
       },
       "content": {
        "cell": "e0b532cc-4ccf-489a-b85c-7682db8f327a",
        "part": "whole"
       },
       "id": "7ff8f3c3-10b4-495a-86c1-7f94de507edc"
      }
     }
    },
    "57479ccb-5ed1-40d8-b74f-0030ee853492": {
     "id": "57479ccb-5ed1-40d8-b74f-0030ee853492",
     "prev": "1a9c8f38-41ed-4c5a-83c6-60941499e036",
     "regions": {
      "e64a1f10-94ee-4317-b378-34f58cc4764c": {
       "attrs": {
        "height": 0.8,
        "width": 0.8,
        "x": 0.1,
        "y": 0.1
       },
       "content": {
        "cell": "7c2d00d9-80d3-432f-9daf-6481feaf0299",
        "part": "whole"
       },
       "id": "e64a1f10-94ee-4317-b378-34f58cc4764c"
      }
     }
    },
    "6ad4f26f-8b31-40b7-b0e4-8863fb131c8e": {
     "id": "6ad4f26f-8b31-40b7-b0e4-8863fb131c8e",
     "prev": "db012a79-c3bb-459a-91c4-870673659724",
     "regions": {
      "86103d9a-9462-4e12-900c-a5f7a339dac9": {
       "attrs": {
        "height": 0.8,
        "width": 0.8,
        "x": 0.1,
        "y": 0.1
       },
       "content": {
        "cell": "d8680f0f-541d-4b7f-a548-e2a41af30769",
        "part": "whole"
       },
       "id": "86103d9a-9462-4e12-900c-a5f7a339dac9"
      }
     }
    },
    "6fa3f26f-f172-4fd8-a7dd-01242f2352e8": {
     "id": "6fa3f26f-f172-4fd8-a7dd-01242f2352e8",
     "prev": "3f6b5fb3-2817-40d0-92c7-fe156e4d5c90",
     "regions": {
      "8247e1ee-4aa4-4217-91c7-46326bbc515e": {
       "attrs": {
        "height": 0.8,
        "width": 0.8,
        "x": 0.1,
        "y": 0.1
       },
       "content": {
        "cell": "f7a216e7-df66-4703-a263-158cf23f7d29",
        "part": "whole"
       },
       "id": "8247e1ee-4aa4-4217-91c7-46326bbc515e"
      }
     }
    },
    "89412bcd-7283-4e43-8718-c8d9cd1201cf": {
     "id": "89412bcd-7283-4e43-8718-c8d9cd1201cf",
     "prev": "1fc0b239-afce-4867-ac88-d33fdc84bf3f",
     "regions": {
      "237f3554-c15c-4039-97a6-ad654f148d16": {
       "attrs": {
        "height": 0.8,
        "width": 0.8,
        "x": 0.1,
        "y": 0.1
       },
       "content": {
        "cell": "2aa1c50d-fc0c-4af9-8b60-5ad046a38704",
        "part": "whole"
       },
       "id": "237f3554-c15c-4039-97a6-ad654f148d16"
      }
     }
    },
    "8e713ed3-dd54-482f-bc38-070c559ee517": {
     "id": "8e713ed3-dd54-482f-bc38-070c559ee517",
     "prev": "95586794-45b0-41f7-8e7a-7b633feb15f6",
     "regions": {
      "359b1e28-1257-473b-836a-96e9240cb7e1": {
       "attrs": {
        "height": 0.8,
        "width": 0.8,
        "x": 0.1,
        "y": 0.1
       },
       "content": {
        "cell": "90a32421-fa7c-4b00-aa80-ddc8a265ff68",
        "part": "whole"
       },
       "id": "359b1e28-1257-473b-836a-96e9240cb7e1"
      }
     }
    },
    "95586794-45b0-41f7-8e7a-7b633feb15f6": {
     "id": "95586794-45b0-41f7-8e7a-7b633feb15f6",
     "prev": "d6a5fb8c-7554-4b98-91db-0328e91ab3cb",
     "regions": {
      "33f62786-abb9-4ebd-b633-54a407b88626": {
       "attrs": {
        "height": 0.8,
        "width": 0.8,
        "x": 0.1,
        "y": 0.1
       },
       "content": {
        "cell": "d1edc7fb-bc4d-45f3-8adb-2b79275fcabe",
        "part": "whole"
       },
       "id": "33f62786-abb9-4ebd-b633-54a407b88626"
      }
     }
    },
    "b7b1f689-0203-474d-8c1e-2f69fce514e8": {
     "id": "b7b1f689-0203-474d-8c1e-2f69fce514e8",
     "prev": "57479ccb-5ed1-40d8-b74f-0030ee853492",
     "regions": {
      "855b2b55-7416-4cfa-916e-23d8884c7a20": {
       "attrs": {
        "height": 0.8,
        "width": 0.8,
        "x": 0.1,
        "y": 0.1
       },
       "content": {
        "cell": "eaaadb06-e101-4fb4-b668-d7f8cba5059f",
        "part": "whole"
       },
       "id": "855b2b55-7416-4cfa-916e-23d8884c7a20"
      }
     }
    },
    "d6a5fb8c-7554-4b98-91db-0328e91ab3cb": {
     "id": "d6a5fb8c-7554-4b98-91db-0328e91ab3cb",
     "prev": null,
     "regions": {
      "94673510-3e6c-4c53-bac3-14bf68a59491": {
       "attrs": {
        "height": 0.8,
        "width": 0.8,
        "x": 0.1,
        "y": 0.1
       },
       "content": {
        "cell": "14d8314b-2b79-4f1d-bbd8-4f7bbc718492",
        "part": "whole"
       },
       "id": "94673510-3e6c-4c53-bac3-14bf68a59491"
      }
     }
    },
    "db012a79-c3bb-459a-91c4-870673659724": {
     "id": "db012a79-c3bb-459a-91c4-870673659724",
     "prev": "47aee3a1-f0f8-40b2-bb5e-f931ad947e3a",
     "regions": {
      "92b42d9c-b4e5-4633-a0c9-705c231a504a": {
       "attrs": {
        "height": 0.8,
        "width": 0.8,
        "x": 0.1,
        "y": 0.1
       },
       "content": {
        "cell": "ed83d33a-1cfb-4040-aca0-00247ea0f1a4",
        "part": "whole"
       },
       "id": "92b42d9c-b4e5-4633-a0c9-705c231a504a"
      }
     }
    },
    "e08b8880-6dcc-49dc-ad54-250e6a9ced96": {
     "id": "e08b8880-6dcc-49dc-ad54-250e6a9ced96",
     "prev": "1415e5c6-b76f-4e28-9ac6-73b8d5b067cc",
     "regions": {
      "453e8cc3-2736-4d09-8190-c8d274bb8880": {
       "attrs": {
        "height": 0.8,
        "width": 0.8,
        "x": 0.1,
        "y": 0.1
       },
       "content": {
        "cell": "ef9d2623-53f3-4ae2-bfa4-0e4ff153d089",
        "part": "whole"
       },
       "id": "453e8cc3-2736-4d09-8190-c8d274bb8880"
      }
     }
    }
   },
   "themes": {
    "default": "ea0fc3f7-21ee-436e-a6a1-68d1946ff346",
    "theme": {
     "ea0fc3f7-21ee-436e-a6a1-68d1946ff346": {
      "id": "ea0fc3f7-21ee-436e-a6a1-68d1946ff346",
      "palette": {
       "19cc588f-0593-49c9-9f4b-e4d7cc113b1c": {
        "id": "19cc588f-0593-49c9-9f4b-e4d7cc113b1c",
        "rgb": [
         252,
         252,
         252
        ]
       },
       "31af15d2-7e15-44c5-ab5e-e04b16a89eff": {
        "id": "31af15d2-7e15-44c5-ab5e-e04b16a89eff",
        "rgb": [
         68,
         68,
         68
        ]
       },
       "50f92c45-a630-455b-aec3-788680ec7410": {
        "id": "50f92c45-a630-455b-aec3-788680ec7410",
        "rgb": [
         155,
         177,
         192
        ]
       },
       "c5cc3653-2ee1-402a-aba2-7caae1da4f6c": {
        "id": "c5cc3653-2ee1-402a-aba2-7caae1da4f6c",
        "rgb": [
         43,
         126,
         184
        ]
       },
       "efa7f048-9acb-414c-8b04-a26811511a21": {
        "id": "efa7f048-9acb-414c-8b04-a26811511a21",
        "rgb": [
         25.118061674008803,
         73.60176211453744,
         107.4819383259912
        ]
       }
      },
      "rules": {
       "blockquote": {
        "color": "50f92c45-a630-455b-aec3-788680ec7410"
       },
       "code": {
        "font-family": "Anonymous Pro"
       },
       "h1": {
        "color": "c5cc3653-2ee1-402a-aba2-7caae1da4f6c",
        "font-family": "Lato",
        "font-size": 8
       },
       "h2": {
        "color": "c5cc3653-2ee1-402a-aba2-7caae1da4f6c",
        "font-family": "Lato",
        "font-size": 6
       },
       "h3": {
        "color": "50f92c45-a630-455b-aec3-788680ec7410",
        "font-family": "Lato",
        "font-size": 5.5
       },
       "h4": {
        "color": "c5cc3653-2ee1-402a-aba2-7caae1da4f6c",
        "font-family": "Lato",
        "font-size": 5
       },
       "h5": {
        "font-family": "Lato"
       },
       "h6": {
        "font-family": "Lato"
       },
       "h7": {
        "font-family": "Lato"
       },
       "pre": {
        "font-family": "Anonymous Pro",
        "font-size": 4
       }
      },
      "text-base": {
       "font-family": "Merriweather",
       "font-size": 4
      }
     }
    }
   }
  },
  "toc": {
   "colors": {
    "hover_highlight": "#DAA520",
    "running_highlight": "#FF0000",
    "selected_highlight": "#FFD700"
   },
   "moveMenuLeft": true,
   "nav_menu": {
    "height": "187px",
    "width": "370px"
   },
   "navigate_menu": true,
   "number_sections": true,
   "sideBar": false,
   "threshold": 4,
   "toc_cell": false,
   "toc_position": {
    "height": "1689px",
    "left": "9px",
    "right": "20px",
    "top": "106px",
    "width": "241px"
   },
   "toc_section_display": "block",
   "toc_window_display": false
  },
  "widgets": {
   "state": {
    "9896faf7f8404210ae76eee7e81fb9f1": {
     "views": [
      {
       "cell_index": 6
      }
     ]
    },
    "f7b8cdd0794b441aafd2f743af5a2b80": {
     "views": [
      {
       "cell_index": 14
      }
     ]
    }
   },
   "version": "1.2.0"
  }
 },
 "nbformat": 4,
 "nbformat_minor": 2
}
